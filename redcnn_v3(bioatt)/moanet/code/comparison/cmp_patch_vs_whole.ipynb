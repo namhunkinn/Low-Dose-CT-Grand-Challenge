{
 "cells": [
  {
   "cell_type": "markdown",
   "metadata": {},
   "source": [
    "# 공통 설정"
   ]
  },
  {
   "cell_type": "code",
   "execution_count": 84,
   "metadata": {
    "colab": {
     "base_uri": "https://localhost:8080/"
    },
    "executionInfo": {
     "elapsed": 3994,
     "status": "ok",
     "timestamp": 1742877703938,
     "user": {
      "displayName": "Namhun Kim",
      "userId": "06490179833075519179"
     },
     "user_tz": -540
    },
    "id": "L7aq1NSOoe7f",
    "outputId": "fb315218-9013-4385-eb92-dc9da73f2a16"
   },
   "outputs": [
    {
     "name": "stdout",
     "output_type": "stream",
     "text": [
      "Requirement already satisfied: pydicom in /usr/local/lib/python3.8/dist-packages (2.4.4)\n",
      "\u001b[33mWARNING: Running pip as the 'root' user can result in broken permissions and conflicting behaviour with the system package manager. It is recommended to use a virtual environment instead: https://pip.pypa.io/warnings/venv\u001b[0m\u001b[33m\n",
      "\u001b[0m\u001b[33mWARNING: You are using pip version 22.0.4; however, version 25.0.1 is available.\n",
      "You should consider upgrading via the '/usr/bin/python3.8 -m pip install --upgrade pip' command.\u001b[0m\u001b[33m\n",
      "\u001b[0m"
     ]
    }
   ],
   "source": [
    "!pip install pydicom"
   ]
  },
  {
   "cell_type": "code",
   "execution_count": 85,
   "metadata": {
    "executionInfo": {
     "elapsed": 12600,
     "status": "ok",
     "timestamp": 1742877734326,
     "user": {
      "displayName": "Namhun Kim",
      "userId": "06490179833075519179"
     },
     "user_tz": -540
    },
    "id": "axQh-6QnoRsA"
   },
   "outputs": [],
   "source": [
    "# IMA이미지를 불러오는 라이브러리\n",
    "import pydicom\n",
    "\n",
    "import numpy as np\n",
    "import torch\n",
    "import torchvision.transforms as transforms\n",
    "import matplotlib as mpl\n",
    "import matplotlib.pyplot as plt\n",
    "mpl.rcParams['figure.figsize'] = [3.0, 3.0]\n",
    "import seaborn as sns\n",
    "import torch.nn as nn"
   ]
  },
  {
   "cell_type": "code",
   "execution_count": 86,
   "metadata": {
    "executionInfo": {
     "elapsed": 10,
     "status": "ok",
     "timestamp": 1742877734328,
     "user": {
      "displayName": "Namhun Kim",
      "userId": "06490179833075519179"
     },
     "user_tz": -540
    },
    "id": "2FBi-Xd8opnQ"
   },
   "outputs": [],
   "source": [
    "root = '/root'"
   ]
  },
  {
   "cell_type": "code",
   "execution_count": 87,
   "metadata": {
    "colab": {
     "base_uri": "https://localhost:8080/"
    },
    "executionInfo": {
     "elapsed": 6,
     "status": "ok",
     "timestamp": 1742877734333,
     "user": {
      "displayName": "Namhun Kim",
      "userId": "06490179833075519179"
     },
     "user_tz": -540
    },
    "id": "Q46se-x4oRsB",
    "outputId": "89df286d-4618-4ee6-91c8-5da2ec0df8fe"
   },
   "outputs": [
    {
     "data": {
      "text/plain": [
       "['L067',\n",
       " 'L096',\n",
       " 'L109',\n",
       " 'L143',\n",
       " 'L192',\n",
       " 'L286',\n",
       " 'L291',\n",
       " 'L310',\n",
       " 'L333',\n",
       " 'L506']"
      ]
     },
     "execution_count": 87,
     "metadata": {},
     "output_type": "execute_result"
    }
   ],
   "source": [
    "import glob\n",
    "\n",
    "L_list = glob.glob(f'{root}/mayo2016/*')\n",
    "L_list = [path.split('/')[-1] for path in L_list]\n",
    "L_list.sort()\n",
    "L_list"
   ]
  },
  {
   "cell_type": "code",
   "execution_count": 88,
   "metadata": {
    "executionInfo": {
     "elapsed": 1,
     "status": "ok",
     "timestamp": 1742877734334,
     "user": {
      "displayName": "Namhun Kim",
      "userId": "06490179833075519179"
     },
     "user_tz": -540
    },
    "id": "lUZPpAkJoRsC"
   },
   "outputs": [],
   "source": [
    "data_label = ['quarter_1mm', 'full_1mm']"
   ]
  },
  {
   "cell_type": "code",
   "execution_count": 89,
   "metadata": {
    "executionInfo": {
     "elapsed": 1,
     "status": "ok",
     "timestamp": 1742877734336,
     "user": {
      "displayName": "Namhun Kim",
      "userId": "06490179833075519179"
     },
     "user_tz": -540
    },
    "id": "I-1tHv-MoRsC"
   },
   "outputs": [],
   "source": [
    "def normlize(path):\n",
    "  dicom_data = pydicom.dcmread(path)\n",
    "  img = dicom_data.pixel_array.astype(np.float32) * dicom_data.RescaleSlope + dicom_data.RescaleIntercept\n",
    "  mu, sd = (-500,500)\n",
    "  scaled_img = (img - mu) / sd\n",
    "  img = np.expand_dims(scaled_img, axis=0)\n",
    "\n",
    "  return img # 1x512x512"
   ]
  },
  {
   "cell_type": "code",
   "execution_count": 90,
   "metadata": {},
   "outputs": [
    {
     "data": {
      "text/html": [
       "<div>\n",
       "<style scoped>\n",
       "    .dataframe tbody tr th:only-of-type {\n",
       "        vertical-align: middle;\n",
       "    }\n",
       "\n",
       "    .dataframe tbody tr th {\n",
       "        vertical-align: top;\n",
       "    }\n",
       "\n",
       "    .dataframe thead th {\n",
       "        text-align: right;\n",
       "    }\n",
       "</style>\n",
       "<table border=\"1\" class=\"dataframe\">\n",
       "  <thead>\n",
       "    <tr style=\"text-align: right;\">\n",
       "      <th></th>\n",
       "      <th>File_Path</th>\n",
       "      <th>skull</th>\n",
       "      <th>ventricles</th>\n",
       "      <th>lungs</th>\n",
       "      <th>mediastinum</th>\n",
       "      <th>liver</th>\n",
       "      <th>kidneys</th>\n",
       "      <th>pancreas</th>\n",
       "      <th>spleen</th>\n",
       "      <th>abdominal aorta</th>\n",
       "      <th>spine</th>\n",
       "      <th>lymph nodes</th>\n",
       "    </tr>\n",
       "  </thead>\n",
       "  <tbody>\n",
       "    <tr>\n",
       "      <th>0</th>\n",
       "      <td>/content/drive/MyDrive/mayo2016/L067/quarter_1...</td>\n",
       "      <td>2.140607e-08</td>\n",
       "      <td>0.00043</td>\n",
       "      <td>0.978917</td>\n",
       "      <td>0.018699</td>\n",
       "      <td>0.000021</td>\n",
       "      <td>0.000003</td>\n",
       "      <td>0.000001</td>\n",
       "      <td>0.001919</td>\n",
       "      <td>2.020908e-07</td>\n",
       "      <td>0.000009</td>\n",
       "      <td>7.648957e-07</td>\n",
       "    </tr>\n",
       "  </tbody>\n",
       "</table>\n",
       "</div>"
      ],
      "text/plain": [
       "                                           File_Path         skull  \\\n",
       "0  /content/drive/MyDrive/mayo2016/L067/quarter_1...  2.140607e-08   \n",
       "\n",
       "   ventricles     lungs  mediastinum     liver   kidneys  pancreas    spleen  \\\n",
       "0     0.00043  0.978917     0.018699  0.000021  0.000003  0.000001  0.001919   \n",
       "\n",
       "   abdominal aorta     spine   lymph nodes  \n",
       "0     2.020908e-07  0.000009  7.648957e-07  "
      ]
     },
     "execution_count": 90,
     "metadata": {},
     "output_type": "execute_result"
    }
   ],
   "source": [
    "import pandas as pd\n",
    "\n",
    "# organ_probs.csv 파일 불러오기\n",
    "organ_probs_df = pd.read_csv(f\"{root}/organ_probs.csv\")\n",
    "organ_probs_df.head(1)"
   ]
  },
  {
   "cell_type": "markdown",
   "metadata": {
    "id": "K5RdJ50PoRsQ"
   },
   "source": [
    "# 1. moanet - patch"
   ]
  },
  {
   "cell_type": "markdown",
   "metadata": {
    "id": "4VzQLvthqxEy"
   },
   "source": [
    "## 데이터셋 불러오기"
   ]
  },
  {
   "cell_type": "code",
   "execution_count": 91,
   "metadata": {},
   "outputs": [],
   "source": [
    "patch_size = 55\n",
    "def extract_patches(img, patch_size=patch_size, interval=55):\n",
    "  patches = []\n",
    "  _, height, width = img.shape\n",
    "  for y in range(0, height - patch_size + 1, interval):\n",
    "    for x in range(0, width - patch_size + 1, interval):\n",
    "      patch = img[:, y:y + patch_size, x:x + patch_size]\n",
    "      patches.append(patch)\n",
    "  patches = np.array(patches)\n",
    "  return patches # patch수x1x55x55, numpy"
   ]
  },
  {
   "cell_type": "code",
   "execution_count": 92,
   "metadata": {},
   "outputs": [],
   "source": [
    "import random\n",
    "from scipy.ndimage import rotate, zoom\n",
    "\n",
    "def augment_patches(X_patches, y_patches, p=0.5):\n",
    "    X_augmented_patches, y_augmented_patches = [], []\n",
    "\n",
    "    # random이 들어가기에, X랑 y를 동시에 넣어준다.\n",
    "    for i, (X_patch, y_patch) in enumerate(zip(X_patches, y_patches)):\n",
    "        # 원본 패치 추가\n",
    "        X_augmented_patches.append(X_patch)\n",
    "        y_augmented_patches.append(y_patch)\n",
    "\n",
    "        if random.random() < p:\n",
    "            # 1. 90, 270으로 돌려보자.(뒤집기랑 조금 다르긴 하지만, 점대칭 vs 선대칭, 그냥 +-90도만 쓰자.)\n",
    "            X, y = rotate(X_patch, 90, axes=(1, 2), reshape=False), rotate(y_patch, 90, axes=(1, 2), reshape=False)\n",
    "            X_augmented_patches.append(X)\n",
    "            y_augmented_patches.append(y)\n",
    "            X, y = rotate(X_patch, -90, axes=(1, 2), reshape=False), rotate(y_patch, -90, axes=(1, 2), reshape=False)\n",
    "            X_augmented_patches.append(X)\n",
    "            y_augmented_patches.append(y)\n",
    "        if random.random() < p:\n",
    "            # 2. 수직 뒤집기\n",
    "            X,y = np.flip(X_patch, axis=1),np.flip(y_patch, axis=1)\n",
    "            X_augmented_patches.append(X)\n",
    "            y_augmented_patches.append(y)\n",
    "        if random.random() < p:\n",
    "            # 3. 수평 뒤집기\n",
    "            X,y = np.flip(X_patch, axis=2),np.flip(y_patch, axis=2)\n",
    "            X_augmented_patches.append(X)\n",
    "            y_augmented_patches.append(y)\n",
    "\n",
    "    return np.array(X_augmented_patches), np.array(y_augmented_patches)"
   ]
  },
  {
   "cell_type": "code",
   "execution_count": 93,
   "metadata": {},
   "outputs": [],
   "source": [
    "def patch_maker_W_aug(X_dir, y_dir):\n",
    "  X_img, y_img = normlize(X_dir), normlize(y_dir)\n",
    "  X_patches = extract_patches(img=X_img, patch_size=55, interval=55)\n",
    "  y_patches = extract_patches(img=y_img, patch_size=55, interval=55)\n",
    "  X_augmented_patches, y_augmented_patches = augment_patches(X_patches, y_patches, p=0.5)\n",
    "  return X_augmented_patches, y_augmented_patches\n",
    "def patch_maker_WO_aug(X_dir, y_dir):\n",
    "  X_img, y_img = normlize(X_dir), normlize(y_dir)\n",
    "  X_patches = extract_patches(img=X_img, patch_size=55, interval=55)\n",
    "  y_patches = extract_patches(img=y_img, patch_size=55, interval=55)\n",
    "  return X_patches, y_patches"
   ]
  },
  {
   "cell_type": "code",
   "execution_count": 94,
   "metadata": {
    "executionInfo": {
     "elapsed": 2,
     "status": "ok",
     "timestamp": 1742878879278,
     "user": {
      "displayName": "Namhun Kim",
      "userId": "06490179833075519179"
     },
     "user_tz": -540
    },
    "id": "yHO8ZEz_rSKE"
   },
   "outputs": [],
   "source": [
    "import os\n",
    "from torch.utils.data import Dataset\n",
    "import torch\n",
    "import glob\n",
    "from tqdm import tqdm\n",
    "\n",
    "class CustomDataset(Dataset):\n",
    "    def __init__(self, data_type, patch_maker, L_list, organ_probs_df):\n",
    "        self.data_type = data_type\n",
    "        self.patch_maker = patch_maker\n",
    "        self.L_list = L_list\n",
    "        self.organ_probs_df = organ_probs_df\n",
    "        self.image_pairs = []\n",
    "\n",
    "        X_dir_list, y_dir_list = [], []\n",
    "        for L in self.L_list:\n",
    "            X_dir, y_dir = self.get_data_range(L)\n",
    "            X_dir_list += X_dir # 리스트 + 리스트 = 리스트\n",
    "            y_dir_list += y_dir\n",
    "\n",
    "        for i, (X_dir, y_dir) in tqdm(enumerate(zip(X_dir_list, y_dir_list)), total=len(X_dir_list), desc=f\"{self.data_type} is processing\"):\n",
    "            X_patches, y_patches = self.patch_maker(X_dir, y_dir)\n",
    "            organ_prob = torch.tensor([float(v) for v in organ_probs_df.iloc[i, 1:].values], dtype=torch.float32) # organ_prob을 tensor로 변환\n",
    "\n",
    "            for j in range(X_patches.shape[0]):\n",
    "                X_patch, y_patch = torch.from_numpy(X_patches[j]).float(), torch.from_numpy(y_patches[j]).float() # torch로 넣어주자.\n",
    "                self.image_pairs.append((X_patch, organ_prob, y_patch))\n",
    "\n",
    "    def get_data_range(self, L):\n",
    "        \"\"\"슬라이싱 범위를 설정하는 함수\"\"\"\n",
    "        X_dir = sorted(glob.glob(f'{root}/mayo2016/{L}/{data_label[0]}/*.IMA'))\n",
    "        y_dir = sorted(glob.glob(f'{root}/mayo2016/{L}/{data_label[1]}/*.IMA'))\n",
    "        n1, n2 = len(X_dir), len(y_dir)\n",
    "\n",
    "        if self.data_type == 'train':\n",
    "            X_range = X_dir[:int(n1 * 0.64)]\n",
    "            y_range = y_dir[:int(n2 * 0.64)]\n",
    "        elif self.data_type == 'val':\n",
    "            X_range = X_dir[int(n1 * 0.64):int(n1 * 0.8)]\n",
    "            y_range = y_dir[int(n2 * 0.64):int(n2 * 0.8)]\n",
    "        else:  # test\n",
    "            X_range = X_dir[int(n1 * 0.8):]\n",
    "            y_range = y_dir[int(n2 * 0.8):]\n",
    "\n",
    "        return X_range, y_range\n",
    "\n",
    "    def __len__(self):\n",
    "        return len(self.image_pairs)\n",
    "\n",
    "    def __getitem__(self, idx):\n",
    "        X = (self.image_pairs[idx][0], self.image_pairs[idx][1])\n",
    "        y = self.image_pairs[idx][2]\n",
    "        return X, y"
   ]
  },
  {
   "cell_type": "code",
   "execution_count": 95,
   "metadata": {
    "colab": {
     "base_uri": "https://localhost:8080/"
    },
    "executionInfo": {
     "elapsed": 30088,
     "status": "ok",
     "timestamp": 1742879008160,
     "user": {
      "displayName": "Namhun Kim",
      "userId": "06490179833075519179"
     },
     "user_tz": -540
    },
    "id": "sk0qxrnrrCGq",
    "outputId": "17551a2f-6b81-4817-dfa2-bdf1fcdbf9e7"
   },
   "outputs": [
    {
     "data": {
      "text/plain": [
       "6025"
      ]
     },
     "execution_count": 95,
     "metadata": {},
     "output_type": "execute_result"
    }
   ],
   "source": [
    "# 파일 경로 설정\n",
    "\n",
    "folder_name = f'{root}/dataset_add_prob/'\n",
    "test_path = folder_name+'test_dataset.pt'\n",
    "test_dataset = torch.load(test_path) # , weights_only=False\n",
    "\n",
    "batch_size = 16\n",
    "from torch.utils.data import DataLoader\n",
    "test_loader = DataLoader(test_dataset, batch_size=batch_size, shuffle=False, num_workers=4, pin_memory=True)\n",
    "\n",
    "len(test_loader)"
   ]
  },
  {
   "cell_type": "markdown",
   "metadata": {
    "id": "-okyO8Q5r2Ev"
   },
   "source": [
    "## 평가지표 계산하기"
   ]
  },
  {
   "cell_type": "code",
   "execution_count": 96,
   "metadata": {
    "colab": {
     "base_uri": "https://localhost:8080/"
    },
    "executionInfo": {
     "elapsed": 106,
     "status": "ok",
     "timestamp": 1742879042415,
     "user": {
      "displayName": "Namhun Kim",
      "userId": "06490179833075519179"
     },
     "user_tz": -540
    },
    "id": "YcFcFFbxoRsQ",
    "outputId": "76783678-e2fd-4c22-9253-3fe2ae18c759"
   },
   "outputs": [
    {
     "name": "stdout",
     "output_type": "stream",
     "text": [
      "/root/moanet_whole\n"
     ]
    }
   ],
   "source": [
    "!pwd"
   ]
  },
  {
   "cell_type": "code",
   "execution_count": 97,
   "metadata": {
    "colab": {
     "base_uri": "https://localhost:8080/"
    },
    "executionInfo": {
     "elapsed": 42,
     "status": "ok",
     "timestamp": 1742879045206,
     "user": {
      "displayName": "Namhun Kim",
      "userId": "06490179833075519179"
     },
     "user_tz": -540
    },
    "id": "ZY7l8fZtoRsQ",
    "outputId": "6ca8a9b1-9e7f-41c0-d1e8-e6667afd4dc6"
   },
   "outputs": [
    {
     "name": "stdout",
     "output_type": "stream",
     "text": [
      "/root/moanet\n"
     ]
    }
   ],
   "source": [
    "%cd {root}/moanet"
   ]
  },
  {
   "cell_type": "code",
   "execution_count": 98,
   "metadata": {
    "colab": {
     "base_uri": "https://localhost:8080/"
    },
    "executionInfo": {
     "elapsed": 3,
     "status": "ok",
     "timestamp": 1742879048280,
     "user": {
      "displayName": "Namhun Kim",
      "userId": "06490179833075519179"
     },
     "user_tz": -540
    },
    "id": "V8m5F_5foRsQ",
    "outputId": "eb901e70-93c9-48c4-a52b-4a1fa08a6548"
   },
   "outputs": [
    {
     "data": {
      "text/plain": [
       "device(type='cuda')"
      ]
     },
     "execution_count": 98,
     "metadata": {},
     "output_type": "execute_result"
    }
   ],
   "source": [
    "import torch\n",
    "device = torch.device('cuda' if torch.cuda.is_available() else 'cpu')\n",
    "device"
   ]
  },
  {
   "cell_type": "code",
   "execution_count": 99,
   "metadata": {
    "executionInfo": {
     "elapsed": 2,
     "status": "ok",
     "timestamp": 1742879053092,
     "user": {
      "displayName": "Namhun Kim",
      "userId": "06490179833075519179"
     },
     "user_tz": -540
    },
    "id": "Yf5r1L-FoRsQ"
   },
   "outputs": [],
   "source": [
    "import torch\n",
    "import torch.nn as nn\n",
    "\n",
    "class SpatialAttention(nn.Module):\n",
    "    def __init__(self, kernel_size=7, num_organs=11):  # num_organs = len(text_descriptions)\n",
    "        super(SpatialAttention, self).__init__()\n",
    "        assert kernel_size in (3, 7), \"Kernel size must be 3 or 7\"\n",
    "        padding = (kernel_size - 1) // 2  # 동일한 크기를 유지하기 위한 패딩\n",
    "        self.conv = nn.Conv2d(2, num_organs, kernel_size=kernel_size, padding=padding, bias=False)  # 장기별 attention\n",
    "        self.sigmoid = nn.Sigmoid()\n",
    "        self.last_attention = None  # Attention 값을 저장하는 변수\n",
    "\n",
    "    def forward(self, x, organ_prob):\n",
    "        \"\"\"\n",
    "        Args:\n",
    "            x (torch.Tensor): Input feature map [B, C, H, W]\n",
    "            organ_prob (torch.Tensor): Organ probability vector [B, num_organs]\n",
    "        Returns:\n",
    "            torch.Tensor: Attention-weighted feature map [B, C, H, W]\n",
    "        \"\"\"\n",
    "\n",
    "        B, C, H, W = x.shape  # 배치 크기, 채널 수, 높이, 너비\n",
    "\n",
    "        # 채널 차원을 압축 (Max Pooling과 Average Pooling)\n",
    "        avg_out = torch.mean(x, dim=1, keepdim=True)  # Average pooling -> [B, 1, H, W]\n",
    "        max_out, _ = torch.max(x, dim=1, keepdim=True)  # Max pooling -> [B, 1, H, W]\n",
    "        combined = torch.cat([avg_out, max_out], dim=1)  # [B, 2, H, W]\n",
    "\n",
    "        # 2D Convolution 적용하여 여러 장기의 attention map 생성\n",
    "        attention = self.sigmoid(self.conv(combined))  # [B, num_organs, H, W]\n",
    "        self.last_attention = attention  # Attention 저장\n",
    "\n",
    "        # organ_prob을 attention과 동일한 차원으로 변환하여 element-wise 곱셈\n",
    "        organ_prob = organ_prob.view(B, -1, 1, 1)  # [B, num_organs, 1, 1]\n",
    "        weighted_attention = attention * organ_prob  # [B, num_organs, H, W] 각 장기별 확률 반영\n",
    "\n",
    "        # 장기별 attention을 합산하여 최종 attention map 생성\n",
    "        final_attention = torch.sum(weighted_attention, dim=1, keepdim=True)  # [B, 1, H, W]\n",
    "\n",
    "        # 입력 `x`에 최종 attention을 적용\n",
    "        output = x * final_attention  # [B, C, H, W]\n",
    "\n",
    "        return output"
   ]
  },
  {
   "cell_type": "code",
   "execution_count": 100,
   "metadata": {
    "executionInfo": {
     "elapsed": 1,
     "status": "ok",
     "timestamp": 1742879057736,
     "user": {
      "displayName": "Namhun Kim",
      "userId": "06490179833075519179"
     },
     "user_tz": -540
    },
    "id": "nQt6e1MsoRsQ"
   },
   "outputs": [],
   "source": [
    "class RedCNNWithSpatialAttention(nn.Module):\n",
    "    def __init__(self):\n",
    "        super(RedCNNWithSpatialAttention, self).__init__()\n",
    "\n",
    "        # 인코더 부분\n",
    "        self.conv1 = nn.Conv2d(1, 96, 5, 1, 0)\n",
    "        self.conv2 = nn.Conv2d(96, 96, 5, 1, 0)\n",
    "        self.conv3 = nn.Conv2d(96, 96, 5, 1, 0)\n",
    "        self.conv4 = nn.Conv2d(96, 96, 5, 1, 0)\n",
    "        self.conv5 = nn.Conv2d(96, 96, 5, 1, 0)\n",
    "\n",
    "        # Spatial Attention Blocks\n",
    "        self.spatial_attention3 = SpatialAttention()\n",
    "        self.spatial_attention5 = SpatialAttention()\n",
    "\n",
    "        # 디코더 부분\n",
    "        self.deconv1 = nn.ConvTranspose2d(96, 96, 5, 1, 0)\n",
    "        self.deconv2 = nn.ConvTranspose2d(96, 96, 5, 1, 0)\n",
    "        self.deconv3 = nn.ConvTranspose2d(96, 96, 5, 1, 0)\n",
    "        self.deconv4 = nn.ConvTranspose2d(96, 96, 5, 1, 0)\n",
    "        self.deconv_last = nn.ConvTranspose2d(96, 1, 5, 1, 0)\n",
    "\n",
    "        self.relu = nn.ReLU()\n",
    "\n",
    "    def forward(self, x, prob):\n",
    "        # 인코더 부분\n",
    "        residual1 = x\n",
    "        x = self.relu(self.conv1(x))\n",
    "        x = self.relu(self.conv2(x))\n",
    "        residual2 = x\n",
    "        x = self.relu(self.conv3(x))\n",
    "        x = self.spatial_attention3(x, prob)  # Spatial Attention (3번째 위치)\n",
    "        x = self.relu(self.conv4(x))\n",
    "        residual3 = x\n",
    "        x = self.relu(self.conv5(x))\n",
    "        x = self.spatial_attention5(x, prob)  # Spatial Attention (5번째 위치)\n",
    "\n",
    "        # 디코더 부분\n",
    "        x = self.relu(self.deconv1(x) + residual3)\n",
    "        x = self.relu(self.deconv2(x))\n",
    "        x = self.relu(self.deconv3(x) + residual2)\n",
    "        x = self.relu(self.deconv4(x))\n",
    "        x = self.deconv_last(x) + residual1\n",
    "\n",
    "        return x"
   ]
  },
  {
   "cell_type": "code",
   "execution_count": 101,
   "metadata": {
    "colab": {
     "base_uri": "https://localhost:8080/"
    },
    "executionInfo": {
     "elapsed": 86614,
     "status": "ok",
     "timestamp": 1742879151842,
     "user": {
      "displayName": "Namhun Kim",
      "userId": "06490179833075519179"
     },
     "user_tz": -540
    },
    "id": "zO-73PAXoRsQ",
    "outputId": "82627409-fe8a-4908-8664-0a0b70c3dcb2"
   },
   "outputs": [
    {
     "name": "stderr",
     "output_type": "stream",
     "text": [
      "Evaluating:  17%|█▋        | 1017/6025 [00:11<01:00, 82.33it/s]"
     ]
    },
    {
     "name": "stdout",
     "output_type": "stream",
     "text": [
      "RMSE per interval: 0.0464, PSNR per interval: 27.50, SSIM per interval: 0.6767\n"
     ]
    },
    {
     "name": "stderr",
     "output_type": "stream",
     "text": [
      "Evaluating:  33%|███▎      | 2013/6025 [00:23<00:46, 85.64it/s]"
     ]
    },
    {
     "name": "stdout",
     "output_type": "stream",
     "text": [
      "RMSE per interval: 0.0437, PSNR per interval: 28.30, SSIM per interval: 0.6920\n"
     ]
    },
    {
     "name": "stderr",
     "output_type": "stream",
     "text": [
      "Evaluating:  50%|█████     | 3013/6025 [00:34<00:32, 91.78it/s]"
     ]
    },
    {
     "name": "stdout",
     "output_type": "stream",
     "text": [
      "RMSE per interval: 0.0441, PSNR per interval: 28.43, SSIM per interval: 0.7033\n"
     ]
    },
    {
     "name": "stderr",
     "output_type": "stream",
     "text": [
      "Evaluating:  67%|██████▋   | 4013/6025 [00:45<00:21, 94.37it/s]"
     ]
    },
    {
     "name": "stdout",
     "output_type": "stream",
     "text": [
      "RMSE per interval: 0.0377, PSNR per interval: 29.43, SSIM per interval: 0.7283\n"
     ]
    },
    {
     "name": "stderr",
     "output_type": "stream",
     "text": [
      "Evaluating:  83%|████████▎ | 5010/6025 [00:56<00:21, 46.29it/s]"
     ]
    },
    {
     "name": "stdout",
     "output_type": "stream",
     "text": [
      "RMSE per interval: 0.0373, PSNR per interval: 29.53, SSIM per interval: 0.7063\n"
     ]
    },
    {
     "name": "stderr",
     "output_type": "stream",
     "text": [
      "Evaluating: 100%|█████████▉| 6012/6025 [01:11<00:00, 93.35it/s]"
     ]
    },
    {
     "name": "stdout",
     "output_type": "stream",
     "text": [
      "RMSE per interval: 0.0352, PSNR per interval: 30.25, SSIM per interval: 0.7477\n"
     ]
    },
    {
     "name": "stderr",
     "output_type": "stream",
     "text": [
      "Evaluating: 100%|██████████| 6025/6025 [01:12<00:00, 83.41it/s]"
     ]
    },
    {
     "name": "stdout",
     "output_type": "stream",
     "text": [
      "Average RMSE over all intervals: 0.040716\n"
     ]
    },
    {
     "name": "stderr",
     "output_type": "stream",
     "text": [
      "\n"
     ]
    }
   ],
   "source": [
    "import torch\n",
    "import torch.nn as nn\n",
    "import numpy as np\n",
    "from skimage.metrics import peak_signal_noise_ratio, structural_similarity\n",
    "from tqdm import tqdm\n",
    "\n",
    "criterion = nn.MSELoss()\n",
    "interval = 1000\n",
    "\n",
    "# 저장된 모델 로드\n",
    "device = torch.device('cuda' if torch.cuda.is_available() else 'cpu')\n",
    "model = RedCNNWithSpatialAttention().to(device)\n",
    "model.load_state_dict(torch.load('moanet.pth'))\n",
    "\n",
    "# 평가 지표 계산 추가\n",
    "def calculate_psnr(y_true, y_pred):\n",
    "    \"\"\"PSNR 계산 함수\"\"\"\n",
    "    y_true = y_true.cpu().numpy()\n",
    "    y_pred = y_pred.cpu().numpy()\n",
    "    return peak_signal_noise_ratio(y_true, y_pred, data_range=1.0)  # 정규화된 데이터라면 data_range=1.0\n",
    "\n",
    "def calculate_ssim(y_true, y_pred):\n",
    "    \"\"\"SSIM 계산 함수\"\"\"\n",
    "    y_true = y_true.squeeze(0).cpu().numpy()\n",
    "    y_pred = y_pred.squeeze(0).cpu().numpy()\n",
    "    return structural_similarity(y_true, y_pred, data_range=1.0)  # 정규화된 데이터라면 data_range=1.0\n",
    "\n",
    "# evaluate 부분 + top10 best&worst\n",
    "model.eval()\n",
    "running_loss = 0.0\n",
    "running_psnr = 0.0\n",
    "running_ssim = 0.0\n",
    "psnr_list = []\n",
    "ssim_list = []\n",
    "loss_list = []\n",
    "total_loss = 0\n",
    "best_loss = np.inf\n",
    "worst_loss = -np.inf\n",
    "\n",
    "with torch.no_grad():\n",
    "    for i, data in tqdm(enumerate(test_loader), total=len(test_loader), desc=f\"Evaluating\"):\n",
    "        X, prob, y = data[0][0].to(device), data[0][1].to(device), data[1].to(device)\n",
    "        X_hat = model(X, prob)\n",
    "        mse_loss = criterion(X_hat, y)\n",
    "\n",
    "        # RMSE 계산\n",
    "        rms_loss = torch.sqrt(mse_loss)\n",
    "        running_loss += rms_loss.item()\n",
    "\n",
    "        # PSNR, SSIM 계산\n",
    "        for j in range(X.size(0)):  # 배치 내부 개별 이미지에 대해 계산\n",
    "            psnr = calculate_psnr(y[j, :, :, :], X_hat[j, :, :, :])\n",
    "            ssim = calculate_ssim(y[j, :, :, :], X_hat[j, :, :, :])\n",
    "            running_psnr += psnr # batch에 대해 더해준다.\n",
    "            running_ssim += ssim\n",
    "\n",
    "        if mse_loss < best_loss:\n",
    "            best_loss = mse_loss\n",
    "            best = (X, y, X_hat)\n",
    "        if mse_loss > worst_loss:\n",
    "            worst_loss = mse_loss\n",
    "            worst = (X, y, X_hat)\n",
    "\n",
    "        if i % interval == interval - 1:\n",
    "            interval_loss = running_loss / interval\n",
    "            interval_psnr = running_psnr / (interval * X.size(0)) # batch에 대해 나눠준다\n",
    "            interval_ssim = running_ssim / (interval * X.size(0))\n",
    "\n",
    "            loss_list.append(interval_loss)\n",
    "            psnr_list.append(interval_psnr)\n",
    "            ssim_list.append(interval_ssim)\n",
    "\n",
    "            total_loss += interval_loss\n",
    "            running_loss = 0.0\n",
    "            running_psnr = 0.0\n",
    "            running_ssim = 0.0\n",
    "            tqdm.write(f'RMSE per interval: {interval_loss:.4f}, PSNR per interval: {interval_psnr:.2f}, SSIM per interval: {interval_ssim:.4f}')\n",
    "            # tqdm.write(f'RMSE per interval: {interval_loss}, PSNR per interval: {interval_psnr}, SSIM per interval: {interval_ssim}')\n",
    "\n",
    "    # 평균 RMSE 출력\n",
    "average_loss = total_loss / len(loss_list)\n",
    "print(f\"Average RMSE over all intervals: {average_loss:.6f}\")"
   ]
  },
  {
   "cell_type": "code",
   "execution_count": 102,
   "metadata": {
    "colab": {
     "base_uri": "https://localhost:8080/"
    },
    "executionInfo": {
     "elapsed": 4,
     "status": "ok",
     "timestamp": 1742879172602,
     "user": {
      "displayName": "Namhun Kim",
      "userId": "06490179833075519179"
     },
     "user_tz": -540
    },
    "id": "MSq-mXz2oRsQ",
    "outputId": "4c0d6de4-9e15-4e55-b7b3-d317c1977fd8"
   },
   "outputs": [
    {
     "data": {
      "text/plain": [
       "(6, 6, 6)"
      ]
     },
     "execution_count": 102,
     "metadata": {},
     "output_type": "execute_result"
    }
   ],
   "source": [
    "len(loss_list), len(psnr_list), len(ssim_list)"
   ]
  },
  {
   "cell_type": "code",
   "execution_count": 103,
   "metadata": {
    "colab": {
     "base_uri": "https://localhost:8080/"
    },
    "executionInfo": {
     "elapsed": 21,
     "status": "ok",
     "timestamp": 1742879173143,
     "user": {
      "displayName": "Namhun Kim",
      "userId": "06490179833075519179"
     },
     "user_tz": -540
    },
    "id": "prhgJ7BzoRsQ",
    "outputId": "2d5141cd-c0b8-444c-8444-09821a1e850f"
   },
   "outputs": [
    {
     "data": {
      "text/plain": [
       "[0.04640608758851886,\n",
       " 0.04365408520959318,\n",
       " 0.04405701654497534,\n",
       " 0.0376762955673039,\n",
       " 0.03727914898004383,\n",
       " 0.03522422835417092]"
      ]
     },
     "execution_count": 103,
     "metadata": {},
     "output_type": "execute_result"
    }
   ],
   "source": [
    "rmse_list = loss_list\n",
    "rmse_list"
   ]
  },
  {
   "cell_type": "code",
   "execution_count": 104,
   "metadata": {
    "colab": {
     "base_uri": "https://localhost:8080/"
    },
    "executionInfo": {
     "elapsed": 84,
     "status": "ok",
     "timestamp": 1742879174032,
     "user": {
      "displayName": "Namhun Kim",
      "userId": "06490179833075519179"
     },
     "user_tz": -540
    },
    "id": "eaXuxpXIsLJM",
    "outputId": "4a20ea67-9006-4a93-a07e-10dbe2ed1e09"
   },
   "outputs": [
    {
     "name": "stdout",
     "output_type": "stream",
     "text": [
      "/root/moanet\n"
     ]
    }
   ],
   "source": [
    "!pwd"
   ]
  },
  {
   "cell_type": "code",
   "execution_count": 105,
   "metadata": {
    "colab": {
     "base_uri": "https://localhost:8080/"
    },
    "executionInfo": {
     "elapsed": 26,
     "status": "ok",
     "timestamp": 1742879174882,
     "user": {
      "displayName": "Namhun Kim",
      "userId": "06490179833075519179"
     },
     "user_tz": -540
    },
    "id": "vSaMc59goRsQ",
    "outputId": "945a701a-069c-4d72-e811-1b373d79e1dd"
   },
   "outputs": [
    {
     "name": "stdout",
     "output_type": "stream",
     "text": [
      "저장 완료: /root/moanet/results.csv\n"
     ]
    }
   ],
   "source": [
    "# 저장하는 코드\n",
    "\n",
    "import pandas as pd\n",
    "\n",
    "# 데이터프레임 생성\n",
    "df = pd.DataFrame({\n",
    "    \"RMSE\": loss_list,\n",
    "    \"PSNR\": psnr_list,\n",
    "    \"SSIM\": ssim_list\n",
    "})\n",
    "\n",
    "# CSV 파일 저장\n",
    "csv_filename = f\"{root}/moanet/results.csv\"\n",
    "df.to_csv(csv_filename, index=False)\n",
    "\n",
    "print(f\"저장 완료: {csv_filename}\")"
   ]
  },
  {
   "cell_type": "code",
   "execution_count": 106,
   "metadata": {
    "colab": {
     "base_uri": "https://localhost:8080/"
    },
    "executionInfo": {
     "elapsed": 13,
     "status": "ok",
     "timestamp": 1742879177109,
     "user": {
      "displayName": "Namhun Kim",
      "userId": "06490179833075519179"
     },
     "user_tz": -540
    },
    "id": "whFGXwjrsOkQ",
    "outputId": "b2c479f9-44c8-46d6-8d38-6b26137087fe"
   },
   "outputs": [
    {
     "name": "stdout",
     "output_type": "stream",
     "text": [
      "       RMSE       PSNR      SSIM\n",
      "0  0.046406  27.496441  0.676724\n",
      "1  0.043654  28.296787  0.692043\n",
      "2  0.044057  28.430708  0.703343\n",
      "3  0.037676  29.428038  0.728304\n",
      "4  0.037279  29.534533  0.706299\n",
      "5  0.035224  30.251236  0.747696 \n",
      "\n",
      "RMSE List: [0.0464060875885188, 0.0436540852095931, 0.0440570165449753, 0.0376762955673039, 0.0372791489800438, 0.0352242283541709]\n",
      "PSNR List: [27.496440604406093, 28.296786974126256, 28.43070846532849, 29.42803834846071, 29.534532576180325, 30.251235507527305]\n",
      "SSIM List: [0.6767239966640292, 0.6920425939056176, 0.7033426752890447, 0.7283039646501005, 0.706298564014027, 0.7476956784078893]\n"
     ]
    }
   ],
   "source": [
    "# 불러오는 코드\n",
    "\n",
    "import pandas as pd\n",
    "\n",
    "# CSV 파일 불러오기\n",
    "csv_filename = f\"{root}/moanet/results.csv\"\n",
    "df = pd.read_csv(csv_filename)\n",
    "\n",
    "# 불러온 데이터 출력\n",
    "print(df,'\\n')\n",
    "\n",
    "# 개별 리스트로 변환\n",
    "loss_list = df[\"RMSE\"].tolist()\n",
    "psnr_list = df[\"PSNR\"].tolist()\n",
    "ssim_list = df[\"SSIM\"].tolist()\n",
    "\n",
    "# 확인 출력\n",
    "print(\"RMSE List:\", loss_list)\n",
    "print(\"PSNR List:\", psnr_list)\n",
    "print(\"SSIM List:\", ssim_list)"
   ]
  },
  {
   "cell_type": "code",
   "execution_count": 107,
   "metadata": {
    "colab": {
     "base_uri": "https://localhost:8080/",
     "height": 322
    },
    "executionInfo": {
     "elapsed": 428,
     "status": "ok",
     "timestamp": 1742879179334,
     "user": {
      "displayName": "Namhun Kim",
      "userId": "06490179833075519179"
     },
     "user_tz": -540
    },
    "id": "tJryI1xCoRsQ",
    "outputId": "7a662f01-a482-4172-d4e7-63fd7c512007"
   },
   "outputs": [
    {
     "data": {
      "image/png": "[encoded data removed]",
      "text/plain": [
       "<Figure size 1080x360 with 3 Axes>"
      ]
     },
     "metadata": {
      "needs_background": "light"
     },
     "output_type": "display_data"
    }
   ],
   "source": [
    "import numpy as np\n",
    "import matplotlib.pyplot as plt\n",
    "\n",
    "# 그래프 인덱스 (각 값의 순서를 나타냄)\n",
    "x_values = np.arange(1, 7)\n",
    "\n",
    "# 그래프 그리기\n",
    "fig, axs = plt.subplots(1, 3, figsize=(15, 5))\n",
    "\n",
    "# RMSE 그래프\n",
    "axs[0].plot(x_values, rmse_list, marker='o', linestyle='-', color='b', label=\"RMSE\")\n",
    "axs[0].set_title('RMSE Trend')\n",
    "axs[0].set_xlabel('Index')\n",
    "axs[0].set_ylabel('RMSE')\n",
    "axs[0].grid(True)\n",
    "\n",
    "# PSNR 그래프\n",
    "axs[1].plot(x_values, psnr_list, marker='o', linestyle='-', color='g', label=\"PSNR\")\n",
    "axs[1].set_title('PSNR Trend')\n",
    "axs[1].set_xlabel('Index')\n",
    "axs[1].set_ylabel('PSNR')\n",
    "axs[1].grid(True)\n",
    "\n",
    "# SSIM 그래프\n",
    "axs[2].plot(x_values, ssim_list, marker='o', linestyle='-', color='r', label=\"SSIM\")\n",
    "axs[2].set_title('SSIM Trend')\n",
    "axs[2].set_xlabel('Index')\n",
    "axs[2].set_ylabel('SSIM')\n",
    "axs[2].grid(True)\n",
    "\n",
    "# 그래프 레이아웃 조정 및 표시\n",
    "plt.tight_layout()\n",
    "plt.show()"
   ]
  },
  {
   "cell_type": "code",
   "execution_count": 108,
   "metadata": {
    "colab": {
     "base_uri": "https://localhost:8080/",
     "height": 515
    },
    "executionInfo": {
     "elapsed": 374,
     "status": "ok",
     "timestamp": 1742879181341,
     "user": {
      "displayName": "Namhun Kim",
      "userId": "06490179833075519179"
     },
     "user_tz": -540
    },
    "id": "uerdwKmkoRsQ",
    "outputId": "273f98c7-dd99-4d21-d1f9-65fb8d50a66b"
   },
   "outputs": [
    {
     "data": {
      "image/png": "[encoded data removed]",
      "text/plain": [
       "<Figure size 576x360 with 3 Axes>"
      ]
     },
     "metadata": {
      "needs_background": "light"
     },
     "output_type": "display_data"
    }
   ],
   "source": [
    "import numpy as np\n",
    "import matplotlib.pyplot as plt\n",
    "\n",
    "# 정규화 함수 (min-max scaling)\n",
    "def min_max_scale(data):\n",
    "    return (data - np.min(data)) / (np.max(data) - np.min(data))\n",
    "\n",
    "# 정규화\n",
    "rmse_scaled = min_max_scale(rmse_list)\n",
    "psnr_scaled = min_max_scale(psnr_list)\n",
    "ssim_scaled = min_max_scale(ssim_list)\n",
    "\n",
    "# 그래프 인덱스\n",
    "x_values = np.arange(1, len(rmse_list) + 1)\n",
    "\n",
    "# 그래프 그리기\n",
    "fig, ax1 = plt.subplots(figsize=(8, 5))\n",
    "\n",
    "# RMSE (파란색 원)\n",
    "ax1.plot(x_values, rmse_scaled, marker='o', linestyle='-', color='b', label=\"RMSE (scaled)\")\n",
    "ax1.set_ylabel(\"Normalized Scale (0-1)\", color='black')\n",
    "ax1.set_xlabel(\"Index\")\n",
    "ax1.tick_params(axis='y', labelcolor='black')\n",
    "\n",
    "# PSNR (초록색 사각형, 보조 y축)\n",
    "ax2 = ax1.twinx()\n",
    "ax2.plot(x_values, psnr_scaled, marker='s', linestyle='-', color='g', label=\"PSNR (scaled)\")\n",
    "ax2.tick_params(axis='y', labelcolor='g')\n",
    "\n",
    "# SSIM (빨간색 삼각형, 추가 y축)\n",
    "ax3 = ax1.twinx()\n",
    "ax3.plot(x_values, ssim_scaled, marker='^', linestyle='-', color='r', label=\"SSIM (scaled)\")\n",
    "ax3.spines['right'].set_position((\"outward\", 60))  # 세 번째 y축을 오른쪽 바깥으로 조정\n",
    "ax3.tick_params(axis='y', labelcolor='r')\n",
    "\n",
    "# 제목 및 범례\n",
    "fig.suptitle(\"RMSE, PSNR, and SSIM Trends (Normalized)\")\n",
    "ax1.legend(loc=\"upper left\")\n",
    "ax2.legend(loc=\"upper right\")\n",
    "ax3.legend(loc=\"lower right\")\n",
    "\n",
    "# 그래프 표시\n",
    "plt.show()"
   ]
  },
  {
   "cell_type": "code",
   "execution_count": 109,
   "metadata": {
    "colab": {
     "base_uri": "https://localhost:8080/"
    },
    "executionInfo": {
     "elapsed": 7,
     "status": "ok",
     "timestamp": 1742879184012,
     "user": {
      "displayName": "Namhun Kim",
      "userId": "06490179833075519179"
     },
     "user_tz": -540
    },
    "id": "yvOyt-IpsS3e",
    "outputId": "b81aa459-5f93-4e30-eaf3-2223e8fb0d2d"
   },
   "outputs": [
    {
     "name": "stdout",
     "output_type": "stream",
     "text": [
      "RMSE: 0.0407 ± 0.0042\n",
      "PSNR: 28.9063 ± 0.9184\n",
      "SSIM: 0.7091 ± 0.0232\n"
     ]
    }
   ],
   "source": [
    "# 평균(mean)과 표준편차(sd) 계산\n",
    "rmse_mean = np.mean(rmse_list)\n",
    "rmse_sd = np.std(rmse_list)\n",
    "\n",
    "psnr_mean = np.mean(psnr_list)\n",
    "psnr_sd = np.std(psnr_list)\n",
    "\n",
    "ssim_mean = np.mean(ssim_list)\n",
    "ssim_sd = np.std(ssim_list)\n",
    "\n",
    "# 결과를 mean ± sd 형식으로 표현\n",
    "rmse_result = f\"{rmse_mean:.4f} ± {rmse_sd:.4f}\"\n",
    "psnr_result = f\"{psnr_mean:.4f} ± {psnr_sd:.4f}\"\n",
    "ssim_result = f\"{ssim_mean:.4f} ± {ssim_sd:.4f}\"\n",
    "\n",
    "# 결과 출력\n",
    "print(f\"RMSE: {rmse_result}\")\n",
    "print(f\"PSNR: {psnr_result}\")\n",
    "print(f\"SSIM: {ssim_result}\")"
   ]
  },
  {
   "cell_type": "markdown",
   "metadata": {},
   "source": [
    "# 2. moanet_whole"
   ]
  },
  {
   "cell_type": "markdown",
   "metadata": {},
   "source": [
    "## 데이터셋 불러오기"
   ]
  },
  {
   "cell_type": "code",
   "execution_count": 110,
   "metadata": {},
   "outputs": [],
   "source": [
    "patch_size = 512\n",
    "def extract_patches(img, patch_size=patch_size, interval=55):\n",
    "  patches = []\n",
    "  _, height, width = img.shape\n",
    "  for y in range(0, height - patch_size + 1, interval):\n",
    "    for x in range(0, width - patch_size + 1, interval):\n",
    "      patch = img[:, y:y + patch_size, x:x + patch_size]\n",
    "      patches.append(patch)\n",
    "  patches = np.array(patches)\n",
    "  return patches # patch수x1x55x55, numpy"
   ]
  },
  {
   "cell_type": "code",
   "execution_count": 111,
   "metadata": {},
   "outputs": [],
   "source": [
    "import random\n",
    "from scipy.ndimage import rotate, zoom\n",
    "\n",
    "def augment_patches(X_patches, y_patches, p=0.5):\n",
    "    X_augmented_patches, y_augmented_patches = [], []\n",
    "\n",
    "    # random이 들어가기에, X랑 y를 동시에 넣어준다.\n",
    "    for i, (X_patch, y_patch) in enumerate(zip(X_patches, y_patches)):\n",
    "        # 원본 패치 추가\n",
    "        X_augmented_patches.append(X_patch)\n",
    "        y_augmented_patches.append(y_patch)\n",
    "\n",
    "        if random.random() < p:\n",
    "            # 1. 90, 270으로 돌려보자.(뒤집기랑 조금 다르긴 하지만, 점대칭 vs 선대칭, 그냥 +-90도만 쓰자.)\n",
    "            X, y = rotate(X_patch, 90, axes=(1, 2), reshape=False), rotate(y_patch, 90, axes=(1, 2), reshape=False)\n",
    "            X_augmented_patches.append(X)\n",
    "            y_augmented_patches.append(y)\n",
    "            X, y = rotate(X_patch, -90, axes=(1, 2), reshape=False), rotate(y_patch, -90, axes=(1, 2), reshape=False)\n",
    "            X_augmented_patches.append(X)\n",
    "            y_augmented_patches.append(y)\n",
    "        if random.random() < p:\n",
    "            # 2. 수직 뒤집기\n",
    "            X,y = np.flip(X_patch, axis=1),np.flip(y_patch, axis=1)\n",
    "            X_augmented_patches.append(X)\n",
    "            y_augmented_patches.append(y)\n",
    "        if random.random() < p:\n",
    "            # 3. 수평 뒤집기\n",
    "            X,y = np.flip(X_patch, axis=2),np.flip(y_patch, axis=2)\n",
    "            X_augmented_patches.append(X)\n",
    "            y_augmented_patches.append(y)\n",
    "\n",
    "    return np.array(X_augmented_patches), np.array(y_augmented_patches)"
   ]
  },
  {
   "cell_type": "code",
   "execution_count": 112,
   "metadata": {},
   "outputs": [],
   "source": [
    "def patch_maker_W_aug(X_dir, y_dir):\n",
    "  X_img, y_img = normlize(X_dir), normlize(y_dir)\n",
    "  X_patches = extract_patches(img=X_img, patch_size=55, interval=55)\n",
    "  y_patches = extract_patches(img=y_img, patch_size=55, interval=55)\n",
    "  X_augmented_patches, y_augmented_patches = augment_patches(X_patches, y_patches, p=0.5)\n",
    "  return X_augmented_patches, y_augmented_patches\n",
    "def patch_maker_WO_aug(X_dir, y_dir):\n",
    "  X_img, y_img = normlize(X_dir), normlize(y_dir)\n",
    "  X_patches = extract_patches(img=X_img, patch_size=55, interval=55)\n",
    "  y_patches = extract_patches(img=y_img, patch_size=55, interval=55)\n",
    "  return X_patches, y_patches"
   ]
  },
  {
   "cell_type": "code",
   "execution_count": 113,
   "metadata": {},
   "outputs": [],
   "source": [
    "import os\n",
    "from torch.utils.data import Dataset\n",
    "import torch\n",
    "import glob\n",
    "from tqdm import tqdm\n",
    "\n",
    "class CustomDataset(Dataset):\n",
    "    def __init__(self, data_type, patch_maker, L_list, organ_probs_df):\n",
    "        self.data_type = data_type\n",
    "        self.patch_maker = patch_maker\n",
    "        self.L_list = L_list\n",
    "        self.organ_probs_df = organ_probs_df\n",
    "        self.image_pairs = []\n",
    "\n",
    "        X_dir_list, y_dir_list = [], []\n",
    "        for L in self.L_list:\n",
    "            X_dir, y_dir = self.get_data_range(L)\n",
    "            X_dir_list += X_dir # 리스트 + 리스트 = 리스트\n",
    "            y_dir_list += y_dir\n",
    "\n",
    "        for i, (X_dir, y_dir) in tqdm(enumerate(zip(X_dir_list, y_dir_list)), total=len(X_dir_list), desc=f\"{self.data_type} is processing\"):\n",
    "            X_patches, y_patches = self.patch_maker(X_dir, y_dir)\n",
    "            organ_prob = torch.tensor([float(v) for v in organ_probs_df.iloc[i, 1:].values], dtype=torch.float32) # organ_prob을 tensor로 변환\n",
    "\n",
    "            for j in range(X_patches.shape[0]):\n",
    "                X_patch, y_patch = torch.from_numpy(X_patches[j]).float(), torch.from_numpy(y_patches[j]).float() # torch로 넣어주자.\n",
    "                self.image_pairs.append((X_patch, organ_prob, y_patch))\n",
    "\n",
    "    def get_data_range(self, L):\n",
    "        \"\"\"슬라이싱 범위를 설정하는 함수\"\"\"\n",
    "        X_dir = sorted(glob.glob(f'{root}/mayo2016/{L}/{data_label[0]}/*.IMA'))\n",
    "        y_dir = sorted(glob.glob(f'{root}/mayo2016/{L}/{data_label[1]}/*.IMA'))\n",
    "        n1, n2 = len(X_dir), len(y_dir)\n",
    "\n",
    "        if self.data_type == 'train':\n",
    "            X_range = X_dir[:int(n1 * 0.64)]\n",
    "            y_range = y_dir[:int(n2 * 0.64)]\n",
    "        elif self.data_type == 'val':\n",
    "            X_range = X_dir[int(n1 * 0.64):int(n1 * 0.8)]\n",
    "            y_range = y_dir[int(n2 * 0.64):int(n2 * 0.8)]\n",
    "        else:  # test\n",
    "            X_range = X_dir[int(n1 * 0.8):]\n",
    "            y_range = y_dir[int(n2 * 0.8):]\n",
    "\n",
    "        return X_range, y_range\n",
    "\n",
    "    def __len__(self):\n",
    "        return len(self.image_pairs)\n",
    "\n",
    "    def __getitem__(self, idx):\n",
    "        X = (self.image_pairs[idx][0], self.image_pairs[idx][1])\n",
    "        y = self.image_pairs[idx][2]\n",
    "        return X, y"
   ]
  },
  {
   "cell_type": "code",
   "execution_count": 114,
   "metadata": {},
   "outputs": [
    {
     "data": {
      "text/plain": [
       "1190"
      ]
     },
     "execution_count": 114,
     "metadata": {},
     "output_type": "execute_result"
    }
   ],
   "source": [
    "# 파일 경로 설정\n",
    "\n",
    "folder_name = f'{root}/dataset_add_prob_whole/'\n",
    "test_path = folder_name+'test_dataset.pt'\n",
    "test_dataset = torch.load(test_path) # , weights_only=False\n",
    "\n",
    "batch_size = 1\n",
    "from torch.utils.data import DataLoader\n",
    "test_loader = DataLoader(test_dataset, batch_size=batch_size, shuffle=False, num_workers=4, pin_memory=True)\n",
    "\n",
    "len(test_loader)"
   ]
  },
  {
   "cell_type": "markdown",
   "metadata": {},
   "source": [
    "## 평가지표 계산하기"
   ]
  },
  {
   "cell_type": "code",
   "execution_count": 115,
   "metadata": {},
   "outputs": [
    {
     "name": "stdout",
     "output_type": "stream",
     "text": [
      "/root/moanet\n"
     ]
    }
   ],
   "source": [
    "!pwd"
   ]
  },
  {
   "cell_type": "code",
   "execution_count": 116,
   "metadata": {},
   "outputs": [
    {
     "name": "stdout",
     "output_type": "stream",
     "text": [
      "/root/moanet_whole\n"
     ]
    }
   ],
   "source": [
    "%cd {root}/moanet_whole"
   ]
  },
  {
   "cell_type": "code",
   "execution_count": 117,
   "metadata": {},
   "outputs": [
    {
     "data": {
      "text/plain": [
       "device(type='cuda')"
      ]
     },
     "execution_count": 117,
     "metadata": {},
     "output_type": "execute_result"
    }
   ],
   "source": [
    "import torch\n",
    "device = torch.device('cuda' if torch.cuda.is_available() else 'cpu')\n",
    "device"
   ]
  },
  {
   "cell_type": "code",
   "execution_count": 118,
   "metadata": {},
   "outputs": [],
   "source": [
    "import torch\n",
    "import torch.nn as nn\n",
    "\n",
    "class SpatialAttention(nn.Module):\n",
    "    def __init__(self, kernel_size=7, num_organs=11):  # num_organs = len(text_descriptions)\n",
    "        super(SpatialAttention, self).__init__()\n",
    "        assert kernel_size in (3, 7), \"Kernel size must be 3 or 7\"\n",
    "        padding = (kernel_size - 1) // 2  # 동일한 크기를 유지하기 위한 패딩\n",
    "        self.conv = nn.Conv2d(2, num_organs, kernel_size=kernel_size, padding=padding, bias=False)  # 장기별 attention\n",
    "        self.sigmoid = nn.Sigmoid()\n",
    "        self.last_attention = None  # Attention 값을 저장하는 변수\n",
    "\n",
    "    def forward(self, x, organ_prob):\n",
    "        \"\"\"\n",
    "        Args:\n",
    "            x (torch.Tensor): Input feature map [B, C, H, W]\n",
    "            organ_prob (torch.Tensor): Organ probability vector [B, num_organs]\n",
    "        Returns:\n",
    "            torch.Tensor: Attention-weighted feature map [B, C, H, W]\n",
    "        \"\"\"\n",
    "\n",
    "        B, C, H, W = x.shape  # 배치 크기, 채널 수, 높이, 너비\n",
    "\n",
    "        # 채널 차원을 압축 (Max Pooling과 Average Pooling)\n",
    "        avg_out = torch.mean(x, dim=1, keepdim=True)  # Average pooling -> [B, 1, H, W]\n",
    "        max_out, _ = torch.max(x, dim=1, keepdim=True)  # Max pooling -> [B, 1, H, W]\n",
    "        combined = torch.cat([avg_out, max_out], dim=1)  # [B, 2, H, W]\n",
    "\n",
    "        # 2D Convolution 적용하여 여러 장기의 attention map 생성\n",
    "        attention = self.sigmoid(self.conv(combined))  # [B, num_organs, H, W]\n",
    "        self.last_attention = attention  # Attention 저장\n",
    "\n",
    "        # organ_prob을 attention과 동일한 차원으로 변환하여 element-wise 곱셈\n",
    "        organ_prob = organ_prob.view(B, -1, 1, 1)  # [B, num_organs, 1, 1]\n",
    "        weighted_attention = attention * organ_prob  # [B, num_organs, H, W] 각 장기별 확률 반영\n",
    "\n",
    "        # 장기별 attention을 합산하여 최종 attention map 생성\n",
    "        final_attention = torch.sum(weighted_attention, dim=1, keepdim=True)  # [B, 1, H, W]\n",
    "\n",
    "        # 입력 `x`에 최종 attention을 적용\n",
    "        output = x * final_attention  # [B, C, H, W]\n",
    "\n",
    "        return output"
   ]
  },
  {
   "cell_type": "code",
   "execution_count": 119,
   "metadata": {},
   "outputs": [],
   "source": [
    "class RedCNNWithSpatialAttention(nn.Module):\n",
    "    def __init__(self):\n",
    "        super(RedCNNWithSpatialAttention, self).__init__()\n",
    "\n",
    "        # 인코더 부분\n",
    "        self.conv1 = nn.Conv2d(1, 96, 5, 1, 0)\n",
    "        self.conv2 = nn.Conv2d(96, 96, 5, 1, 0)\n",
    "        self.conv3 = nn.Conv2d(96, 96, 5, 1, 0)\n",
    "        self.conv4 = nn.Conv2d(96, 96, 5, 1, 0)\n",
    "        self.conv5 = nn.Conv2d(96, 96, 5, 1, 0)\n",
    "\n",
    "        # Spatial Attention Blocks\n",
    "        self.spatial_attention3 = SpatialAttention()\n",
    "        self.spatial_attention5 = SpatialAttention()\n",
    "\n",
    "        # 디코더 부분\n",
    "        self.deconv1 = nn.ConvTranspose2d(96, 96, 5, 1, 0)\n",
    "        self.deconv2 = nn.ConvTranspose2d(96, 96, 5, 1, 0)\n",
    "        self.deconv3 = nn.ConvTranspose2d(96, 96, 5, 1, 0)\n",
    "        self.deconv4 = nn.ConvTranspose2d(96, 96, 5, 1, 0)\n",
    "        self.deconv_last = nn.ConvTranspose2d(96, 1, 5, 1, 0)\n",
    "\n",
    "        self.relu = nn.ReLU()\n",
    "\n",
    "    def forward(self, x, prob):\n",
    "        # 인코더 부분\n",
    "        residual1 = x\n",
    "        x = self.relu(self.conv1(x))\n",
    "        x = self.relu(self.conv2(x))\n",
    "        residual2 = x\n",
    "        x = self.relu(self.conv3(x))\n",
    "        x = self.spatial_attention3(x, prob)  # Spatial Attention (3번째 위치)\n",
    "        x = self.relu(self.conv4(x))\n",
    "        residual3 = x\n",
    "        x = self.relu(self.conv5(x))\n",
    "        x = self.spatial_attention5(x, prob)  # Spatial Attention (5번째 위치)\n",
    "\n",
    "        # 디코더 부분\n",
    "        x = self.relu(self.deconv1(x) + residual3)\n",
    "        x = self.relu(self.deconv2(x))\n",
    "        x = self.relu(self.deconv3(x) + residual2)\n",
    "        x = self.relu(self.deconv4(x))\n",
    "        x = self.deconv_last(x) + residual1\n",
    "\n",
    "        return x"
   ]
  },
  {
   "cell_type": "code",
   "execution_count": 120,
   "metadata": {},
   "outputs": [
    {
     "name": "stderr",
     "output_type": "stream",
     "text": [
      "Evaluating:  16%|█▌        | 187/1190 [00:08<00:36, 27.27it/s]"
     ]
    },
    {
     "name": "stdout",
     "output_type": "stream",
     "text": [
      "RMSE per interval: 0.0469, PSNR per interval: 26.60, SSIM per interval: 0.6717\n"
     ]
    },
    {
     "name": "stderr",
     "output_type": "stream",
     "text": [
      "Evaluating:  31%|███▏      | 373/1190 [00:14<00:29, 27.73it/s]"
     ]
    },
    {
     "name": "stdout",
     "output_type": "stream",
     "text": [
      "RMSE per interval: 0.0424, PSNR per interval: 27.59, SSIM per interval: 0.7052\n"
     ]
    },
    {
     "name": "stderr",
     "output_type": "stream",
     "text": [
      "Evaluating:  47%|████▋     | 556/1190 [00:22<00:25, 25.19it/s]"
     ]
    },
    {
     "name": "stdout",
     "output_type": "stream",
     "text": [
      "RMSE per interval: 0.0474, PSNR per interval: 26.59, SSIM per interval: 0.6815\n"
     ]
    },
    {
     "name": "stderr",
     "output_type": "stream",
     "text": [
      "Evaluating:  62%|██████▏   | 739/1190 [00:28<00:15, 28.72it/s]"
     ]
    },
    {
     "name": "stdout",
     "output_type": "stream",
     "text": [
      "RMSE per interval: 0.0375, PSNR per interval: 28.52, SSIM per interval: 0.7332\n"
     ]
    },
    {
     "name": "stderr",
     "output_type": "stream",
     "text": [
      "Evaluating:  78%|███████▊  | 925/1190 [00:35<00:09, 28.42it/s]"
     ]
    },
    {
     "name": "stdout",
     "output_type": "stream",
     "text": [
      "RMSE per interval: 0.0388, PSNR per interval: 28.23, SSIM per interval: 0.6974\n"
     ]
    },
    {
     "name": "stderr",
     "output_type": "stream",
     "text": [
      "Evaluating:  93%|█████████▎| 1108/1190 [00:41<00:02, 28.68it/s]"
     ]
    },
    {
     "name": "stdout",
     "output_type": "stream",
     "text": [
      "RMSE per interval: 0.0377, PSNR per interval: 28.49, SSIM per interval: 0.7259\n"
     ]
    },
    {
     "name": "stderr",
     "output_type": "stream",
     "text": [
      "Evaluating: 100%|██████████| 1190/1190 [00:44<00:00, 26.71it/s]"
     ]
    },
    {
     "name": "stdout",
     "output_type": "stream",
     "text": [
      "Average RMSE over all intervals: 0.041782\n"
     ]
    },
    {
     "name": "stderr",
     "output_type": "stream",
     "text": [
      "\n"
     ]
    }
   ],
   "source": [
    "import torch\n",
    "import torch.nn as nn\n",
    "import numpy as np\n",
    "from skimage.metrics import peak_signal_noise_ratio, structural_similarity\n",
    "from tqdm import tqdm\n",
    "\n",
    "criterion = nn.MSELoss()\n",
    "interval = 1000//((512/55)**2/16)\n",
    "\n",
    "# 저장된 모델 로드\n",
    "device = torch.device('cuda' if torch.cuda.is_available() else 'cpu')\n",
    "model = RedCNNWithSpatialAttention().to(device)\n",
    "model.load_state_dict(torch.load('moanet_whole.pth'))\n",
    "\n",
    "# 평가 지표 계산 추가\n",
    "def calculate_psnr(y_true, y_pred):\n",
    "    \"\"\"PSNR 계산 함수\"\"\"\n",
    "    y_true = y_true.cpu().numpy()\n",
    "    y_pred = y_pred.cpu().numpy()\n",
    "    return peak_signal_noise_ratio(y_true, y_pred, data_range=1.0)  # 정규화된 데이터라면 data_range=1.0\n",
    "\n",
    "def calculate_ssim(y_true, y_pred):\n",
    "    \"\"\"SSIM 계산 함수\"\"\"\n",
    "    y_true = y_true.squeeze(0).cpu().numpy()\n",
    "    y_pred = y_pred.squeeze(0).cpu().numpy()\n",
    "    return structural_similarity(y_true, y_pred, data_range=1.0)  # 정규화된 데이터라면 data_range=1.0\n",
    "\n",
    "# evaluate 부분 + top10 best&worst\n",
    "model.eval()\n",
    "running_loss = 0.0\n",
    "running_psnr = 0.0\n",
    "running_ssim = 0.0\n",
    "psnr_list = []\n",
    "ssim_list = []\n",
    "loss_list = []\n",
    "total_loss = 0\n",
    "best_loss = np.inf\n",
    "worst_loss = -np.inf\n",
    "\n",
    "with torch.no_grad():\n",
    "    for i, data in tqdm(enumerate(test_loader), total=len(test_loader), desc=f\"Evaluating\"):\n",
    "        X, prob, y = data[0][0].to(device), data[0][1].to(device), data[1].to(device)\n",
    "        X_hat = model(X, prob)\n",
    "        mse_loss = criterion(X_hat, y)\n",
    "\n",
    "        # RMSE 계산\n",
    "        rms_loss = torch.sqrt(mse_loss)\n",
    "        running_loss += rms_loss.item()\n",
    "\n",
    "        # PSNR, SSIM 계산\n",
    "        for j in range(X.size(0)):  # 배치 내부 개별 이미지에 대해 계산\n",
    "            psnr = calculate_psnr(y[j, :, :, :], X_hat[j, :, :, :])\n",
    "            ssim = calculate_ssim(y[j, :, :, :], X_hat[j, :, :, :])\n",
    "            running_psnr += psnr # batch에 대해 더해준다.\n",
    "            running_ssim += ssim\n",
    "\n",
    "        if mse_loss < best_loss:\n",
    "            best_loss = mse_loss\n",
    "            best = (X, y, X_hat)\n",
    "        if mse_loss > worst_loss:\n",
    "            worst_loss = mse_loss\n",
    "            worst = (X, y, X_hat)\n",
    "\n",
    "        if i % interval == interval - 1:\n",
    "            interval_loss = running_loss / interval\n",
    "            interval_psnr = running_psnr / (interval * X.size(0)) # batch에 대해 나눠준다\n",
    "            interval_ssim = running_ssim / (interval * X.size(0))\n",
    "\n",
    "            loss_list.append(interval_loss)\n",
    "            psnr_list.append(interval_psnr)\n",
    "            ssim_list.append(interval_ssim)\n",
    "\n",
    "            total_loss += interval_loss\n",
    "            running_loss = 0.0\n",
    "            running_psnr = 0.0\n",
    "            running_ssim = 0.0\n",
    "            tqdm.write(f'RMSE per interval: {interval_loss:.4f}, PSNR per interval: {interval_psnr:.2f}, SSIM per interval: {interval_ssim:.4f}')\n",
    "            # tqdm.write(f'RMSE per interval: {interval_loss}, PSNR per interval: {interval_psnr}, SSIM per interval: {interval_ssim}')\n",
    "\n",
    "    # 평균 RMSE 출력\n",
    "average_loss = total_loss / len(loss_list)\n",
    "print(f\"Average RMSE over all intervals: {average_loss:.6f}\")"
   ]
  },
  {
   "cell_type": "code",
   "execution_count": 121,
   "metadata": {},
   "outputs": [
    {
     "data": {
      "text/plain": [
       "(6, 6, 6)"
      ]
     },
     "execution_count": 121,
     "metadata": {},
     "output_type": "execute_result"
    }
   ],
   "source": [
    "len(loss_list), len(psnr_list), len(ssim_list)"
   ]
  },
  {
   "cell_type": "code",
   "execution_count": 122,
   "metadata": {},
   "outputs": [
    {
     "data": {
      "text/plain": [
       "[0.0469143782823306,\n",
       " 0.04236783014367456,\n",
       " 0.04736378946867974,\n",
       " 0.037548036557500775,\n",
       " 0.03879371538515324,\n",
       " 0.03770645697722617]"
      ]
     },
     "execution_count": 122,
     "metadata": {},
     "output_type": "execute_result"
    }
   ],
   "source": [
    "rmse_list = loss_list\n",
    "rmse_list"
   ]
  },
  {
   "cell_type": "code",
   "execution_count": 123,
   "metadata": {},
   "outputs": [
    {
     "name": "stdout",
     "output_type": "stream",
     "text": [
      "/root/moanet_whole\n"
     ]
    }
   ],
   "source": [
    "!pwd"
   ]
  },
  {
   "cell_type": "code",
   "execution_count": 124,
   "metadata": {},
   "outputs": [
    {
     "name": "stdout",
     "output_type": "stream",
     "text": [
      "저장 완료: /root/moanet_whole/results.csv\n"
     ]
    }
   ],
   "source": [
    "# 저장하는 코드\n",
    "\n",
    "import pandas as pd\n",
    "\n",
    "# 데이터프레임 생성\n",
    "df = pd.DataFrame({\n",
    "    \"RMSE\": loss_list,\n",
    "    \"PSNR\": psnr_list,\n",
    "    \"SSIM\": ssim_list\n",
    "})\n",
    "\n",
    "# CSV 파일 저장\n",
    "csv_filename = f\"{root}/moanet_whole/results.csv\"\n",
    "df.to_csv(csv_filename, index=False)\n",
    "\n",
    "print(f\"저장 완료: {csv_filename}\")"
   ]
  },
  {
   "cell_type": "code",
   "execution_count": 125,
   "metadata": {},
   "outputs": [
    {
     "name": "stdout",
     "output_type": "stream",
     "text": [
      "       RMSE       PSNR      SSIM\n",
      "0  0.046914  26.595584  0.671670\n",
      "1  0.042368  27.591176  0.705189\n",
      "2  0.047364  26.589263  0.681476\n",
      "3  0.037548  28.524940  0.733199\n",
      "4  0.038794  28.230289  0.697380\n",
      "5  0.037706  28.492721  0.725916 \n",
      "\n",
      "RMSE List: [0.0469143782823306, 0.0423678301436745, 0.0473637894686797, 0.0375480365575007, 0.0387937153851532, 0.0377064569772261]\n",
      "PSNR List: [26.595583907155984, 27.591175961762342, 26.589262511518324, 28.52493993182182, 28.23028931965584, 28.492721053260816]\n",
      "SSIM List: [0.6716703458502987, 0.705189013194689, 0.6814764170072288, 0.7331987558291782, 0.6973799482594628, 0.7259158645496371]\n"
     ]
    }
   ],
   "source": [
    "# 불러오는 코드\n",
    "\n",
    "import pandas as pd\n",
    "\n",
    "# CSV 파일 불러오기\n",
    "csv_filename = f\"{root}/moanet_whole/results.csv\"\n",
    "df = pd.read_csv(csv_filename)\n",
    "\n",
    "# 불러온 데이터 출력\n",
    "print(df,'\\n')\n",
    "\n",
    "# 개별 리스트로 변환\n",
    "loss_list = df[\"RMSE\"].tolist()\n",
    "psnr_list = df[\"PSNR\"].tolist()\n",
    "ssim_list = df[\"SSIM\"].tolist()\n",
    "\n",
    "# 확인 출력\n",
    "print(\"RMSE List:\", loss_list)\n",
    "print(\"PSNR List:\", psnr_list)\n",
    "print(\"SSIM List:\", ssim_list)"
   ]
  },
  {
   "cell_type": "code",
   "execution_count": 126,
   "metadata": {},
   "outputs": [
    {
     "data": {
      "image/png": "[encoded data removed]",
      "text/plain": [
       "<Figure size 1080x360 with 3 Axes>"
      ]
     },
     "metadata": {
      "needs_background": "light"
     },
     "output_type": "display_data"
    }
   ],
   "source": [
    "import numpy as np\n",
    "import matplotlib.pyplot as plt\n",
    "\n",
    "# 그래프 인덱스 (각 값의 순서를 나타냄)\n",
    "x_values = np.arange(1, 7)\n",
    "\n",
    "# 그래프 그리기\n",
    "fig, axs = plt.subplots(1, 3, figsize=(15, 5))\n",
    "\n",
    "# RMSE 그래프\n",
    "axs[0].plot(x_values, rmse_list, marker='o', linestyle='-', color='b', label=\"RMSE\")\n",
    "axs[0].set_title('RMSE Trend')\n",
    "axs[0].set_xlabel('Index')\n",
    "axs[0].set_ylabel('RMSE')\n",
    "axs[0].grid(True)\n",
    "\n",
    "# PSNR 그래프\n",
    "axs[1].plot(x_values, psnr_list, marker='o', linestyle='-', color='g', label=\"PSNR\")\n",
    "axs[1].set_title('PSNR Trend')\n",
    "axs[1].set_xlabel('Index')\n",
    "axs[1].set_ylabel('PSNR')\n",
    "axs[1].grid(True)\n",
    "\n",
    "# SSIM 그래프\n",
    "axs[2].plot(x_values, ssim_list, marker='o', linestyle='-', color='r', label=\"SSIM\")\n",
    "axs[2].set_title('SSIM Trend')\n",
    "axs[2].set_xlabel('Index')\n",
    "axs[2].set_ylabel('SSIM')\n",
    "axs[2].grid(True)\n",
    "\n",
    "# 그래프 레이아웃 조정 및 표시\n",
    "plt.tight_layout()\n",
    "plt.show()"
   ]
  },
  {
   "cell_type": "code",
   "execution_count": 127,
   "metadata": {},
   "outputs": [
    {
     "data": {
      "image/png": "[encoded data removed]",
      "text/plain": [
       "<Figure size 576x360 with 3 Axes>"
      ]
     },
     "metadata": {
      "needs_background": "light"
     },
     "output_type": "display_data"
    }
   ],
   "source": [
    "import numpy as np\n",
    "import matplotlib.pyplot as plt\n",
    "\n",
    "# 정규화 함수 (min-max scaling)\n",
    "def min_max_scale(data):\n",
    "    return (data - np.min(data)) / (np.max(data) - np.min(data))\n",
    "\n",
    "# 정규화\n",
    "rmse_scaled = min_max_scale(rmse_list)\n",
    "psnr_scaled = min_max_scale(psnr_list)\n",
    "ssim_scaled = min_max_scale(ssim_list)\n",
    "\n",
    "# 그래프 인덱스\n",
    "x_values = np.arange(1, len(rmse_list) + 1)\n",
    "\n",
    "# 그래프 그리기\n",
    "fig, ax1 = plt.subplots(figsize=(8, 5))\n",
    "\n",
    "# RMSE (파란색 원)\n",
    "ax1.plot(x_values, rmse_scaled, marker='o', linestyle='-', color='b', label=\"RMSE (scaled)\")\n",
    "ax1.set_ylabel(\"Normalized Scale (0-1)\", color='black')\n",
    "ax1.set_xlabel(\"Index\")\n",
    "ax1.tick_params(axis='y', labelcolor='black')\n",
    "\n",
    "# PSNR (초록색 사각형, 보조 y축)\n",
    "ax2 = ax1.twinx()\n",
    "ax2.plot(x_values, psnr_scaled, marker='s', linestyle='-', color='g', label=\"PSNR (scaled)\")\n",
    "ax2.tick_params(axis='y', labelcolor='g')\n",
    "\n",
    "# SSIM (빨간색 삼각형, 추가 y축)\n",
    "ax3 = ax1.twinx()\n",
    "ax3.plot(x_values, ssim_scaled, marker='^', linestyle='-', color='r', label=\"SSIM (scaled)\")\n",
    "ax3.spines['right'].set_position((\"outward\", 60))  # 세 번째 y축을 오른쪽 바깥으로 조정\n",
    "ax3.tick_params(axis='y', labelcolor='r')\n",
    "\n",
    "# 제목 및 범례\n",
    "fig.suptitle(\"RMSE, PSNR, and SSIM Trends (Normalized)\")\n",
    "ax1.legend(loc=\"upper left\")\n",
    "ax2.legend(loc=\"upper right\")\n",
    "ax3.legend(loc=\"lower right\")\n",
    "\n",
    "# 그래프 표시\n",
    "plt.show()"
   ]
  },
  {
   "cell_type": "code",
   "execution_count": 128,
   "metadata": {},
   "outputs": [
    {
     "name": "stdout",
     "output_type": "stream",
     "text": [
      "RMSE: 0.0418 ± 0.0041\n",
      "PSNR: 27.6707 ± 0.8216\n",
      "SSIM: 0.7025 ± 0.0220\n"
     ]
    }
   ],
   "source": [
    "# 평균(mean)과 표준편차(sd) 계산\n",
    "rmse_mean = np.mean(rmse_list)\n",
    "rmse_sd = np.std(rmse_list)\n",
    "\n",
    "psnr_mean = np.mean(psnr_list)\n",
    "psnr_sd = np.std(psnr_list)\n",
    "\n",
    "ssim_mean = np.mean(ssim_list)\n",
    "ssim_sd = np.std(ssim_list)\n",
    "\n",
    "# 결과를 mean ± sd 형식으로 표현\n",
    "rmse_result = f\"{rmse_mean:.4f} ± {rmse_sd:.4f}\"\n",
    "psnr_result = f\"{psnr_mean:.4f} ± {psnr_sd:.4f}\"\n",
    "ssim_result = f\"{ssim_mean:.4f} ± {ssim_sd:.4f}\"\n",
    "\n",
    "# 결과 출력\n",
    "print(f\"RMSE: {rmse_result}\")\n",
    "print(f\"PSNR: {psnr_result}\")\n",
    "print(f\"SSIM: {ssim_result}\")"
   ]
  },
  {
   "cell_type": "markdown",
   "metadata": {
    "id": "F-s0y4rhoRsR"
   },
   "source": [
    "# 최종결과비교"
   ]
  },
  {
   "cell_type": "code",
   "execution_count": 129,
   "metadata": {
    "colab": {
     "base_uri": "https://localhost:8080/"
    },
    "executionInfo": {
     "elapsed": 48,
     "status": "ok",
     "timestamp": 1742879583519,
     "user": {
      "displayName": "Namhun Kim",
      "userId": "06490179833075519179"
     },
     "user_tz": -540
    },
    "id": "8S2fOakuoRsR",
    "outputId": "54093cd2-c39f-420d-e806-5f96aaa92fe1"
   },
   "outputs": [
    {
     "data": {
      "text/plain": [
       "{'moanet_patch':        RMSE       PSNR      SSIM\n",
       " 0  0.046406  27.496441  0.676724\n",
       " 1  0.043654  28.296787  0.692043\n",
       " 2  0.044057  28.430708  0.703343\n",
       " 3  0.037676  29.428038  0.728304\n",
       " 4  0.037279  29.534533  0.706299\n",
       " 5  0.035224  30.251236  0.747696,\n",
       " 'moanet_whole':        RMSE       PSNR      SSIM\n",
       " 0  0.046914  26.595584  0.671670\n",
       " 1  0.042368  27.591176  0.705189\n",
       " 2  0.047364  26.589263  0.681476\n",
       " 3  0.037548  28.524940  0.733199\n",
       " 4  0.038794  28.230289  0.697380\n",
       " 5  0.037706  28.492721  0.725916}"
      ]
     },
     "execution_count": 129,
     "metadata": {},
     "output_type": "execute_result"
    }
   ],
   "source": [
    "import pandas as pd\n",
    "\n",
    "# CSV 파일 경로 설정\n",
    "csv_paths = {\n",
    "    \"moanet_patch\": f\"{root}/moanet/results.csv\",\n",
    "    \"moanet_whole\": f\"{root}/moanet_whole/results.csv\"\n",
    "}\n",
    "\n",
    "# 각 파일을 읽어와서 데이터프레임으로 저장\n",
    "df_dict = {}\n",
    "for name, path in csv_paths.items():\n",
    "    df = pd.read_csv(path)\n",
    "    df_dict[name] = df\n",
    "df_dict"
   ]
  },
  {
   "cell_type": "code",
   "execution_count": 130,
   "metadata": {
    "colab": {
     "base_uri": "https://localhost:8080/",
     "height": 1000
    },
    "executionInfo": {
     "elapsed": 623,
     "status": "ok",
     "timestamp": 1742879720160,
     "user": {
      "displayName": "Namhun Kim",
      "userId": "06490179833075519179"
     },
     "user_tz": -540
    },
    "id": "5FLJH5bRoRsR",
    "outputId": "bd8e64c3-385f-4b6a-8532-ec94ed299b30"
   },
   "outputs": [
    {
     "data": {
      "image/png": "[encoded data removed]",
      "text/plain": [
       "<Figure size 576x360 with 1 Axes>"
      ]
     },
     "metadata": {
      "needs_background": "light"
     },
     "output_type": "display_data"
    },
    {
     "data": {
      "image/png": "[encoded data removed]",
      "text/plain": [
       "<Figure size 576x360 with 1 Axes>"
      ]
     },
     "metadata": {
      "needs_background": "light"
     },
     "output_type": "display_data"
    },
    {
     "data": {
      "image/png": "[encoded data removed]",
      "text/plain": [
       "<Figure size 576x360 with 1 Axes>"
      ]
     },
     "metadata": {
      "needs_background": "light"
     },
     "output_type": "display_data"
    }
   ],
   "source": [
    "import matplotlib.pyplot as plt\n",
    "import numpy as np\n",
    "\n",
    "# 모델 리스트\n",
    "model_names = [\"moanet_patch\", \"moanet_whole\"]\n",
    "colors = [\"b\", \"r\"]  # 각 모델별 색상 지정\n",
    "\n",
    "# 그래프 그리는 함수\n",
    "def plot_metric(metric_name, ylabel):\n",
    "    plt.figure(figsize=(8, 5))  # 그래프 크기 설정\n",
    "\n",
    "    for model, color in zip(model_names, colors):\n",
    "        metric_values = df_dict[model][metric_name].values  # 모델별 해당 지표 값 가져오기\n",
    "        x_axis = np.arange(len(metric_values))  # X축: 데이터 인덱스\n",
    "        plt.plot(x_axis, metric_values, marker=\"o\", linestyle=\"-\", color=color, label=model)\n",
    "\n",
    "    plt.xlabel(\"Sample Index\")\n",
    "    plt.ylabel(ylabel)\n",
    "    plt.title(f\"{metric_name} Comparison\")\n",
    "    plt.legend()  # 모델 구분을 위한 legend 추가\n",
    "    plt.grid(True, linestyle=\"--\", alpha=0.5)  # 격자 추가\n",
    "    plt.show()\n",
    "\n",
    "# RMSE 그래프\n",
    "plot_metric(\"RMSE\", \"RMSE Value\")\n",
    "\n",
    "# PSNR 그래프\n",
    "plot_metric(\"PSNR\", \"PSNR Value (dB)\")\n",
    "\n",
    "# SSIM 그래프\n",
    "plot_metric(\"SSIM\", \"SSIM Value\")"
   ]
  },
  {
   "cell_type": "code",
   "execution_count": 131,
   "metadata": {
    "colab": {
     "base_uri": "https://localhost:8080/",
     "height": 445
    },
    "executionInfo": {
     "elapsed": 397,
     "status": "ok",
     "timestamp": 1742880523649,
     "user": {
      "displayName": "Namhun Kim",
      "userId": "06490179833075519179"
     },
     "user_tz": -540
    },
    "id": "QZR3yMvKoRsR",
    "outputId": "90095863-84b4-491d-f933-73aa7529284c"
   },
   "outputs": [
    {
     "name": "stderr",
     "output_type": "stream",
     "text": [
      "/tmp/ipykernel_254063/823618216.py:36: UserWarning: FixedFormatter should only be used together with FixedLocator\n",
      "  ax.set_xticklabels(x_labels, rotation=45, ha=\"right\")  # X축 레이블 회전\n",
      "/tmp/ipykernel_254063/823618216.py:36: UserWarning: FixedFormatter should only be used together with FixedLocator\n",
      "  ax.set_xticklabels(x_labels, rotation=45, ha=\"right\")  # X축 레이블 회전\n",
      "/tmp/ipykernel_254063/823618216.py:36: UserWarning: FixedFormatter should only be used together with FixedLocator\n",
      "  ax.set_xticklabels(x_labels, rotation=45, ha=\"right\")  # X축 레이블 회전\n"
     ]
    },
    {
     "data": {
      "image/png": "[encoded data removed]",
      "text/plain": [
       "<Figure size 1080x360 with 3 Axes>"
      ]
     },
     "metadata": {
      "needs_background": "light"
     },
     "output_type": "display_data"
    }
   ],
   "source": [
    "import matplotlib.pyplot as plt\n",
    "import numpy as np\n",
    "\n",
    "# 모델 리스트 및 색상 설정\n",
    "model_names = [\"moanet_patch\", \"moanet_whole\"]\n",
    "colors = [\"b\", \"r\"]  # 각 모델별 색상 지정\n",
    "\n",
    "# 그래프 그리는 함수 (평균 + 표준편차)\n",
    "def plot_mean_std(ax, metric_name, ylabel):\n",
    "    x_labels = model_names  # X축에 모델 이름 표시\n",
    "    means = []  # 평균값 저장 리스트\n",
    "    stds = []   # 표준편차 저장 리스트\n",
    "\n",
    "    for model in model_names:\n",
    "        metric_values = df_dict[model][metric_name].values  # 해당 모델의 지표 값 가져오기\n",
    "        means.append(np.mean(metric_values))  # 평균\n",
    "        stds.append(np.std(metric_values))  # 표준편차\n",
    "\n",
    "    # 리스트를 NumPy 배열로 변환\n",
    "    means = np.array(means)\n",
    "    stds = np.array(stds)\n",
    "\n",
    "    # y축 범위 설정 (최소/최대값 + 표준편차의 3배)\n",
    "    ymin = np.min(means-stds)\n",
    "    ymax = np.max(means+stds)\n",
    "    ax.set_ylim(ymin, ymax)\n",
    "\n",
    "    # 막대그래프 (오차 막대 포함)\n",
    "    bars = ax.bar(x_labels, means, yerr=stds / 2, capsize=5, color=colors, alpha=0.7, edgecolor=\"black\")\n",
    "\n",
    "    # 막대 위에 평균값 표시\n",
    "    for bar, mean in zip(bars, means):\n",
    "        ax.text(bar.get_x() + bar.get_width() / 2, bar.get_height(), f\"{mean:.4f}\",\n",
    "                ha='center', va='bottom', fontsize=10, fontweight='bold', color='black')\n",
    "\n",
    "    ax.set_xticklabels(x_labels, rotation=45, ha=\"right\")  # X축 레이블 회전\n",
    "    ax.set_ylabel(ylabel)\n",
    "    ax.set_title(f\"{metric_name} Comparison (Mean ± Std)\")\n",
    "    ax.grid(axis=\"y\", linestyle=\"--\", alpha=0.5)  # y축 격자 추가\n",
    "\n",
    "# 1행 3열 그래프 생성\n",
    "fig, axes = plt.subplots(1, 3, figsize=(15, 5))\n",
    "\n",
    "# RMSE 그래프\n",
    "plot_mean_std(axes[0], \"RMSE\", \"RMSE Value\")\n",
    "\n",
    "# PSNR 그래프\n",
    "plot_mean_std(axes[1], \"PSNR\", \"PSNR Value (dB)\")\n",
    "\n",
    "# SSIM 그래프\n",
    "plot_mean_std(axes[2], \"SSIM\", \"SSIM Value\")\n",
    "\n",
    "plt.tight_layout()\n",
    "plt.show()\n"
   ]
  }
 ],
 "metadata": {
  "accelerator": "GPU",
  "colab": {
   "collapsed_sections": [
    "jWsv8T-AoRsF"
   ],
   "gpuType": "A100",
   "machine_shape": "hm",
   "provenance": []
  },
  "kernelspec": {
   "display_name": "Python 3",
   "name": "python3"
  },
  "language_info": {
   "codemirror_mode": {
    "name": "ipython",
    "version": 3
   },
   "file_extension": ".py",
   "mimetype": "text/x-python",
   "name": "python",
   "nbconvert_exporter": "python",
   "pygments_lexer": "ipython3",
   "version": "3.8.10"
  }
 },
 "nbformat": 4,
 "nbformat_minor": 0
}
