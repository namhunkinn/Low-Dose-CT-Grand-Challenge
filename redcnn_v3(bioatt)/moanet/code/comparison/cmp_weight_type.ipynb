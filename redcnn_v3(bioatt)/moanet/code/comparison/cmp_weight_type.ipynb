{
 "cells": [
  {
   "cell_type": "code",
   "execution_count": 1,
   "metadata": {},
   "outputs": [],
   "source": [
    "epochs = 20"
   ]
  },
  {
   "cell_type": "markdown",
   "metadata": {},
   "source": [
    "# 공통 설정"
   ]
  },
  {
   "cell_type": "code",
   "execution_count": 2,
   "metadata": {
    "colab": {
     "base_uri": "https://localhost:8080/"
    },
    "executionInfo": {
     "elapsed": 3994,
     "status": "ok",
     "timestamp": 1742877703938,
     "user": {
      "displayName": "Namhun Kim",
      "userId": "06490179833075519179"
     },
     "user_tz": -540
    },
    "id": "L7aq1NSOoe7f",
    "outputId": "fb315218-9013-4385-eb92-dc9da73f2a16"
   },
   "outputs": [
    {
     "name": "stdout",
     "output_type": "stream",
     "text": [
      "Requirement already satisfied: pydicom in /usr/local/lib/python3.8/dist-packages (2.4.4)\n",
      "\u001b[33mWARNING: Running pip as the 'root' user can result in broken permissions and conflicting behaviour with the system package manager. It is recommended to use a virtual environment instead: https://pip.pypa.io/warnings/venv\u001b[0m\u001b[33m\n",
      "\u001b[0m\u001b[33mWARNING: You are using pip version 22.0.4; however, version 25.0.1 is available.\n",
      "You should consider upgrading via the '/usr/bin/python3.8 -m pip install --upgrade pip' command.\u001b[0m\u001b[33m\n",
      "\u001b[0m"
     ]
    }
   ],
   "source": [
    "!pip install pydicom"
   ]
  },
  {
   "cell_type": "code",
   "execution_count": 3,
   "metadata": {
    "executionInfo": {
     "elapsed": 12600,
     "status": "ok",
     "timestamp": 1742877734326,
     "user": {
      "displayName": "Namhun Kim",
      "userId": "06490179833075519179"
     },
     "user_tz": -540
    },
    "id": "axQh-6QnoRsA"
   },
   "outputs": [],
   "source": [
    "# IMA이미지를 불러오는 라이브러리\n",
    "import pydicom\n",
    "\n",
    "import numpy as np\n",
    "import torch\n",
    "import torchvision.transforms as transforms\n",
    "import matplotlib as mpl\n",
    "import matplotlib.pyplot as plt\n",
    "mpl.rcParams['figure.figsize'] = [3.0, 3.0]\n",
    "import seaborn as sns\n",
    "import torch.nn as nn"
   ]
  },
  {
   "cell_type": "code",
   "execution_count": 4,
   "metadata": {
    "executionInfo": {
     "elapsed": 10,
     "status": "ok",
     "timestamp": 1742877734328,
     "user": {
      "displayName": "Namhun Kim",
      "userId": "06490179833075519179"
     },
     "user_tz": -540
    },
    "id": "2FBi-Xd8opnQ"
   },
   "outputs": [],
   "source": [
    "root = '/root'"
   ]
  },
  {
   "cell_type": "code",
   "execution_count": 5,
   "metadata": {
    "colab": {
     "base_uri": "https://localhost:8080/"
    },
    "executionInfo": {
     "elapsed": 6,
     "status": "ok",
     "timestamp": 1742877734333,
     "user": {
      "displayName": "Namhun Kim",
      "userId": "06490179833075519179"
     },
     "user_tz": -540
    },
    "id": "Q46se-x4oRsB",
    "outputId": "89df286d-4618-4ee6-91c8-5da2ec0df8fe"
   },
   "outputs": [
    {
     "data": {
      "text/plain": [
       "['L067',\n",
       " 'L096',\n",
       " 'L109',\n",
       " 'L143',\n",
       " 'L192',\n",
       " 'L286',\n",
       " 'L291',\n",
       " 'L310',\n",
       " 'L333',\n",
       " 'L506']"
      ]
     },
     "execution_count": 5,
     "metadata": {},
     "output_type": "execute_result"
    }
   ],
   "source": [
    "import glob\n",
    "\n",
    "L_list = glob.glob(f'{root}/mayo2016/*')\n",
    "L_list = [path.split('/')[-1] for path in L_list]\n",
    "L_list.sort()\n",
    "L_list"
   ]
  },
  {
   "cell_type": "code",
   "execution_count": 6,
   "metadata": {
    "executionInfo": {
     "elapsed": 1,
     "status": "ok",
     "timestamp": 1742877734334,
     "user": {
      "displayName": "Namhun Kim",
      "userId": "06490179833075519179"
     },
     "user_tz": -540
    },
    "id": "lUZPpAkJoRsC"
   },
   "outputs": [],
   "source": [
    "data_label = ['quarter_1mm', 'full_1mm']"
   ]
  },
  {
   "cell_type": "code",
   "execution_count": 7,
   "metadata": {
    "executionInfo": {
     "elapsed": 1,
     "status": "ok",
     "timestamp": 1742877734336,
     "user": {
      "displayName": "Namhun Kim",
      "userId": "06490179833075519179"
     },
     "user_tz": -540
    },
    "id": "I-1tHv-MoRsC"
   },
   "outputs": [],
   "source": [
    "def normlize(path):\n",
    "  dicom_data = pydicom.dcmread(path)\n",
    "  img = dicom_data.pixel_array.astype(np.float32) * dicom_data.RescaleSlope + dicom_data.RescaleIntercept\n",
    "  mu, sd = (-500,500)\n",
    "  scaled_img = (img - mu) / sd\n",
    "  img = np.expand_dims(scaled_img, axis=0)\n",
    "\n",
    "  return img # 1x512x512"
   ]
  },
  {
   "cell_type": "code",
   "execution_count": 8,
   "metadata": {
    "executionInfo": {
     "elapsed": 1,
     "status": "ok",
     "timestamp": 1742877734337,
     "user": {
      "displayName": "Namhun Kim",
      "userId": "06490179833075519179"
     },
     "user_tz": -540
    },
    "id": "oRJbNabuoRsD"
   },
   "outputs": [],
   "source": [
    "patch_size = 55\n",
    "def extract_patches(img, patch_size=patch_size, interval=55):\n",
    "  patches = []\n",
    "  _, height, width = img.shape\n",
    "  for y in range(0, height - patch_size + 1, interval):\n",
    "    for x in range(0, width - patch_size + 1, interval):\n",
    "      patch = img[:, y:y + patch_size, x:x + patch_size]\n",
    "      patches.append(patch)\n",
    "  patches = np.array(patches)\n",
    "  return patches # patch수x1x55x55, numpy"
   ]
  },
  {
   "cell_type": "code",
   "execution_count": 9,
   "metadata": {
    "executionInfo": {
     "elapsed": 1,
     "status": "ok",
     "timestamp": 1742877734351,
     "user": {
      "displayName": "Namhun Kim",
      "userId": "06490179833075519179"
     },
     "user_tz": -540
    },
    "id": "bxMbM4MCoRsD"
   },
   "outputs": [],
   "source": [
    "import random\n",
    "from scipy.ndimage import rotate, zoom\n",
    "\n",
    "def augment_patches(X_patches, y_patches, p=0.5):\n",
    "    X_augmented_patches, y_augmented_patches = [], []\n",
    "\n",
    "    # random이 들어가기에, X랑 y를 동시에 넣어준다.\n",
    "    for i, (X_patch, y_patch) in enumerate(zip(X_patches, y_patches)):\n",
    "        # 원본 패치 추가\n",
    "        X_augmented_patches.append(X_patch)\n",
    "        y_augmented_patches.append(y_patch)\n",
    "\n",
    "        if random.random() < p:\n",
    "            # 1. 90, 270으로 돌려보자.(뒤집기랑 조금 다르긴 하지만, 점대칭 vs 선대칭, 그냥 +-90도만 쓰자.)\n",
    "            X, y = rotate(X_patch, 90, axes=(1, 2), reshape=False), rotate(y_patch, 90, axes=(1, 2), reshape=False)\n",
    "            X_augmented_patches.append(X)\n",
    "            y_augmented_patches.append(y)\n",
    "            X, y = rotate(X_patch, -90, axes=(1, 2), reshape=False), rotate(y_patch, -90, axes=(1, 2), reshape=False)\n",
    "            X_augmented_patches.append(X)\n",
    "            y_augmented_patches.append(y)\n",
    "        if random.random() < p:\n",
    "            # 2. 수직 뒤집기\n",
    "            X,y = np.flip(X_patch, axis=1),np.flip(y_patch, axis=1)\n",
    "            X_augmented_patches.append(X)\n",
    "            y_augmented_patches.append(y)\n",
    "        if random.random() < p:\n",
    "            # 3. 수평 뒤집기\n",
    "            X,y = np.flip(X_patch, axis=2),np.flip(y_patch, axis=2)\n",
    "            X_augmented_patches.append(X)\n",
    "            y_augmented_patches.append(y)\n",
    "\n",
    "    return np.array(X_augmented_patches), np.array(y_augmented_patches)"
   ]
  },
  {
   "cell_type": "code",
   "execution_count": 10,
   "metadata": {
    "executionInfo": {
     "elapsed": 1,
     "status": "ok",
     "timestamp": 1742877734353,
     "user": {
      "displayName": "Namhun Kim",
      "userId": "06490179833075519179"
     },
     "user_tz": -540
    },
    "id": "0y2krQVLoRsD"
   },
   "outputs": [],
   "source": [
    "def patch_maker_W_aug(X_dir, y_dir):\n",
    "  X_img, y_img = normlize(X_dir), normlize(y_dir)\n",
    "  X_patches = extract_patches(img=X_img, patch_size=55, interval=55)\n",
    "  y_patches = extract_patches(img=y_img, patch_size=55, interval=55)\n",
    "  X_augmented_patches, y_augmented_patches = augment_patches(X_patches, y_patches, p=0.5)\n",
    "  return X_augmented_patches, y_augmented_patches"
   ]
  },
  {
   "cell_type": "code",
   "execution_count": 11,
   "metadata": {
    "executionInfo": {
     "elapsed": 1,
     "status": "ok",
     "timestamp": 1742877734355,
     "user": {
      "displayName": "Namhun Kim",
      "userId": "06490179833075519179"
     },
     "user_tz": -540
    },
    "id": "pvpP0d23oRsE"
   },
   "outputs": [],
   "source": [
    "def patch_maker_WO_aug(X_dir, y_dir):\n",
    "  X_img, y_img = normlize(X_dir), normlize(y_dir)\n",
    "  X_patches = extract_patches(img=X_img, patch_size=55, interval=55)\n",
    "  y_patches = extract_patches(img=y_img, patch_size=55, interval=55)\n",
    "  return X_patches, y_patches"
   ]
  },
  {
   "cell_type": "code",
   "execution_count": 12,
   "metadata": {},
   "outputs": [
    {
     "data": {
      "text/html": [
       "<div>\n",
       "<style scoped>\n",
       "    .dataframe tbody tr th:only-of-type {\n",
       "        vertical-align: middle;\n",
       "    }\n",
       "\n",
       "    .dataframe tbody tr th {\n",
       "        vertical-align: top;\n",
       "    }\n",
       "\n",
       "    .dataframe thead th {\n",
       "        text-align: right;\n",
       "    }\n",
       "</style>\n",
       "<table border=\"1\" class=\"dataframe\">\n",
       "  <thead>\n",
       "    <tr style=\"text-align: right;\">\n",
       "      <th></th>\n",
       "      <th>File_Path</th>\n",
       "      <th>skull</th>\n",
       "      <th>ventricles</th>\n",
       "      <th>lungs</th>\n",
       "      <th>mediastinum</th>\n",
       "      <th>liver</th>\n",
       "      <th>kidneys</th>\n",
       "      <th>pancreas</th>\n",
       "      <th>spleen</th>\n",
       "      <th>abdominal aorta</th>\n",
       "      <th>spine</th>\n",
       "      <th>lymph nodes</th>\n",
       "    </tr>\n",
       "  </thead>\n",
       "  <tbody>\n",
       "    <tr>\n",
       "      <th>0</th>\n",
       "      <td>/content/drive/MyDrive/mayo2016/L067/quarter_1...</td>\n",
       "      <td>2.140607e-08</td>\n",
       "      <td>0.00043</td>\n",
       "      <td>0.978917</td>\n",
       "      <td>0.018699</td>\n",
       "      <td>0.000021</td>\n",
       "      <td>0.000003</td>\n",
       "      <td>0.000001</td>\n",
       "      <td>0.001919</td>\n",
       "      <td>2.020908e-07</td>\n",
       "      <td>0.000009</td>\n",
       "      <td>7.648957e-07</td>\n",
       "    </tr>\n",
       "  </tbody>\n",
       "</table>\n",
       "</div>"
      ],
      "text/plain": [
       "                                           File_Path         skull  \\\n",
       "0  /content/drive/MyDrive/mayo2016/L067/quarter_1...  2.140607e-08   \n",
       "\n",
       "   ventricles     lungs  mediastinum     liver   kidneys  pancreas    spleen  \\\n",
       "0     0.00043  0.978917     0.018699  0.000021  0.000003  0.000001  0.001919   \n",
       "\n",
       "   abdominal aorta     spine   lymph nodes  \n",
       "0     2.020908e-07  0.000009  7.648957e-07  "
      ]
     },
     "execution_count": 12,
     "metadata": {},
     "output_type": "execute_result"
    }
   ],
   "source": [
    "import pandas as pd\n",
    "\n",
    "# organ_probs.csv 파일 불러오기\n",
    "organ_probs_df = pd.read_csv(f\"{root}/organ_probs.csv\")\n",
    "organ_probs_df.head(1)"
   ]
  },
  {
   "cell_type": "markdown",
   "metadata": {
    "id": "K5RdJ50PoRsQ"
   },
   "source": [
    "# 1. moanet - base\n",
    "(이전에 했다면 굳이 할 필요가 없다.)"
   ]
  },
  {
   "cell_type": "markdown",
   "metadata": {
    "id": "4VzQLvthqxEy"
   },
   "source": [
    "## 데이터셋 불러오기"
   ]
  },
  {
   "cell_type": "code",
   "execution_count": 13,
   "metadata": {
    "executionInfo": {
     "elapsed": 2,
     "status": "ok",
     "timestamp": 1742878879278,
     "user": {
      "displayName": "Namhun Kim",
      "userId": "06490179833075519179"
     },
     "user_tz": -540
    },
    "id": "yHO8ZEz_rSKE"
   },
   "outputs": [],
   "source": [
    "import os\n",
    "from torch.utils.data import Dataset\n",
    "import torch\n",
    "import glob\n",
    "from tqdm import tqdm\n",
    "\n",
    "class CustomDataset(Dataset):\n",
    "    def __init__(self, data_type, patch_maker, L_list, organ_probs_df):\n",
    "        self.data_type = data_type\n",
    "        self.patch_maker = patch_maker\n",
    "        self.L_list = L_list\n",
    "        self.organ_probs_df = organ_probs_df\n",
    "        self.image_pairs = []\n",
    "\n",
    "        X_dir_list, y_dir_list = [], []\n",
    "        for L in self.L_list:\n",
    "            X_dir, y_dir = self.get_data_range(L)\n",
    "            X_dir_list += X_dir # 리스트 + 리스트 = 리스트\n",
    "            y_dir_list += y_dir\n",
    "\n",
    "        for i, (X_dir, y_dir) in tqdm(enumerate(zip(X_dir_list, y_dir_list)), total=len(X_dir_list), desc=f\"{self.data_type} is processing\"):\n",
    "            X_patches, y_patches = self.patch_maker(X_dir, y_dir)\n",
    "            organ_prob = torch.tensor([float(v) for v in organ_probs_df.iloc[i, 1:].values], dtype=torch.float32) # organ_prob을 tensor로 변환\n",
    "\n",
    "            for j in range(X_patches.shape[0]):\n",
    "                X_patch, y_patch = torch.from_numpy(X_patches[j]).float(), torch.from_numpy(y_patches[j]).float() # torch로 넣어주자.\n",
    "                self.image_pairs.append((X_patch, organ_prob, y_patch))\n",
    "\n",
    "    def get_data_range(self, L):\n",
    "        \"\"\"슬라이싱 범위를 설정하는 함수\"\"\"\n",
    "        X_dir = sorted(glob.glob(f'{root}/mayo2016/{L}/{data_label[0]}/*.IMA'))\n",
    "        y_dir = sorted(glob.glob(f'{root}/mayo2016/{L}/{data_label[1]}/*.IMA'))\n",
    "        n1, n2 = len(X_dir), len(y_dir)\n",
    "\n",
    "        if self.data_type == 'train':\n",
    "            X_range = X_dir[:int(n1 * 0.64)]\n",
    "            y_range = y_dir[:int(n2 * 0.64)]\n",
    "        elif self.data_type == 'val':\n",
    "            X_range = X_dir[int(n1 * 0.64):int(n1 * 0.8)]\n",
    "            y_range = y_dir[int(n2 * 0.64):int(n2 * 0.8)]\n",
    "        else:  # test\n",
    "            X_range = X_dir[int(n1 * 0.8):]\n",
    "            y_range = y_dir[int(n2 * 0.8):]\n",
    "\n",
    "        return X_range, y_range\n",
    "\n",
    "    def __len__(self):\n",
    "        return len(self.image_pairs)\n",
    "\n",
    "    def __getitem__(self, idx):\n",
    "        X = (self.image_pairs[idx][0], self.image_pairs[idx][1])\n",
    "        y = self.image_pairs[idx][2]\n",
    "        return X, y"
   ]
  },
  {
   "cell_type": "code",
   "execution_count": 14,
   "metadata": {
    "colab": {
     "base_uri": "https://localhost:8080/"
    },
    "executionInfo": {
     "elapsed": 30088,
     "status": "ok",
     "timestamp": 1742879008160,
     "user": {
      "displayName": "Namhun Kim",
      "userId": "06490179833075519179"
     },
     "user_tz": -540
    },
    "id": "sk0qxrnrrCGq",
    "outputId": "17551a2f-6b81-4817-dfa2-bdf1fcdbf9e7"
   },
   "outputs": [
    {
     "data": {
      "text/plain": [
       "6025"
      ]
     },
     "execution_count": 14,
     "metadata": {},
     "output_type": "execute_result"
    }
   ],
   "source": [
    "# 파일 경로 설정\n",
    "\n",
    "folder_name = f'{root}/dataset_add_prob/'\n",
    "test_path = folder_name+'test_dataset.pt'\n",
    "test_dataset = torch.load(test_path) # , weights_only=False\n",
    "\n",
    "batch_size = 16\n",
    "from torch.utils.data import DataLoader\n",
    "test_loader = DataLoader(test_dataset, batch_size=batch_size, shuffle=False, num_workers=4, pin_memory=True)\n",
    "\n",
    "len(test_loader)"
   ]
  },
  {
   "cell_type": "markdown",
   "metadata": {
    "id": "-okyO8Q5r2Ev"
   },
   "source": [
    "## 평가지표 계산하기"
   ]
  },
  {
   "cell_type": "code",
   "execution_count": 15,
   "metadata": {
    "colab": {
     "base_uri": "https://localhost:8080/"
    },
    "executionInfo": {
     "elapsed": 42,
     "status": "ok",
     "timestamp": 1742879045206,
     "user": {
      "displayName": "Namhun Kim",
      "userId": "06490179833075519179"
     },
     "user_tz": -540
    },
    "id": "ZY7l8fZtoRsQ",
    "outputId": "6ca8a9b1-9e7f-41c0-d1e8-e6667afd4dc6"
   },
   "outputs": [
    {
     "name": "stdout",
     "output_type": "stream",
     "text": [
      "/root/moanet\n"
     ]
    }
   ],
   "source": [
    "%cd {root}/moanet"
   ]
  },
  {
   "cell_type": "code",
   "execution_count": 17,
   "metadata": {},
   "outputs": [
    {
     "name": "stdout",
     "output_type": "stream",
     "text": [
      "/root/moanet\n"
     ]
    }
   ],
   "source": [
    "!pwd"
   ]
  },
  {
   "cell_type": "code",
   "execution_count": 18,
   "metadata": {
    "colab": {
     "base_uri": "https://localhost:8080/"
    },
    "executionInfo": {
     "elapsed": 3,
     "status": "ok",
     "timestamp": 1742879048280,
     "user": {
      "displayName": "Namhun Kim",
      "userId": "06490179833075519179"
     },
     "user_tz": -540
    },
    "id": "V8m5F_5foRsQ",
    "outputId": "eb901e70-93c9-48c4-a52b-4a1fa08a6548"
   },
   "outputs": [
    {
     "data": {
      "text/plain": [
       "device(type='cuda')"
      ]
     },
     "execution_count": 18,
     "metadata": {},
     "output_type": "execute_result"
    }
   ],
   "source": [
    "import torch\n",
    "device = torch.device('cuda' if torch.cuda.is_available() else 'cpu')\n",
    "device"
   ]
  },
  {
   "cell_type": "code",
   "execution_count": 19,
   "metadata": {
    "executionInfo": {
     "elapsed": 2,
     "status": "ok",
     "timestamp": 1742879053092,
     "user": {
      "displayName": "Namhun Kim",
      "userId": "06490179833075519179"
     },
     "user_tz": -540
    },
    "id": "Yf5r1L-FoRsQ"
   },
   "outputs": [],
   "source": [
    "import torch\n",
    "import torch.nn as nn\n",
    "\n",
    "class SpatialAttention(nn.Module):\n",
    "    def __init__(self, kernel_size=7, num_organs=11, prob_mode=\"base\"):\n",
    "        \"\"\"\n",
    "        Args:\n",
    "            kernel_size (int): 컨볼루션 커널 크기 (3 또는 7)\n",
    "            num_organs (int): 장기 개수\n",
    "            prob_mode (str): \"uniform\" 또는 \"random\" (organ_prob을 변환하는 방식)\n",
    "        \"\"\"\n",
    "        super(SpatialAttention, self).__init__()\n",
    "        assert kernel_size in (3, 7), \"Kernel size must be 3 or 7\"\n",
    "        padding = (kernel_size - 1) // 2\n",
    "        self.conv = nn.Conv2d(2, num_organs, kernel_size=kernel_size, padding=padding, bias=False)\n",
    "        self.sigmoid = nn.Sigmoid()\n",
    "        self.last_attention = None  \n",
    "        self.prob_mode = prob_mode  # \"base\", \"uniform\", \"random\" 선택\n",
    "\n",
    "    def forward(self, x, organ_prob):\n",
    "        \"\"\"\n",
    "        Args:\n",
    "            x (torch.Tensor): Input feature map [B, C, H, W]\n",
    "            organ_prob (torch.Tensor): Organ probability vector [B, num_organs]\n",
    "        Returns:\n",
    "            torch.Tensor: Attention-weighted feature map [B, C, H, W]\n",
    "        \"\"\"\n",
    "        B, C, H, W = x.shape  \n",
    "\n",
    "        # ---- [Step 1] organ_prob 변환 ---- #\n",
    "        if self.prob_mode == \"uniform\":\n",
    "            organ_prob = torch.full_like(organ_prob, 1 / organ_prob.shape[1])  # 동일한 확률\n",
    "        elif self.prob_mode == \"random\":\n",
    "            random_prob = torch.rand_like(organ_prob)  # 랜덤 값 생성\n",
    "            organ_prob = random_prob / random_prob.sum(dim=1, keepdim=True)  # 합이 1이 되도록 정규화\n",
    "\n",
    "        # ---- [Step 2] 채널 차원 압축 (Max & Avg Pooling) ---- #\n",
    "        avg_out = torch.mean(x, dim=1, keepdim=True)  \n",
    "        max_out, _ = torch.max(x, dim=1, keepdim=True)  \n",
    "        combined = torch.cat([avg_out, max_out], dim=1)  \n",
    "\n",
    "        # ---- [Step 3] 2D Conv 적용 ---- #\n",
    "        attention = self.sigmoid(self.conv(combined))  \n",
    "        self.last_attention = attention  \n",
    "\n",
    "        # ---- [Step 4] organ_prob과 attention 결합 ---- #\n",
    "        organ_prob = organ_prob.view(B, -1, 1, 1)  \n",
    "        weighted_attention = attention * organ_prob  \n",
    "\n",
    "        # ---- [Step 5] 최종 Attention Map 생성 및 적용 ---- #\n",
    "        final_attention = torch.sum(weighted_attention, dim=1, keepdim=True)  \n",
    "        output = x * final_attention  \n",
    "\n",
    "        return output"
   ]
  },
  {
   "cell_type": "code",
   "execution_count": 20,
   "metadata": {
    "executionInfo": {
     "elapsed": 1,
     "status": "ok",
     "timestamp": 1742879057736,
     "user": {
      "displayName": "Namhun Kim",
      "userId": "06490179833075519179"
     },
     "user_tz": -540
    },
    "id": "nQt6e1MsoRsQ"
   },
   "outputs": [],
   "source": [
    "class RedCNNWithSpatialAttention(nn.Module):\n",
    "    def __init__(self):\n",
    "        super(RedCNNWithSpatialAttention, self).__init__()\n",
    "\n",
    "        # 인코더 부분\n",
    "        self.conv1 = nn.Conv2d(1, 96, 5, 1, 0)\n",
    "        self.conv2 = nn.Conv2d(96, 96, 5, 1, 0)\n",
    "        self.conv3 = nn.Conv2d(96, 96, 5, 1, 0)\n",
    "        self.conv4 = nn.Conv2d(96, 96, 5, 1, 0)\n",
    "        self.conv5 = nn.Conv2d(96, 96, 5, 1, 0)\n",
    "\n",
    "        # Spatial Attention Blocks\n",
    "        self.spatial_attention3 = SpatialAttention(prob_mode=\"base\")\n",
    "        self.spatial_attention5 = SpatialAttention(prob_mode=\"base\")\n",
    "\n",
    "        # 디코더 부분\n",
    "        self.deconv1 = nn.ConvTranspose2d(96, 96, 5, 1, 0)\n",
    "        self.deconv2 = nn.ConvTranspose2d(96, 96, 5, 1, 0)\n",
    "        self.deconv3 = nn.ConvTranspose2d(96, 96, 5, 1, 0)\n",
    "        self.deconv4 = nn.ConvTranspose2d(96, 96, 5, 1, 0)\n",
    "        self.deconv_last = nn.ConvTranspose2d(96, 1, 5, 1, 0)\n",
    "\n",
    "        self.relu = nn.ReLU()\n",
    "\n",
    "    def forward(self, x, prob):\n",
    "        # 인코더 부분\n",
    "        residual1 = x\n",
    "        x = self.relu(self.conv1(x))\n",
    "        x = self.relu(self.conv2(x))\n",
    "        residual2 = x\n",
    "        x = self.relu(self.conv3(x))\n",
    "        x = self.spatial_attention3(x, prob)  # Spatial Attention (3번째 위치)\n",
    "        x = self.relu(self.conv4(x))\n",
    "        residual3 = x\n",
    "        x = self.relu(self.conv5(x))\n",
    "        x = self.spatial_attention5(x, prob)  # Spatial Attention (5번째 위치)\n",
    "\n",
    "        # 디코더 부분\n",
    "        x = self.relu(self.deconv1(x) + residual3)\n",
    "        x = self.relu(self.deconv2(x))\n",
    "        x = self.relu(self.deconv3(x) + residual2)\n",
    "        x = self.relu(self.deconv4(x))\n",
    "        x = self.deconv_last(x) + residual1\n",
    "\n",
    "        return x"
   ]
  },
  {
   "cell_type": "code",
   "execution_count": 21,
   "metadata": {},
   "outputs": [
    {
     "name": "stdout",
     "output_type": "stream",
     "text": [
      "/root/moanet\n"
     ]
    }
   ],
   "source": [
    "!pwd"
   ]
  },
  {
   "cell_type": "code",
   "execution_count": null,
   "metadata": {
    "colab": {
     "base_uri": "https://localhost:8080/"
    },
    "executionInfo": {
     "elapsed": 86614,
     "status": "ok",
     "timestamp": 1742879151842,
     "user": {
      "displayName": "Namhun Kim",
      "userId": "06490179833075519179"
     },
     "user_tz": -540
    },
    "id": "zO-73PAXoRsQ",
    "outputId": "82627409-fe8a-4908-8664-0a0b70c3dcb2"
   },
   "outputs": [
    {
     "name": "stderr",
     "output_type": "stream",
     "text": [
      "Evaluating:  17%|█▋        | 1006/6025 [00:16<01:26, 58.33it/s]"
     ]
    },
    {
     "name": "stdout",
     "output_type": "stream",
     "text": [
      "RMSE per interval: 0.0436, PSNR per interval: 28.07, SSIM per interval: 0.6855\n"
     ]
    },
    {
     "name": "stderr",
     "output_type": "stream",
     "text": [
      "Evaluating:  33%|███▎      | 2006/6025 [00:33<01:10, 57.08it/s]"
     ]
    },
    {
     "name": "stdout",
     "output_type": "stream",
     "text": [
      "RMSE per interval: 0.0410, PSNR per interval: 28.91, SSIM per interval: 0.7027\n"
     ]
    },
    {
     "name": "stderr",
     "output_type": "stream",
     "text": [
      "Evaluating:  50%|████▉     | 3008/6025 [00:50<00:50, 60.30it/s]"
     ]
    },
    {
     "name": "stdout",
     "output_type": "stream",
     "text": [
      "RMSE per interval: 0.0410, PSNR per interval: 29.12, SSIM per interval: 0.7147\n"
     ]
    },
    {
     "name": "stderr",
     "output_type": "stream",
     "text": [
      "Evaluating:  67%|██████▋   | 4007/6025 [01:07<00:35, 57.18it/s]"
     ]
    },
    {
     "name": "stdout",
     "output_type": "stream",
     "text": [
      "RMSE per interval: 0.0351, PSNR per interval: 30.06, SSIM per interval: 0.7410\n"
     ]
    },
    {
     "name": "stderr",
     "output_type": "stream",
     "text": [
      "Evaluating:  83%|████████▎ | 5009/6025 [01:24<00:17, 57.92it/s]"
     ]
    },
    {
     "name": "stdout",
     "output_type": "stream",
     "text": [
      "RMSE per interval: 0.0349, PSNR per interval: 30.15, SSIM per interval: 0.7163\n"
     ]
    },
    {
     "name": "stderr",
     "output_type": "stream",
     "text": [
      "Evaluating: 100%|█████████▉| 6005/6025 [01:41<00:00, 53.41it/s]"
     ]
    },
    {
     "name": "stdout",
     "output_type": "stream",
     "text": [
      "RMSE per interval: 0.0325, PSNR per interval: 30.95, SSIM per interval: 0.7590\n"
     ]
    },
    {
     "name": "stderr",
     "output_type": "stream",
     "text": [
      "Evaluating: 100%|██████████| 6025/6025 [01:42<00:00, 58.85it/s]"
     ]
    },
    {
     "name": "stdout",
     "output_type": "stream",
     "text": [
      "Average RMSE over all intervals: 0.037999\n"
     ]
    },
    {
     "name": "stderr",
     "output_type": "stream",
     "text": [
      "\n"
     ]
    }
   ],
   "source": [
    "import torch\n",
    "import torch.nn as nn\n",
    "import numpy as np\n",
    "import pandas as pd\n",
    "import os\n",
    "from skimage.metrics import peak_signal_noise_ratio, structural_similarity\n",
    "from tqdm import tqdm\n",
    "\n",
    "criterion = nn.MSELoss()\n",
    "interval = 1000\n",
    "\n",
    "# 저장된 모델들을 평가할 epochs 리스트\n",
    "epochs_list = [1, 5, 10, 20]\n",
    "device = torch.device('cuda' if torch.cuda.is_available() else 'cpu')\n",
    "\n",
    "# 평가 지표 계산 함수\n",
    "def calculate_psnr(y_true, y_pred):\n",
    "    \"\"\"PSNR 계산 함수\"\"\"\n",
    "    y_true = y_true.cpu().numpy()\n",
    "    y_pred = y_pred.cpu().numpy()\n",
    "    return peak_signal_noise_ratio(y_true, y_pred, data_range=1.0)\n",
    "\n",
    "def calculate_ssim(y_true, y_pred):\n",
    "    \"\"\"SSIM 계산 함수\"\"\"\n",
    "    y_true = y_true.squeeze(0).cpu().numpy()\n",
    "    y_pred = y_pred.squeeze(0).cpu().numpy()\n",
    "    return structural_similarity(y_true, y_pred, data_range=1.0)\n",
    "\n",
    "# 각 epoch별 평가 수행\n",
    "for epoch in epochs_list:\n",
    "    model_path = f'moanet_epoch{epoch}.pth'\n",
    "    \n",
    "    # 모델 파일 존재 여부 확인\n",
    "    if not os.path.exists(model_path):\n",
    "        print(f\"[Epoch {epoch}] 모델 파일이 존재하지 않습니다. 건너뜁니다.\")\n",
    "        continue\n",
    "\n",
    "    print(f\"\\nEvaluating Model at Epoch {epoch}\")\n",
    "    \n",
    "    # 모델 초기화 및 가중치 로드\n",
    "    model = RedCNNWithSpatialAttention().to(device)\n",
    "    model.load_state_dict(torch.load(model_path))\n",
    "    model.eval()\n",
    "\n",
    "    running_loss = 0.0\n",
    "    running_psnr = 0.0\n",
    "    running_ssim = 0.0\n",
    "    psnr_list = []\n",
    "    ssim_list = []\n",
    "    loss_list = []\n",
    "    total_loss = 0\n",
    "\n",
    "    with torch.no_grad():\n",
    "        for i, data in tqdm(enumerate(test_loader), total=len(test_loader), desc=f\"Evaluating Epoch {epoch}\"):\n",
    "            X, prob, y = data[0][0].to(device), data[0][1].to(device), data[1].to(device)\n",
    "            X_hat = model(X, prob)\n",
    "            mse_loss = criterion(X_hat, y)\n",
    "\n",
    "            # RMSE 계산\n",
    "            rms_loss = torch.sqrt(mse_loss)\n",
    "            running_loss += rms_loss.item()\n",
    "\n",
    "            # PSNR, SSIM 계산\n",
    "            for j in range(X.size(0)):  # 배치 내부 개별 이미지에 대해 계산\n",
    "                psnr = calculate_psnr(y[j, :, :, :], X_hat[j, :, :, :])\n",
    "                ssim = calculate_ssim(y[j, :, :, :], X_hat[j, :, :, :])\n",
    "                running_psnr += psnr\n",
    "                running_ssim += ssim\n",
    "\n",
    "            # Interval 출력\n",
    "            if i % interval == interval - 1:\n",
    "                interval_loss = running_loss / interval\n",
    "                interval_psnr = running_psnr / (interval * X.size(0))\n",
    "                interval_ssim = running_ssim / (interval * X.size(0))\n",
    "\n",
    "                loss_list.append(interval_loss)\n",
    "                psnr_list.append(interval_psnr)\n",
    "                ssim_list.append(interval_ssim)\n",
    "\n",
    "                total_loss += interval_loss\n",
    "                running_loss = 0.0\n",
    "                running_psnr = 0.0\n",
    "                running_ssim = 0.0\n",
    "                tqdm.write(f'[Epoch {epoch}] RMSE per interval: {interval_loss:.4f}, PSNR per interval: {interval_psnr:.2f}, SSIM per interval: {interval_ssim:.4f}')\n",
    "\n",
    "    # 평균 RMSE 출력\n",
    "    average_loss = total_loss / len(loss_list) if loss_list else float('inf')\n",
    "    print(f\"[Epoch {epoch}] Average RMSE over all intervals: {average_loss:.6f}\")\n",
    "\n",
    "    # 결과 저장\n",
    "    df = pd.DataFrame({\n",
    "        \"RMSE\": loss_list,\n",
    "        \"PSNR\": psnr_list,\n",
    "        \"SSIM\": ssim_list\n",
    "    })\n",
    "\n",
    "    csv_filename = f\"results_{epoch}.csv\"\n",
    "    df.to_csv(csv_filename, index=False)\n",
    "    print(f\"[Epoch {epoch}] 저장 완료: {csv_filename}\")"
   ]
  },
  {
   "cell_type": "markdown",
   "metadata": {},
   "source": [
    "# 2. moanet_uniform"
   ]
  },
  {
   "cell_type": "markdown",
   "metadata": {},
   "source": [
    "## 데이터셋 불러오기"
   ]
  },
  {
   "cell_type": "code",
   "execution_count": 22,
   "metadata": {},
   "outputs": [
    {
     "data": {
      "text/plain": [
       "6025"
      ]
     },
     "execution_count": 22,
     "metadata": {},
     "output_type": "execute_result"
    }
   ],
   "source": [
    "# 파일 경로 설정\n",
    "\n",
    "folder_name = f'{root}/dataset_add_prob/'\n",
    "test_path = folder_name+'test_dataset.pt'\n",
    "test_dataset = torch.load(test_path) # , weights_only=False\n",
    "\n",
    "batch_size = 16\n",
    "from torch.utils.data import DataLoader\n",
    "test_loader = DataLoader(test_dataset, batch_size=batch_size, shuffle=False, num_workers=4, pin_memory=True)\n",
    "\n",
    "len(test_loader)"
   ]
  },
  {
   "cell_type": "markdown",
   "metadata": {},
   "source": [
    "## 평가지표 계산하기"
   ]
  },
  {
   "cell_type": "code",
   "execution_count": 23,
   "metadata": {},
   "outputs": [
    {
     "name": "stdout",
     "output_type": "stream",
     "text": [
      "/root/moanet_weight/uniform\n"
     ]
    }
   ],
   "source": [
    "%cd {root}/moanet_weight/uniform"
   ]
  },
  {
   "cell_type": "code",
   "execution_count": 24,
   "metadata": {},
   "outputs": [
    {
     "name": "stdout",
     "output_type": "stream",
     "text": [
      "/root/moanet_weight/uniform\n"
     ]
    }
   ],
   "source": [
    "!pwd"
   ]
  },
  {
   "cell_type": "code",
   "execution_count": 25,
   "metadata": {},
   "outputs": [
    {
     "data": {
      "text/plain": [
       "device(type='cuda')"
      ]
     },
     "execution_count": 25,
     "metadata": {},
     "output_type": "execute_result"
    }
   ],
   "source": [
    "import torch\n",
    "device = torch.device('cuda' if torch.cuda.is_available() else 'cpu')\n",
    "device"
   ]
  },
  {
   "cell_type": "code",
   "execution_count": 26,
   "metadata": {},
   "outputs": [],
   "source": [
    "import torch\n",
    "import torch.nn as nn\n",
    "\n",
    "class SpatialAttention(nn.Module):\n",
    "    def __init__(self, kernel_size=7, num_organs=11, prob_mode=\"base\"):\n",
    "        \"\"\"\n",
    "        Args:\n",
    "            kernel_size (int): 컨볼루션 커널 크기 (3 또는 7)\n",
    "            num_organs (int): 장기 개수\n",
    "            prob_mode (str): \"uniform\" 또는 \"random\" (organ_prob을 변환하는 방식)\n",
    "        \"\"\"\n",
    "        super(SpatialAttention, self).__init__()\n",
    "        assert kernel_size in (3, 7), \"Kernel size must be 3 or 7\"\n",
    "        padding = (kernel_size - 1) // 2\n",
    "        self.conv = nn.Conv2d(2, num_organs, kernel_size=kernel_size, padding=padding, bias=False)\n",
    "        self.sigmoid = nn.Sigmoid()\n",
    "        self.last_attention = None  \n",
    "        self.prob_mode = prob_mode  # \"base\", \"uniform\", \"random\" 선택\n",
    "\n",
    "    def forward(self, x, organ_prob):\n",
    "        \"\"\"\n",
    "        Args:\n",
    "            x (torch.Tensor): Input feature map [B, C, H, W]\n",
    "            organ_prob (torch.Tensor): Organ probability vector [B, num_organs]\n",
    "        Returns:\n",
    "            torch.Tensor: Attention-weighted feature map [B, C, H, W]\n",
    "        \"\"\"\n",
    "        B, C, H, W = x.shape  \n",
    "\n",
    "        # ---- [Step 1] organ_prob 변환 ---- #\n",
    "        if self.prob_mode == \"uniform\":\n",
    "            organ_prob = torch.full_like(organ_prob, 1 / organ_prob.shape[1])  # 동일한 확률\n",
    "        elif self.prob_mode == \"random\":\n",
    "            random_prob = torch.rand_like(organ_prob)  # 랜덤 값 생성\n",
    "            organ_prob = random_prob / random_prob.sum(dim=1, keepdim=True)  # 합이 1이 되도록 정규화\n",
    "\n",
    "        # ---- [Step 2] 채널 차원 압축 (Max & Avg Pooling) ---- #\n",
    "        avg_out = torch.mean(x, dim=1, keepdim=True)  \n",
    "        max_out, _ = torch.max(x, dim=1, keepdim=True)  \n",
    "        combined = torch.cat([avg_out, max_out], dim=1)  \n",
    "\n",
    "        # ---- [Step 3] 2D Conv 적용 ---- #\n",
    "        attention = self.sigmoid(self.conv(combined))  \n",
    "        self.last_attention = attention  \n",
    "\n",
    "        # ---- [Step 4] organ_prob과 attention 결합 ---- #\n",
    "        organ_prob = organ_prob.view(B, -1, 1, 1)  \n",
    "        weighted_attention = attention * organ_prob  \n",
    "\n",
    "        # ---- [Step 5] 최종 Attention Map 생성 및 적용 ---- #\n",
    "        final_attention = torch.sum(weighted_attention, dim=1, keepdim=True)  \n",
    "        output = x * final_attention  \n",
    "\n",
    "        return output"
   ]
  },
  {
   "cell_type": "code",
   "execution_count": 27,
   "metadata": {},
   "outputs": [],
   "source": [
    "class RedCNNWithSpatialAttention(nn.Module):\n",
    "    def __init__(self):\n",
    "        super(RedCNNWithSpatialAttention, self).__init__()\n",
    "\n",
    "        # 인코더 부분\n",
    "        self.conv1 = nn.Conv2d(1, 96, 5, 1, 0)\n",
    "        self.conv2 = nn.Conv2d(96, 96, 5, 1, 0)\n",
    "        self.conv3 = nn.Conv2d(96, 96, 5, 1, 0)\n",
    "        self.conv4 = nn.Conv2d(96, 96, 5, 1, 0)\n",
    "        self.conv5 = nn.Conv2d(96, 96, 5, 1, 0)\n",
    "\n",
    "        # Spatial Attention Blocks\n",
    "        self.spatial_attention3 = SpatialAttention(prob_mode=\"uniform\")\n",
    "        self.spatial_attention5 = SpatialAttention(prob_mode=\"uniform\")\n",
    "\n",
    "        # 디코더 부분\n",
    "        self.deconv1 = nn.ConvTranspose2d(96, 96, 5, 1, 0)\n",
    "        self.deconv2 = nn.ConvTranspose2d(96, 96, 5, 1, 0)\n",
    "        self.deconv3 = nn.ConvTranspose2d(96, 96, 5, 1, 0)\n",
    "        self.deconv4 = nn.ConvTranspose2d(96, 96, 5, 1, 0)\n",
    "        self.deconv_last = nn.ConvTranspose2d(96, 1, 5, 1, 0)\n",
    "\n",
    "        self.relu = nn.ReLU()\n",
    "\n",
    "    def forward(self, x, prob):\n",
    "        # 인코더 부분\n",
    "        residual1 = x\n",
    "        x = self.relu(self.conv1(x))\n",
    "        x = self.relu(self.conv2(x))\n",
    "        residual2 = x\n",
    "        x = self.relu(self.conv3(x))\n",
    "        x = self.spatial_attention3(x, prob)  # Spatial Attention (3번째 위치)\n",
    "        x = self.relu(self.conv4(x))\n",
    "        residual3 = x\n",
    "        x = self.relu(self.conv5(x))\n",
    "        x = self.spatial_attention5(x, prob)  # Spatial Attention (5번째 위치)\n",
    "\n",
    "        # 디코더 부분\n",
    "        x = self.relu(self.deconv1(x) + residual3)\n",
    "        x = self.relu(self.deconv2(x))\n",
    "        x = self.relu(self.deconv3(x) + residual2)\n",
    "        x = self.relu(self.deconv4(x))\n",
    "        x = self.deconv_last(x) + residual1\n",
    "\n",
    "        return x"
   ]
  },
  {
   "cell_type": "code",
   "execution_count": 28,
   "metadata": {},
   "outputs": [
    {
     "name": "stdout",
     "output_type": "stream",
     "text": [
      "/root/moanet_weight/uniform\n"
     ]
    }
   ],
   "source": [
    "!pwd"
   ]
  },
  {
   "cell_type": "code",
   "execution_count": 29,
   "metadata": {},
   "outputs": [
    {
     "name": "stdout",
     "output_type": "stream",
     "text": [
      "\n",
      "Evaluating Model at Epoch 1\n"
     ]
    },
    {
     "name": "stderr",
     "output_type": "stream",
     "text": [
      "Evaluating Epoch 1:  17%|█▋        | 1006/6025 [00:36<02:30, 33.34it/s]"
     ]
    },
    {
     "name": "stdout",
     "output_type": "stream",
     "text": [
      "[Epoch 1] RMSE per interval: 0.0465, PSNR per interval: 27.47, SSIM per interval: 0.6775\n"
     ]
    },
    {
     "name": "stderr",
     "output_type": "stream",
     "text": [
      "Evaluating Epoch 1:  33%|███▎      | 2003/6025 [01:06<02:00, 33.30it/s]"
     ]
    },
    {
     "name": "stdout",
     "output_type": "stream",
     "text": [
      "[Epoch 1] RMSE per interval: 0.0438, PSNR per interval: 28.28, SSIM per interval: 0.6945\n"
     ]
    },
    {
     "name": "stderr",
     "output_type": "stream",
     "text": [
      "Evaluating Epoch 1:  50%|████▉     | 3003/6025 [01:35<01:31, 33.08it/s]"
     ]
    },
    {
     "name": "stdout",
     "output_type": "stream",
     "text": [
      "[Epoch 1] RMSE per interval: 0.0442, PSNR per interval: 28.42, SSIM per interval: 0.7034\n"
     ]
    },
    {
     "name": "stderr",
     "output_type": "stream",
     "text": [
      "Evaluating Epoch 1:  66%|██████▋   | 4003/6025 [02:05<01:06, 30.54it/s]"
     ]
    },
    {
     "name": "stdout",
     "output_type": "stream",
     "text": [
      "[Epoch 1] RMSE per interval: 0.0379, PSNR per interval: 29.39, SSIM per interval: 0.7265\n"
     ]
    },
    {
     "name": "stderr",
     "output_type": "stream",
     "text": [
      "Evaluating Epoch 1:  83%|████████▎ | 5003/6025 [02:35<00:30, 33.30it/s]"
     ]
    },
    {
     "name": "stdout",
     "output_type": "stream",
     "text": [
      "[Epoch 1] RMSE per interval: 0.0374, PSNR per interval: 29.51, SSIM per interval: 0.7058\n"
     ]
    },
    {
     "name": "stderr",
     "output_type": "stream",
     "text": [
      "Evaluating Epoch 1: 100%|█████████▉| 6003/6025 [03:05<00:00, 33.58it/s]"
     ]
    },
    {
     "name": "stdout",
     "output_type": "stream",
     "text": [
      "[Epoch 1] RMSE per interval: 0.0353, PSNR per interval: 30.25, SSIM per interval: 0.7488\n"
     ]
    },
    {
     "name": "stderr",
     "output_type": "stream",
     "text": [
      "Evaluating Epoch 1: 100%|██████████| 6025/6025 [03:06<00:00, 32.39it/s]\n"
     ]
    },
    {
     "name": "stdout",
     "output_type": "stream",
     "text": [
      "[Epoch 1] Average RMSE over all intervals: 0.040862\n",
      "[Epoch 1] 저장 완료: results_1.csv\n",
      "\n",
      "Evaluating Model at Epoch 5\n"
     ]
    },
    {
     "name": "stderr",
     "output_type": "stream",
     "text": [
      "Evaluating Epoch 5:  17%|█▋        | 1004/6025 [00:29<02:26, 34.33it/s]"
     ]
    },
    {
     "name": "stdout",
     "output_type": "stream",
     "text": [
      "[Epoch 5] RMSE per interval: 0.0444, PSNR per interval: 27.90, SSIM per interval: 0.6798\n"
     ]
    },
    {
     "name": "stderr",
     "output_type": "stream",
     "text": [
      "Evaluating Epoch 5:  33%|███▎      | 2004/6025 [00:59<01:58, 33.88it/s]"
     ]
    },
    {
     "name": "stdout",
     "output_type": "stream",
     "text": [
      "[Epoch 5] RMSE per interval: 0.0420, PSNR per interval: 28.69, SSIM per interval: 0.6964\n"
     ]
    },
    {
     "name": "stderr",
     "output_type": "stream",
     "text": [
      "Evaluating Epoch 5:  50%|████▉     | 3004/6025 [01:29<01:29, 33.92it/s]"
     ]
    },
    {
     "name": "stdout",
     "output_type": "stream",
     "text": [
      "[Epoch 5] RMSE per interval: 0.0420, PSNR per interval: 28.88, SSIM per interval: 0.7066\n"
     ]
    },
    {
     "name": "stderr",
     "output_type": "stream",
     "text": [
      "Evaluating Epoch 5:  66%|██████▋   | 4004/6025 [01:59<01:00, 33.50it/s]"
     ]
    },
    {
     "name": "stdout",
     "output_type": "stream",
     "text": [
      "[Epoch 5] RMSE per interval: 0.0360, PSNR per interval: 29.85, SSIM per interval: 0.7331\n"
     ]
    },
    {
     "name": "stderr",
     "output_type": "stream",
     "text": [
      "Evaluating Epoch 5:  83%|████████▎ | 5004/6025 [02:29<00:30, 33.89it/s]"
     ]
    },
    {
     "name": "stdout",
     "output_type": "stream",
     "text": [
      "[Epoch 5] RMSE per interval: 0.0357, PSNR per interval: 29.93, SSIM per interval: 0.7102\n"
     ]
    },
    {
     "name": "stderr",
     "output_type": "stream",
     "text": [
      "Evaluating Epoch 5: 100%|█████████▉| 6005/6025 [02:59<00:00, 33.13it/s]"
     ]
    },
    {
     "name": "stdout",
     "output_type": "stream",
     "text": [
      "[Epoch 5] RMSE per interval: 0.0336, PSNR per interval: 30.68, SSIM per interval: 0.7531\n"
     ]
    },
    {
     "name": "stderr",
     "output_type": "stream",
     "text": [
      "Evaluating Epoch 5: 100%|██████████| 6025/6025 [02:59<00:00, 33.51it/s]\n"
     ]
    },
    {
     "name": "stdout",
     "output_type": "stream",
     "text": [
      "[Epoch 5] Average RMSE over all intervals: 0.038954\n",
      "[Epoch 5] 저장 완료: results_5.csv\n",
      "\n",
      "Evaluating Model at Epoch 10\n"
     ]
    },
    {
     "name": "stderr",
     "output_type": "stream",
     "text": [
      "Evaluating Epoch 10:  17%|█▋        | 1004/6025 [00:29<02:37, 31.84it/s]"
     ]
    },
    {
     "name": "stdout",
     "output_type": "stream",
     "text": [
      "[Epoch 10] RMSE per interval: 0.0440, PSNR per interval: 27.99, SSIM per interval: 0.6845\n"
     ]
    },
    {
     "name": "stderr",
     "output_type": "stream",
     "text": [
      "Evaluating Epoch 10:  33%|███▎      | 2004/6025 [00:59<01:57, 34.25it/s]"
     ]
    },
    {
     "name": "stdout",
     "output_type": "stream",
     "text": [
      "[Epoch 10] RMSE per interval: 0.0413, PSNR per interval: 28.83, SSIM per interval: 0.7016\n"
     ]
    },
    {
     "name": "stderr",
     "output_type": "stream",
     "text": [
      "Evaluating Epoch 10:  50%|████▉     | 3004/6025 [01:29<01:31, 33.03it/s]"
     ]
    },
    {
     "name": "stdout",
     "output_type": "stream",
     "text": [
      "[Epoch 10] RMSE per interval: 0.0414, PSNR per interval: 29.03, SSIM per interval: 0.7115\n"
     ]
    },
    {
     "name": "stderr",
     "output_type": "stream",
     "text": [
      "Evaluating Epoch 10:  67%|██████▋   | 4009/6025 [01:58<00:43, 46.29it/s]"
     ]
    },
    {
     "name": "stdout",
     "output_type": "stream",
     "text": [
      "[Epoch 10] RMSE per interval: 0.0354, PSNR per interval: 29.97, SSIM per interval: 0.7376\n"
     ]
    },
    {
     "name": "stderr",
     "output_type": "stream",
     "text": [
      "Evaluating Epoch 10:  83%|████████▎ | 5003/6025 [02:27<00:29, 34.33it/s]"
     ]
    },
    {
     "name": "stdout",
     "output_type": "stream",
     "text": [
      "[Epoch 10] RMSE per interval: 0.0352, PSNR per interval: 30.07, SSIM per interval: 0.7144\n"
     ]
    },
    {
     "name": "stderr",
     "output_type": "stream",
     "text": [
      "Evaluating Epoch 10: 100%|█████████▉| 6004/6025 [02:56<00:00, 34.43it/s]"
     ]
    },
    {
     "name": "stdout",
     "output_type": "stream",
     "text": [
      "[Epoch 10] RMSE per interval: 0.0330, PSNR per interval: 30.85, SSIM per interval: 0.7577\n"
     ]
    },
    {
     "name": "stderr",
     "output_type": "stream",
     "text": [
      "Evaluating Epoch 10: 100%|██████████| 6025/6025 [02:57<00:00, 33.95it/s]\n"
     ]
    },
    {
     "name": "stdout",
     "output_type": "stream",
     "text": [
      "[Epoch 10] Average RMSE over all intervals: 0.038388\n",
      "[Epoch 10] 저장 완료: results_10.csv\n",
      "\n",
      "Evaluating Model at Epoch 20\n"
     ]
    },
    {
     "name": "stderr",
     "output_type": "stream",
     "text": [
      "Evaluating Epoch 20:  17%|█▋        | 1004/6025 [00:27<01:39, 50.44it/s]"
     ]
    },
    {
     "name": "stdout",
     "output_type": "stream",
     "text": [
      "[Epoch 20] RMSE per interval: 0.0437, PSNR per interval: 28.04, SSIM per interval: 0.6820\n"
     ]
    },
    {
     "name": "stderr",
     "output_type": "stream",
     "text": [
      "Evaluating Epoch 20:  33%|███▎      | 2005/6025 [00:56<02:04, 32.28it/s]"
     ]
    },
    {
     "name": "stdout",
     "output_type": "stream",
     "text": [
      "[Epoch 20] RMSE per interval: 0.0412, PSNR per interval: 28.86, SSIM per interval: 0.6995\n"
     ]
    },
    {
     "name": "stderr",
     "output_type": "stream",
     "text": [
      "Evaluating Epoch 20:  50%|████▉     | 3005/6025 [01:26<01:28, 33.96it/s]"
     ]
    },
    {
     "name": "stdout",
     "output_type": "stream",
     "text": [
      "[Epoch 20] RMSE per interval: 0.0411, PSNR per interval: 29.08, SSIM per interval: 0.7096\n"
     ]
    },
    {
     "name": "stderr",
     "output_type": "stream",
     "text": [
      "Evaluating Epoch 20:  66%|██████▋   | 4003/6025 [01:55<01:00, 33.69it/s]"
     ]
    },
    {
     "name": "stdout",
     "output_type": "stream",
     "text": [
      "[Epoch 20] RMSE per interval: 0.0352, PSNR per interval: 30.02, SSIM per interval: 0.7356\n"
     ]
    },
    {
     "name": "stderr",
     "output_type": "stream",
     "text": [
      "Evaluating Epoch 20:  83%|████████▎ | 5003/6025 [02:25<00:31, 32.78it/s]"
     ]
    },
    {
     "name": "stdout",
     "output_type": "stream",
     "text": [
      "[Epoch 20] RMSE per interval: 0.0350, PSNR per interval: 30.10, SSIM per interval: 0.7129\n"
     ]
    },
    {
     "name": "stderr",
     "output_type": "stream",
     "text": [
      "Evaluating Epoch 20: 100%|█████████▉| 6003/6025 [02:55<00:00, 33.70it/s]"
     ]
    },
    {
     "name": "stdout",
     "output_type": "stream",
     "text": [
      "[Epoch 20] RMSE per interval: 0.0328, PSNR per interval: 30.89, SSIM per interval: 0.7565\n"
     ]
    },
    {
     "name": "stderr",
     "output_type": "stream",
     "text": [
      "Evaluating Epoch 20: 100%|██████████| 6025/6025 [02:56<00:00, 34.20it/s]"
     ]
    },
    {
     "name": "stdout",
     "output_type": "stream",
     "text": [
      "[Epoch 20] Average RMSE over all intervals: 0.038191\n",
      "[Epoch 20] 저장 완료: results_20.csv\n"
     ]
    },
    {
     "name": "stderr",
     "output_type": "stream",
     "text": [
      "\n"
     ]
    }
   ],
   "source": [
    "import torch\n",
    "import torch.nn as nn\n",
    "import numpy as np\n",
    "import pandas as pd\n",
    "import os\n",
    "from skimage.metrics import peak_signal_noise_ratio, structural_similarity\n",
    "from tqdm import tqdm\n",
    "\n",
    "criterion = nn.MSELoss()\n",
    "interval = 1000\n",
    "\n",
    "# 저장된 모델들을 평가할 epochs 리스트\n",
    "epochs_list = [1, 5, 10, 20]\n",
    "device = torch.device('cuda' if torch.cuda.is_available() else 'cpu')\n",
    "\n",
    "# 평가 지표 계산 함수\n",
    "def calculate_psnr(y_true, y_pred):\n",
    "    \"\"\"PSNR 계산 함수\"\"\"\n",
    "    y_true = y_true.cpu().numpy()\n",
    "    y_pred = y_pred.cpu().numpy()\n",
    "    return peak_signal_noise_ratio(y_true, y_pred, data_range=1.0)\n",
    "\n",
    "def calculate_ssim(y_true, y_pred):\n",
    "    \"\"\"SSIM 계산 함수\"\"\"\n",
    "    y_true = y_true.squeeze(0).cpu().numpy()\n",
    "    y_pred = y_pred.squeeze(0).cpu().numpy()\n",
    "    return structural_similarity(y_true, y_pred, data_range=1.0)\n",
    "\n",
    "# 각 epoch별 평가 수행\n",
    "for epoch in epochs_list:\n",
    "    model_path = f'moanet_uniform_epoch{epoch}.pth'\n",
    "    \n",
    "    # 모델 파일 존재 여부 확인\n",
    "    if not os.path.exists(model_path):\n",
    "        print(f\"[Epoch {epoch}] 모델 파일이 존재하지 않습니다. 건너뜁니다.\")\n",
    "        continue\n",
    "\n",
    "    print(f\"\\nEvaluating Model at Epoch {epoch}\")\n",
    "    \n",
    "    # 모델 초기화 및 가중치 로드\n",
    "    model = RedCNNWithSpatialAttention().to(device)\n",
    "    model.load_state_dict(torch.load(model_path))\n",
    "    model.eval()\n",
    "\n",
    "    running_loss = 0.0\n",
    "    running_psnr = 0.0\n",
    "    running_ssim = 0.0\n",
    "    psnr_list = []\n",
    "    ssim_list = []\n",
    "    loss_list = []\n",
    "    total_loss = 0\n",
    "\n",
    "    with torch.no_grad():\n",
    "        for i, data in tqdm(enumerate(test_loader), total=len(test_loader), desc=f\"Evaluating Epoch {epoch}\"):\n",
    "            X, prob, y = data[0][0].to(device), data[0][1].to(device), data[1].to(device)\n",
    "            X_hat = model(X, prob)\n",
    "            mse_loss = criterion(X_hat, y)\n",
    "\n",
    "            # RMSE 계산\n",
    "            rms_loss = torch.sqrt(mse_loss)\n",
    "            running_loss += rms_loss.item()\n",
    "\n",
    "            # PSNR, SSIM 계산\n",
    "            for j in range(X.size(0)):  # 배치 내부 개별 이미지에 대해 계산\n",
    "                psnr = calculate_psnr(y[j, :, :, :], X_hat[j, :, :, :])\n",
    "                ssim = calculate_ssim(y[j, :, :, :], X_hat[j, :, :, :])\n",
    "                running_psnr += psnr\n",
    "                running_ssim += ssim\n",
    "\n",
    "            # Interval 출력\n",
    "            if i % interval == interval - 1:\n",
    "                interval_loss = running_loss / interval\n",
    "                interval_psnr = running_psnr / (interval * X.size(0))\n",
    "                interval_ssim = running_ssim / (interval * X.size(0))\n",
    "\n",
    "                loss_list.append(interval_loss)\n",
    "                psnr_list.append(interval_psnr)\n",
    "                ssim_list.append(interval_ssim)\n",
    "\n",
    "                total_loss += interval_loss\n",
    "                running_loss = 0.0\n",
    "                running_psnr = 0.0\n",
    "                running_ssim = 0.0\n",
    "                tqdm.write(f'[Epoch {epoch}] RMSE per interval: {interval_loss:.4f}, PSNR per interval: {interval_psnr:.2f}, SSIM per interval: {interval_ssim:.4f}')\n",
    "\n",
    "    # 평균 RMSE 출력\n",
    "    average_loss = total_loss / len(loss_list) if loss_list else float('inf')\n",
    "    print(f\"[Epoch {epoch}] Average RMSE over all intervals: {average_loss:.6f}\")\n",
    "\n",
    "    # 결과 저장\n",
    "    df = pd.DataFrame({\n",
    "        \"RMSE\": loss_list,\n",
    "        \"PSNR\": psnr_list,\n",
    "        \"SSIM\": ssim_list\n",
    "    })\n",
    "\n",
    "    csv_filename = f\"results_{epoch}.csv\"\n",
    "    df.to_csv(csv_filename, index=False)\n",
    "    print(f\"[Epoch {epoch}] 저장 완료: {csv_filename}\")"
   ]
  },
  {
   "cell_type": "markdown",
   "metadata": {},
   "source": [
    "# 3. moanet_random"
   ]
  },
  {
   "cell_type": "markdown",
   "metadata": {},
   "source": [
    "## 데이터셋 불러오기"
   ]
  },
  {
   "cell_type": "code",
   "execution_count": 30,
   "metadata": {},
   "outputs": [
    {
     "data": {
      "text/plain": [
       "6025"
      ]
     },
     "execution_count": 30,
     "metadata": {},
     "output_type": "execute_result"
    }
   ],
   "source": [
    "# 파일 경로 설정\n",
    "\n",
    "folder_name = f'{root}/dataset_add_prob/'\n",
    "test_path = folder_name+'test_dataset.pt'\n",
    "test_dataset = torch.load(test_path) # , weights_only=False\n",
    "\n",
    "batch_size = 16\n",
    "from torch.utils.data import DataLoader\n",
    "test_loader = DataLoader(test_dataset, batch_size=batch_size, shuffle=False, num_workers=4, pin_memory=True)\n",
    "\n",
    "len(test_loader)"
   ]
  },
  {
   "cell_type": "markdown",
   "metadata": {},
   "source": [
    "## 평가지표 계산하기"
   ]
  },
  {
   "cell_type": "code",
   "execution_count": 31,
   "metadata": {},
   "outputs": [
    {
     "name": "stdout",
     "output_type": "stream",
     "text": [
      "/root/moanet_weight/random\n"
     ]
    }
   ],
   "source": [
    "%cd {root}/moanet_weight/random"
   ]
  },
  {
   "cell_type": "code",
   "execution_count": 32,
   "metadata": {},
   "outputs": [
    {
     "name": "stdout",
     "output_type": "stream",
     "text": [
      "/root/moanet_weight/random\n"
     ]
    }
   ],
   "source": [
    "!pwd"
   ]
  },
  {
   "cell_type": "code",
   "execution_count": 33,
   "metadata": {},
   "outputs": [
    {
     "data": {
      "text/plain": [
       "device(type='cuda')"
      ]
     },
     "execution_count": 33,
     "metadata": {},
     "output_type": "execute_result"
    }
   ],
   "source": [
    "import torch\n",
    "device = torch.device('cuda' if torch.cuda.is_available() else 'cpu')\n",
    "device"
   ]
  },
  {
   "cell_type": "code",
   "execution_count": 34,
   "metadata": {},
   "outputs": [],
   "source": [
    "import torch\n",
    "import torch.nn as nn\n",
    "\n",
    "class SpatialAttention(nn.Module):\n",
    "    def __init__(self, kernel_size=7, num_organs=11, prob_mode=\"base\"):\n",
    "        \"\"\"\n",
    "        Args:\n",
    "            kernel_size (int): 컨볼루션 커널 크기 (3 또는 7)\n",
    "            num_organs (int): 장기 개수\n",
    "            prob_mode (str): \"uniform\" 또는 \"random\" (organ_prob을 변환하는 방식)\n",
    "        \"\"\"\n",
    "        super(SpatialAttention, self).__init__()\n",
    "        assert kernel_size in (3, 7), \"Kernel size must be 3 or 7\"\n",
    "        padding = (kernel_size - 1) // 2\n",
    "        self.conv = nn.Conv2d(2, num_organs, kernel_size=kernel_size, padding=padding, bias=False)\n",
    "        self.sigmoid = nn.Sigmoid()\n",
    "        self.last_attention = None  \n",
    "        self.prob_mode = prob_mode  # \"base\", \"uniform\", \"random\" 선택\n",
    "\n",
    "    def forward(self, x, organ_prob):\n",
    "        \"\"\"\n",
    "        Args:\n",
    "            x (torch.Tensor): Input feature map [B, C, H, W]\n",
    "            organ_prob (torch.Tensor): Organ probability vector [B, num_organs]\n",
    "        Returns:\n",
    "            torch.Tensor: Attention-weighted feature map [B, C, H, W]\n",
    "        \"\"\"\n",
    "        B, C, H, W = x.shape  \n",
    "\n",
    "        # ---- [Step 1] organ_prob 변환 ---- #\n",
    "        if self.prob_mode == \"uniform\":\n",
    "            organ_prob = torch.full_like(organ_prob, 1 / organ_prob.shape[1])  # 동일한 확률\n",
    "        elif self.prob_mode == \"random\":\n",
    "            random_prob = torch.rand_like(organ_prob)  # 랜덤 값 생성\n",
    "            organ_prob = random_prob / random_prob.sum(dim=1, keepdim=True)  # 합이 1이 되도록 정규화\n",
    "\n",
    "        # ---- [Step 2] 채널 차원 압축 (Max & Avg Pooling) ---- #\n",
    "        avg_out = torch.mean(x, dim=1, keepdim=True)  \n",
    "        max_out, _ = torch.max(x, dim=1, keepdim=True)  \n",
    "        combined = torch.cat([avg_out, max_out], dim=1)  \n",
    "\n",
    "        # ---- [Step 3] 2D Conv 적용 ---- #\n",
    "        attention = self.sigmoid(self.conv(combined))  \n",
    "        self.last_attention = attention  \n",
    "\n",
    "        # ---- [Step 4] organ_prob과 attention 결합 ---- #\n",
    "        organ_prob = organ_prob.view(B, -1, 1, 1)  \n",
    "        weighted_attention = attention * organ_prob  \n",
    "\n",
    "        # ---- [Step 5] 최종 Attention Map 생성 및 적용 ---- #\n",
    "        final_attention = torch.sum(weighted_attention, dim=1, keepdim=True)  \n",
    "        output = x * final_attention  \n",
    "\n",
    "        return output"
   ]
  },
  {
   "cell_type": "code",
   "execution_count": 35,
   "metadata": {},
   "outputs": [],
   "source": [
    "class RedCNNWithSpatialAttention(nn.Module):\n",
    "    def __init__(self):\n",
    "        super(RedCNNWithSpatialAttention, self).__init__()\n",
    "\n",
    "        # 인코더 부분\n",
    "        self.conv1 = nn.Conv2d(1, 96, 5, 1, 0)\n",
    "        self.conv2 = nn.Conv2d(96, 96, 5, 1, 0)\n",
    "        self.conv3 = nn.Conv2d(96, 96, 5, 1, 0)\n",
    "        self.conv4 = nn.Conv2d(96, 96, 5, 1, 0)\n",
    "        self.conv5 = nn.Conv2d(96, 96, 5, 1, 0)\n",
    "\n",
    "        # Spatial Attention Blocks\n",
    "        self.spatial_attention3 = SpatialAttention(prob_mode=\"random\")\n",
    "        self.spatial_attention5 = SpatialAttention(prob_mode=\"random\")\n",
    "\n",
    "        # 디코더 부분\n",
    "        self.deconv1 = nn.ConvTranspose2d(96, 96, 5, 1, 0)\n",
    "        self.deconv2 = nn.ConvTranspose2d(96, 96, 5, 1, 0)\n",
    "        self.deconv3 = nn.ConvTranspose2d(96, 96, 5, 1, 0)\n",
    "        self.deconv4 = nn.ConvTranspose2d(96, 96, 5, 1, 0)\n",
    "        self.deconv_last = nn.ConvTranspose2d(96, 1, 5, 1, 0)\n",
    "\n",
    "        self.relu = nn.ReLU()\n",
    "\n",
    "    def forward(self, x, prob):\n",
    "        # 인코더 부분\n",
    "        residual1 = x\n",
    "        x = self.relu(self.conv1(x))\n",
    "        x = self.relu(self.conv2(x))\n",
    "        residual2 = x\n",
    "        x = self.relu(self.conv3(x))\n",
    "        x = self.spatial_attention3(x, prob)  # Spatial Attention (3번째 위치)\n",
    "        x = self.relu(self.conv4(x))\n",
    "        residual3 = x\n",
    "        x = self.relu(self.conv5(x))\n",
    "        x = self.spatial_attention5(x, prob)  # Spatial Attention (5번째 위치)\n",
    "\n",
    "        # 디코더 부분\n",
    "        x = self.relu(self.deconv1(x) + residual3)\n",
    "        x = self.relu(self.deconv2(x))\n",
    "        x = self.relu(self.deconv3(x) + residual2)\n",
    "        x = self.relu(self.deconv4(x))\n",
    "        x = self.deconv_last(x) + residual1\n",
    "\n",
    "        return x"
   ]
  },
  {
   "cell_type": "code",
   "execution_count": 36,
   "metadata": {},
   "outputs": [
    {
     "name": "stdout",
     "output_type": "stream",
     "text": [
      "\n",
      "Evaluating Model at Epoch 1\n"
     ]
    },
    {
     "name": "stderr",
     "output_type": "stream",
     "text": [
      "Evaluating Epoch 1:  17%|█▋        | 1004/6025 [00:29<02:30, 33.43it/s]"
     ]
    },
    {
     "name": "stdout",
     "output_type": "stream",
     "text": [
      "[Epoch 1] RMSE per interval: 0.0463, PSNR per interval: 27.49, SSIM per interval: 0.6747\n"
     ]
    },
    {
     "name": "stderr",
     "output_type": "stream",
     "text": [
      "Evaluating Epoch 1:  33%|███▎      | 2005/6025 [00:59<01:59, 33.61it/s]"
     ]
    },
    {
     "name": "stdout",
     "output_type": "stream",
     "text": [
      "[Epoch 1] RMSE per interval: 0.0438, PSNR per interval: 28.24, SSIM per interval: 0.6906\n"
     ]
    },
    {
     "name": "stderr",
     "output_type": "stream",
     "text": [
      "Evaluating Epoch 1:  50%|████▉     | 3005/6025 [01:29<01:40, 30.19it/s]"
     ]
    },
    {
     "name": "stdout",
     "output_type": "stream",
     "text": [
      "[Epoch 1] RMSE per interval: 0.0442, PSNR per interval: 28.32, SSIM per interval: 0.6992\n"
     ]
    },
    {
     "name": "stderr",
     "output_type": "stream",
     "text": [
      "Evaluating Epoch 1:  66%|██████▋   | 4005/6025 [01:59<00:59, 34.17it/s]"
     ]
    },
    {
     "name": "stdout",
     "output_type": "stream",
     "text": [
      "[Epoch 1] RMSE per interval: 0.0379, PSNR per interval: 29.31, SSIM per interval: 0.7252\n"
     ]
    },
    {
     "name": "stderr",
     "output_type": "stream",
     "text": [
      "Evaluating Epoch 1:  83%|████████▎ | 5006/6025 [02:29<00:30, 33.94it/s]"
     ]
    },
    {
     "name": "stdout",
     "output_type": "stream",
     "text": [
      "[Epoch 1] RMSE per interval: 0.0375, PSNR per interval: 29.41, SSIM per interval: 0.7043\n"
     ]
    },
    {
     "name": "stderr",
     "output_type": "stream",
     "text": [
      "Evaluating Epoch 1: 100%|█████████▉| 6006/6025 [02:59<00:00, 32.21it/s]"
     ]
    },
    {
     "name": "stdout",
     "output_type": "stream",
     "text": [
      "[Epoch 1] RMSE per interval: 0.0356, PSNR per interval: 30.08, SSIM per interval: 0.7468\n"
     ]
    },
    {
     "name": "stderr",
     "output_type": "stream",
     "text": [
      "Evaluating Epoch 1: 100%|██████████| 6025/6025 [03:00<00:00, 33.47it/s]\n"
     ]
    },
    {
     "name": "stdout",
     "output_type": "stream",
     "text": [
      "[Epoch 1] Average RMSE over all intervals: 0.040884\n",
      "[Epoch 1] 저장 완료: results_1.csv\n",
      "\n",
      "Evaluating Model at Epoch 5\n"
     ]
    },
    {
     "name": "stderr",
     "output_type": "stream",
     "text": [
      "Evaluating Epoch 5:  17%|█▋        | 1003/6025 [00:29<02:27, 34.00it/s]"
     ]
    },
    {
     "name": "stdout",
     "output_type": "stream",
     "text": [
      "[Epoch 5] RMSE per interval: 0.0445, PSNR per interval: 27.88, SSIM per interval: 0.6837\n"
     ]
    },
    {
     "name": "stderr",
     "output_type": "stream",
     "text": [
      "Evaluating Epoch 5:  33%|███▎      | 2003/6025 [00:59<01:58, 33.82it/s]"
     ]
    },
    {
     "name": "stdout",
     "output_type": "stream",
     "text": [
      "[Epoch 5] RMSE per interval: 0.0419, PSNR per interval: 28.71, SSIM per interval: 0.7002\n"
     ]
    },
    {
     "name": "stderr",
     "output_type": "stream",
     "text": [
      "Evaluating Epoch 5:  50%|████▉     | 3003/6025 [01:29<01:36, 31.40it/s]"
     ]
    },
    {
     "name": "stdout",
     "output_type": "stream",
     "text": [
      "[Epoch 5] RMSE per interval: 0.0420, PSNR per interval: 28.89, SSIM per interval: 0.7096\n"
     ]
    },
    {
     "name": "stderr",
     "output_type": "stream",
     "text": [
      "Evaluating Epoch 5:  66%|██████▋   | 4003/6025 [01:59<01:00, 33.51it/s]"
     ]
    },
    {
     "name": "stdout",
     "output_type": "stream",
     "text": [
      "[Epoch 5] RMSE per interval: 0.0360, PSNR per interval: 29.84, SSIM per interval: 0.7356\n"
     ]
    },
    {
     "name": "stderr",
     "output_type": "stream",
     "text": [
      "Evaluating Epoch 5:  83%|████████▎ | 5004/6025 [02:29<00:30, 33.49it/s]"
     ]
    },
    {
     "name": "stdout",
     "output_type": "stream",
     "text": [
      "[Epoch 5] RMSE per interval: 0.0357, PSNR per interval: 29.94, SSIM per interval: 0.7130\n"
     ]
    },
    {
     "name": "stderr",
     "output_type": "stream",
     "text": [
      "Evaluating Epoch 5: 100%|█████████▉| 6004/6025 [02:59<00:00, 34.07it/s]"
     ]
    },
    {
     "name": "stdout",
     "output_type": "stream",
     "text": [
      "[Epoch 5] RMSE per interval: 0.0335, PSNR per interval: 30.71, SSIM per interval: 0.7562\n"
     ]
    },
    {
     "name": "stderr",
     "output_type": "stream",
     "text": [
      "Evaluating Epoch 5: 100%|██████████| 6025/6025 [03:00<00:00, 33.39it/s]\n"
     ]
    },
    {
     "name": "stdout",
     "output_type": "stream",
     "text": [
      "[Epoch 5] Average RMSE over all intervals: 0.038923\n",
      "[Epoch 5] 저장 완료: results_5.csv\n",
      "\n",
      "Evaluating Model at Epoch 10\n"
     ]
    },
    {
     "name": "stderr",
     "output_type": "stream",
     "text": [
      "Evaluating Epoch 10:  17%|█▋        | 1005/6025 [00:29<02:29, 33.53it/s]"
     ]
    },
    {
     "name": "stdout",
     "output_type": "stream",
     "text": [
      "[Epoch 10] RMSE per interval: 0.0440, PSNR per interval: 27.98, SSIM per interval: 0.6856\n"
     ]
    },
    {
     "name": "stderr",
     "output_type": "stream",
     "text": [
      "Evaluating Epoch 10:  33%|███▎      | 2005/6025 [00:59<02:02, 32.86it/s]"
     ]
    },
    {
     "name": "stdout",
     "output_type": "stream",
     "text": [
      "[Epoch 10] RMSE per interval: 0.0415, PSNR per interval: 28.80, SSIM per interval: 0.7028\n"
     ]
    },
    {
     "name": "stderr",
     "output_type": "stream",
     "text": [
      "Evaluating Epoch 10:  50%|████▉     | 3005/6025 [01:29<01:34, 32.10it/s]"
     ]
    },
    {
     "name": "stdout",
     "output_type": "stream",
     "text": [
      "[Epoch 10] RMSE per interval: 0.0415, PSNR per interval: 29.00, SSIM per interval: 0.7128\n"
     ]
    },
    {
     "name": "stderr",
     "output_type": "stream",
     "text": [
      "Evaluating Epoch 10:  66%|██████▋   | 4005/6025 [01:59<01:00, 33.58it/s]"
     ]
    },
    {
     "name": "stdout",
     "output_type": "stream",
     "text": [
      "[Epoch 10] RMSE per interval: 0.0356, PSNR per interval: 29.95, SSIM per interval: 0.7382\n"
     ]
    },
    {
     "name": "stderr",
     "output_type": "stream",
     "text": [
      "Evaluating Epoch 10:  83%|████████▎ | 5006/6025 [02:29<00:30, 33.66it/s]"
     ]
    },
    {
     "name": "stdout",
     "output_type": "stream",
     "text": [
      "[Epoch 10] RMSE per interval: 0.0354, PSNR per interval: 30.02, SSIM per interval: 0.7146\n"
     ]
    },
    {
     "name": "stderr",
     "output_type": "stream",
     "text": [
      "Evaluating Epoch 10: 100%|█████████▉| 6006/6025 [02:59<00:00, 33.48it/s]"
     ]
    },
    {
     "name": "stdout",
     "output_type": "stream",
     "text": [
      "[Epoch 10] RMSE per interval: 0.0331, PSNR per interval: 30.81, SSIM per interval: 0.7584\n"
     ]
    },
    {
     "name": "stderr",
     "output_type": "stream",
     "text": [
      "Evaluating Epoch 10: 100%|██████████| 6025/6025 [02:59<00:00, 33.47it/s]\n"
     ]
    },
    {
     "name": "stdout",
     "output_type": "stream",
     "text": [
      "[Epoch 10] Average RMSE over all intervals: 0.038512\n",
      "[Epoch 10] 저장 완료: results_10.csv\n",
      "\n",
      "Evaluating Model at Epoch 20\n"
     ]
    },
    {
     "name": "stderr",
     "output_type": "stream",
     "text": [
      "Evaluating Epoch 20:  17%|█▋        | 1004/6025 [00:29<02:28, 33.87it/s]"
     ]
    },
    {
     "name": "stdout",
     "output_type": "stream",
     "text": [
      "[Epoch 20] RMSE per interval: 0.0435, PSNR per interval: 28.08, SSIM per interval: 0.6830\n"
     ]
    },
    {
     "name": "stderr",
     "output_type": "stream",
     "text": [
      "Evaluating Epoch 20:  33%|███▎      | 2004/6025 [00:59<02:00, 33.28it/s]"
     ]
    },
    {
     "name": "stdout",
     "output_type": "stream",
     "text": [
      "[Epoch 20] RMSE per interval: 0.0411, PSNR per interval: 28.88, SSIM per interval: 0.7008\n"
     ]
    },
    {
     "name": "stderr",
     "output_type": "stream",
     "text": [
      "Evaluating Epoch 20:  50%|████▉     | 3004/6025 [01:29<01:29, 33.59it/s]"
     ]
    },
    {
     "name": "stdout",
     "output_type": "stream",
     "text": [
      "[Epoch 20] RMSE per interval: 0.0411, PSNR per interval: 29.10, SSIM per interval: 0.7106\n"
     ]
    },
    {
     "name": "stderr",
     "output_type": "stream",
     "text": [
      "Evaluating Epoch 20:  66%|██████▋   | 4005/6025 [01:55<00:52, 38.40it/s]"
     ]
    },
    {
     "name": "stdout",
     "output_type": "stream",
     "text": [
      "[Epoch 20] RMSE per interval: 0.0351, PSNR per interval: 30.05, SSIM per interval: 0.7372\n"
     ]
    },
    {
     "name": "stderr",
     "output_type": "stream",
     "text": [
      "Evaluating Epoch 20:  83%|████████▎ | 5007/6025 [02:22<00:27, 37.04it/s]"
     ]
    },
    {
     "name": "stdout",
     "output_type": "stream",
     "text": [
      "[Epoch 20] RMSE per interval: 0.0350, PSNR per interval: 30.12, SSIM per interval: 0.7137\n"
     ]
    },
    {
     "name": "stderr",
     "output_type": "stream",
     "text": [
      "Evaluating Epoch 20: 100%|█████████▉| 6007/6025 [02:46<00:00, 45.75it/s]"
     ]
    },
    {
     "name": "stdout",
     "output_type": "stream",
     "text": [
      "[Epoch 20] RMSE per interval: 0.0328, PSNR per interval: 30.91, SSIM per interval: 0.7571\n"
     ]
    },
    {
     "name": "stderr",
     "output_type": "stream",
     "text": [
      "Evaluating Epoch 20: 100%|██████████| 6025/6025 [02:46<00:00, 36.08it/s]"
     ]
    },
    {
     "name": "stdout",
     "output_type": "stream",
     "text": [
      "[Epoch 20] Average RMSE over all intervals: 0.038099\n",
      "[Epoch 20] 저장 완료: results_20.csv\n"
     ]
    },
    {
     "name": "stderr",
     "output_type": "stream",
     "text": [
      "\n"
     ]
    }
   ],
   "source": [
    "import torch\n",
    "import torch.nn as nn\n",
    "import numpy as np\n",
    "import pandas as pd\n",
    "import os\n",
    "from skimage.metrics import peak_signal_noise_ratio, structural_similarity\n",
    "from tqdm import tqdm\n",
    "\n",
    "criterion = nn.MSELoss()\n",
    "interval = 1000\n",
    "\n",
    "# 저장된 모델들을 평가할 epochs 리스트\n",
    "epochs_list = [1, 5, 10, 20]\n",
    "device = torch.device('cuda' if torch.cuda.is_available() else 'cpu')\n",
    "\n",
    "# 평가 지표 계산 함수\n",
    "def calculate_psnr(y_true, y_pred):\n",
    "    \"\"\"PSNR 계산 함수\"\"\"\n",
    "    y_true = y_true.cpu().numpy()\n",
    "    y_pred = y_pred.cpu().numpy()\n",
    "    return peak_signal_noise_ratio(y_true, y_pred, data_range=1.0)\n",
    "\n",
    "def calculate_ssim(y_true, y_pred):\n",
    "    \"\"\"SSIM 계산 함수\"\"\"\n",
    "    y_true = y_true.squeeze(0).cpu().numpy()\n",
    "    y_pred = y_pred.squeeze(0).cpu().numpy()\n",
    "    return structural_similarity(y_true, y_pred, data_range=1.0)\n",
    "\n",
    "# 각 epoch별 평가 수행\n",
    "for epoch in epochs_list:\n",
    "    model_path = f'moanet_random_epoch{epoch}.pth'\n",
    "    \n",
    "    # 모델 파일 존재 여부 확인\n",
    "    if not os.path.exists(model_path):\n",
    "        print(f\"[Epoch {epoch}] 모델 파일이 존재하지 않습니다. 건너뜁니다.\")\n",
    "        continue\n",
    "\n",
    "    print(f\"\\nEvaluating Model at Epoch {epoch}\")\n",
    "    \n",
    "    # 모델 초기화 및 가중치 로드\n",
    "    model = RedCNNWithSpatialAttention().to(device)\n",
    "    model.load_state_dict(torch.load(model_path))\n",
    "    model.eval()\n",
    "\n",
    "    running_loss = 0.0\n",
    "    running_psnr = 0.0\n",
    "    running_ssim = 0.0\n",
    "    psnr_list = []\n",
    "    ssim_list = []\n",
    "    loss_list = []\n",
    "    total_loss = 0\n",
    "\n",
    "    with torch.no_grad():\n",
    "        for i, data in tqdm(enumerate(test_loader), total=len(test_loader), desc=f\"Evaluating Epoch {epoch}\"):\n",
    "            X, prob, y = data[0][0].to(device), data[0][1].to(device), data[1].to(device)\n",
    "            X_hat = model(X, prob)\n",
    "            mse_loss = criterion(X_hat, y)\n",
    "\n",
    "            # RMSE 계산\n",
    "            rms_loss = torch.sqrt(mse_loss)\n",
    "            running_loss += rms_loss.item()\n",
    "\n",
    "            # PSNR, SSIM 계산\n",
    "            for j in range(X.size(0)):  # 배치 내부 개별 이미지에 대해 계산\n",
    "                psnr = calculate_psnr(y[j, :, :, :], X_hat[j, :, :, :])\n",
    "                ssim = calculate_ssim(y[j, :, :, :], X_hat[j, :, :, :])\n",
    "                running_psnr += psnr\n",
    "                running_ssim += ssim\n",
    "\n",
    "            # Interval 출력\n",
    "            if i % interval == interval - 1:\n",
    "                interval_loss = running_loss / interval\n",
    "                interval_psnr = running_psnr / (interval * X.size(0))\n",
    "                interval_ssim = running_ssim / (interval * X.size(0))\n",
    "\n",
    "                loss_list.append(interval_loss)\n",
    "                psnr_list.append(interval_psnr)\n",
    "                ssim_list.append(interval_ssim)\n",
    "\n",
    "                total_loss += interval_loss\n",
    "                running_loss = 0.0\n",
    "                running_psnr = 0.0\n",
    "                running_ssim = 0.0\n",
    "                tqdm.write(f'[Epoch {epoch}] RMSE per interval: {interval_loss:.4f}, PSNR per interval: {interval_psnr:.2f}, SSIM per interval: {interval_ssim:.4f}')\n",
    "\n",
    "    # 평균 RMSE 출력\n",
    "    average_loss = total_loss / len(loss_list) if loss_list else float('inf')\n",
    "    print(f\"[Epoch {epoch}] Average RMSE over all intervals: {average_loss:.6f}\")\n",
    "\n",
    "    # 결과 저장\n",
    "    df = pd.DataFrame({\n",
    "        \"RMSE\": loss_list,\n",
    "        \"PSNR\": psnr_list,\n",
    "        \"SSIM\": ssim_list\n",
    "    })\n",
    "\n",
    "    csv_filename = f\"results_{epoch}.csv\"\n",
    "    df.to_csv(csv_filename, index=False)\n",
    "    print(f\"[Epoch {epoch}] 저장 완료: {csv_filename}\")"
   ]
  },
  {
   "cell_type": "markdown",
   "metadata": {
    "id": "F-s0y4rhoRsR"
   },
   "source": [
    "# 최종결과비교"
   ]
  },
  {
   "cell_type": "code",
   "execution_count": 47,
   "metadata": {},
   "outputs": [
    {
     "name": "stderr",
     "output_type": "stream",
     "text": [
      "/tmp/ipykernel_2031833/3868878606.py:64: UserWarning: FixedFormatter should only be used together with FixedLocator\n",
      "  ax.set_xticklabels(x_labels, rotation=45, ha=\"right\")\n",
      "/tmp/ipykernel_2031833/3868878606.py:64: UserWarning: FixedFormatter should only be used together with FixedLocator\n",
      "  ax.set_xticklabels(x_labels, rotation=45, ha=\"right\")\n",
      "/tmp/ipykernel_2031833/3868878606.py:64: UserWarning: FixedFormatter should only be used together with FixedLocator\n",
      "  ax.set_xticklabels(x_labels, rotation=45, ha=\"right\")\n"
     ]
    },
    {
     "data": {
      "image/png": "[encoded data removed]",
      "text/plain": [
       "<Figure size 1296x720 with 6 Axes>"
      ]
     },
     "metadata": {
      "needs_background": "light"
     },
     "output_type": "display_data"
    }
   ],
   "source": [
    "# 모델 리스트 및 색상 설정\n",
    "model_names = [\"moanet\", \"moanet_weight/uniform\", \"moanet_weight/random\"]\n",
    "colors = [\"b\", \"g\", \"r\"]  # 각 모델별 색상 지정\n",
    "\n",
    "# x축 레이블 변경 매핑\n",
    "label_mapping = {\n",
    "    \"moanet\": \"BiomedCLIP-guided\",\n",
    "    \"moanet_weight/uniform\": \"Uniform\",\n",
    "    \"moanet_weight/random\": \"Random\"\n",
    "}\n",
    "\n",
    "# 평가할 epoch 리스트\n",
    "epochs_list = [1, 5, 10, 20, 30]  # 모든 epoch에 대해 그래프를 그릴 예정\n",
    "\n",
    "# CSV 파일 경로 설정 (각 모델의 epoch별 파일 불러오기)\n",
    "csv_paths = {\n",
    "    model: {epoch: f\"{root}/{model}/results_{epoch}.csv\" for epoch in epochs_list}\n",
    "    for model in model_names\n",
    "}\n",
    "\n",
    "# 각 파일을 읽어와서 데이터프레임 저장\n",
    "df_dict = {}\n",
    "for model, epoch_files in csv_paths.items():\n",
    "    df_dict[model] = {}\n",
    "    for epoch, path in epoch_files.items():\n",
    "        if os.path.exists(path):  # 파일이 존재할 경우만 읽기\n",
    "            df_dict[model][epoch] = pd.read_csv(path)\n",
    "\n",
    "# 평균 및 표준편차 그래프 그리는 함수\n",
    "def plot_mean_std(ax, metric_name, ylabel):\n",
    "    x_labels = [label_mapping[model] for model in model_names]  # X축에 변경된 모델 이름 표시\n",
    "    means = []\n",
    "    stds = []\n",
    "\n",
    "    for model in model_names:\n",
    "        all_values = []\n",
    "        for epoch in epochs_list:\n",
    "            if epoch in df_dict[model]:\n",
    "                all_values.extend(df_dict[model][epoch][metric_name].values)  # 모든 epoch의 값 합치기\n",
    "\n",
    "        if all_values:\n",
    "            means.append(np.mean(all_values))\n",
    "            stds.append(np.std(all_values))\n",
    "        else:\n",
    "            means.append(0)\n",
    "            stds.append(0)\n",
    "\n",
    "    means = np.array(means)\n",
    "    stds = np.array(stds)\n",
    "\n",
    "    # y축 범위 설정 (최소/최대값 + 표준편차의 3배)\n",
    "    ymin = np.min(means - stds)\n",
    "    ymax = np.max(means + stds)\n",
    "    ax.set_ylim(ymin, ymax)\n",
    "\n",
    "    # 막대그래프 (오차 막대 포함)\n",
    "    bars = ax.bar(x_labels, means, yerr=stds / 2, capsize=5, color=colors, alpha=0.7, edgecolor=\"black\")\n",
    "\n",
    "    # 막대 위에 평균값 표시\n",
    "    for bar, mean in zip(bars, means):\n",
    "        ax.text(bar.get_x() + bar.get_width() / 2, bar.get_height(), f\"{mean:.4f}\",\n",
    "                ha='center', va='bottom', fontsize=10, fontweight='bold', color='black')\n",
    "\n",
    "    ax.set_xticklabels(x_labels, rotation=45, ha=\"right\")\n",
    "    ax.set_ylabel(ylabel)\n",
    "    ax.set_title(f\"{metric_name} Comparison (Mean ± Std)\")\n",
    "    ax.grid(axis=\"y\", linestyle=\"--\", alpha=0.5)\n",
    "\n",
    "# Epoch 별 변화 그래프\n",
    "def plot_epoch_trend(ax, metric_name, ylabel):\n",
    "    for model, color in zip(model_names, colors):\n",
    "        means = []\n",
    "        epochs_available = []\n",
    "        \n",
    "        for epoch in epochs_list:\n",
    "            if epoch in df_dict[model]:\n",
    "                mean_value = df_dict[model][epoch][metric_name].mean()\n",
    "                means.append(mean_value)\n",
    "                epochs_available.append(epoch)\n",
    "\n",
    "        if means:\n",
    "            ax.plot(epochs_available, means, marker='o', linestyle='-', color=color, label=label_mapping[model])\n",
    "\n",
    "            # 각 데이터 포인트 위에 값 표시\n",
    "            for epoch, mean_value in zip(epochs_available, means):\n",
    "                ax.text(epoch, mean_value, f\"{mean_value:.4f}\", ha='center', va='bottom', fontsize=10, fontweight='bold', color=color)\n",
    "\n",
    "    ax.set_xlabel(\"Epochs\")\n",
    "    ax.set_ylabel(ylabel)\n",
    "    ax.set_title(f\"{metric_name} Trend Across Epochs\")\n",
    "    ax.legend()\n",
    "    ax.grid(True, linestyle=\"--\", alpha=0.5)\n",
    "\n",
    "# 그래프 그리기\n",
    "fig, axes = plt.subplots(2, 3, figsize=(18, 10))\n",
    "\n",
    "# RMSE 평균 + 표준편차\n",
    "plot_mean_std(axes[0, 0], \"RMSE\", \"RMSE Value\")\n",
    "\n",
    "# PSNR 평균 + 표준편차\n",
    "plot_mean_std(axes[0, 1], \"PSNR\", \"PSNR Value (dB)\")\n",
    "\n",
    "# SSIM 평균 + 표준편차\n",
    "plot_mean_std(axes[0, 2], \"SSIM\", \"SSIM Value\")\n",
    "\n",
    "# RMSE epoch 변화\n",
    "plot_epoch_trend(axes[1, 0], \"RMSE\", \"RMSE Value\")\n",
    "\n",
    "# PSNR epoch 변화\n",
    "plot_epoch_trend(axes[1, 1], \"PSNR\", \"PSNR Value (dB)\")\n",
    "\n",
    "# SSIM epoch 변화\n",
    "plot_epoch_trend(axes[1, 2], \"SSIM\", \"SSIM Value\")\n",
    "\n",
    "# 이미지 저장\n",
    "plt.tight_layout()\n",
    "plt.savefig(f\"{root}/cmp_epoch_weight_type.png\", dpi=300, bbox_inches='tight')\n",
    "plt.show()"
   ]
  },
  {
   "cell_type": "code",
   "execution_count": null,
   "metadata": {},
   "outputs": [],
   "source": []
  },
  {
   "cell_type": "code",
   "execution_count": 55,
   "metadata": {},
   "outputs": [
    {
     "name": "stderr",
     "output_type": "stream",
     "text": [
      "/tmp/ipykernel_2031833/1676321496.py:64: UserWarning: FixedFormatter should only be used together with FixedLocator\n",
      "  ax.set_xticklabels(x_labels, rotation=45, ha=\"right\")\n",
      "/tmp/ipykernel_2031833/1676321496.py:64: UserWarning: FixedFormatter should only be used together with FixedLocator\n",
      "  ax.set_xticklabels(x_labels, rotation=45, ha=\"right\")\n",
      "/tmp/ipykernel_2031833/1676321496.py:64: UserWarning: FixedFormatter should only be used together with FixedLocator\n",
      "  ax.set_xticklabels(x_labels, rotation=45, ha=\"right\")\n"
     ]
    },
    {
     "data": {
      "image/png": "[encoded data removed]",
      "text/plain": [
       "<Figure size 1296x720 with 6 Axes>"
      ]
     },
     "metadata": {
      "needs_background": "light"
     },
     "output_type": "display_data"
    }
   ],
   "source": [
    "# 모델 리스트 및 색상 설정\n",
    "model_names = [\"moanet\", \"moanet_weight/uniform\", \"moanet_weight/random\"]\n",
    "colors = [\"b\", \"g\", \"r\"]  # 각 모델별 색상 지정\n",
    "\n",
    "# x축 레이블 변경 매핑\n",
    "label_mapping = {\n",
    "    \"moanet\": \"BiomedCLIP-guided\",\n",
    "    \"moanet_weight/uniform\": \"Uniform\",\n",
    "    \"moanet_weight/random\": \"Random\"\n",
    "}\n",
    "\n",
    "# 평가할 epoch 리스트\n",
    "epochs_list = [1, 5, 10, 20, 30]  # 모든 epoch에 대해 그래프를 그릴 예정\n",
    "\n",
    "# CSV 파일 경로 설정 (각 모델의 epoch별 파일 불러오기)\n",
    "csv_paths = {\n",
    "    model: {epoch: f\"{root}/{model}/results_{epoch}.csv\" for epoch in epochs_list}\n",
    "    for model in model_names\n",
    "}\n",
    "\n",
    "# 각 파일을 읽어와서 데이터프레임 저장\n",
    "df_dict = {}\n",
    "for model, epoch_files in csv_paths.items():\n",
    "    df_dict[model] = {}\n",
    "    for epoch, path in epoch_files.items():\n",
    "        if os.path.exists(path):  # 파일이 존재할 경우만 읽기\n",
    "            df_dict[model][epoch] = pd.read_csv(path)\n",
    "\n",
    "# 평균 및 표준편차 그래프 그리는 함수\n",
    "def plot_mean_std(ax, metric_name, ylabel):\n",
    "    x_labels = [label_mapping[model] for model in model_names]  # X축에 변경된 모델 이름 표시\n",
    "    means = []\n",
    "    stds = []\n",
    "\n",
    "    for model in model_names:\n",
    "        all_values = []\n",
    "        for epoch in epochs_list:\n",
    "            if epoch in df_dict[model]:\n",
    "                all_values.extend(df_dict[model][epoch][metric_name].values)  # 모든 epoch의 값 합치기\n",
    "\n",
    "        if all_values:\n",
    "            means.append(np.mean(all_values))\n",
    "            stds.append(np.std(all_values))\n",
    "        else:\n",
    "            means.append(0)\n",
    "            stds.append(0)\n",
    "\n",
    "    means = np.array(means)\n",
    "    stds = np.array(stds)\n",
    "\n",
    "    # y축 범위 설정 (최소/최대값 + 표준편차의 3배)\n",
    "    ymin = np.min(means - stds)\n",
    "    ymax = np.max(means + stds)\n",
    "    ax.set_ylim(ymin, ymax)\n",
    "\n",
    "    # 막대그래프 (오차 막대 포함)\n",
    "    bars = ax.bar(x_labels, means, yerr=stds / 2, capsize=5, color=colors, alpha=0.7, edgecolor=\"black\")\n",
    "\n",
    "    # 막대 위에 평균값 표시\n",
    "    for bar, mean in zip(bars, means):\n",
    "        ax.text(bar.get_x() + bar.get_width() / 2, bar.get_height(), f\"{mean:.4f}\",\n",
    "                ha='center', va='bottom', fontsize=10, fontweight='bold', color='black')\n",
    "\n",
    "    ax.set_xticklabels(x_labels, rotation=45, ha=\"right\")\n",
    "    ax.set_ylabel(ylabel)\n",
    "    ax.set_title(f\"{metric_name} Comparison (Mean ± Std)\")\n",
    "    ax.grid(axis=\"y\", linestyle=\"--\", alpha=0.5)\n",
    "\n",
    "def plot_epoch_trend(ax, metric_name, ylabel):\n",
    "    for model, color in zip(model_names, colors):\n",
    "        means = []\n",
    "        epochs_available = []\n",
    "        \n",
    "        for epoch in epochs_list:\n",
    "            if epoch in df_dict[model]:\n",
    "                mean_value = df_dict[model][epoch][metric_name].mean()\n",
    "                means.append(mean_value)\n",
    "                epochs_available.append(epoch)\n",
    "\n",
    "        if means:\n",
    "            ax.plot(epochs_available, means, marker='o', linestyle='-', color=color, label=label_mapping[model])\n",
    "\n",
    "    ax.set_xlabel(\"Epochs\")\n",
    "    ax.set_ylabel(ylabel)\n",
    "    ax.set_title(f\"{metric_name} Trend Across Epochs\")\n",
    "    ax.legend()\n",
    "    ax.grid(True, linestyle=\"--\", alpha=0.5)\n",
    "\n",
    "\n",
    "# 그래프 그리기\n",
    "fig, axes = plt.subplots(2, 3, figsize=(18, 10))\n",
    "\n",
    "# RMSE 평균 + 표준편차\n",
    "plot_mean_std(axes[0, 0], \"RMSE\", \"RMSE Value\")\n",
    "\n",
    "# PSNR 평균 + 표준편차\n",
    "plot_mean_std(axes[0, 1], \"PSNR\", \"PSNR Value (dB)\")\n",
    "\n",
    "# SSIM 평균 + 표준편차\n",
    "plot_mean_std(axes[0, 2], \"SSIM\", \"SSIM Value\")\n",
    "\n",
    "# RMSE epoch 변화\n",
    "plot_epoch_trend(axes[1, 0], \"RMSE\", \"RMSE Value\")\n",
    "\n",
    "# PSNR epoch 변화\n",
    "plot_epoch_trend(axes[1, 1], \"PSNR\", \"PSNR Value (dB)\")\n",
    "\n",
    "# SSIM epoch 변화\n",
    "plot_epoch_trend(axes[1, 2], \"SSIM\", \"SSIM Value\")\n",
    "\n",
    "# 이미지 저장\n",
    "plt.tight_layout()\n",
    "plt.savefig(f\"{root}/cmp_epoch_weight_type.png\", dpi=300, bbox_inches='tight')\n",
    "plt.show()"
   ]
  }
 ],
 "metadata": {
  "accelerator": "GPU",
  "colab": {
   "collapsed_sections": [
    "jWsv8T-AoRsF"
   ],
   "gpuType": "A100",
   "machine_shape": "hm",
   "provenance": []
  },
  "kernelspec": {
   "display_name": "Python 3",
   "name": "python3"
  },
  "language_info": {
   "codemirror_mode": {
    "name": "ipython",
    "version": 3
   },
   "file_extension": ".py",
   "mimetype": "text/x-python",
   "name": "python",
   "nbconvert_exporter": "python",
   "pygments_lexer": "ipython3",
   "version": "3.8.10"
  }
 },
 "nbformat": 4,
 "nbformat_minor": 0
}
