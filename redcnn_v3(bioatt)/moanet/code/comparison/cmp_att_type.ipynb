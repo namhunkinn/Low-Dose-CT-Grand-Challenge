{
 "cells": [
  {
   "cell_type": "code",
   "execution_count": 47,
   "metadata": {},
   "outputs": [],
   "source": [
    "epochs = 20"
   ]
  },
  {
   "cell_type": "markdown",
   "metadata": {
    "id": "Jac_Ac2_oRr_"
   },
   "source": [
    "# 데이터셋 불러오기"
   ]
  },
  {
   "cell_type": "code",
   "execution_count": 15,
   "metadata": {
    "colab": {
     "base_uri": "https://localhost:8080/"
    },
    "executionInfo": {
     "elapsed": 3994,
     "status": "ok",
     "timestamp": 1742877703938,
     "user": {
      "displayName": "Namhun Kim",
      "userId": "06490179833075519179"
     },
     "user_tz": -540
    },
    "id": "L7aq1NSOoe7f",
    "outputId": "fb315218-9013-4385-eb92-dc9da73f2a16"
   },
   "outputs": [
    {
     "name": "stdout",
     "output_type": "stream",
     "text": [
      "Requirement already satisfied: pydicom in /usr/local/lib/python3.8/dist-packages (2.4.4)\n",
      "\u001b[33mWARNING: Running pip as the 'root' user can result in broken permissions and conflicting behaviour with the system package manager. It is recommended to use a virtual environment instead: https://pip.pypa.io/warnings/venv\u001b[0m\u001b[33m\n",
      "\u001b[0m\u001b[33mWARNING: You are using pip version 22.0.4; however, version 25.0.1 is available.\n",
      "You should consider upgrading via the '/usr/bin/python3.8 -m pip install --upgrade pip' command.\u001b[0m\u001b[33m\n",
      "\u001b[0m"
     ]
    }
   ],
   "source": [
    "!pip install pydicom"
   ]
  },
  {
   "cell_type": "code",
   "execution_count": 1,
   "metadata": {
    "colab": {
     "base_uri": "https://localhost:8080/"
    },
    "executionInfo": {
     "elapsed": 17784,
     "status": "ok",
     "timestamp": 1742877721724,
     "user": {
      "displayName": "Namhun Kim",
      "userId": "06490179833075519179"
     },
     "user_tz": -540
    },
    "id": "SBpsuiIDogsh",
    "outputId": "4eff771c-04f0-4ffb-b39f-183a0f71ba99"
   },
   "outputs": [],
   "source": [
    "# from google.colab import drive\n",
    "# drive.mount('/content/drive')"
   ]
  },
  {
   "cell_type": "code",
   "execution_count": 2,
   "metadata": {
    "executionInfo": {
     "elapsed": 12600,
     "status": "ok",
     "timestamp": 1742877734326,
     "user": {
      "displayName": "Namhun Kim",
      "userId": "06490179833075519179"
     },
     "user_tz": -540
    },
    "id": "axQh-6QnoRsA"
   },
   "outputs": [],
   "source": [
    "# IMA이미지를 불러오는 라이브러리\n",
    "import pydicom\n",
    "\n",
    "import numpy as np\n",
    "import torch\n",
    "import torchvision.transforms as transforms\n",
    "import matplotlib as mpl\n",
    "import matplotlib.pyplot as plt\n",
    "mpl.rcParams['figure.figsize'] = [3.0, 3.0]\n",
    "import seaborn as sns\n",
    "import torch.nn as nn"
   ]
  },
  {
   "cell_type": "code",
   "execution_count": 3,
   "metadata": {
    "executionInfo": {
     "elapsed": 10,
     "status": "ok",
     "timestamp": 1742877734328,
     "user": {
      "displayName": "Namhun Kim",
      "userId": "06490179833075519179"
     },
     "user_tz": -540
    },
    "id": "2FBi-Xd8opnQ"
   },
   "outputs": [],
   "source": [
    "root = '/root'"
   ]
  },
  {
   "cell_type": "code",
   "execution_count": 4,
   "metadata": {
    "colab": {
     "base_uri": "https://localhost:8080/"
    },
    "executionInfo": {
     "elapsed": 6,
     "status": "ok",
     "timestamp": 1742877734333,
     "user": {
      "displayName": "Namhun Kim",
      "userId": "06490179833075519179"
     },
     "user_tz": -540
    },
    "id": "Q46se-x4oRsB",
    "outputId": "89df286d-4618-4ee6-91c8-5da2ec0df8fe"
   },
   "outputs": [
    {
     "data": {
      "text/plain": [
       "['L067',\n",
       " 'L096',\n",
       " 'L109',\n",
       " 'L143',\n",
       " 'L192',\n",
       " 'L286',\n",
       " 'L291',\n",
       " 'L310',\n",
       " 'L333',\n",
       " 'L506']"
      ]
     },
     "execution_count": 4,
     "metadata": {},
     "output_type": "execute_result"
    }
   ],
   "source": [
    "import glob\n",
    "\n",
    "L_list = glob.glob(f'{root}/mayo2016/*')\n",
    "L_list = [path.split('/')[-1] for path in L_list]\n",
    "L_list.sort()\n",
    "L_list"
   ]
  },
  {
   "cell_type": "code",
   "execution_count": 5,
   "metadata": {
    "executionInfo": {
     "elapsed": 1,
     "status": "ok",
     "timestamp": 1742877734334,
     "user": {
      "displayName": "Namhun Kim",
      "userId": "06490179833075519179"
     },
     "user_tz": -540
    },
    "id": "lUZPpAkJoRsC"
   },
   "outputs": [],
   "source": [
    "data_label = ['quarter_1mm', 'full_1mm']"
   ]
  },
  {
   "cell_type": "code",
   "execution_count": 6,
   "metadata": {
    "executionInfo": {
     "elapsed": 1,
     "status": "ok",
     "timestamp": 1742877734336,
     "user": {
      "displayName": "Namhun Kim",
      "userId": "06490179833075519179"
     },
     "user_tz": -540
    },
    "id": "I-1tHv-MoRsC"
   },
   "outputs": [],
   "source": [
    "def normlize(path):\n",
    "  dicom_data = pydicom.dcmread(path)\n",
    "  img = dicom_data.pixel_array.astype(np.float32) * dicom_data.RescaleSlope + dicom_data.RescaleIntercept\n",
    "  mu, sd = (-500,500)\n",
    "  scaled_img = (img - mu) / sd\n",
    "  img = np.expand_dims(scaled_img, axis=0)\n",
    "\n",
    "  return img # 1x512x512"
   ]
  },
  {
   "cell_type": "code",
   "execution_count": 7,
   "metadata": {
    "executionInfo": {
     "elapsed": 1,
     "status": "ok",
     "timestamp": 1742877734337,
     "user": {
      "displayName": "Namhun Kim",
      "userId": "06490179833075519179"
     },
     "user_tz": -540
    },
    "id": "oRJbNabuoRsD"
   },
   "outputs": [],
   "source": [
    "def extract_patches(img, patch_size=55, interval=55):\n",
    "  patches = []\n",
    "  _, height, width = img.shape\n",
    "  for y in range(0, height - patch_size + 1, interval):\n",
    "    for x in range(0, width - patch_size + 1, interval):\n",
    "      patch = img[:, y:y + patch_size, x:x + patch_size]\n",
    "      patches.append(patch)\n",
    "  patches = np.array(patches)\n",
    "  return patches # patch수x1x55x55, numpy"
   ]
  },
  {
   "cell_type": "code",
   "execution_count": 8,
   "metadata": {
    "executionInfo": {
     "elapsed": 1,
     "status": "ok",
     "timestamp": 1742877734351,
     "user": {
      "displayName": "Namhun Kim",
      "userId": "06490179833075519179"
     },
     "user_tz": -540
    },
    "id": "bxMbM4MCoRsD"
   },
   "outputs": [],
   "source": [
    "import random\n",
    "from scipy.ndimage import rotate, zoom\n",
    "\n",
    "def augment_patches(X_patches, y_patches, p=0.5):\n",
    "    X_augmented_patches, y_augmented_patches = [], []\n",
    "\n",
    "    # random이 들어가기에, X랑 y를 동시에 넣어준다.\n",
    "    for i, (X_patch, y_patch) in enumerate(zip(X_patches, y_patches)):\n",
    "        # 원본 패치 추가\n",
    "        X_augmented_patches.append(X_patch)\n",
    "        y_augmented_patches.append(y_patch)\n",
    "\n",
    "        if random.random() < p:\n",
    "            # 1. 90, 270으로 돌려보자.(뒤집기랑 조금 다르긴 하지만, 점대칭 vs 선대칭, 그냥 +-90도만 쓰자.)\n",
    "            X, y = rotate(X_patch, 90, axes=(1, 2), reshape=False), rotate(y_patch, 90, axes=(1, 2), reshape=False)\n",
    "            X_augmented_patches.append(X)\n",
    "            y_augmented_patches.append(y)\n",
    "            X, y = rotate(X_patch, -90, axes=(1, 2), reshape=False), rotate(y_patch, -90, axes=(1, 2), reshape=False)\n",
    "            X_augmented_patches.append(X)\n",
    "            y_augmented_patches.append(y)\n",
    "        if random.random() < p:\n",
    "            # 2. 수직 뒤집기\n",
    "            X,y = np.flip(X_patch, axis=1),np.flip(y_patch, axis=1)\n",
    "            X_augmented_patches.append(X)\n",
    "            y_augmented_patches.append(y)\n",
    "        if random.random() < p:\n",
    "            # 3. 수평 뒤집기\n",
    "            X,y = np.flip(X_patch, axis=2),np.flip(y_patch, axis=2)\n",
    "            X_augmented_patches.append(X)\n",
    "            y_augmented_patches.append(y)\n",
    "\n",
    "    return np.array(X_augmented_patches), np.array(y_augmented_patches)"
   ]
  },
  {
   "cell_type": "code",
   "execution_count": 9,
   "metadata": {
    "executionInfo": {
     "elapsed": 1,
     "status": "ok",
     "timestamp": 1742877734353,
     "user": {
      "displayName": "Namhun Kim",
      "userId": "06490179833075519179"
     },
     "user_tz": -540
    },
    "id": "0y2krQVLoRsD"
   },
   "outputs": [],
   "source": [
    "def patch_maker_W_aug(X_dir, y_dir):\n",
    "  X_img, y_img = normlize(X_dir), normlize(y_dir)\n",
    "  X_patches = extract_patches(img=X_img, patch_size=55, interval=55)\n",
    "  y_patches = extract_patches(img=y_img, patch_size=55, interval=55)\n",
    "  X_augmented_patches, y_augmented_patches = augment_patches(X_patches, y_patches, p=0.5)\n",
    "  return X_augmented_patches, y_augmented_patches"
   ]
  },
  {
   "cell_type": "code",
   "execution_count": 10,
   "metadata": {
    "executionInfo": {
     "elapsed": 1,
     "status": "ok",
     "timestamp": 1742877734355,
     "user": {
      "displayName": "Namhun Kim",
      "userId": "06490179833075519179"
     },
     "user_tz": -540
    },
    "id": "pvpP0d23oRsE"
   },
   "outputs": [],
   "source": [
    "def patch_maker_WO_aug(X_dir, y_dir):\n",
    "  X_img, y_img = normlize(X_dir), normlize(y_dir)\n",
    "  X_patches = extract_patches(img=X_img, patch_size=55, interval=55)\n",
    "  y_patches = extract_patches(img=y_img, patch_size=55, interval=55)\n",
    "  return X_patches, y_patches"
   ]
  },
  {
   "cell_type": "code",
   "execution_count": 11,
   "metadata": {
    "executionInfo": {
     "elapsed": 1,
     "status": "ok",
     "timestamp": 1742877734356,
     "user": {
      "displayName": "Namhun Kim",
      "userId": "06490179833075519179"
     },
     "user_tz": -540
    },
    "id": "9wIY8bkxoRsE"
   },
   "outputs": [],
   "source": [
    "import os\n",
    "from torch.utils.data import Dataset\n",
    "import torch\n",
    "import glob\n",
    "from tqdm import tqdm\n",
    "\n",
    "class CustomDataset(Dataset):\n",
    "    def __init__(self, data_type, patch_maker, L_list):\n",
    "        self.data_type = data_type\n",
    "        self.patch_maker = patch_maker\n",
    "        self.L_list = L_list\n",
    "        self.image_pairs = []\n",
    "\n",
    "        X_dir_list, y_dir_list = [], []\n",
    "        for L in self.L_list:\n",
    "            X_dir, y_dir = self.get_data_range(L)\n",
    "            X_dir_list += X_dir\n",
    "            y_dir_list += y_dir\n",
    "\n",
    "        for X_dir, y_dir in tqdm(zip(X_dir_list, y_dir_list), total=len(X_dir_list), desc=f\"{self.data_type} is processing\"):\n",
    "            X_patches, y_patches = self.patch_maker(X_dir, y_dir)\n",
    "            for i in range(X_patches.shape[0]):\n",
    "                X_patch, y_patch = torch.from_numpy(X_patches[i]), torch.from_numpy(y_patches[i]) # torch로 넣어주자.\n",
    "                self.image_pairs.append((X_patch, y_patch))\n",
    "\n",
    "    def get_data_range(self, L):\n",
    "        \"\"\"슬라이싱 범위를 설정하는 함수\"\"\"\n",
    "        X_dir = sorted(glob.glob(f'{root}/mayo2016/{L}/{data_label[0]}/*.IMA'))\n",
    "        y_dir = sorted(glob.glob(f'{root}/mayo2016/{L}/{data_label[1]}/*.IMA'))\n",
    "        n1, n2 = len(X_dir), len(y_dir)\n",
    "\n",
    "        if self.data_type == 'train':\n",
    "            X_range = X_dir[:int(n1 * 0.64)]\n",
    "            y_range = y_dir[:int(n2 * 0.64)]\n",
    "        elif self.data_type == 'val':\n",
    "            X_range = X_dir[int(n1 * 0.64):int(n1 * 0.8)]\n",
    "            y_range = y_dir[int(n2 * 0.64):int(n2 * 0.8)]\n",
    "        else:  # test\n",
    "            X_range = X_dir[int(n1 * 0.8):]\n",
    "            y_range = y_dir[int(n2 * 0.8):]\n",
    "\n",
    "        return X_range, y_range\n",
    "\n",
    "    def __len__(self):\n",
    "        return len(self.image_pairs)\n",
    "\n",
    "    def __getitem__(self, idx):\n",
    "        X = self.image_pairs[idx][0]\n",
    "        y = self.image_pairs[idx][1]\n",
    "        return X, y"
   ]
  },
  {
   "cell_type": "code",
   "execution_count": 12,
   "metadata": {
    "executionInfo": {
     "elapsed": 31648,
     "status": "ok",
     "timestamp": 1742877766005,
     "user": {
      "displayName": "Namhun Kim",
      "userId": "06490179833075519179"
     },
     "user_tz": -540
    },
    "id": "Oag0_hLYoRsE"
   },
   "outputs": [],
   "source": [
    "# 파일 경로 설정\n",
    "folder_name = f'{root}/dataset/'\n",
    "train_path = folder_name+'train_dataset.pt'\n",
    "val_path = folder_name+'val_dataset.pt'\n",
    "test_path = folder_name+'test_dataset.pt'\n",
    "\n",
    "# 데이터셋 불러오기\n",
    "test_dataset = torch.load(test_path) # , weights_only=False"
   ]
  },
  {
   "cell_type": "code",
   "execution_count": 13,
   "metadata": {
    "executionInfo": {
     "elapsed": 1,
     "status": "ok",
     "timestamp": 1742877766008,
     "user": {
      "displayName": "Namhun Kim",
      "userId": "06490179833075519179"
     },
     "user_tz": -540
    },
    "id": "XkBKBlqdoRsE"
   },
   "outputs": [],
   "source": [
    "batch_size = 16\n",
    "from torch.utils.data import DataLoader\n",
    "test_loader = DataLoader(test_dataset, batch_size=batch_size, shuffle=False, num_workers=4, pin_memory=True)"
   ]
  },
  {
   "cell_type": "code",
   "execution_count": 14,
   "metadata": {
    "colab": {
     "base_uri": "https://localhost:8080/"
    },
    "executionInfo": {
     "elapsed": 2,
     "status": "ok",
     "timestamp": 1742877766011,
     "user": {
      "displayName": "Namhun Kim",
      "userId": "06490179833075519179"
     },
     "user_tz": -540
    },
    "id": "jsNRzKGeoRsF",
    "outputId": "5930fc1f-14c5-49a0-8f4b-7a486bf6e956"
   },
   "outputs": [
    {
     "data": {
      "text/plain": [
       "6025"
      ]
     },
     "execution_count": 14,
     "metadata": {},
     "output_type": "execute_result"
    }
   ],
   "source": [
    "len(test_loader)"
   ]
  },
  {
   "cell_type": "code",
   "execution_count": 38,
   "metadata": {},
   "outputs": [],
   "source": [
    "root = '/root'"
   ]
  },
  {
   "cell_type": "markdown",
   "metadata": {
    "id": "jWsv8T-AoRsF"
   },
   "source": [
    "# 1. REDCNN"
   ]
  },
  {
   "cell_type": "code",
   "execution_count": 18,
   "metadata": {
    "id": "r8WNYlomoRsF",
    "outputId": "841a41ab-a37c-4ad7-a605-60df9dd386c0"
   },
   "outputs": [
    {
     "name": "stdout",
     "output_type": "stream",
     "text": [
      "/root/base\n"
     ]
    }
   ],
   "source": [
    "%cd /root/base"
   ]
  },
  {
   "cell_type": "code",
   "execution_count": 19,
   "metadata": {
    "id": "qlYzAEYXoRsF",
    "outputId": "524ca939-8f54-4628-943f-26120d754ad6"
   },
   "outputs": [
    {
     "data": {
      "text/plain": [
       "device(type='cuda')"
      ]
     },
     "execution_count": 19,
     "metadata": {},
     "output_type": "execute_result"
    }
   ],
   "source": [
    "import torch\n",
    "device = torch.device('cuda' if torch.cuda.is_available() else 'cpu')\n",
    "device"
   ]
  },
  {
   "cell_type": "code",
   "execution_count": 23,
   "metadata": {
    "id": "xPdvvGjAoRsF"
   },
   "outputs": [],
   "source": [
    "import torch\n",
    "import torch.nn as nn\n",
    "\n",
    "class RedCNN(nn.Module):\n",
    "    def __init__(self):\n",
    "        super(RedCNN, self).__init__()\n",
    "\n",
    "        # 인코더 부분\n",
    "        self.conv1 = nn.Conv2d(1, 96, 5, 1, 0)\n",
    "        self.conv2 = nn.Conv2d(96, 96, 5, 1, 0)\n",
    "        self.conv3 = nn.Conv2d(96, 96, 5, 1, 0)\n",
    "        self.conv4 = nn.Conv2d(96, 96, 5, 1, 0)\n",
    "        self.conv5 = nn.Conv2d(96, 96, 5, 1, 0)\n",
    "\n",
    "        # 디코더 부분\n",
    "        self.deconv1 = nn.ConvTranspose2d(96, 96, 5, 1, 0)\n",
    "        self.deconv2 = nn.ConvTranspose2d(96, 96, 5, 1, 0)\n",
    "        self.deconv3 = nn.ConvTranspose2d(96, 96, 5, 1, 0)\n",
    "        self.deconv4 = nn.ConvTranspose2d(96, 96, 5, 1, 0)\n",
    "        self.deconv_last = nn.ConvTranspose2d(96, 1, 5, 1, 0)\n",
    "\n",
    "        self.relu = nn.ReLU()\n",
    "\n",
    "\n",
    "    def forward(self, x):\n",
    "        # 인코더 부분\n",
    "        residual1 = x  # 첫 번째 잔차 저장\n",
    "        x = self.relu(self.conv1(x))\n",
    "        x = self.relu(self.conv2(x))\n",
    "        residual2 = x  # 두 번째 잔차 저장\n",
    "        x = self.relu(self.conv3(x))\n",
    "        x = self.relu(self.conv4(x))\n",
    "        residual3 = x  # 세 번째 잔차 저장\n",
    "        x = self.relu(self.conv5(x))\n",
    "\n",
    "        # 디코더 부분 (잔차를 더해줌)\n",
    "        x = self.relu(self.deconv1(x)) + residual3  # 세 번째 잔차 연결\n",
    "        x = self.relu(self.deconv2(x))\n",
    "        x = self.relu((self.deconv3(x)) + residual2)  # 두 번째 잔차 연결\n",
    "        x = self.relu(self.deconv4(x))\n",
    "        x = self.deconv_last(x) + residual1  # 첫 번째 잔차 연결\n",
    "\n",
    "        return x"
   ]
  },
  {
   "cell_type": "code",
   "execution_count": null,
   "metadata": {},
   "outputs": [],
   "source": [
    "!pwd"
   ]
  },
  {
   "cell_type": "code",
   "execution_count": null,
   "metadata": {},
   "outputs": [],
   "source": [
    "import torch\n",
    "import torch.nn as nn\n",
    "import numpy as np\n",
    "import pandas as pd\n",
    "import os\n",
    "from skimage.metrics import peak_signal_noise_ratio, structural_similarity\n",
    "from tqdm import tqdm\n",
    "\n",
    "criterion = nn.MSELoss()\n",
    "interval = 1000\n",
    "\n",
    "# 저장된 모델들을 평가할 epochs 리스트\n",
    "epochs_list = [1, 5, 10, 20]\n",
    "device = torch.device('cuda' if torch.cuda.is_available() else 'cpu')\n",
    "\n",
    "# 평가 지표 계산 함수\n",
    "def calculate_psnr(y_true, y_pred):\n",
    "    \"\"\"PSNR 계산 함수\"\"\"\n",
    "    y_true = y_true.cpu().numpy()\n",
    "    y_pred = y_pred.cpu().numpy()\n",
    "    return peak_signal_noise_ratio(y_true, y_pred, data_range=1.0)\n",
    "\n",
    "def calculate_ssim(y_true, y_pred):\n",
    "    \"\"\"SSIM 계산 함수\"\"\"\n",
    "    y_true = y_true.squeeze(0).cpu().numpy()\n",
    "    y_pred = y_pred.squeeze(0).cpu().numpy()\n",
    "    return structural_similarity(y_true, y_pred, data_range=1.0)\n",
    "\n",
    "# 각 epoch별 평가 수행\n",
    "for epoch in epochs_list:\n",
    "    model_path = f'redcnn_epoch{epoch}.pth'\n",
    "    \n",
    "    # 모델 파일 존재 여부 확인\n",
    "    if not os.path.exists(model_path):\n",
    "        print(f\"[Epoch {epoch}] 모델 파일이 존재하지 않습니다. 건너뜁니다.\")\n",
    "        continue\n",
    "\n",
    "    print(f\"\\nEvaluating Model at Epoch {epoch}\")\n",
    "    \n",
    "    # 모델 초기화 및 가중치 로드\n",
    "    model = RedCNN().to(device)\n",
    "    model.load_state_dict(torch.load(model_path))\n",
    "    model.eval()\n",
    "\n",
    "    running_loss = 0.0\n",
    "    running_psnr = 0.0\n",
    "    running_ssim = 0.0\n",
    "    psnr_list = []\n",
    "    ssim_list = []\n",
    "    loss_list = []\n",
    "    total_loss = 0\n",
    "\n",
    "    with torch.no_grad():\n",
    "        for i, data in tqdm(enumerate(test_loader), total=len(test_loader), desc=f\"Evaluating Epoch {epoch}\"):\n",
    "            X, y = data[0].to(device), data[1].to(device)\n",
    "            X_hat = model(X)\n",
    "            mse_loss = criterion(X_hat, y)\n",
    "\n",
    "            # RMSE 계산\n",
    "            rms_loss = torch.sqrt(mse_loss)\n",
    "            running_loss += rms_loss.item()\n",
    "\n",
    "            # PSNR, SSIM 계산\n",
    "            for j in range(X.size(0)):  # 배치 내부 개별 이미지에 대해 계산\n",
    "                psnr = calculate_psnr(y[j, :, :, :], X_hat[j, :, :, :])\n",
    "                ssim = calculate_ssim(y[j, :, :, :], X_hat[j, :, :, :])\n",
    "                running_psnr += psnr\n",
    "                running_ssim += ssim\n",
    "\n",
    "            # Interval 출력\n",
    "            if i % interval == interval - 1:\n",
    "                interval_loss = running_loss / interval\n",
    "                interval_psnr = running_psnr / (interval * X.size(0))\n",
    "                interval_ssim = running_ssim / (interval * X.size(0))\n",
    "\n",
    "                loss_list.append(interval_loss)\n",
    "                psnr_list.append(interval_psnr)\n",
    "                ssim_list.append(interval_ssim)\n",
    "\n",
    "                total_loss += interval_loss\n",
    "                running_loss = 0.0\n",
    "                running_psnr = 0.0\n",
    "                running_ssim = 0.0\n",
    "                tqdm.write(f'[Epoch {epoch}] RMSE per interval: {interval_loss:.4f}, PSNR per interval: {interval_psnr:.2f}, SSIM per interval: {interval_ssim:.4f}')\n",
    "\n",
    "    # 평균 RMSE 출력\n",
    "    average_loss = total_loss / len(loss_list) if loss_list else float('inf')\n",
    "    print(f\"[Epoch {epoch}] Average RMSE over all intervals: {average_loss:.6f}\")\n",
    "\n",
    "    # 결과 저장\n",
    "    df = pd.DataFrame({\n",
    "        \"RMSE\": loss_list,\n",
    "        \"PSNR\": psnr_list,\n",
    "        \"SSIM\": ssim_list\n",
    "    })\n",
    "\n",
    "    csv_filename = f\"results_{epoch}.csv\"\n",
    "    df.to_csv(csv_filename, index=False)\n",
    "    print(f\"[Epoch {epoch}] 저장 완료: {csv_filename}\")"
   ]
  },
  {
   "cell_type": "code",
   "execution_count": null,
   "metadata": {
    "id": "RzDhvfVRoRsF",
    "outputId": "7c1f6baf-3503-480d-d427-d5b36536a1c5"
   },
   "outputs": [
    {
     "name": "stderr",
     "output_type": "stream",
     "text": [
      "Evaluating:  17%|█▋        | 1003/6025 [00:38<03:10, 26.29it/s]"
     ]
    },
    {
     "name": "stdout",
     "output_type": "stream",
     "text": [
      "RMSE per interval: 0.0470, PSNR per interval: 27.37, SSIM per interval: 0.6766\n"
     ]
    },
    {
     "name": "stderr",
     "output_type": "stream",
     "text": [
      "Evaluating:  33%|███▎      | 2003/6025 [01:17<02:30, 26.79it/s]"
     ]
    },
    {
     "name": "stdout",
     "output_type": "stream",
     "text": [
      "RMSE per interval: 0.0439, PSNR per interval: 28.13, SSIM per interval: 0.6889\n"
     ]
    },
    {
     "name": "stderr",
     "output_type": "stream",
     "text": [
      "Evaluating:  50%|████▉     | 3005/6025 [01:55<01:50, 27.27it/s]"
     ]
    },
    {
     "name": "stdout",
     "output_type": "stream",
     "text": [
      "RMSE per interval: 0.0446, PSNR per interval: 28.21, SSIM per interval: 0.6949\n"
     ]
    },
    {
     "name": "stderr",
     "output_type": "stream",
     "text": [
      "Evaluating:  66%|██████▋   | 4003/6025 [02:33<01:19, 25.57it/s]"
     ]
    },
    {
     "name": "stdout",
     "output_type": "stream",
     "text": [
      "RMSE per interval: 0.0389, PSNR per interval: 29.06, SSIM per interval: 0.7177\n"
     ]
    },
    {
     "name": "stderr",
     "output_type": "stream",
     "text": [
      "Evaluating:  83%|████████▎ | 5003/6025 [03:12<00:38, 26.28it/s]"
     ]
    },
    {
     "name": "stdout",
     "output_type": "stream",
     "text": [
      "RMSE per interval: 0.0384, PSNR per interval: 29.14, SSIM per interval: 0.6919\n"
     ]
    },
    {
     "name": "stderr",
     "output_type": "stream",
     "text": [
      "Evaluating: 100%|█████████▉| 6004/6025 [03:50<00:00, 31.51it/s]"
     ]
    },
    {
     "name": "stdout",
     "output_type": "stream",
     "text": [
      "RMSE per interval: 0.0357, PSNR per interval: 29.96, SSIM per interval: 0.7395\n"
     ]
    },
    {
     "name": "stderr",
     "output_type": "stream",
     "text": [
      "Evaluating: 100%|██████████| 6025/6025 [03:51<00:00, 26.05it/s]"
     ]
    },
    {
     "name": "stdout",
     "output_type": "stream",
     "text": [
      "Average RMSE over all intervals: 0.041404\n"
     ]
    },
    {
     "name": "stderr",
     "output_type": "stream",
     "text": [
      "\n"
     ]
    }
   ],
   "source": [
    "# import torch\n",
    "# import torch.nn as nn\n",
    "# import numpy as np\n",
    "# from skimage.metrics import peak_signal_noise_ratio, structural_similarity\n",
    "# from tqdm import tqdm\n",
    "\n",
    "# criterion = nn.MSELoss()\n",
    "# interval = 1000\n",
    "\n",
    "# # 저장된 모델 로드\n",
    "# device = torch.device('cuda' if torch.cuda.is_available() else 'cpu')\n",
    "# model = RedCNN().to(device)\n",
    "# model.load_state_dict(torch.load(f'redcnn_{epochs}.pth'))\n",
    "\n",
    "# # 평가 지표 계산 추가\n",
    "# def calculate_psnr(y_true, y_pred):\n",
    "#     \"\"\"PSNR 계산 함수\"\"\"\n",
    "#     y_true = y_true.cpu().numpy()\n",
    "#     y_pred = y_pred.cpu().numpy()\n",
    "#     return peak_signal_noise_ratio(y_true, y_pred, data_range=1.0)  # 정규화된 데이터라면 data_range=1.0\n",
    "\n",
    "# def calculate_ssim(y_true, y_pred):\n",
    "#     \"\"\"SSIM 계산 함수\"\"\"\n",
    "#     y_true = y_true.squeeze(0).cpu().numpy()\n",
    "#     y_pred = y_pred.squeeze(0).cpu().numpy()\n",
    "#     return structural_similarity(y_true, y_pred, data_range=1.0)  # 정규화된 데이터라면 data_range=1.0\n",
    "\n",
    "# # evaluate 부분 + top10 best&worst\n",
    "# model.eval()\n",
    "# running_loss = 0.0\n",
    "# running_psnr = 0.0\n",
    "# running_ssim = 0.0\n",
    "# psnr_list = []\n",
    "# ssim_list = []\n",
    "# loss_list = []\n",
    "# total_loss = 0\n",
    "# best_loss = np.inf\n",
    "# worst_loss = -np.inf\n",
    "\n",
    "# with torch.no_grad():\n",
    "#     for i, data in tqdm(enumerate(test_loader), total=len(test_loader), desc=f\"Evaluating\"):\n",
    "#         X, y = data[0].to(device), data[1].to(device)\n",
    "#         X_hat = model(X)\n",
    "#         mse_loss = criterion(X_hat, y)\n",
    "\n",
    "#         # RMSE 계산\n",
    "#         rms_loss = torch.sqrt(mse_loss)\n",
    "#         running_loss += rms_loss.item()\n",
    "\n",
    "#         # PSNR, SSIM 계산\n",
    "#         for j in range(X.size(0)):  # 배치 내부 개별 이미지에 대해 계산\n",
    "#             psnr = calculate_psnr(y[j, :, :, :], X_hat[j, :, :, :])\n",
    "#             ssim = calculate_ssim(y[j, :, :, :], X_hat[j, :, :, :])\n",
    "#             running_psnr += psnr # batch에 대해 더해준다.\n",
    "#             running_ssim += ssim\n",
    "\n",
    "#         if mse_loss < best_loss:\n",
    "#             best_loss = mse_loss\n",
    "#             best = (X, y, X_hat)\n",
    "#         if mse_loss > worst_loss:\n",
    "#             worst_loss = mse_loss\n",
    "#             worst = (X, y, X_hat)\n",
    "\n",
    "#         if i % interval == interval - 1:\n",
    "#             interval_loss = running_loss / interval\n",
    "#             interval_psnr = running_psnr / (interval * X.size(0)) # batch에 대해 나눠준다\n",
    "#             interval_ssim = running_ssim / (interval * X.size(0))\n",
    "\n",
    "#             loss_list.append(interval_loss)\n",
    "#             psnr_list.append(interval_psnr)\n",
    "#             ssim_list.append(interval_ssim)\n",
    "\n",
    "#             total_loss += interval_loss\n",
    "#             running_loss = 0.0\n",
    "#             running_psnr = 0.0\n",
    "#             running_ssim = 0.0\n",
    "#             tqdm.write(f'RMSE per interval: {interval_loss:.4f}, PSNR per interval: {interval_psnr:.2f}, SSIM per interval: {interval_ssim:.4f}')\n",
    "#             # tqdm.write(f'RMSE per interval: {interval_loss}, PSNR per interval: {interval_psnr}, SSIM per interval: {interval_ssim}')\n",
    "\n",
    "#     # 평균 RMSE 출력\n",
    "# average_loss = total_loss / len(loss_list)\n",
    "# print(f\"Average RMSE over all intervals: {average_loss:.6f}\")"
   ]
  },
  {
   "cell_type": "code",
   "execution_count": 26,
   "metadata": {
    "id": "_J7jButnoRsG",
    "outputId": "159df402-b34f-43ad-d9be-d85194f8a165"
   },
   "outputs": [
    {
     "data": {
      "text/plain": [
       "(6, 6, 6)"
      ]
     },
     "execution_count": 26,
     "metadata": {},
     "output_type": "execute_result"
    }
   ],
   "source": [
    "len(loss_list), len(psnr_list), len(ssim_list)"
   ]
  },
  {
   "cell_type": "code",
   "execution_count": 27,
   "metadata": {
    "id": "vyiVTYlhoRsG",
    "outputId": "9ac30860-7c1e-40ce-ee01-2a213c3febf3"
   },
   "outputs": [
    {
     "data": {
      "text/plain": [
       "[0.04695483331941068,\n",
       " 0.043945035506039856,\n",
       " 0.0445557337263599,\n",
       " 0.038896427400410175,\n",
       " 0.038351357743144035,\n",
       " 0.035719020100310445]"
      ]
     },
     "execution_count": 27,
     "metadata": {},
     "output_type": "execute_result"
    }
   ],
   "source": [
    "rmse_list = loss_list\n",
    "rmse_list"
   ]
  },
  {
   "cell_type": "code",
   "execution_count": 28,
   "metadata": {},
   "outputs": [
    {
     "name": "stdout",
     "output_type": "stream",
     "text": [
      "/root/base\n"
     ]
    }
   ],
   "source": [
    "!pwd"
   ]
  },
  {
   "cell_type": "code",
   "execution_count": null,
   "metadata": {
    "id": "6YEw7QZpoRsG",
    "outputId": "e74b6a07-2d9a-43f6-f500-7cf104a94d7f"
   },
   "outputs": [
    {
     "name": "stdout",
     "output_type": "stream",
     "text": [
      "저장 완료: /root/base/results.csv\n"
     ]
    }
   ],
   "source": [
    "# # 저장하는 코드\n",
    "\n",
    "# import pandas as pd\n",
    "\n",
    "# # 데이터프레임 생성\n",
    "# df = pd.DataFrame({\n",
    "#     \"RMSE\": loss_list,\n",
    "#     \"PSNR\": psnr_list,\n",
    "#     \"SSIM\": ssim_list\n",
    "# })\n",
    "\n",
    "# # CSV 파일 저장\n",
    "# csv_filename = f\"{root}/base/results.csv\"\n",
    "# df.to_csv(csv_filename, index=False)\n",
    "\n",
    "# print(f\"저장 완료: {csv_filename}\")"
   ]
  },
  {
   "cell_type": "code",
   "execution_count": null,
   "metadata": {
    "id": "HIjAH8wuoRsG",
    "outputId": "4f478a69-d8c1-4d31-927b-e20a412234ab"
   },
   "outputs": [
    {
     "name": "stdout",
     "output_type": "stream",
     "text": [
      "       RMSE       PSNR      SSIM\n",
      "0  0.046955  27.371000  0.676597\n",
      "1  0.043945  28.134906  0.688910\n",
      "2  0.044556  28.206019  0.694916\n",
      "3  0.038896  29.056226  0.717701\n",
      "4  0.038351  29.143702  0.691895\n",
      "5  0.035719  29.962605  0.739510 \n",
      "\n",
      "RMSE List: [0.0469548333194106, 0.0439450355060398, 0.0445557337263599, 0.0388964274004101, 0.038351357743144, 0.0357190201003104]\n",
      "PSNR List: [27.371000108446708, 28.13490557974061, 28.206018557433744, 29.05622569361948, 29.14370227522719, 29.962604834715552]\n",
      "SSIM List: [0.676596938518149, 0.6889095985207111, 0.6949160609136568, 0.7177008078848243, 0.6918946477055753, 0.7395095056443397]\n"
     ]
    }
   ],
   "source": [
    "# # 불러오는 코드\n",
    "\n",
    "# import pandas as pd\n",
    "\n",
    "# # CSV 파일 불러오기\n",
    "# csv_filename = f\"{root}/base/results.csv\"\n",
    "# df = pd.read_csv(csv_filename)\n",
    "\n",
    "# # 불러온 데이터 출력\n",
    "# print(df,'\\n')\n",
    "\n",
    "# # 개별 리스트로 변환\n",
    "# loss_list = df[\"RMSE\"].tolist()\n",
    "# psnr_list = df[\"PSNR\"].tolist()\n",
    "# ssim_list = df[\"SSIM\"].tolist()\n",
    "\n",
    "# # 확인 출력\n",
    "# print(\"RMSE List:\", loss_list)\n",
    "# print(\"PSNR List:\", psnr_list)\n",
    "# print(\"SSIM List:\", ssim_list)"
   ]
  },
  {
   "cell_type": "code",
   "execution_count": null,
   "metadata": {
    "id": "fLDe_iWeoRsG",
    "outputId": "d0a0e5b4-6d31-403b-c788-8b7abafd4a8e"
   },
   "outputs": [
    {
     "data": {
      "image/png": "[encoded data removed]",
      "text/plain": [
       "<Figure size 1080x360 with 3 Axes>"
      ]
     },
     "metadata": {
      "needs_background": "light"
     },
     "output_type": "display_data"
    }
   ],
   "source": [
    "# import numpy as np\n",
    "# import matplotlib.pyplot as plt\n",
    "\n",
    "# # 그래프 인덱스 (각 값의 순서를 나타냄)\n",
    "# x_values = np.arange(1, 7)\n",
    "\n",
    "# # 그래프 그리기\n",
    "# fig, axs = plt.subplots(1, 3, figsize=(15, 5))\n",
    "\n",
    "# # RMSE 그래프\n",
    "# axs[0].plot(x_values, rmse_list, marker='o', linestyle='-', color='b', label=\"RMSE\")\n",
    "# axs[0].set_title('RMSE Trend')\n",
    "# axs[0].set_xlabel('Index')\n",
    "# axs[0].set_ylabel('RMSE')\n",
    "# axs[0].grid(True)\n",
    "\n",
    "# # PSNR 그래프\n",
    "# axs[1].plot(x_values, psnr_list, marker='o', linestyle='-', color='g', label=\"PSNR\")\n",
    "# axs[1].set_title('PSNR Trend')\n",
    "# axs[1].set_xlabel('Index')\n",
    "# axs[1].set_ylabel('PSNR')\n",
    "# axs[1].grid(True)\n",
    "\n",
    "# # SSIM 그래프\n",
    "# axs[2].plot(x_values, ssim_list, marker='o', linestyle='-', color='r', label=\"SSIM\")\n",
    "# axs[2].set_title('SSIM Trend')\n",
    "# axs[2].set_xlabel('Index')\n",
    "# axs[2].set_ylabel('SSIM')\n",
    "# axs[2].grid(True)\n",
    "\n",
    "# # 그래프 레이아웃 조정 및 표시\n",
    "# plt.tight_layout()\n",
    "# plt.show()"
   ]
  },
  {
   "cell_type": "code",
   "execution_count": null,
   "metadata": {},
   "outputs": [
    {
     "data": {
      "image/png": "[encoded data removed]",
      "text/plain": [
       "<Figure size 576x360 with 3 Axes>"
      ]
     },
     "metadata": {
      "needs_background": "light"
     },
     "output_type": "display_data"
    }
   ],
   "source": [
    "# import numpy as np\n",
    "# import matplotlib.pyplot as plt\n",
    "\n",
    "# # 정규화 함수 (min-max scaling)\n",
    "# def min_max_scale(data):\n",
    "#     return (data - np.min(data)) / (np.max(data) - np.min(data))\n",
    "\n",
    "# # 정규화\n",
    "# rmse_scaled = min_max_scale(rmse_list)\n",
    "# psnr_scaled = min_max_scale(psnr_list)\n",
    "# ssim_scaled = min_max_scale(ssim_list)\n",
    "\n",
    "# # 그래프 인덱스\n",
    "# x_values = np.arange(1, len(rmse_list) + 1)\n",
    "\n",
    "# # 그래프 그리기\n",
    "# fig, ax1 = plt.subplots(figsize=(8, 5))\n",
    "\n",
    "# # RMSE (파란색 원)\n",
    "# ax1.plot(x_values, rmse_scaled, marker='o', linestyle='-', color='b', label=\"RMSE (scaled)\")\n",
    "# ax1.set_ylabel(\"Normalized Scale (0-1)\", color='black')\n",
    "# ax1.set_xlabel(\"Index\")\n",
    "# ax1.tick_params(axis='y', labelcolor='black')\n",
    "\n",
    "# # PSNR (초록색 사각형, 보조 y축)\n",
    "# ax2 = ax1.twinx()\n",
    "# ax2.plot(x_values, psnr_scaled, marker='s', linestyle='-', color='g', label=\"PSNR (scaled)\")\n",
    "# ax2.tick_params(axis='y', labelcolor='g')\n",
    "\n",
    "# # SSIM (빨간색 삼각형, 추가 y축)\n",
    "# ax3 = ax1.twinx()\n",
    "# ax3.plot(x_values, ssim_scaled, marker='^', linestyle='-', color='r', label=\"SSIM (scaled)\")\n",
    "# ax3.spines['right'].set_position((\"outward\", 60))  # 세 번째 y축을 오른쪽 바깥으로 조정\n",
    "# ax3.tick_params(axis='y', labelcolor='r')\n",
    "\n",
    "# # 제목 및 범례\n",
    "# fig.suptitle(\"RMSE, PSNR, and SSIM Trends (Normalized)\")\n",
    "# ax1.legend(loc=\"upper left\")\n",
    "# ax2.legend(loc=\"upper right\")\n",
    "# ax3.legend(loc=\"lower right\")\n",
    "\n",
    "# # 그래프 표시\n",
    "# plt.show()"
   ]
  },
  {
   "cell_type": "code",
   "execution_count": null,
   "metadata": {},
   "outputs": [
    {
     "name": "stdout",
     "output_type": "stream",
     "text": [
      "RMSE: 0.0414 ± 0.0040\n",
      "PSNR: 28.6457 ± 0.8396\n",
      "SSIM: 0.7016 ± 0.0209\n"
     ]
    }
   ],
   "source": [
    "# # 평균(mean)과 표준편차(sd) 계산\n",
    "# rmse_mean = np.mean(rmse_list)\n",
    "# rmse_sd = np.std(rmse_list)\n",
    "\n",
    "# psnr_mean = np.mean(psnr_list)\n",
    "# psnr_sd = np.std(psnr_list)\n",
    "\n",
    "# ssim_mean = np.mean(ssim_list)\n",
    "# ssim_sd = np.std(ssim_list)\n",
    "\n",
    "# # 결과를 mean ± sd 형식으로 표현\n",
    "# rmse_result = f\"{rmse_mean:.4f} ± {rmse_sd:.4f}\"\n",
    "# psnr_result = f\"{psnr_mean:.4f} ± {psnr_sd:.4f}\"\n",
    "# ssim_result = f\"{ssim_mean:.4f} ± {ssim_sd:.4f}\"\n",
    "\n",
    "# # 결과 출력\n",
    "# print(f\"RMSE: {rmse_result}\")\n",
    "# print(f\"PSNR: {psnr_result}\")\n",
    "# print(f\"SSIM: {ssim_result}\")"
   ]
  },
  {
   "cell_type": "markdown",
   "metadata": {
    "id": "mC0WAPbvoRsG"
   },
   "source": [
    "# 1-2. REDCNN with C.A."
   ]
  },
  {
   "cell_type": "code",
   "execution_count": 35,
   "metadata": {
    "colab": {
     "base_uri": "https://localhost:8080/"
    },
    "executionInfo": {
     "elapsed": 5,
     "status": "ok",
     "timestamp": 1742877772152,
     "user": {
      "displayName": "Namhun Kim",
      "userId": "06490179833075519179"
     },
     "user_tz": -540
    },
    "id": "l5zk_Zb8oRsG",
    "outputId": "e8bef1d3-da80-4669-9051-f839fbdc24ef"
   },
   "outputs": [
    {
     "name": "stdout",
     "output_type": "stream",
     "text": [
      "/root/attention_channel\n"
     ]
    }
   ],
   "source": [
    "%cd {root}/attention_channel"
   ]
  },
  {
   "cell_type": "code",
   "execution_count": null,
   "metadata": {},
   "outputs": [],
   "source": [
    "!pwd"
   ]
  },
  {
   "cell_type": "code",
   "execution_count": 36,
   "metadata": {
    "colab": {
     "base_uri": "https://localhost:8080/"
    },
    "executionInfo": {
     "elapsed": 16,
     "status": "ok",
     "timestamp": 1742877773707,
     "user": {
      "displayName": "Namhun Kim",
      "userId": "06490179833075519179"
     },
     "user_tz": -540
    },
    "id": "jz29YnSFoRsG",
    "outputId": "70e1a939-a3e7-4752-ecb7-46e640781926"
   },
   "outputs": [
    {
     "data": {
      "text/plain": [
       "device(type='cuda')"
      ]
     },
     "execution_count": 36,
     "metadata": {},
     "output_type": "execute_result"
    }
   ],
   "source": [
    "import torch\n",
    "device = torch.device('cuda' if torch.cuda.is_available() else 'cpu')\n",
    "device"
   ]
  },
  {
   "cell_type": "code",
   "execution_count": 37,
   "metadata": {
    "executionInfo": {
     "elapsed": 9,
     "status": "ok",
     "timestamp": 1742877774610,
     "user": {
      "displayName": "Namhun Kim",
      "userId": "06490179833075519179"
     },
     "user_tz": -540
    },
    "id": "4-x6MSZmoRsH"
   },
   "outputs": [],
   "source": [
    "class SEBlock(nn.Module):\n",
    "    def __init__(self, channels, reduction=16):\n",
    "        super(SEBlock, self).__init__()\n",
    "        self.avg_pool = nn.AdaptiveAvgPool2d(1)\n",
    "        self.fc = nn.Sequential(\n",
    "            nn.Linear(channels, channels // reduction, bias=False),\n",
    "            nn.ReLU(inplace=True),\n",
    "            nn.Linear(channels // reduction, channels, bias=False),\n",
    "            nn.Sigmoid()\n",
    "        )\n",
    "        self.last_attention = None  # 저장된 Attention 값을 위한 변수\n",
    "\n",
    "    def forward(self, x):\n",
    "        batch, channels, _, _ = x.size()\n",
    "        # 채널별 전역 평균 풀링\n",
    "        y = self.avg_pool(x).view(batch, channels)\n",
    "        y = self.fc(y).view(batch, channels, 1, 1)\n",
    "        self.last_attention = y  # 계산된 Attention Weight 저장\n",
    "        return x * y"
   ]
  },
  {
   "cell_type": "code",
   "execution_count": 38,
   "metadata": {
    "executionInfo": {
     "elapsed": 3,
     "status": "ok",
     "timestamp": 1742877777383,
     "user": {
      "displayName": "Namhun Kim",
      "userId": "06490179833075519179"
     },
     "user_tz": -540
    },
    "id": "hvjVkMqvoRsH"
   },
   "outputs": [],
   "source": [
    "class RedCNNWithChannelAttention(nn.Module):\n",
    "    def __init__(self):\n",
    "        super(RedCNNWithChannelAttention, self).__init__()\n",
    "\n",
    "        # 인코더 부분\n",
    "        self.conv1 = nn.Conv2d(1, 96, 5, 1, 0)\n",
    "        self.conv2 = nn.Conv2d(96, 96, 5, 1, 0)\n",
    "        self.conv3 = nn.Conv2d(96, 96, 5, 1, 0)\n",
    "        self.conv4 = nn.Conv2d(96, 96, 5, 1, 0)\n",
    "        self.conv5 = nn.Conv2d(96, 96, 5, 1, 0)\n",
    "\n",
    "        # Attention Blocks (효율적 배치)\n",
    "        self.attention2 = SEBlock(96)  # 중간 계층\n",
    "        self.attention3 = SEBlock(96)  # 고수준 특징 계층\n",
    "\n",
    "        # 디코더 부분\n",
    "        self.deconv1 = nn.ConvTranspose2d(96, 96, 5, 1, 0)\n",
    "        self.deconv2 = nn.ConvTranspose2d(96, 96, 5, 1, 0)\n",
    "        self.deconv3 = nn.ConvTranspose2d(96, 96, 5, 1, 0)\n",
    "        self.deconv4 = nn.ConvTranspose2d(96, 96, 5, 1, 0)\n",
    "        self.deconv_last = nn.ConvTranspose2d(96, 1, 5, 1, 0)\n",
    "\n",
    "        self.relu = nn.ReLU()\n",
    "\n",
    "    def forward(self, x):\n",
    "        # 인코더 부분\n",
    "        residual1 = x\n",
    "        x = self.relu(self.conv1(x))\n",
    "        x = self.relu(self.conv2(x))\n",
    "        residual2 = x\n",
    "        x = self.relu(self.conv3(x))\n",
    "        x = self.attention2(x)  # 중간 계층에 Attention\n",
    "        x = self.relu(self.conv4(x))\n",
    "        residual3 = x\n",
    "        x = self.relu(self.conv5(x))\n",
    "        x = self.attention3(x)  # 최종 인코더 계층에 Attention\n",
    "\n",
    "        # 디코더 부분\n",
    "        x = self.relu(self.deconv1(x) + residual3)\n",
    "        x = self.relu(self.deconv2(x))\n",
    "        x = self.relu(self.deconv3(x) + residual2)\n",
    "        x = self.relu(self.deconv4(x))\n",
    "        x = self.deconv_last(x) + residual1\n",
    "\n",
    "        return x"
   ]
  },
  {
   "cell_type": "code",
   "execution_count": null,
   "metadata": {},
   "outputs": [],
   "source": [
    "!pwd"
   ]
  },
  {
   "cell_type": "code",
   "execution_count": null,
   "metadata": {},
   "outputs": [],
   "source": [
    "import torch\n",
    "import torch.nn as nn\n",
    "import numpy as np\n",
    "import pandas as pd\n",
    "import os\n",
    "from skimage.metrics import peak_signal_noise_ratio, structural_similarity\n",
    "from tqdm import tqdm\n",
    "\n",
    "criterion = nn.MSELoss()\n",
    "interval = 1000\n",
    "\n",
    "# 저장된 모델들을 평가할 epochs 리스트\n",
    "epochs_list = [1, 5, 10, 20]\n",
    "device = torch.device('cuda' if torch.cuda.is_available() else 'cpu')\n",
    "\n",
    "# 평가 지표 계산 함수\n",
    "def calculate_psnr(y_true, y_pred):\n",
    "    \"\"\"PSNR 계산 함수\"\"\"\n",
    "    y_true = y_true.cpu().numpy()\n",
    "    y_pred = y_pred.cpu().numpy()\n",
    "    return peak_signal_noise_ratio(y_true, y_pred, data_range=1.0)\n",
    "\n",
    "def calculate_ssim(y_true, y_pred):\n",
    "    \"\"\"SSIM 계산 함수\"\"\"\n",
    "    y_true = y_true.squeeze(0).cpu().numpy()\n",
    "    y_pred = y_pred.squeeze(0).cpu().numpy()\n",
    "    return structural_similarity(y_true, y_pred, data_range=1.0)\n",
    "\n",
    "# 각 epoch별 평가 수행\n",
    "for epoch in epochs_list:\n",
    "    model_path = f'red_cnn_C_A_epoch{epoch}.pth'\n",
    "    \n",
    "    # 모델 파일 존재 여부 확인\n",
    "    if not os.path.exists(model_path):\n",
    "        print(f\"[Epoch {epoch}] 모델 파일이 존재하지 않습니다. 건너뜁니다.\")\n",
    "        continue\n",
    "\n",
    "    print(f\"\\nEvaluating Model at Epoch {epoch}\")\n",
    "    \n",
    "    # 모델 초기화 및 가중치 로드\n",
    "    model = RedCNNWithChannelAttention().to(device)\n",
    "    model.load_state_dict(torch.load(model_path))\n",
    "    model.eval()\n",
    "\n",
    "    running_loss = 0.0\n",
    "    running_psnr = 0.0\n",
    "    running_ssim = 0.0\n",
    "    psnr_list = []\n",
    "    ssim_list = []\n",
    "    loss_list = []\n",
    "    total_loss = 0\n",
    "\n",
    "    with torch.no_grad():\n",
    "        for i, data in tqdm(enumerate(test_loader), total=len(test_loader), desc=f\"Evaluating Epoch {epoch}\"):\n",
    "            X, y = data[0].to(device), data[1].to(device)\n",
    "            X_hat = model(X)\n",
    "            mse_loss = criterion(X_hat, y)\n",
    "\n",
    "            # RMSE 계산\n",
    "            rms_loss = torch.sqrt(mse_loss)\n",
    "            running_loss += rms_loss.item()\n",
    "\n",
    "            # PSNR, SSIM 계산\n",
    "            for j in range(X.size(0)):  # 배치 내부 개별 이미지에 대해 계산\n",
    "                psnr = calculate_psnr(y[j, :, :, :], X_hat[j, :, :, :])\n",
    "                ssim = calculate_ssim(y[j, :, :, :], X_hat[j, :, :, :])\n",
    "                running_psnr += psnr\n",
    "                running_ssim += ssim\n",
    "\n",
    "            # Interval 출력\n",
    "            if i % interval == interval - 1:\n",
    "                interval_loss = running_loss / interval\n",
    "                interval_psnr = running_psnr / (interval * X.size(0))\n",
    "                interval_ssim = running_ssim / (interval * X.size(0))\n",
    "\n",
    "                loss_list.append(interval_loss)\n",
    "                psnr_list.append(interval_psnr)\n",
    "                ssim_list.append(interval_ssim)\n",
    "\n",
    "                total_loss += interval_loss\n",
    "                running_loss = 0.0\n",
    "                running_psnr = 0.0\n",
    "                running_ssim = 0.0\n",
    "                tqdm.write(f'[Epoch {epoch}] RMSE per interval: {interval_loss:.4f}, PSNR per interval: {interval_psnr:.2f}, SSIM per interval: {interval_ssim:.4f}')\n",
    "\n",
    "    # 평균 RMSE 출력\n",
    "    average_loss = total_loss / len(loss_list) if loss_list else float('inf')\n",
    "    print(f\"[Epoch {epoch}] Average RMSE over all intervals: {average_loss:.6f}\")\n",
    "\n",
    "    # 결과 저장\n",
    "    df = pd.DataFrame({\n",
    "        \"RMSE\": loss_list,\n",
    "        \"PSNR\": psnr_list,\n",
    "        \"SSIM\": ssim_list\n",
    "    })\n",
    "\n",
    "    csv_filename = f\"results_{epoch}.csv\"\n",
    "    df.to_csv(csv_filename, index=False)\n",
    "    print(f\"[Epoch {epoch}] 저장 완료: {csv_filename}\")"
   ]
  },
  {
   "cell_type": "code",
   "execution_count": null,
   "metadata": {
    "colab": {
     "base_uri": "https://localhost:8080/"
    },
    "executionInfo": {
     "elapsed": 84715,
     "status": "ok",
     "timestamp": 1742878358648,
     "user": {
      "displayName": "Namhun Kim",
      "userId": "06490179833075519179"
     },
     "user_tz": -540
    },
    "id": "0eYAUAuEoRsH",
    "outputId": "6029ad5c-cc2d-4326-f25b-97f5295b6ff0"
   },
   "outputs": [
    {
     "name": "stderr",
     "output_type": "stream",
     "text": [
      "Evaluating:  17%|█▋        | 1003/6025 [00:38<03:12, 26.05it/s]"
     ]
    },
    {
     "name": "stdout",
     "output_type": "stream",
     "text": [
      "RMSE per interval: 0.0466, PSNR per interval: 27.46, SSIM per interval: 0.6737\n"
     ]
    },
    {
     "name": "stderr",
     "output_type": "stream",
     "text": [
      "Evaluating:  33%|███▎      | 2003/6025 [01:17<02:25, 27.56it/s]"
     ]
    },
    {
     "name": "stdout",
     "output_type": "stream",
     "text": [
      "RMSE per interval: 0.0441, PSNR per interval: 28.21, SSIM per interval: 0.6897\n"
     ]
    },
    {
     "name": "stderr",
     "output_type": "stream",
     "text": [
      "Evaluating:  50%|████▉     | 3004/6025 [01:55<02:04, 24.35it/s]"
     ]
    },
    {
     "name": "stdout",
     "output_type": "stream",
     "text": [
      "RMSE per interval: 0.0445, PSNR per interval: 28.29, SSIM per interval: 0.6989\n"
     ]
    },
    {
     "name": "stderr",
     "output_type": "stream",
     "text": [
      "Evaluating:  66%|██████▋   | 4003/6025 [02:34<01:19, 25.31it/s]"
     ]
    },
    {
     "name": "stdout",
     "output_type": "stream",
     "text": [
      "RMSE per interval: 0.0381, PSNR per interval: 29.33, SSIM per interval: 0.7244\n"
     ]
    },
    {
     "name": "stderr",
     "output_type": "stream",
     "text": [
      "Evaluating:  83%|████████▎ | 5003/6025 [03:13<00:38, 26.25it/s]"
     ]
    },
    {
     "name": "stdout",
     "output_type": "stream",
     "text": [
      "RMSE per interval: 0.0377, PSNR per interval: 29.41, SSIM per interval: 0.7035\n"
     ]
    },
    {
     "name": "stderr",
     "output_type": "stream",
     "text": [
      "Evaluating: 100%|█████████▉| 6005/6025 [03:52<00:00, 25.95it/s]"
     ]
    },
    {
     "name": "stdout",
     "output_type": "stream",
     "text": [
      "RMSE per interval: 0.0358, PSNR per interval: 30.10, SSIM per interval: 0.7458\n"
     ]
    },
    {
     "name": "stderr",
     "output_type": "stream",
     "text": [
      "Evaluating: 100%|██████████| 6025/6025 [03:53<00:00, 25.82it/s]"
     ]
    },
    {
     "name": "stdout",
     "output_type": "stream",
     "text": [
      "Average RMSE over all intervals: 0.041131\n"
     ]
    },
    {
     "name": "stderr",
     "output_type": "stream",
     "text": [
      "\n"
     ]
    }
   ],
   "source": [
    "# import torch\n",
    "# import torch.nn as nn\n",
    "# import numpy as np\n",
    "# from skimage.metrics import peak_signal_noise_ratio, structural_similarity\n",
    "# from tqdm import tqdm\n",
    "\n",
    "# criterion = nn.MSELoss()\n",
    "# interval = 1000\n",
    "\n",
    "# # 저장된 모델 로드\n",
    "# device = torch.device('cuda' if torch.cuda.is_available() else 'cpu')\n",
    "# model = RedCNNWithChannelAttention().to(device)\n",
    "# model.load_state_dict(torch.load(f'red_cnn_C_A_{epochs}.pth'))\n",
    "\n",
    "# # 평가 지표 계산 추가\n",
    "# def calculate_psnr(y_true, y_pred):\n",
    "#     \"\"\"PSNR 계산 함수\"\"\"\n",
    "#     y_true = y_true.cpu().numpy()\n",
    "#     y_pred = y_pred.cpu().numpy()\n",
    "#     return peak_signal_noise_ratio(y_true, y_pred, data_range=1.0)  # 정규화된 데이터라면 data_range=1.0\n",
    "\n",
    "# def calculate_ssim(y_true, y_pred):\n",
    "#     \"\"\"SSIM 계산 함수\"\"\"\n",
    "#     y_true = y_true.squeeze(0).cpu().numpy()\n",
    "#     y_pred = y_pred.squeeze(0).cpu().numpy()\n",
    "#     return structural_similarity(y_true, y_pred, data_range=1.0)  # 정규화된 데이터라면 data_range=1.0\n",
    "\n",
    "# # evaluate 부분 + top10 best&worst\n",
    "# model.eval()\n",
    "# running_loss = 0.0\n",
    "# running_psnr = 0.0\n",
    "# running_ssim = 0.0\n",
    "# psnr_list = []\n",
    "# ssim_list = []\n",
    "# loss_list = []\n",
    "# total_loss = 0\n",
    "# best_loss = np.inf\n",
    "# worst_loss = -np.inf\n",
    "\n",
    "# with torch.no_grad():\n",
    "#     for i, data in tqdm(enumerate(test_loader), total=len(test_loader), desc=f\"Evaluating\"):\n",
    "#         X, y = data[0].to(device), data[1].to(device)\n",
    "#         X_hat = model(X)\n",
    "#         mse_loss = criterion(X_hat, y)\n",
    "\n",
    "#         # RMSE 계산\n",
    "#         rms_loss = torch.sqrt(mse_loss)\n",
    "#         running_loss += rms_loss.item()\n",
    "\n",
    "#         # PSNR, SSIM 계산\n",
    "#         for j in range(X.size(0)):  # 배치 내부 개별 이미지에 대해 계산\n",
    "#             psnr = calculate_psnr(y[j, :, :, :], X_hat[j, :, :, :])\n",
    "#             ssim = calculate_ssim(y[j, :, :, :], X_hat[j, :, :, :])\n",
    "#             running_psnr += psnr # batch에 대해 더해준다.\n",
    "#             running_ssim += ssim\n",
    "\n",
    "#         if mse_loss < best_loss:\n",
    "#             best_loss = mse_loss\n",
    "#             best = (X, y, X_hat)\n",
    "#         if mse_loss > worst_loss:\n",
    "#             worst_loss = mse_loss\n",
    "#             worst = (X, y, X_hat)\n",
    "\n",
    "#         if i % interval == interval - 1:\n",
    "#             interval_loss = running_loss / interval\n",
    "#             interval_psnr = running_psnr / (interval * X.size(0)) # batch에 대해 나눠준다\n",
    "#             interval_ssim = running_ssim / (interval * X.size(0))\n",
    "\n",
    "#             loss_list.append(interval_loss)\n",
    "#             psnr_list.append(interval_psnr)\n",
    "#             ssim_list.append(interval_ssim)\n",
    "\n",
    "#             total_loss += interval_loss\n",
    "#             running_loss = 0.0\n",
    "#             running_psnr = 0.0\n",
    "#             running_ssim = 0.0\n",
    "#             tqdm.write(f'RMSE per interval: {interval_loss:.4f}, PSNR per interval: {interval_psnr:.2f}, SSIM per interval: {interval_ssim:.4f}')\n",
    "#             # tqdm.write(f'RMSE per interval: {interval_loss}, PSNR per interval: {interval_psnr}, SSIM per interval: {interval_ssim}')\n",
    "\n",
    "#     # 평균 RMSE 출력\n",
    "# average_loss = total_loss / len(loss_list)\n",
    "# print(f\"Average RMSE over all intervals: {average_loss:.6f}\")"
   ]
  },
  {
   "cell_type": "code",
   "execution_count": null,
   "metadata": {
    "colab": {
     "base_uri": "https://localhost:8080/"
    },
    "executionInfo": {
     "elapsed": 39,
     "status": "ok",
     "timestamp": 1742878358700,
     "user": {
      "displayName": "Namhun Kim",
      "userId": "06490179833075519179"
     },
     "user_tz": -540
    },
    "id": "mw1Sa78soRsH",
    "outputId": "d1883f3d-3e8f-412e-9b2e-fc6f17551413"
   },
   "outputs": [
    {
     "data": {
      "text/plain": [
       "(6, 6, 6)"
      ]
     },
     "execution_count": 40,
     "metadata": {},
     "output_type": "execute_result"
    }
   ],
   "source": [
    "# len(loss_list), len(psnr_list), len(ssim_list)"
   ]
  },
  {
   "cell_type": "code",
   "execution_count": null,
   "metadata": {
    "colab": {
     "base_uri": "https://localhost:8080/"
    },
    "executionInfo": {
     "elapsed": 3,
     "status": "ok",
     "timestamp": 1742878358704,
     "user": {
      "displayName": "Namhun Kim",
      "userId": "06490179833075519179"
     },
     "user_tz": -540
    },
    "id": "Nc4bcMBgoRsH",
    "outputId": "695b2184-1c99-4725-9f83-a74b659f5037"
   },
   "outputs": [
    {
     "data": {
      "text/plain": [
       "[0.04663510580547154,\n",
       " 0.044072548963129524,\n",
       " 0.044531345320865515,\n",
       " 0.03807630428299308,\n",
       " 0.037717219656333324,\n",
       " 0.03575627517234534]"
      ]
     },
     "execution_count": 41,
     "metadata": {},
     "output_type": "execute_result"
    }
   ],
   "source": [
    "# rmse_list = loss_list\n",
    "# rmse_list"
   ]
  },
  {
   "cell_type": "code",
   "execution_count": null,
   "metadata": {
    "colab": {
     "base_uri": "https://localhost:8080/"
    },
    "executionInfo": {
     "elapsed": 126,
     "status": "ok",
     "timestamp": 1742878361490,
     "user": {
      "displayName": "Namhun Kim",
      "userId": "06490179833075519179"
     },
     "user_tz": -540
    },
    "id": "-Jj5G02spPct",
    "outputId": "72add20b-64fd-4821-bff7-3d65f6c133ea"
   },
   "outputs": [
    {
     "name": "stdout",
     "output_type": "stream",
     "text": [
      "/root/attention_channel\n"
     ]
    }
   ],
   "source": [
    "# !pwd"
   ]
  },
  {
   "cell_type": "code",
   "execution_count": null,
   "metadata": {
    "colab": {
     "base_uri": "https://localhost:8080/"
    },
    "executionInfo": {
     "elapsed": 15,
     "status": "ok",
     "timestamp": 1742878380564,
     "user": {
      "displayName": "Namhun Kim",
      "userId": "06490179833075519179"
     },
     "user_tz": -540
    },
    "id": "1ytI_n-7pKn6",
    "outputId": "cb23933d-b70d-4ab7-c9f3-b0b8039282fb"
   },
   "outputs": [
    {
     "name": "stdout",
     "output_type": "stream",
     "text": [
      "저장 완료: /root/attention_channel/results.csv\n"
     ]
    }
   ],
   "source": [
    "# # 저장하는 코드\n",
    "\n",
    "# import pandas as pd\n",
    "\n",
    "# # 데이터프레임 생성\n",
    "# df = pd.DataFrame({\n",
    "#     \"RMSE\": loss_list,\n",
    "#     \"PSNR\": psnr_list,\n",
    "#     \"SSIM\": ssim_list\n",
    "# })\n",
    "\n",
    "# # CSV 파일 저장\n",
    "# csv_filename = f\"{root}/attention_channel/results.csv\"\n",
    "# df.to_csv(csv_filename, index=False)\n",
    "\n",
    "# print(f\"저장 완료: {csv_filename}\")"
   ]
  },
  {
   "cell_type": "code",
   "execution_count": null,
   "metadata": {
    "colab": {
     "base_uri": "https://localhost:8080/"
    },
    "executionInfo": {
     "elapsed": 7,
     "status": "ok",
     "timestamp": 1742878439634,
     "user": {
      "displayName": "Namhun Kim",
      "userId": "06490179833075519179"
     },
     "user_tz": -540
    },
    "id": "7JzwxujHpd8-",
    "outputId": "37bdfc39-99ac-42a6-db9d-a241454f53dd"
   },
   "outputs": [
    {
     "name": "stdout",
     "output_type": "stream",
     "text": [
      "       RMSE       PSNR      SSIM\n",
      "0  0.046635  27.461906  0.673734\n",
      "1  0.044073  28.206451  0.689694\n",
      "2  0.044531  28.287235  0.698862\n",
      "3  0.038076  29.325519  0.724371\n",
      "4  0.037717  29.412435  0.703514\n",
      "5  0.035756  30.100435  0.745796 \n",
      "\n",
      "RMSE List: [0.0466351058054715, 0.0440725489631295, 0.0445313453208655, 0.038076304282993, 0.0377172196563333, 0.0357562751723453]\n",
      "PSNR List: [27.46190600340232, 28.20645137517561, 28.28723539238857, 29.325518967436206, 29.41243535479707, 30.100435310031525]\n",
      "SSIM List: [0.6737339476550062, 0.6896936758362453, 0.6988624186332398, 0.7243705423738875, 0.7035141124539104, 0.745796373968237]\n"
     ]
    }
   ],
   "source": [
    "# # 불러오는 코드\n",
    "\n",
    "# import pandas as pd\n",
    "\n",
    "# # CSV 파일 불러오기\n",
    "# csv_filename = f\"{root}/attention_channel/results.csv\"\n",
    "# df = pd.read_csv(csv_filename)\n",
    "\n",
    "# # 불러온 데이터 출력\n",
    "# print(df,'\\n')\n",
    "\n",
    "# # 개별 리스트로 변환\n",
    "# loss_list = df[\"RMSE\"].tolist()\n",
    "# psnr_list = df[\"PSNR\"].tolist()\n",
    "# ssim_list = df[\"SSIM\"].tolist()\n",
    "\n",
    "# # 확인 출력\n",
    "# print(\"RMSE List:\", loss_list)\n",
    "# print(\"PSNR List:\", psnr_list)\n",
    "# print(\"SSIM List:\", ssim_list)"
   ]
  },
  {
   "cell_type": "code",
   "execution_count": null,
   "metadata": {
    "colab": {
     "base_uri": "https://localhost:8080/",
     "height": 322
    },
    "executionInfo": {
     "elapsed": 529,
     "status": "ok",
     "timestamp": 1742878449795,
     "user": {
      "displayName": "Namhun Kim",
      "userId": "06490179833075519179"
     },
     "user_tz": -540
    },
    "id": "PDHbm6MSoT55",
    "outputId": "7e4cdbd6-5afc-42f4-b850-90ce1f0acf61"
   },
   "outputs": [
    {
     "data": {
      "image/png": "[encoded data removed]",
      "text/plain": [
       "<Figure size 1080x360 with 3 Axes>"
      ]
     },
     "metadata": {
      "needs_background": "light"
     },
     "output_type": "display_data"
    }
   ],
   "source": [
    "# import numpy as np\n",
    "# import matplotlib.pyplot as plt\n",
    "\n",
    "# # 그래프 인덱스 (각 값의 순서를 나타냄)\n",
    "# x_values = np.arange(1, 7)\n",
    "\n",
    "# # 그래프 그리기\n",
    "# fig, axs = plt.subplots(1, 3, figsize=(15, 5))\n",
    "\n",
    "# # RMSE 그래프\n",
    "# axs[0].plot(x_values, rmse_list, marker='o', linestyle='-', color='b', label=\"RMSE\")\n",
    "# axs[0].set_title('RMSE Trend')\n",
    "# axs[0].set_xlabel('Index')\n",
    "# axs[0].set_ylabel('RMSE')\n",
    "# axs[0].grid(True)\n",
    "\n",
    "# # PSNR 그래프\n",
    "# axs[1].plot(x_values, psnr_list, marker='o', linestyle='-', color='g', label=\"PSNR\")\n",
    "# axs[1].set_title('PSNR Trend')\n",
    "# axs[1].set_xlabel('Index')\n",
    "# axs[1].set_ylabel('PSNR')\n",
    "# axs[1].grid(True)\n",
    "\n",
    "# # SSIM 그래프\n",
    "# axs[2].plot(x_values, ssim_list, marker='o', linestyle='-', color='r', label=\"SSIM\")\n",
    "# axs[2].set_title('SSIM Trend')\n",
    "# axs[2].set_xlabel('Index')\n",
    "# axs[2].set_ylabel('SSIM')\n",
    "# axs[2].grid(True)\n",
    "\n",
    "# # 그래프 레이아웃 조정 및 표시\n",
    "# plt.tight_layout()\n",
    "# plt.show()"
   ]
  },
  {
   "cell_type": "code",
   "execution_count": null,
   "metadata": {
    "colab": {
     "base_uri": "https://localhost:8080/",
     "height": 515
    },
    "executionInfo": {
     "elapsed": 289,
     "status": "ok",
     "timestamp": 1742878457230,
     "user": {
      "displayName": "Namhun Kim",
      "userId": "06490179833075519179"
     },
     "user_tz": -540
    },
    "id": "1IftU9Cao5HY",
    "outputId": "809b5602-dd0f-4781-88f3-d38f6ae114cc"
   },
   "outputs": [
    {
     "data": {
      "image/png": "[encoded data removed]",
      "text/plain": [
       "<Figure size 576x360 with 3 Axes>"
      ]
     },
     "metadata": {
      "needs_background": "light"
     },
     "output_type": "display_data"
    }
   ],
   "source": [
    "# import numpy as np\n",
    "# import matplotlib.pyplot as plt\n",
    "\n",
    "# # 정규화 함수 (min-max scaling)\n",
    "# def min_max_scale(data):\n",
    "#     return (data - np.min(data)) / (np.max(data) - np.min(data))\n",
    "\n",
    "# # 정규화\n",
    "# rmse_scaled = min_max_scale(rmse_list)\n",
    "# psnr_scaled = min_max_scale(psnr_list)\n",
    "# ssim_scaled = min_max_scale(ssim_list)\n",
    "\n",
    "# # 그래프 인덱스\n",
    "# x_values = np.arange(1, len(rmse_list) + 1)\n",
    "\n",
    "# # 그래프 그리기\n",
    "# fig, ax1 = plt.subplots(figsize=(8, 5))\n",
    "\n",
    "# # RMSE (파란색 원)\n",
    "# ax1.plot(x_values, rmse_scaled, marker='o', linestyle='-', color='b', label=\"RMSE (scaled)\")\n",
    "# ax1.set_ylabel(\"Normalized Scale (0-1)\", color='black')\n",
    "# ax1.set_xlabel(\"Index\")\n",
    "# ax1.tick_params(axis='y', labelcolor='black')\n",
    "\n",
    "# # PSNR (초록색 사각형, 보조 y축)\n",
    "# ax2 = ax1.twinx()\n",
    "# ax2.plot(x_values, psnr_scaled, marker='s', linestyle='-', color='g', label=\"PSNR (scaled)\")\n",
    "# ax2.tick_params(axis='y', labelcolor='g')\n",
    "\n",
    "# # SSIM (빨간색 삼각형, 추가 y축)\n",
    "# ax3 = ax1.twinx()\n",
    "# ax3.plot(x_values, ssim_scaled, marker='^', linestyle='-', color='r', label=\"SSIM (scaled)\")\n",
    "# ax3.spines['right'].set_position((\"outward\", 60))  # 세 번째 y축을 오른쪽 바깥으로 조정\n",
    "# ax3.tick_params(axis='y', labelcolor='r')\n",
    "\n",
    "# # 제목 및 범례\n",
    "# fig.suptitle(\"RMSE, PSNR, and SSIM Trends (Normalized)\")\n",
    "# ax1.legend(loc=\"upper left\")\n",
    "# ax2.legend(loc=\"upper right\")\n",
    "# ax3.legend(loc=\"lower right\")\n",
    "\n",
    "# # 그래프 표시\n",
    "# plt.show()"
   ]
  },
  {
   "cell_type": "code",
   "execution_count": null,
   "metadata": {
    "colab": {
     "base_uri": "https://localhost:8080/"
    },
    "executionInfo": {
     "elapsed": 16,
     "status": "ok",
     "timestamp": 1742878484515,
     "user": {
      "displayName": "Namhun Kim",
      "userId": "06490179833075519179"
     },
     "user_tz": -540
    },
    "id": "EIUqAKWmoRsH",
    "outputId": "f862d634-fce4-44ac-ed57-c5d877feefa6"
   },
   "outputs": [
    {
     "name": "stdout",
     "output_type": "stream",
     "text": [
      "RMSE: 0.0411 ± 0.0041\n",
      "PSNR: 28.7990 ± 0.8896\n",
      "SSIM: 0.7060 ± 0.0234\n"
     ]
    }
   ],
   "source": [
    "# # 평균(mean)과 표준편차(sd) 계산\n",
    "# rmse_mean = np.mean(rmse_list)\n",
    "# rmse_sd = np.std(rmse_list)\n",
    "\n",
    "# psnr_mean = np.mean(psnr_list)\n",
    "# psnr_sd = np.std(psnr_list)\n",
    "\n",
    "# ssim_mean = np.mean(ssim_list)\n",
    "# ssim_sd = np.std(ssim_list)\n",
    "\n",
    "# # 결과를 mean ± sd 형식으로 표현\n",
    "# rmse_result = f\"{rmse_mean:.4f} ± {rmse_sd:.4f}\"\n",
    "# psnr_result = f\"{psnr_mean:.4f} ± {psnr_sd:.4f}\"\n",
    "# ssim_result = f\"{ssim_mean:.4f} ± {ssim_sd:.4f}\"\n",
    "\n",
    "# # 결과 출력\n",
    "# print(f\"RMSE: {rmse_result}\")\n",
    "# print(f\"PSNR: {psnr_result}\")\n",
    "# print(f\"SSIM: {ssim_result}\")"
   ]
  },
  {
   "cell_type": "markdown",
   "metadata": {
    "id": "RlnJal0soRsI"
   },
   "source": [
    "# 1-3. REDCNN with S.A."
   ]
  },
  {
   "cell_type": "code",
   "execution_count": 40,
   "metadata": {
    "colab": {
     "base_uri": "https://localhost:8080/"
    },
    "executionInfo": {
     "elapsed": 53,
     "status": "ok",
     "timestamp": 1742878504987,
     "user": {
      "displayName": "Namhun Kim",
      "userId": "06490179833075519179"
     },
     "user_tz": -540
    },
    "id": "FDmuyG5JoRsI",
    "outputId": "c625a4d0-e691-4d50-c88a-1a626a9e770b"
   },
   "outputs": [
    {
     "name": "stdout",
     "output_type": "stream",
     "text": [
      "/root/attention_spatial\n"
     ]
    }
   ],
   "source": [
    "%cd {root}/attention_spatial/"
   ]
  },
  {
   "cell_type": "code",
   "execution_count": 41,
   "metadata": {},
   "outputs": [
    {
     "data": {
      "text/plain": [
       "'/root/attention_spatial'"
      ]
     },
     "execution_count": 41,
     "metadata": {},
     "output_type": "execute_result"
    }
   ],
   "source": [
    "pwd"
   ]
  },
  {
   "cell_type": "code",
   "execution_count": 42,
   "metadata": {
    "colab": {
     "base_uri": "https://localhost:8080/"
    },
    "executionInfo": {
     "elapsed": 16,
     "status": "ok",
     "timestamp": 1742878506581,
     "user": {
      "displayName": "Namhun Kim",
      "userId": "06490179833075519179"
     },
     "user_tz": -540
    },
    "id": "I1-OKJCuoRsN",
    "outputId": "96a25098-ed38-4bfb-ba4f-a984fbc6d94a"
   },
   "outputs": [
    {
     "data": {
      "text/plain": [
       "device(type='cuda')"
      ]
     },
     "execution_count": 42,
     "metadata": {},
     "output_type": "execute_result"
    }
   ],
   "source": [
    "import torch\n",
    "device = torch.device('cuda' if torch.cuda.is_available() else 'cpu')\n",
    "device"
   ]
  },
  {
   "cell_type": "code",
   "execution_count": 43,
   "metadata": {
    "executionInfo": {
     "elapsed": 3,
     "status": "ok",
     "timestamp": 1742878508145,
     "user": {
      "displayName": "Namhun Kim",
      "userId": "06490179833075519179"
     },
     "user_tz": -540
    },
    "id": "5qYYZ3OGoRsN"
   },
   "outputs": [],
   "source": [
    "import torch\n",
    "import torch.nn as nn\n",
    "\n",
    "class SpatialAttention(nn.Module):\n",
    "    def __init__(self, kernel_size=7):\n",
    "        super(SpatialAttention, self).__init__()\n",
    "        assert kernel_size in (3, 7), \"Kernel size must be 3 or 7\"\n",
    "        padding = (kernel_size - 1) // 2 # 동일한 크기를 유지하기 위한 패딩\n",
    "        self.conv = nn.Conv2d(2, 1, kernel_size=kernel_size, padding=padding, bias=False)\n",
    "        self.sigmoid = nn.Sigmoid()\n",
    "        self.last_attention = None  # Attention 값을 저장하는 변수\n",
    "\n",
    "    def forward(self, x):\n",
    "        # 채널 차원을 압축 (Max Pooling과 Average Pooling)\n",
    "        avg_out = torch.mean(x, dim=1, keepdim=True) # Average pooling\n",
    "        max_out, _ = torch.max(x, dim=1, keepdim=True) # Max pooling\n",
    "        combined = torch.cat([avg_out, max_out], dim=1) # 채널 차원에서 결합\n",
    "        # 2D Convolution 적용\n",
    "        attention = self.sigmoid(self.conv(combined)) # [B, 1, H, W]\n",
    "        self.last_attention = attention  # Attention 값을 저장\n",
    "        return x * attention"
   ]
  },
  {
   "cell_type": "code",
   "execution_count": 44,
   "metadata": {
    "executionInfo": {
     "elapsed": 2,
     "status": "ok",
     "timestamp": 1742878510081,
     "user": {
      "displayName": "Namhun Kim",
      "userId": "06490179833075519179"
     },
     "user_tz": -540
    },
    "id": "Dt4yXI0zoRsN"
   },
   "outputs": [],
   "source": [
    "class RedCNNWithSpatialAttention(nn.Module):\n",
    "    def __init__(self):\n",
    "        super(RedCNNWithSpatialAttention, self).__init__()\n",
    "\n",
    "        # 인코더 부분\n",
    "        self.conv1 = nn.Conv2d(1, 96, 5, 1, 0)\n",
    "        self.conv2 = nn.Conv2d(96, 96, 5, 1, 0)\n",
    "        self.conv3 = nn.Conv2d(96, 96, 5, 1, 0)\n",
    "        self.conv4 = nn.Conv2d(96, 96, 5, 1, 0)\n",
    "        self.conv5 = nn.Conv2d(96, 96, 5, 1, 0)\n",
    "\n",
    "        # Spatial Attention Blocks\n",
    "        self.spatial_attention3 = SpatialAttention()\n",
    "        self.spatial_attention5 = SpatialAttention()\n",
    "\n",
    "        # 디코더 부분\n",
    "        self.deconv1 = nn.ConvTranspose2d(96, 96, 5, 1, 0)\n",
    "        self.deconv2 = nn.ConvTranspose2d(96, 96, 5, 1, 0)\n",
    "        self.deconv3 = nn.ConvTranspose2d(96, 96, 5, 1, 0)\n",
    "        self.deconv4 = nn.ConvTranspose2d(96, 96, 5, 1, 0)\n",
    "        self.deconv_last = nn.ConvTranspose2d(96, 1, 5, 1, 0)\n",
    "\n",
    "        self.relu = nn.ReLU()\n",
    "\n",
    "    def forward(self, x):\n",
    "        # 인코더 부분\n",
    "        residual1 = x\n",
    "        x = self.relu(self.conv1(x))\n",
    "        x = self.relu(self.conv2(x))\n",
    "        residual2 = x\n",
    "        x = self.relu(self.conv3(x))\n",
    "        x = self.spatial_attention3(x)  # Spatial Attention (3번째 위치)\n",
    "        x = self.relu(self.conv4(x))\n",
    "        residual3 = x\n",
    "        x = self.relu(self.conv5(x))\n",
    "        x = self.spatial_attention5(x)  # Spatial Attention (5번째 위치)\n",
    "\n",
    "        # 디코더 부분\n",
    "        x = self.relu(self.deconv1(x) + residual3)\n",
    "        x = self.relu(self.deconv2(x))\n",
    "        x = self.relu(self.deconv3(x) + residual2)\n",
    "        x = self.relu(self.deconv4(x))\n",
    "        x = self.deconv_last(x) + residual1\n",
    "\n",
    "        return x"
   ]
  },
  {
   "cell_type": "code",
   "execution_count": 45,
   "metadata": {},
   "outputs": [
    {
     "name": "stdout",
     "output_type": "stream",
     "text": [
      "/root/attention_spatial\n"
     ]
    }
   ],
   "source": [
    "!pwd"
   ]
  },
  {
   "cell_type": "code",
   "execution_count": null,
   "metadata": {},
   "outputs": [
    {
     "name": "stdout",
     "output_type": "stream",
     "text": [
      "\n",
      "Evaluating Model at Epoch 1\n"
     ]
    },
    {
     "name": "stderr",
     "output_type": "stream",
     "text": [
      "Evaluating Epoch 1:  17%|█▋        | 1007/6025 [00:17<01:27, 57.60it/s]"
     ]
    },
    {
     "name": "stdout",
     "output_type": "stream",
     "text": [
      "[Epoch 1] RMSE per interval: 0.0463, PSNR per interval: 27.52, SSIM per interval: 0.6728\n"
     ]
    },
    {
     "name": "stderr",
     "output_type": "stream",
     "text": [
      "Evaluating Epoch 1:  33%|███▎      | 2008/6025 [00:34<01:08, 58.54it/s]"
     ]
    },
    {
     "name": "stdout",
     "output_type": "stream",
     "text": [
      "[Epoch 1] RMSE per interval: 0.0437, PSNR per interval: 28.31, SSIM per interval: 0.6881\n"
     ]
    },
    {
     "name": "stderr",
     "output_type": "stream",
     "text": [
      "Evaluating Epoch 1:  50%|████▉     | 3009/6025 [00:52<00:51, 59.09it/s]"
     ]
    },
    {
     "name": "stdout",
     "output_type": "stream",
     "text": [
      "[Epoch 1] RMSE per interval: 0.0440, PSNR per interval: 28.45, SSIM per interval: 0.6966\n"
     ]
    },
    {
     "name": "stderr",
     "output_type": "stream",
     "text": [
      "Evaluating Epoch 1:  67%|██████▋   | 4010/6025 [01:09<00:33, 59.49it/s]"
     ]
    },
    {
     "name": "stdout",
     "output_type": "stream",
     "text": [
      "[Epoch 1] RMSE per interval: 0.0376, PSNR per interval: 29.44, SSIM per interval: 0.7237\n"
     ]
    },
    {
     "name": "stderr",
     "output_type": "stream",
     "text": [
      "Evaluating Epoch 1:  83%|████████▎ | 5010/6025 [01:26<00:17, 59.35it/s]"
     ]
    },
    {
     "name": "stdout",
     "output_type": "stream",
     "text": [
      "[Epoch 1] RMSE per interval: 0.0372, PSNR per interval: 29.55, SSIM per interval: 0.7033\n"
     ]
    },
    {
     "name": "stderr",
     "output_type": "stream",
     "text": [
      "Evaluating Epoch 1: 100%|█████████▉| 6009/6025 [01:43<00:00, 54.85it/s]"
     ]
    },
    {
     "name": "stdout",
     "output_type": "stream",
     "text": [
      "[Epoch 1] RMSE per interval: 0.0353, PSNR per interval: 30.26, SSIM per interval: 0.7459\n"
     ]
    },
    {
     "name": "stderr",
     "output_type": "stream",
     "text": [
      "Evaluating Epoch 1: 100%|██████████| 6025/6025 [01:44<00:00, 57.77it/s]"
     ]
    },
    {
     "name": "stdout",
     "output_type": "stream",
     "text": [
      "[Epoch 1] Average RMSE over all intervals: 0.040684\n",
      "[Epoch 1] 저장 완료: results_1.csv\n",
      "\n",
      "Evaluating Model at Epoch 5\n"
     ]
    },
    {
     "name": "stderr",
     "output_type": "stream",
     "text": [
      "\n",
      "Evaluating Epoch 5:  17%|█▋        | 1006/6025 [00:17<01:26, 57.75it/s]"
     ]
    },
    {
     "name": "stdout",
     "output_type": "stream",
     "text": [
      "[Epoch 5] RMSE per interval: 0.0444, PSNR per interval: 27.90, SSIM per interval: 0.6828\n"
     ]
    },
    {
     "name": "stderr",
     "output_type": "stream",
     "text": [
      "Evaluating Epoch 5:  33%|███▎      | 2009/6025 [00:34<01:10, 57.33it/s]"
     ]
    },
    {
     "name": "stdout",
     "output_type": "stream",
     "text": [
      "[Epoch 5] RMSE per interval: 0.0418, PSNR per interval: 28.72, SSIM per interval: 0.6999\n"
     ]
    },
    {
     "name": "stderr",
     "output_type": "stream",
     "text": [
      "Evaluating Epoch 5:  50%|████▉     | 3005/6025 [00:51<00:52, 57.38it/s]"
     ]
    },
    {
     "name": "stdout",
     "output_type": "stream",
     "text": [
      "[Epoch 5] RMSE per interval: 0.0419, PSNR per interval: 28.92, SSIM per interval: 0.7099\n"
     ]
    },
    {
     "name": "stderr",
     "output_type": "stream",
     "text": [
      "Evaluating Epoch 5:  67%|██████▋   | 4010/6025 [01:09<00:37, 53.61it/s]"
     ]
    },
    {
     "name": "stdout",
     "output_type": "stream",
     "text": [
      "[Epoch 5] RMSE per interval: 0.0359, PSNR per interval: 29.86, SSIM per interval: 0.7353\n"
     ]
    },
    {
     "name": "stderr",
     "output_type": "stream",
     "text": [
      "Evaluating Epoch 5:  83%|████████▎ | 5007/6025 [01:26<00:17, 58.54it/s]"
     ]
    },
    {
     "name": "stdout",
     "output_type": "stream",
     "text": [
      "[Epoch 5] RMSE per interval: 0.0356, PSNR per interval: 29.96, SSIM per interval: 0.7124\n"
     ]
    },
    {
     "name": "stderr",
     "output_type": "stream",
     "text": [
      "Evaluating Epoch 5: 100%|█████████▉| 6009/6025 [01:46<00:00, 49.71it/s]"
     ]
    },
    {
     "name": "stdout",
     "output_type": "stream",
     "text": [
      "[Epoch 5] RMSE per interval: 0.0334, PSNR per interval: 30.75, SSIM per interval: 0.7561\n"
     ]
    },
    {
     "name": "stderr",
     "output_type": "stream",
     "text": [
      "Evaluating Epoch 5: 100%|██████████| 6025/6025 [01:47<00:00, 56.28it/s]"
     ]
    },
    {
     "name": "stdout",
     "output_type": "stream",
     "text": [
      "[Epoch 5] Average RMSE over all intervals: 0.038831\n",
      "[Epoch 5] 저장 완료: results_5.csv\n",
      "\n",
      "Evaluating Model at Epoch 10\n"
     ]
    },
    {
     "name": "stderr",
     "output_type": "stream",
     "text": [
      "\n",
      "Evaluating Epoch 10:  17%|█▋        | 1010/6025 [00:20<01:40, 49.79it/s]"
     ]
    },
    {
     "name": "stdout",
     "output_type": "stream",
     "text": [
      "[Epoch 10] RMSE per interval: 0.0440, PSNR per interval: 27.98, SSIM per interval: 0.6846\n"
     ]
    },
    {
     "name": "stderr",
     "output_type": "stream",
     "text": [
      "Evaluating Epoch 10:  33%|███▎      | 2008/6025 [00:40<01:19, 50.70it/s]"
     ]
    },
    {
     "name": "stdout",
     "output_type": "stream",
     "text": [
      "[Epoch 10] RMSE per interval: 0.0414, PSNR per interval: 28.81, SSIM per interval: 0.7021\n"
     ]
    },
    {
     "name": "stderr",
     "output_type": "stream",
     "text": [
      "Evaluating Epoch 10:  50%|████▉     | 3008/6025 [00:59<00:52, 57.17it/s]"
     ]
    },
    {
     "name": "stdout",
     "output_type": "stream",
     "text": [
      "[Epoch 10] RMSE per interval: 0.0414, PSNR per interval: 29.01, SSIM per interval: 0.7117\n"
     ]
    },
    {
     "name": "stderr",
     "output_type": "stream",
     "text": [
      "Evaluating Epoch 10:  67%|██████▋   | 4011/6025 [01:16<00:33, 60.26it/s]"
     ]
    },
    {
     "name": "stdout",
     "output_type": "stream",
     "text": [
      "[Epoch 10] RMSE per interval: 0.0355, PSNR per interval: 29.95, SSIM per interval: 0.7375\n"
     ]
    },
    {
     "name": "stderr",
     "output_type": "stream",
     "text": [
      "Evaluating Epoch 10:  83%|████████▎ | 5008/6025 [01:33<00:16, 60.84it/s]"
     ]
    },
    {
     "name": "stdout",
     "output_type": "stream",
     "text": [
      "[Epoch 10] RMSE per interval: 0.0352, PSNR per interval: 30.05, SSIM per interval: 0.7145\n"
     ]
    },
    {
     "name": "stderr",
     "output_type": "stream",
     "text": [
      "Evaluating Epoch 10: 100%|█████████▉| 6009/6025 [01:51<00:00, 57.17it/s]"
     ]
    },
    {
     "name": "stdout",
     "output_type": "stream",
     "text": [
      "[Epoch 10] RMSE per interval: 0.0330, PSNR per interval: 30.84, SSIM per interval: 0.7583\n"
     ]
    },
    {
     "name": "stderr",
     "output_type": "stream",
     "text": [
      "Evaluating Epoch 10: 100%|██████████| 6025/6025 [01:51<00:00, 54.00it/s]"
     ]
    },
    {
     "name": "stdout",
     "output_type": "stream",
     "text": [
      "[Epoch 10] Average RMSE over all intervals: 0.038431\n",
      "[Epoch 10] 저장 완료: results_10.csv\n",
      "\n",
      "Evaluating Model at Epoch 20\n"
     ]
    },
    {
     "name": "stderr",
     "output_type": "stream",
     "text": [
      "\n",
      "Evaluating Epoch 20:  17%|█▋        | 1005/6025 [00:17<01:23, 60.03it/s]"
     ]
    },
    {
     "name": "stdout",
     "output_type": "stream",
     "text": [
      "[Epoch 20] RMSE per interval: 0.0435, PSNR per interval: 28.08, SSIM per interval: 0.6800\n"
     ]
    },
    {
     "name": "stderr",
     "output_type": "stream",
     "text": [
      "Evaluating Epoch 20:  33%|███▎      | 2010/6025 [00:34<01:08, 58.52it/s]"
     ]
    },
    {
     "name": "stdout",
     "output_type": "stream",
     "text": [
      "[Epoch 20] RMSE per interval: 0.0412, PSNR per interval: 28.87, SSIM per interval: 0.6979\n"
     ]
    },
    {
     "name": "stderr",
     "output_type": "stream",
     "text": [
      "Evaluating Epoch 20:  50%|████▉     | 3006/6025 [00:51<00:50, 59.41it/s]"
     ]
    },
    {
     "name": "stdout",
     "output_type": "stream",
     "text": [
      "[Epoch 20] RMSE per interval: 0.0411, PSNR per interval: 29.08, SSIM per interval: 0.7072\n"
     ]
    },
    {
     "name": "stderr",
     "output_type": "stream",
     "text": [
      "Evaluating Epoch 20:  67%|██████▋   | 4010/6025 [01:09<00:34, 57.59it/s]"
     ]
    },
    {
     "name": "stdout",
     "output_type": "stream",
     "text": [
      "[Epoch 20] RMSE per interval: 0.0351, PSNR per interval: 30.05, SSIM per interval: 0.7353\n"
     ]
    },
    {
     "name": "stderr",
     "output_type": "stream",
     "text": [
      "Evaluating Epoch 20:  83%|████████▎ | 5009/6025 [01:26<00:17, 57.21it/s]"
     ]
    },
    {
     "name": "stdout",
     "output_type": "stream",
     "text": [
      "[Epoch 20] RMSE per interval: 0.0350, PSNR per interval: 30.12, SSIM per interval: 0.7121\n"
     ]
    },
    {
     "name": "stderr",
     "output_type": "stream",
     "text": [
      "Evaluating Epoch 20: 100%|█████████▉| 6005/6025 [01:43<00:00, 55.72it/s]"
     ]
    },
    {
     "name": "stdout",
     "output_type": "stream",
     "text": [
      "[Epoch 20] RMSE per interval: 0.0328, PSNR per interval: 30.89, SSIM per interval: 0.7552\n"
     ]
    },
    {
     "name": "stderr",
     "output_type": "stream",
     "text": [
      "Evaluating Epoch 20: 100%|██████████| 6025/6025 [01:44<00:00, 57.88it/s]"
     ]
    },
    {
     "name": "stdout",
     "output_type": "stream",
     "text": [
      "[Epoch 20] Average RMSE over all intervals: 0.038105\n",
      "[Epoch 20] 저장 완료: results_20.csv\n",
      "[Epoch 30] 모델 파일이 존재하지 않습니다. 건너뜁니다.\n"
     ]
    },
    {
     "name": "stderr",
     "output_type": "stream",
     "text": [
      "\n"
     ]
    }
   ],
   "source": [
    "import torch\n",
    "import torch.nn as nn\n",
    "import numpy as np\n",
    "import pandas as pd\n",
    "import os\n",
    "from skimage.metrics import peak_signal_noise_ratio, structural_similarity\n",
    "from tqdm import tqdm\n",
    "\n",
    "criterion = nn.MSELoss()\n",
    "interval = 1000\n",
    "\n",
    "# 저장된 모델들을 평가할 epochs 리스트\n",
    "epochs_list = [1, 5, 10, 20]\n",
    "device = torch.device('cuda' if torch.cuda.is_available() else 'cpu')\n",
    "\n",
    "# 평가 지표 계산 함수\n",
    "def calculate_psnr(y_true, y_pred):\n",
    "    \"\"\"PSNR 계산 함수\"\"\"\n",
    "    y_true = y_true.cpu().numpy()\n",
    "    y_pred = y_pred.cpu().numpy()\n",
    "    return peak_signal_noise_ratio(y_true, y_pred, data_range=1.0)\n",
    "\n",
    "def calculate_ssim(y_true, y_pred):\n",
    "    \"\"\"SSIM 계산 함수\"\"\"\n",
    "    y_true = y_true.squeeze(0).cpu().numpy()\n",
    "    y_pred = y_pred.squeeze(0).cpu().numpy()\n",
    "    return structural_similarity(y_true, y_pred, data_range=1.0)\n",
    "\n",
    "# 각 epoch별 평가 수행\n",
    "for epoch in epochs_list:\n",
    "    model_path = f'red_cnn_S_A_epoch{epoch}.pth'\n",
    "    \n",
    "    # 모델 파일 존재 여부 확인\n",
    "    if not os.path.exists(model_path):\n",
    "        print(f\"[Epoch {epoch}] 모델 파일이 존재하지 않습니다. 건너뜁니다.\")\n",
    "        continue\n",
    "\n",
    "    print(f\"\\nEvaluating Model at Epoch {epoch}\")\n",
    "    \n",
    "    # 모델 초기화 및 가중치 로드\n",
    "    model = RedCNNWithSpatialAttention().to(device)\n",
    "    model.load_state_dict(torch.load(model_path))\n",
    "    model.eval()\n",
    "\n",
    "    running_loss = 0.0\n",
    "    running_psnr = 0.0\n",
    "    running_ssim = 0.0\n",
    "    psnr_list = []\n",
    "    ssim_list = []\n",
    "    loss_list = []\n",
    "    total_loss = 0\n",
    "\n",
    "    with torch.no_grad():\n",
    "        for i, data in tqdm(enumerate(test_loader), total=len(test_loader), desc=f\"Evaluating Epoch {epoch}\"):\n",
    "            X, y = data[0].to(device), data[1].to(device)\n",
    "            X_hat = model(X)\n",
    "            mse_loss = criterion(X_hat, y)\n",
    "\n",
    "            # RMSE 계산\n",
    "            rms_loss = torch.sqrt(mse_loss)\n",
    "            running_loss += rms_loss.item()\n",
    "\n",
    "            # PSNR, SSIM 계산\n",
    "            for j in range(X.size(0)):  # 배치 내부 개별 이미지에 대해 계산\n",
    "                psnr = calculate_psnr(y[j, :, :, :], X_hat[j, :, :, :])\n",
    "                ssim = calculate_ssim(y[j, :, :, :], X_hat[j, :, :, :])\n",
    "                running_psnr += psnr\n",
    "                running_ssim += ssim\n",
    "\n",
    "            # Interval 출력\n",
    "            if i % interval == interval - 1:\n",
    "                interval_loss = running_loss / interval\n",
    "                interval_psnr = running_psnr / (interval * X.size(0))\n",
    "                interval_ssim = running_ssim / (interval * X.size(0))\n",
    "\n",
    "                loss_list.append(interval_loss)\n",
    "                psnr_list.append(interval_psnr)\n",
    "                ssim_list.append(interval_ssim)\n",
    "\n",
    "                total_loss += interval_loss\n",
    "                running_loss = 0.0\n",
    "                running_psnr = 0.0\n",
    "                running_ssim = 0.0\n",
    "                tqdm.write(f'[Epoch {epoch}] RMSE per interval: {interval_loss:.4f}, PSNR per interval: {interval_psnr:.2f}, SSIM per interval: {interval_ssim:.4f}')\n",
    "\n",
    "    # 평균 RMSE 출력\n",
    "    average_loss = total_loss / len(loss_list) if loss_list else float('inf')\n",
    "    print(f\"[Epoch {epoch}] Average RMSE over all intervals: {average_loss:.6f}\")\n",
    "\n",
    "    # 결과 저장\n",
    "    df = pd.DataFrame({\n",
    "        \"RMSE\": loss_list,\n",
    "        \"PSNR\": psnr_list,\n",
    "        \"SSIM\": ssim_list\n",
    "    })\n",
    "\n",
    "    csv_filename = f\"results_{epoch}.csv\"\n",
    "    df.to_csv(csv_filename, index=False)\n",
    "    print(f\"[Epoch {epoch}] 저장 완료: {csv_filename}\")"
   ]
  },
  {
   "cell_type": "code",
   "execution_count": null,
   "metadata": {
    "colab": {
     "base_uri": "https://localhost:8080/"
    },
    "executionInfo": {
     "elapsed": 84290,
     "status": "ok",
     "timestamp": 1742878597331,
     "user": {
      "displayName": "Namhun Kim",
      "userId": "06490179833075519179"
     },
     "user_tz": -540
    },
    "id": "Xt8eE7bZoRsN",
    "outputId": "2a44c659-6e89-4d1c-8e5c-015fb82bf942"
   },
   "outputs": [
    {
     "name": "stderr",
     "output_type": "stream",
     "text": [
      "Evaluating:  17%|█▋        | 1003/6025 [00:32<02:31, 33.18it/s]"
     ]
    },
    {
     "name": "stdout",
     "output_type": "stream",
     "text": [
      "RMSE per interval: 0.0434, PSNR per interval: 28.10, SSIM per interval: 0.6842\n"
     ]
    },
    {
     "name": "stderr",
     "output_type": "stream",
     "text": [
      "Evaluating:  33%|███▎      | 2005/6025 [01:02<02:07, 31.44it/s]"
     ]
    },
    {
     "name": "stdout",
     "output_type": "stream",
     "text": [
      "RMSE per interval: 0.0410, PSNR per interval: 28.90, SSIM per interval: 0.7019\n"
     ]
    },
    {
     "name": "stderr",
     "output_type": "stream",
     "text": [
      "Evaluating:  50%|████▉     | 3005/6025 [01:34<01:35, 31.56it/s]"
     ]
    },
    {
     "name": "stdout",
     "output_type": "stream",
     "text": [
      "RMSE per interval: 0.0409, PSNR per interval: 29.13, SSIM per interval: 0.7118\n"
     ]
    },
    {
     "name": "stderr",
     "output_type": "stream",
     "text": [
      "Evaluating:  66%|██████▋   | 4005/6025 [02:05<00:53, 37.73it/s]"
     ]
    },
    {
     "name": "stdout",
     "output_type": "stream",
     "text": [
      "RMSE per interval: 0.0350, PSNR per interval: 30.07, SSIM per interval: 0.7383\n"
     ]
    },
    {
     "name": "stderr",
     "output_type": "stream",
     "text": [
      "Evaluating:  83%|████████▎ | 5004/6025 [02:36<00:31, 32.40it/s]"
     ]
    },
    {
     "name": "stdout",
     "output_type": "stream",
     "text": [
      "RMSE per interval: 0.0349, PSNR per interval: 30.14, SSIM per interval: 0.7147\n"
     ]
    },
    {
     "name": "stderr",
     "output_type": "stream",
     "text": [
      "Evaluating: 100%|█████████▉| 6004/6025 [03:08<00:00, 30.47it/s]"
     ]
    },
    {
     "name": "stdout",
     "output_type": "stream",
     "text": [
      "RMSE per interval: 0.0326, PSNR per interval: 30.93, SSIM per interval: 0.7582\n"
     ]
    },
    {
     "name": "stderr",
     "output_type": "stream",
     "text": [
      "Evaluating: 100%|██████████| 6025/6025 [03:09<00:00, 31.78it/s]"
     ]
    },
    {
     "name": "stdout",
     "output_type": "stream",
     "text": [
      "Average RMSE over all intervals: 0.037975\n"
     ]
    },
    {
     "name": "stderr",
     "output_type": "stream",
     "text": [
      "\n"
     ]
    }
   ],
   "source": [
    "# import torch\n",
    "# import torch.nn as nn\n",
    "# import numpy as np\n",
    "# from skimage.metrics import peak_signal_noise_ratio, structural_similarity\n",
    "# from tqdm import tqdm\n",
    "\n",
    "# criterion = nn.MSELoss()\n",
    "# interval = 1000\n",
    "\n",
    "# # 저장된 모델 로드\n",
    "# device = torch.device('cuda' if torch.cuda.is_available() else 'cpu')\n",
    "# model = RedCNNWithSpatialAttention().to(device)\n",
    "# model.load_state_dict(torch.load(f'red_cnn_S_A_{epochs}.pth'))\n",
    "\n",
    "# # 평가 지표 계산 추가\n",
    "# def calculate_psnr(y_true, y_pred):\n",
    "#     \"\"\"PSNR 계산 함수\"\"\"\n",
    "#     y_true = y_true.cpu().numpy()\n",
    "#     y_pred = y_pred.cpu().numpy()\n",
    "#     return peak_signal_noise_ratio(y_true, y_pred, data_range=1.0)  # 정규화된 데이터라면 data_range=1.0\n",
    "\n",
    "# def calculate_ssim(y_true, y_pred):\n",
    "#     \"\"\"SSIM 계산 함수\"\"\"\n",
    "#     y_true = y_true.squeeze(0).cpu().numpy()\n",
    "#     y_pred = y_pred.squeeze(0).cpu().numpy()\n",
    "#     return structural_similarity(y_true, y_pred, data_range=1.0)  # 정규화된 데이터라면 data_range=1.0\n",
    "\n",
    "# # evaluate 부분 + top10 best&worst\n",
    "# model.eval()\n",
    "# running_loss = 0.0\n",
    "# running_psnr = 0.0\n",
    "# running_ssim = 0.0\n",
    "# psnr_list = []\n",
    "# ssim_list = []\n",
    "# loss_list = []\n",
    "# total_loss = 0\n",
    "# best_loss = np.inf\n",
    "# worst_loss = -np.inf\n",
    "\n",
    "# with torch.no_grad():\n",
    "#     for i, data in tqdm(enumerate(test_loader), total=len(test_loader), desc=f\"Evaluating\"):\n",
    "#         X, y = data[0].to(device), data[1].to(device)\n",
    "#         X_hat = model(X)\n",
    "#         mse_loss = criterion(X_hat, y)\n",
    "\n",
    "#         # RMSE 계산\n",
    "#         rms_loss = torch.sqrt(mse_loss)\n",
    "#         running_loss += rms_loss.item()\n",
    "\n",
    "#         # PSNR, SSIM 계산\n",
    "#         for j in range(X.size(0)):  # 배치 내부 개별 이미지에 대해 계산\n",
    "#             psnr = calculate_psnr(y[j, :, :, :], X_hat[j, :, :, :])\n",
    "#             ssim = calculate_ssim(y[j, :, :, :], X_hat[j, :, :, :])\n",
    "#             running_psnr += psnr # batch에 대해 더해준다.\n",
    "#             running_ssim += ssim\n",
    "\n",
    "#         if mse_loss < best_loss:\n",
    "#             best_loss = mse_loss\n",
    "#             best = (X, y, X_hat)\n",
    "#         if mse_loss > worst_loss:\n",
    "#             worst_loss = mse_loss\n",
    "#             worst = (X, y, X_hat)\n",
    "\n",
    "#         if i % interval == interval - 1:\n",
    "#             interval_loss = running_loss / interval\n",
    "#             interval_psnr = running_psnr / (interval * X.size(0)) # batch에 대해 나눠준다\n",
    "#             interval_ssim = running_ssim / (interval * X.size(0))\n",
    "\n",
    "#             loss_list.append(interval_loss)\n",
    "#             psnr_list.append(interval_psnr)\n",
    "#             ssim_list.append(interval_ssim)\n",
    "\n",
    "#             total_loss += interval_loss\n",
    "#             running_loss = 0.0\n",
    "#             running_psnr = 0.0\n",
    "#             running_ssim = 0.0\n",
    "#             tqdm.write(f'RMSE per interval: {interval_loss:.4f}, PSNR per interval: {interval_psnr:.2f}, SSIM per interval: {interval_ssim:.4f}')\n",
    "#             # tqdm.write(f'RMSE per interval: {interval_loss}, PSNR per interval: {interval_psnr}, SSIM per interval: {interval_ssim}')\n",
    "\n",
    "#     # 평균 RMSE 출력\n",
    "# average_loss = total_loss / len(loss_list)\n",
    "# print(f\"Average RMSE over all intervals: {average_loss:.6f}\")"
   ]
  },
  {
   "cell_type": "code",
   "execution_count": null,
   "metadata": {
    "colab": {
     "base_uri": "https://localhost:8080/"
    },
    "executionInfo": {
     "elapsed": 5,
     "status": "ok",
     "timestamp": 1742878640310,
     "user": {
      "displayName": "Namhun Kim",
      "userId": "06490179833075519179"
     },
     "user_tz": -540
    },
    "id": "R0RgDszyoRsN",
    "outputId": "42f0d421-1f5c-4db2-f144-444447d112da"
   },
   "outputs": [
    {
     "data": {
      "text/plain": [
       "(6, 6, 6)"
      ]
     },
     "execution_count": 191,
     "metadata": {},
     "output_type": "execute_result"
    }
   ],
   "source": [
    "# len(loss_list), len(psnr_list), len(ssim_list)"
   ]
  },
  {
   "cell_type": "code",
   "execution_count": null,
   "metadata": {
    "colab": {
     "base_uri": "https://localhost:8080/"
    },
    "executionInfo": {
     "elapsed": 9,
     "status": "ok",
     "timestamp": 1742878642746,
     "user": {
      "displayName": "Namhun Kim",
      "userId": "06490179833075519179"
     },
     "user_tz": -540
    },
    "id": "rVU_4PcqoRsN",
    "outputId": "40ac9a84-52cf-4410-de97-2fcd582bfb2e"
   },
   "outputs": [
    {
     "data": {
      "text/plain": [
       "[0.0434246192779392,\n",
       " 0.040998989977873865,\n",
       " 0.04091860427707434,\n",
       " 0.035001874754205346,\n",
       " 0.0348738474342972,\n",
       " 0.032634458534419535]"
      ]
     },
     "execution_count": 192,
     "metadata": {},
     "output_type": "execute_result"
    }
   ],
   "source": [
    "# rmse_list = loss_list\n",
    "# rmse_list"
   ]
  },
  {
   "cell_type": "code",
   "execution_count": null,
   "metadata": {
    "colab": {
     "base_uri": "https://localhost:8080/"
    },
    "executionInfo": {
     "elapsed": 163,
     "status": "ok",
     "timestamp": 1742878649902,
     "user": {
      "displayName": "Namhun Kim",
      "userId": "06490179833075519179"
     },
     "user_tz": -540
    },
    "id": "5cCwU1V9qaad",
    "outputId": "89745233-8bac-48f1-c32c-28a8d709e912"
   },
   "outputs": [
    {
     "name": "stdout",
     "output_type": "stream",
     "text": [
      "/root/attention_spatial\n"
     ]
    }
   ],
   "source": [
    "# !pwd"
   ]
  },
  {
   "cell_type": "code",
   "execution_count": null,
   "metadata": {
    "colab": {
     "base_uri": "https://localhost:8080/"
    },
    "executionInfo": {
     "elapsed": 23,
     "status": "ok",
     "timestamp": 1742878664291,
     "user": {
      "displayName": "Namhun Kim",
      "userId": "06490179833075519179"
     },
     "user_tz": -540
    },
    "id": "TcA7Xr9YqbsO",
    "outputId": "b00e046f-c031-44ea-d114-b5dd4e339030"
   },
   "outputs": [
    {
     "name": "stdout",
     "output_type": "stream",
     "text": [
      "저장 완료: /root/attention_spatial/results.csv\n"
     ]
    }
   ],
   "source": [
    "# # 저장하는 코드\n",
    "\n",
    "# import pandas as pd\n",
    "\n",
    "# # 데이터프레임 생성\n",
    "# df = pd.DataFrame({\n",
    "#     \"RMSE\": loss_list,\n",
    "#     \"PSNR\": psnr_list,\n",
    "#     \"SSIM\": ssim_list\n",
    "# })\n",
    "\n",
    "# # CSV 파일 저장\n",
    "# csv_filename = f\"{root}/attention_spatial/results.csv\"\n",
    "# df.to_csv(csv_filename, index=False)\n",
    "\n",
    "# print(f\"저장 완료: {csv_filename}\")"
   ]
  },
  {
   "cell_type": "code",
   "execution_count": null,
   "metadata": {
    "colab": {
     "base_uri": "https://localhost:8080/"
    },
    "executionInfo": {
     "elapsed": 5,
     "status": "ok",
     "timestamp": 1742878679076,
     "user": {
      "displayName": "Namhun Kim",
      "userId": "06490179833075519179"
     },
     "user_tz": -540
    },
    "id": "rKCR4HDRqfqa",
    "outputId": "cf73b130-e497-4766-b464-2308f44517bc"
   },
   "outputs": [
    {
     "name": "stdout",
     "output_type": "stream",
     "text": [
      "       RMSE       PSNR      SSIM\n",
      "0  0.043425  28.102589  0.684205\n",
      "1  0.040999  28.903337  0.701939\n",
      "2  0.040919  29.126717  0.711839\n",
      "3  0.035002  30.072307  0.738309\n",
      "4  0.034874  30.144735  0.714661\n",
      "5  0.032634  30.933748  0.758179 \n",
      "\n",
      "RMSE List: [0.0434246192779392, 0.0409989899778738, 0.0409186042770743, 0.0350018747542053, 0.0348738474342972, 0.0326344585344195]\n",
      "PSNR List: [28.10258870148757, 28.903337222949247, 29.12671727716961, 30.07230733239756, 30.144735260959887, 30.93374777042707]\n",
      "SSIM List: [0.6842051089952907, 0.7019388751063982, 0.7118388545007611, 0.7383085177371773, 0.71466132965685, 0.7581789903657306]\n"
     ]
    }
   ],
   "source": [
    "# # 불러오는 코드\n",
    "\n",
    "# import pandas as pd\n",
    "\n",
    "# # CSV 파일 불러오기\n",
    "# csv_filename = f\"{root}/attention_spatial/results.csv\"\n",
    "# df = pd.read_csv(csv_filename)\n",
    "\n",
    "# # 불러온 데이터 출력\n",
    "# print(df,'\\n')\n",
    "\n",
    "# # 개별 리스트로 변환\n",
    "# loss_list = df[\"RMSE\"].tolist()\n",
    "# psnr_list = df[\"PSNR\"].tolist()\n",
    "# ssim_list = df[\"SSIM\"].tolist()\n",
    "\n",
    "# # 확인 출력\n",
    "# print(\"RMSE List:\", loss_list)\n",
    "# print(\"PSNR List:\", psnr_list)\n",
    "# print(\"SSIM List:\", ssim_list)"
   ]
  },
  {
   "cell_type": "code",
   "execution_count": null,
   "metadata": {
    "colab": {
     "base_uri": "https://localhost:8080/",
     "height": 322
    },
    "executionInfo": {
     "elapsed": 420,
     "status": "ok",
     "timestamp": 1742878689101,
     "user": {
      "displayName": "Namhun Kim",
      "userId": "06490179833075519179"
     },
     "user_tz": -540
    },
    "id": "GAADrysOoRsN",
    "outputId": "360da9d6-084c-49fa-9bfe-a7483c3f847f"
   },
   "outputs": [
    {
     "data": {
      "image/png": "[encoded data removed]",
      "text/plain": [
       "<Figure size 1080x360 with 3 Axes>"
      ]
     },
     "metadata": {
      "needs_background": "light"
     },
     "output_type": "display_data"
    }
   ],
   "source": [
    "# import numpy as np\n",
    "# import matplotlib.pyplot as plt\n",
    "\n",
    "# # 그래프 인덱스 (각 값의 순서를 나타냄)\n",
    "# x_values = np.arange(1, 7)\n",
    "\n",
    "# # 그래프 그리기\n",
    "# fig, axs = plt.subplots(1, 3, figsize=(15, 5))\n",
    "\n",
    "# # RMSE 그래프\n",
    "# axs[0].plot(x_values, rmse_list, marker='o', linestyle='-', color='b', label=\"RMSE\")\n",
    "# axs[0].set_title('RMSE Trend')\n",
    "# axs[0].set_xlabel('Index')\n",
    "# axs[0].set_ylabel('RMSE')\n",
    "# axs[0].grid(True)\n",
    "\n",
    "# # PSNR 그래프\n",
    "# axs[1].plot(x_values, psnr_list, marker='o', linestyle='-', color='g', label=\"PSNR\")\n",
    "# axs[1].set_title('PSNR Trend')\n",
    "# axs[1].set_xlabel('Index')\n",
    "# axs[1].set_ylabel('PSNR')\n",
    "# axs[1].grid(True)\n",
    "\n",
    "# # SSIM 그래프\n",
    "# axs[2].plot(x_values, ssim_list, marker='o', linestyle='-', color='r', label=\"SSIM\")\n",
    "# axs[2].set_title('SSIM Trend')\n",
    "# axs[2].set_xlabel('Index')\n",
    "# axs[2].set_ylabel('SSIM')\n",
    "# axs[2].grid(True)\n",
    "\n",
    "# # 그래프 레이아웃 조정 및 표시\n",
    "# plt.tight_layout()\n",
    "# plt.show()"
   ]
  },
  {
   "cell_type": "code",
   "execution_count": null,
   "metadata": {
    "colab": {
     "base_uri": "https://localhost:8080/",
     "height": 515
    },
    "executionInfo": {
     "elapsed": 337,
     "status": "ok",
     "timestamp": 1742878703479,
     "user": {
      "displayName": "Namhun Kim",
      "userId": "06490179833075519179"
     },
     "user_tz": -540
    },
    "id": "K2CsLaYAoRsN",
    "outputId": "c87abf97-711e-41be-8f64-7d8e7de8abe9"
   },
   "outputs": [
    {
     "data": {
      "image/png": "[encoded data removed]",
      "text/plain": [
       "<Figure size 576x360 with 3 Axes>"
      ]
     },
     "metadata": {
      "needs_background": "light"
     },
     "output_type": "display_data"
    }
   ],
   "source": [
    "# import numpy as np\n",
    "# import matplotlib.pyplot as plt\n",
    "\n",
    "# # 정규화 함수 (min-max scaling)\n",
    "# def min_max_scale(data):\n",
    "#     return (data - np.min(data)) / (np.max(data) - np.min(data))\n",
    "\n",
    "# # 정규화\n",
    "# rmse_scaled = min_max_scale(rmse_list)\n",
    "# psnr_scaled = min_max_scale(psnr_list)\n",
    "# ssim_scaled = min_max_scale(ssim_list)\n",
    "\n",
    "# # 그래프 인덱스\n",
    "# x_values = np.arange(1, len(rmse_list) + 1)\n",
    "\n",
    "# # 그래프 그리기\n",
    "# fig, ax1 = plt.subplots(figsize=(8, 5))\n",
    "\n",
    "# # RMSE (파란색 원)\n",
    "# ax1.plot(x_values, rmse_scaled, marker='o', linestyle='-', color='b', label=\"RMSE (scaled)\")\n",
    "# ax1.set_ylabel(\"Normalized Scale (0-1)\", color='black')\n",
    "# ax1.set_xlabel(\"Index\")\n",
    "# ax1.tick_params(axis='y', labelcolor='black')\n",
    "\n",
    "# # PSNR (초록색 사각형, 보조 y축)\n",
    "# ax2 = ax1.twinx()\n",
    "# ax2.plot(x_values, psnr_scaled, marker='s', linestyle='-', color='g', label=\"PSNR (scaled)\")\n",
    "# ax2.tick_params(axis='y', labelcolor='g')\n",
    "\n",
    "# # SSIM (빨간색 삼각형, 추가 y축)\n",
    "# ax3 = ax1.twinx()\n",
    "# ax3.plot(x_values, ssim_scaled, marker='^', linestyle='-', color='r', label=\"SSIM (scaled)\")\n",
    "# ax3.spines['right'].set_position((\"outward\", 60))  # 세 번째 y축을 오른쪽 바깥으로 조정\n",
    "# ax3.tick_params(axis='y', labelcolor='r')\n",
    "\n",
    "# # 제목 및 범례\n",
    "# fig.suptitle(\"RMSE, PSNR, and SSIM Trends (Normalized)\")\n",
    "# ax1.legend(loc=\"upper left\")\n",
    "# ax2.legend(loc=\"upper right\")\n",
    "# ax3.legend(loc=\"lower right\")\n",
    "\n",
    "# # 그래프 표시\n",
    "# plt.show()"
   ]
  },
  {
   "cell_type": "code",
   "execution_count": null,
   "metadata": {
    "colab": {
     "base_uri": "https://localhost:8080/"
    },
    "executionInfo": {
     "elapsed": 12,
     "status": "ok",
     "timestamp": 1742878713225,
     "user": {
      "displayName": "Namhun Kim",
      "userId": "06490179833075519179"
     },
     "user_tz": -540
    },
    "id": "es0Rv18qoRsN",
    "outputId": "2d03c718-b3a6-4141-b00f-5653144dcaba"
   },
   "outputs": [
    {
     "name": "stdout",
     "output_type": "stream",
     "text": [
      "RMSE: 0.0380 ± 0.0040\n",
      "PSNR: 29.5472 ± 0.9339\n",
      "SSIM: 0.7182 ± 0.0241\n"
     ]
    }
   ],
   "source": [
    "# # 평균(mean)과 표준편차(sd) 계산\n",
    "# rmse_mean = np.mean(rmse_list)\n",
    "# rmse_sd = np.std(rmse_list)\n",
    "\n",
    "# psnr_mean = np.mean(psnr_list)\n",
    "# psnr_sd = np.std(psnr_list)\n",
    "\n",
    "# ssim_mean = np.mean(ssim_list)\n",
    "# ssim_sd = np.std(ssim_list)\n",
    "\n",
    "# # 결과를 mean ± sd 형식으로 표현\n",
    "# rmse_result = f\"{rmse_mean:.4f} ± {rmse_sd:.4f}\"\n",
    "# psnr_result = f\"{psnr_mean:.4f} ± {psnr_sd:.4f}\"\n",
    "# ssim_result = f\"{ssim_mean:.4f} ± {ssim_sd:.4f}\"\n",
    "\n",
    "# # 결과 출력\n",
    "# print(f\"RMSE: {rmse_result}\")\n",
    "# print(f\"PSNR: {psnr_result}\")\n",
    "# print(f\"SSIM: {ssim_result}\")"
   ]
  },
  {
   "cell_type": "markdown",
   "metadata": {
    "id": "K5RdJ50PoRsQ"
   },
   "source": [
    "# 2. moanet"
   ]
  },
  {
   "cell_type": "markdown",
   "metadata": {
    "id": "4VzQLvthqxEy"
   },
   "source": [
    "## 데이터셋 불러오기"
   ]
  },
  {
   "cell_type": "code",
   "execution_count": 48,
   "metadata": {
    "colab": {
     "base_uri": "https://localhost:8080/",
     "height": 135
    },
    "executionInfo": {
     "elapsed": 47,
     "status": "ok",
     "timestamp": 1742878861742,
     "user": {
      "displayName": "Namhun Kim",
      "userId": "06490179833075519179"
     },
     "user_tz": -540
    },
    "id": "tkY341UOqwnl",
    "outputId": "216418da-3e1a-4551-bdcb-4012da9fe2c3"
   },
   "outputs": [
    {
     "data": {
      "text/html": [
       "<div>\n",
       "<style scoped>\n",
       "    .dataframe tbody tr th:only-of-type {\n",
       "        vertical-align: middle;\n",
       "    }\n",
       "\n",
       "    .dataframe tbody tr th {\n",
       "        vertical-align: top;\n",
       "    }\n",
       "\n",
       "    .dataframe thead th {\n",
       "        text-align: right;\n",
       "    }\n",
       "</style>\n",
       "<table border=\"1\" class=\"dataframe\">\n",
       "  <thead>\n",
       "    <tr style=\"text-align: right;\">\n",
       "      <th></th>\n",
       "      <th>File_Path</th>\n",
       "      <th>skull</th>\n",
       "      <th>ventricles</th>\n",
       "      <th>lungs</th>\n",
       "      <th>mediastinum</th>\n",
       "      <th>liver</th>\n",
       "      <th>kidneys</th>\n",
       "      <th>pancreas</th>\n",
       "      <th>spleen</th>\n",
       "      <th>abdominal aorta</th>\n",
       "      <th>spine</th>\n",
       "      <th>lymph nodes</th>\n",
       "    </tr>\n",
       "  </thead>\n",
       "  <tbody>\n",
       "    <tr>\n",
       "      <th>0</th>\n",
       "      <td>/content/drive/MyDrive/mayo2016/L067/quarter_1...</td>\n",
       "      <td>2.140607e-08</td>\n",
       "      <td>0.00043</td>\n",
       "      <td>0.978917</td>\n",
       "      <td>0.018699</td>\n",
       "      <td>0.000021</td>\n",
       "      <td>0.000003</td>\n",
       "      <td>0.000001</td>\n",
       "      <td>0.001919</td>\n",
       "      <td>2.020908e-07</td>\n",
       "      <td>0.000009</td>\n",
       "      <td>7.648957e-07</td>\n",
       "    </tr>\n",
       "  </tbody>\n",
       "</table>\n",
       "</div>"
      ],
      "text/plain": [
       "                                           File_Path         skull  \\\n",
       "0  /content/drive/MyDrive/mayo2016/L067/quarter_1...  2.140607e-08   \n",
       "\n",
       "   ventricles     lungs  mediastinum     liver   kidneys  pancreas    spleen  \\\n",
       "0     0.00043  0.978917     0.018699  0.000021  0.000003  0.000001  0.001919   \n",
       "\n",
       "   abdominal aorta     spine   lymph nodes  \n",
       "0     2.020908e-07  0.000009  7.648957e-07  "
      ]
     },
     "execution_count": 48,
     "metadata": {},
     "output_type": "execute_result"
    }
   ],
   "source": [
    "import pandas as pd\n",
    "\n",
    "# organ_probs.csv 파일 불러오기\n",
    "organ_probs_df = pd.read_csv(f\"{root}/organ_probs.csv\")\n",
    "organ_probs_df.head(1)"
   ]
  },
  {
   "cell_type": "code",
   "execution_count": 49,
   "metadata": {
    "executionInfo": {
     "elapsed": 2,
     "status": "ok",
     "timestamp": 1742878879278,
     "user": {
      "displayName": "Namhun Kim",
      "userId": "06490179833075519179"
     },
     "user_tz": -540
    },
    "id": "yHO8ZEz_rSKE"
   },
   "outputs": [],
   "source": [
    "import os\n",
    "from torch.utils.data import Dataset\n",
    "import torch\n",
    "import glob\n",
    "from tqdm import tqdm\n",
    "\n",
    "class CustomDataset(Dataset):\n",
    "    def __init__(self, data_type, patch_maker, L_list, organ_probs_df):\n",
    "        self.data_type = data_type\n",
    "        self.patch_maker = patch_maker\n",
    "        self.L_list = L_list\n",
    "        self.organ_probs_df = organ_probs_df\n",
    "        self.image_pairs = []\n",
    "\n",
    "        X_dir_list, y_dir_list = [], []\n",
    "        for L in self.L_list:\n",
    "            X_dir, y_dir = self.get_data_range(L)\n",
    "            X_dir_list += X_dir # 리스트 + 리스트 = 리스트\n",
    "            y_dir_list += y_dir\n",
    "\n",
    "        for i, (X_dir, y_dir) in tqdm(enumerate(zip(X_dir_list, y_dir_list)), total=len(X_dir_list), desc=f\"{self.data_type} is processing\"):\n",
    "            X_patches, y_patches = self.patch_maker(X_dir, y_dir)\n",
    "            organ_prob = torch.tensor([float(v) for v in organ_probs_df.iloc[i, 1:].values], dtype=torch.float32) # organ_prob을 tensor로 변환\n",
    "\n",
    "            for j in range(X_patches.shape[0]):\n",
    "                X_patch, y_patch = torch.from_numpy(X_patches[j]).float(), torch.from_numpy(y_patches[j]).float() # torch로 넣어주자.\n",
    "                self.image_pairs.append((X_patch, organ_prob, y_patch))\n",
    "\n",
    "    def get_data_range(self, L):\n",
    "        \"\"\"슬라이싱 범위를 설정하는 함수\"\"\"\n",
    "        X_dir = sorted(glob.glob(f'{root}/mayo2016/{L}/{data_label[0]}/*.IMA'))\n",
    "        y_dir = sorted(glob.glob(f'{root}/mayo2016/{L}/{data_label[1]}/*.IMA'))\n",
    "        n1, n2 = len(X_dir), len(y_dir)\n",
    "\n",
    "        if self.data_type == 'train':\n",
    "            X_range = X_dir[:int(n1 * 0.64)]\n",
    "            y_range = y_dir[:int(n2 * 0.64)]\n",
    "        elif self.data_type == 'val':\n",
    "            X_range = X_dir[int(n1 * 0.64):int(n1 * 0.8)]\n",
    "            y_range = y_dir[int(n2 * 0.64):int(n2 * 0.8)]\n",
    "        else:  # test\n",
    "            X_range = X_dir[int(n1 * 0.8):]\n",
    "            y_range = y_dir[int(n2 * 0.8):]\n",
    "\n",
    "        return X_range, y_range\n",
    "\n",
    "    def __len__(self):\n",
    "        return len(self.image_pairs)\n",
    "\n",
    "    def __getitem__(self, idx):\n",
    "        X = (self.image_pairs[idx][0], self.image_pairs[idx][1])\n",
    "        y = self.image_pairs[idx][2]\n",
    "        return X, y"
   ]
  },
  {
   "cell_type": "code",
   "execution_count": 50,
   "metadata": {
    "colab": {
     "base_uri": "https://localhost:8080/"
    },
    "executionInfo": {
     "elapsed": 30088,
     "status": "ok",
     "timestamp": 1742879008160,
     "user": {
      "displayName": "Namhun Kim",
      "userId": "06490179833075519179"
     },
     "user_tz": -540
    },
    "id": "sk0qxrnrrCGq",
    "outputId": "17551a2f-6b81-4817-dfa2-bdf1fcdbf9e7"
   },
   "outputs": [
    {
     "data": {
      "text/plain": [
       "6025"
      ]
     },
     "execution_count": 50,
     "metadata": {},
     "output_type": "execute_result"
    }
   ],
   "source": [
    "# 파일 경로 설정\n",
    "\n",
    "folder_name = f'{root}/dataset_add_prob/'\n",
    "test_path = folder_name+'test_dataset.pt'\n",
    "test_dataset = torch.load(test_path) # , weights_only=False\n",
    "\n",
    "batch_size = 16\n",
    "from torch.utils.data import DataLoader\n",
    "test_loader = DataLoader(test_dataset, batch_size=batch_size, shuffle=False, num_workers=4, pin_memory=True)\n",
    "\n",
    "len(test_loader)"
   ]
  },
  {
   "cell_type": "markdown",
   "metadata": {
    "id": "-okyO8Q5r2Ev"
   },
   "source": [
    "## 평가지표 계산하기"
   ]
  },
  {
   "cell_type": "code",
   "execution_count": 58,
   "metadata": {},
   "outputs": [
    {
     "name": "stdout",
     "output_type": "stream",
     "text": [
      "/root/moanet\n"
     ]
    }
   ],
   "source": [
    "%cd {root}/moanet"
   ]
  },
  {
   "cell_type": "code",
   "execution_count": 59,
   "metadata": {
    "colab": {
     "base_uri": "https://localhost:8080/"
    },
    "executionInfo": {
     "elapsed": 106,
     "status": "ok",
     "timestamp": 1742879042415,
     "user": {
      "displayName": "Namhun Kim",
      "userId": "06490179833075519179"
     },
     "user_tz": -540
    },
    "id": "YcFcFFbxoRsQ",
    "outputId": "76783678-e2fd-4c22-9253-3fe2ae18c759"
   },
   "outputs": [
    {
     "name": "stdout",
     "output_type": "stream",
     "text": [
      "/root/moanet\n"
     ]
    }
   ],
   "source": [
    "!pwd"
   ]
  },
  {
   "cell_type": "code",
   "execution_count": 60,
   "metadata": {
    "colab": {
     "base_uri": "https://localhost:8080/"
    },
    "executionInfo": {
     "elapsed": 3,
     "status": "ok",
     "timestamp": 1742879048280,
     "user": {
      "displayName": "Namhun Kim",
      "userId": "06490179833075519179"
     },
     "user_tz": -540
    },
    "id": "V8m5F_5foRsQ",
    "outputId": "eb901e70-93c9-48c4-a52b-4a1fa08a6548"
   },
   "outputs": [
    {
     "data": {
      "text/plain": [
       "device(type='cuda')"
      ]
     },
     "execution_count": 60,
     "metadata": {},
     "output_type": "execute_result"
    }
   ],
   "source": [
    "import torch\n",
    "device = torch.device('cuda' if torch.cuda.is_available() else 'cpu')\n",
    "device"
   ]
  },
  {
   "cell_type": "code",
   "execution_count": 62,
   "metadata": {
    "executionInfo": {
     "elapsed": 2,
     "status": "ok",
     "timestamp": 1742879053092,
     "user": {
      "displayName": "Namhun Kim",
      "userId": "06490179833075519179"
     },
     "user_tz": -540
    },
    "id": "Yf5r1L-FoRsQ"
   },
   "outputs": [],
   "source": [
    "import torch\n",
    "import torch.nn as nn\n",
    "\n",
    "class SpatialAttention(nn.Module):\n",
    "    def __init__(self, kernel_size=7, num_organs=11):  # num_organs = len(text_descriptions)\n",
    "        super(SpatialAttention, self).__init__()\n",
    "        assert kernel_size in (3, 7), \"Kernel size must be 3 or 7\"\n",
    "        padding = (kernel_size - 1) // 2  # 동일한 크기를 유지하기 위한 패딩\n",
    "        self.conv = nn.Conv2d(2, num_organs, kernel_size=kernel_size, padding=padding, bias=False)  # 장기별 attention\n",
    "        self.sigmoid = nn.Sigmoid()\n",
    "        self.last_attention = None  # Attention 값을 저장하는 변수\n",
    "\n",
    "    def forward(self, x, organ_prob):\n",
    "        \"\"\"\n",
    "        Args:\n",
    "            x (torch.Tensor): Input feature map [B, C, H, W]\n",
    "            organ_prob (torch.Tensor): Organ probability vector [B, num_organs]\n",
    "        Returns:\n",
    "            torch.Tensor: Attention-weighted feature map [B, C, H, W]\n",
    "        \"\"\"\n",
    "\n",
    "        B, C, H, W = x.shape  # 배치 크기, 채널 수, 높이, 너비\n",
    "\n",
    "        # 채널 차원을 압축 (Max Pooling과 Average Pooling)\n",
    "        avg_out = torch.mean(x, dim=1, keepdim=True)  # Average pooling -> [B, 1, H, W]\n",
    "        max_out, _ = torch.max(x, dim=1, keepdim=True)  # Max pooling -> [B, 1, H, W]\n",
    "        combined = torch.cat([avg_out, max_out], dim=1)  # [B, 2, H, W]\n",
    "\n",
    "        # 2D Convolution 적용하여 여러 장기의 attention map 생성\n",
    "        attention = self.sigmoid(self.conv(combined))  # [B, num_organs, H, W]\n",
    "        self.last_attention = attention  # Attention 저장\n",
    "\n",
    "        # organ_prob을 attention과 동일한 차원으로 변환하여 element-wise 곱셈\n",
    "        organ_prob = organ_prob.view(B, -1, 1, 1)  # [B, num_organs, 1, 1]\n",
    "        weighted_attention = attention * organ_prob  # [B, num_organs, H, W] 각 장기별 확률 반영\n",
    "\n",
    "        # 장기별 attention을 합산하여 최종 attention map 생성\n",
    "        final_attention = torch.sum(weighted_attention, dim=1, keepdim=True)  # [B, 1, H, W]\n",
    "\n",
    "        # 입력 `x`에 최종 attention을 적용\n",
    "        output = x * final_attention  # [B, C, H, W]\n",
    "\n",
    "        return output"
   ]
  },
  {
   "cell_type": "code",
   "execution_count": 63,
   "metadata": {
    "executionInfo": {
     "elapsed": 1,
     "status": "ok",
     "timestamp": 1742879057736,
     "user": {
      "displayName": "Namhun Kim",
      "userId": "06490179833075519179"
     },
     "user_tz": -540
    },
    "id": "nQt6e1MsoRsQ"
   },
   "outputs": [],
   "source": [
    "class RedCNNWithSpatialAttention(nn.Module):\n",
    "    def __init__(self):\n",
    "        super(RedCNNWithSpatialAttention, self).__init__()\n",
    "\n",
    "        # 인코더 부분\n",
    "        self.conv1 = nn.Conv2d(1, 96, 5, 1, 0)\n",
    "        self.conv2 = nn.Conv2d(96, 96, 5, 1, 0)\n",
    "        self.conv3 = nn.Conv2d(96, 96, 5, 1, 0)\n",
    "        self.conv4 = nn.Conv2d(96, 96, 5, 1, 0)\n",
    "        self.conv5 = nn.Conv2d(96, 96, 5, 1, 0)\n",
    "\n",
    "        # Spatial Attention Blocks\n",
    "        self.spatial_attention3 = SpatialAttention()\n",
    "        self.spatial_attention5 = SpatialAttention()\n",
    "\n",
    "        # 디코더 부분\n",
    "        self.deconv1 = nn.ConvTranspose2d(96, 96, 5, 1, 0)\n",
    "        self.deconv2 = nn.ConvTranspose2d(96, 96, 5, 1, 0)\n",
    "        self.deconv3 = nn.ConvTranspose2d(96, 96, 5, 1, 0)\n",
    "        self.deconv4 = nn.ConvTranspose2d(96, 96, 5, 1, 0)\n",
    "        self.deconv_last = nn.ConvTranspose2d(96, 1, 5, 1, 0)\n",
    "\n",
    "        self.relu = nn.ReLU()\n",
    "\n",
    "    def forward(self, x, prob):\n",
    "        # 인코더 부분\n",
    "        residual1 = x\n",
    "        x = self.relu(self.conv1(x))\n",
    "        x = self.relu(self.conv2(x))\n",
    "        residual2 = x\n",
    "        x = self.relu(self.conv3(x))\n",
    "        x = self.spatial_attention3(x, prob)  # Spatial Attention (3번째 위치)\n",
    "        x = self.relu(self.conv4(x))\n",
    "        residual3 = x\n",
    "        x = self.relu(self.conv5(x))\n",
    "        x = self.spatial_attention5(x, prob)  # Spatial Attention (5번째 위치)\n",
    "\n",
    "        # 디코더 부분\n",
    "        x = self.relu(self.deconv1(x) + residual3)\n",
    "        x = self.relu(self.deconv2(x))\n",
    "        x = self.relu(self.deconv3(x) + residual2)\n",
    "        x = self.relu(self.deconv4(x))\n",
    "        x = self.deconv_last(x) + residual1\n",
    "\n",
    "        return x"
   ]
  },
  {
   "cell_type": "code",
   "execution_count": 64,
   "metadata": {},
   "outputs": [
    {
     "name": "stdout",
     "output_type": "stream",
     "text": [
      "/root/moanet\n"
     ]
    }
   ],
   "source": [
    "!pwd"
   ]
  },
  {
   "cell_type": "code",
   "execution_count": 65,
   "metadata": {},
   "outputs": [
    {
     "name": "stdout",
     "output_type": "stream",
     "text": [
      "\n",
      "Evaluating Model at Epoch 1\n"
     ]
    },
    {
     "name": "stderr",
     "output_type": "stream",
     "text": [
      "Evaluating Epoch 1:  17%|█▋        | 1004/6025 [00:29<02:27, 34.03it/s]"
     ]
    },
    {
     "name": "stdout",
     "output_type": "stream",
     "text": [
      "[Epoch 1] RMSE per interval: 0.0466, PSNR per interval: 27.49, SSIM per interval: 0.6801\n"
     ]
    },
    {
     "name": "stderr",
     "output_type": "stream",
     "text": [
      "Evaluating Epoch 1:  33%|███▎      | 2004/6025 [00:59<02:00, 33.37it/s]"
     ]
    },
    {
     "name": "stdout",
     "output_type": "stream",
     "text": [
      "[Epoch 1] RMSE per interval: 0.0436, PSNR per interval: 28.34, SSIM per interval: 0.6963\n"
     ]
    },
    {
     "name": "stderr",
     "output_type": "stream",
     "text": [
      "Evaluating Epoch 1:  50%|████▉     | 3004/6025 [01:28<01:29, 33.73it/s]"
     ]
    },
    {
     "name": "stdout",
     "output_type": "stream",
     "text": [
      "[Epoch 1] RMSE per interval: 0.0442, PSNR per interval: 28.45, SSIM per interval: 0.7066\n"
     ]
    },
    {
     "name": "stderr",
     "output_type": "stream",
     "text": [
      "Evaluating Epoch 1:  66%|██████▋   | 4004/6025 [01:58<00:59, 34.23it/s]"
     ]
    },
    {
     "name": "stdout",
     "output_type": "stream",
     "text": [
      "[Epoch 1] RMSE per interval: 0.0379, PSNR per interval: 29.41, SSIM per interval: 0.7299\n"
     ]
    },
    {
     "name": "stderr",
     "output_type": "stream",
     "text": [
      "Evaluating Epoch 1:  83%|████████▎ | 5005/6025 [02:28<00:30, 33.50it/s]"
     ]
    },
    {
     "name": "stdout",
     "output_type": "stream",
     "text": [
      "[Epoch 1] RMSE per interval: 0.0373, PSNR per interval: 29.56, SSIM per interval: 0.7085\n"
     ]
    },
    {
     "name": "stderr",
     "output_type": "stream",
     "text": [
      "Evaluating Epoch 1: 100%|█████████▉| 6005/6025 [02:57<00:00, 33.85it/s]"
     ]
    },
    {
     "name": "stdout",
     "output_type": "stream",
     "text": [
      "[Epoch 1] RMSE per interval: 0.0350, PSNR per interval: 30.33, SSIM per interval: 0.7511\n"
     ]
    },
    {
     "name": "stderr",
     "output_type": "stream",
     "text": [
      "Evaluating Epoch 1: 100%|██████████| 6025/6025 [02:58<00:00, 33.70it/s]\n"
     ]
    },
    {
     "name": "stdout",
     "output_type": "stream",
     "text": [
      "[Epoch 1] Average RMSE over all intervals: 0.040783\n",
      "[Epoch 1] 저장 완료: results_1.csv\n",
      "\n",
      "Evaluating Model at Epoch 5\n"
     ]
    },
    {
     "name": "stderr",
     "output_type": "stream",
     "text": [
      "Evaluating Epoch 5:  17%|█▋        | 1004/6025 [00:29<02:29, 33.57it/s]"
     ]
    },
    {
     "name": "stdout",
     "output_type": "stream",
     "text": [
      "[Epoch 5] RMSE per interval: 0.0445, PSNR per interval: 27.89, SSIM per interval: 0.6815\n"
     ]
    },
    {
     "name": "stderr",
     "output_type": "stream",
     "text": [
      "Evaluating Epoch 5:  33%|███▎      | 2004/6025 [00:59<01:58, 33.90it/s]"
     ]
    },
    {
     "name": "stdout",
     "output_type": "stream",
     "text": [
      "[Epoch 5] RMSE per interval: 0.0419, PSNR per interval: 28.70, SSIM per interval: 0.6973\n"
     ]
    },
    {
     "name": "stderr",
     "output_type": "stream",
     "text": [
      "Evaluating Epoch 5:  50%|████▉     | 3004/6025 [01:28<01:28, 34.18it/s]"
     ]
    },
    {
     "name": "stdout",
     "output_type": "stream",
     "text": [
      "[Epoch 5] RMSE per interval: 0.0419, PSNR per interval: 28.91, SSIM per interval: 0.7098\n"
     ]
    },
    {
     "name": "stderr",
     "output_type": "stream",
     "text": [
      "Evaluating Epoch 5:  66%|██████▋   | 4005/6025 [01:58<01:00, 33.57it/s]"
     ]
    },
    {
     "name": "stdout",
     "output_type": "stream",
     "text": [
      "[Epoch 5] RMSE per interval: 0.0359, PSNR per interval: 29.86, SSIM per interval: 0.7365\n"
     ]
    },
    {
     "name": "stderr",
     "output_type": "stream",
     "text": [
      "Evaluating Epoch 5:  83%|████████▎ | 5005/6025 [02:28<00:30, 33.47it/s]"
     ]
    },
    {
     "name": "stdout",
     "output_type": "stream",
     "text": [
      "[Epoch 5] RMSE per interval: 0.0357, PSNR per interval: 29.95, SSIM per interval: 0.7124\n"
     ]
    },
    {
     "name": "stderr",
     "output_type": "stream",
     "text": [
      "Evaluating Epoch 5: 100%|█████████▉| 6006/6025 [02:58<00:00, 33.30it/s]"
     ]
    },
    {
     "name": "stdout",
     "output_type": "stream",
     "text": [
      "[Epoch 5] RMSE per interval: 0.0335, PSNR per interval: 30.70, SSIM per interval: 0.7546\n"
     ]
    },
    {
     "name": "stderr",
     "output_type": "stream",
     "text": [
      "Evaluating Epoch 5: 100%|██████████| 6025/6025 [02:59<00:00, 33.65it/s]"
     ]
    },
    {
     "name": "stdout",
     "output_type": "stream",
     "text": [
      "[Epoch 5] Average RMSE over all intervals: 0.038883\n",
      "[Epoch 5] 저장 완료: results_5.csv\n",
      "\n",
      "Evaluating Model at Epoch 10\n"
     ]
    },
    {
     "name": "stderr",
     "output_type": "stream",
     "text": [
      "\n",
      "Evaluating Epoch 10:  17%|█▋        | 1004/6025 [00:29<02:29, 33.50it/s]"
     ]
    },
    {
     "name": "stdout",
     "output_type": "stream",
     "text": [
      "[Epoch 10] RMSE per interval: 0.0440, PSNR per interval: 27.97, SSIM per interval: 0.6834\n"
     ]
    },
    {
     "name": "stderr",
     "output_type": "stream",
     "text": [
      "Evaluating Epoch 10:  33%|███▎      | 2004/6025 [00:59<01:59, 33.53it/s]"
     ]
    },
    {
     "name": "stdout",
     "output_type": "stream",
     "text": [
      "[Epoch 10] RMSE per interval: 0.0414, PSNR per interval: 28.80, SSIM per interval: 0.6997\n"
     ]
    },
    {
     "name": "stderr",
     "output_type": "stream",
     "text": [
      "Evaluating Epoch 10:  50%|████▉     | 3004/6025 [01:29<01:30, 33.50it/s]"
     ]
    },
    {
     "name": "stdout",
     "output_type": "stream",
     "text": [
      "[Epoch 10] RMSE per interval: 0.0414, PSNR per interval: 29.01, SSIM per interval: 0.7121\n"
     ]
    },
    {
     "name": "stderr",
     "output_type": "stream",
     "text": [
      "Evaluating Epoch 10:  66%|██████▋   | 4004/6025 [01:59<01:01, 32.83it/s]"
     ]
    },
    {
     "name": "stdout",
     "output_type": "stream",
     "text": [
      "[Epoch 10] RMSE per interval: 0.0355, PSNR per interval: 29.94, SSIM per interval: 0.7385\n"
     ]
    },
    {
     "name": "stderr",
     "output_type": "stream",
     "text": [
      "Evaluating Epoch 10:  83%|████████▎ | 5004/6025 [02:28<00:30, 33.55it/s]"
     ]
    },
    {
     "name": "stdout",
     "output_type": "stream",
     "text": [
      "[Epoch 10] RMSE per interval: 0.0353, PSNR per interval: 30.04, SSIM per interval: 0.7141\n"
     ]
    },
    {
     "name": "stderr",
     "output_type": "stream",
     "text": [
      "Evaluating Epoch 10: 100%|█████████▉| 6004/6025 [02:58<00:00, 33.88it/s]"
     ]
    },
    {
     "name": "stdout",
     "output_type": "stream",
     "text": [
      "[Epoch 10] RMSE per interval: 0.0330, PSNR per interval: 30.81, SSIM per interval: 0.7567\n"
     ]
    },
    {
     "name": "stderr",
     "output_type": "stream",
     "text": [
      "Evaluating Epoch 10: 100%|██████████| 6025/6025 [02:59<00:00, 33.57it/s]\n"
     ]
    },
    {
     "name": "stdout",
     "output_type": "stream",
     "text": [
      "[Epoch 10] Average RMSE over all intervals: 0.038442\n",
      "[Epoch 10] 저장 완료: results_10.csv\n",
      "\n",
      "Evaluating Model at Epoch 20\n"
     ]
    },
    {
     "name": "stderr",
     "output_type": "stream",
     "text": [
      "Evaluating Epoch 20:  17%|█▋        | 1004/6025 [00:29<02:29, 33.69it/s]"
     ]
    },
    {
     "name": "stdout",
     "output_type": "stream",
     "text": [
      "[Epoch 20] RMSE per interval: 0.0437, PSNR per interval: 28.05, SSIM per interval: 0.6856\n"
     ]
    },
    {
     "name": "stderr",
     "output_type": "stream",
     "text": [
      "Evaluating Epoch 20:  33%|███▎      | 2004/6025 [00:59<01:58, 33.82it/s]"
     ]
    },
    {
     "name": "stdout",
     "output_type": "stream",
     "text": [
      "[Epoch 20] RMSE per interval: 0.0411, PSNR per interval: 28.89, SSIM per interval: 0.7028\n"
     ]
    },
    {
     "name": "stderr",
     "output_type": "stream",
     "text": [
      "Evaluating Epoch 20:  50%|████▉     | 3004/6025 [01:29<01:30, 33.40it/s]"
     ]
    },
    {
     "name": "stdout",
     "output_type": "stream",
     "text": [
      "[Epoch 20] RMSE per interval: 0.0411, PSNR per interval: 29.10, SSIM per interval: 0.7142\n"
     ]
    },
    {
     "name": "stderr",
     "output_type": "stream",
     "text": [
      "Evaluating Epoch 20:  66%|██████▋   | 4004/6025 [01:59<00:59, 33.94it/s]"
     ]
    },
    {
     "name": "stdout",
     "output_type": "stream",
     "text": [
      "[Epoch 20] RMSE per interval: 0.0352, PSNR per interval: 30.03, SSIM per interval: 0.7399\n"
     ]
    },
    {
     "name": "stderr",
     "output_type": "stream",
     "text": [
      "Evaluating Epoch 20:  83%|████████▎ | 5004/6025 [02:28<00:31, 32.87it/s]"
     ]
    },
    {
     "name": "stdout",
     "output_type": "stream",
     "text": [
      "[Epoch 20] RMSE per interval: 0.0350, PSNR per interval: 30.13, SSIM per interval: 0.7160\n"
     ]
    },
    {
     "name": "stderr",
     "output_type": "stream",
     "text": [
      "Evaluating Epoch 20: 100%|█████████▉| 6004/6025 [02:58<00:00, 34.59it/s]"
     ]
    },
    {
     "name": "stdout",
     "output_type": "stream",
     "text": [
      "[Epoch 20] RMSE per interval: 0.0326, PSNR per interval: 30.93, SSIM per interval: 0.7588\n"
     ]
    },
    {
     "name": "stderr",
     "output_type": "stream",
     "text": [
      "Evaluating Epoch 20: 100%|██████████| 6025/6025 [02:59<00:00, 33.56it/s]"
     ]
    },
    {
     "name": "stdout",
     "output_type": "stream",
     "text": [
      "[Epoch 20] Average RMSE over all intervals: 0.038118\n",
      "[Epoch 20] 저장 완료: results_20.csv\n"
     ]
    },
    {
     "name": "stderr",
     "output_type": "stream",
     "text": [
      "\n"
     ]
    }
   ],
   "source": [
    "import torch\n",
    "import torch.nn as nn\n",
    "import numpy as np\n",
    "import pandas as pd\n",
    "import os\n",
    "from skimage.metrics import peak_signal_noise_ratio, structural_similarity\n",
    "from tqdm import tqdm\n",
    "\n",
    "criterion = nn.MSELoss()\n",
    "interval = 1000\n",
    "\n",
    "# 저장된 모델들을 평가할 epochs 리스트\n",
    "epochs_list = [1, 5, 10, 20]\n",
    "device = torch.device('cuda' if torch.cuda.is_available() else 'cpu')\n",
    "\n",
    "# 평가 지표 계산 함수\n",
    "def calculate_psnr(y_true, y_pred):\n",
    "    \"\"\"PSNR 계산 함수\"\"\"\n",
    "    y_true = y_true.cpu().numpy()\n",
    "    y_pred = y_pred.cpu().numpy()\n",
    "    return peak_signal_noise_ratio(y_true, y_pred, data_range=1.0)\n",
    "\n",
    "def calculate_ssim(y_true, y_pred):\n",
    "    \"\"\"SSIM 계산 함수\"\"\"\n",
    "    y_true = y_true.squeeze(0).cpu().numpy()\n",
    "    y_pred = y_pred.squeeze(0).cpu().numpy()\n",
    "    return structural_similarity(y_true, y_pred, data_range=1.0)\n",
    "\n",
    "# 각 epoch별 평가 수행\n",
    "for epoch in epochs_list:\n",
    "    model_path = f'moanet_epoch{epoch}.pth'\n",
    "    \n",
    "    # 모델 파일 존재 여부 확인\n",
    "    if not os.path.exists(model_path):\n",
    "        print(f\"[Epoch {epoch}] 모델 파일이 존재하지 않습니다. 건너뜁니다.\")\n",
    "        continue\n",
    "\n",
    "    print(f\"\\nEvaluating Model at Epoch {epoch}\")\n",
    "    \n",
    "    # 모델 초기화 및 가중치 로드\n",
    "    model = RedCNNWithSpatialAttention().to(device)\n",
    "    model.load_state_dict(torch.load(model_path))\n",
    "    model.eval()\n",
    "\n",
    "    running_loss = 0.0\n",
    "    running_psnr = 0.0\n",
    "    running_ssim = 0.0\n",
    "    psnr_list = []\n",
    "    ssim_list = []\n",
    "    loss_list = []\n",
    "    total_loss = 0\n",
    "\n",
    "    with torch.no_grad():\n",
    "        for i, data in tqdm(enumerate(test_loader), total=len(test_loader), desc=f\"Evaluating Epoch {epoch}\"):\n",
    "            X, prob, y = data[0][0].to(device), data[0][1].to(device), data[1].to(device)\n",
    "            X_hat = model(X, prob)\n",
    "            mse_loss = criterion(X_hat, y)\n",
    "\n",
    "            # RMSE 계산\n",
    "            rms_loss = torch.sqrt(mse_loss)\n",
    "            running_loss += rms_loss.item()\n",
    "\n",
    "            # PSNR, SSIM 계산\n",
    "            for j in range(X.size(0)):  # 배치 내부 개별 이미지에 대해 계산\n",
    "                psnr = calculate_psnr(y[j, :, :, :], X_hat[j, :, :, :])\n",
    "                ssim = calculate_ssim(y[j, :, :, :], X_hat[j, :, :, :])\n",
    "                running_psnr += psnr\n",
    "                running_ssim += ssim\n",
    "\n",
    "            # Interval 출력\n",
    "            if i % interval == interval - 1:\n",
    "                interval_loss = running_loss / interval\n",
    "                interval_psnr = running_psnr / (interval * X.size(0))\n",
    "                interval_ssim = running_ssim / (interval * X.size(0))\n",
    "\n",
    "                loss_list.append(interval_loss)\n",
    "                psnr_list.append(interval_psnr)\n",
    "                ssim_list.append(interval_ssim)\n",
    "\n",
    "                total_loss += interval_loss\n",
    "                running_loss = 0.0\n",
    "                running_psnr = 0.0\n",
    "                running_ssim = 0.0\n",
    "                tqdm.write(f'[Epoch {epoch}] RMSE per interval: {interval_loss:.4f}, PSNR per interval: {interval_psnr:.2f}, SSIM per interval: {interval_ssim:.4f}')\n",
    "\n",
    "    # 평균 RMSE 출력\n",
    "    average_loss = total_loss / len(loss_list) if loss_list else float('inf')\n",
    "    print(f\"[Epoch {epoch}] Average RMSE over all intervals: {average_loss:.6f}\")\n",
    "\n",
    "    # 결과 저장\n",
    "    df = pd.DataFrame({\n",
    "        \"RMSE\": loss_list,\n",
    "        \"PSNR\": psnr_list,\n",
    "        \"SSIM\": ssim_list\n",
    "    })\n",
    "\n",
    "    csv_filename = f\"results_{epoch}.csv\"\n",
    "    df.to_csv(csv_filename, index=False)\n",
    "    print(f\"[Epoch {epoch}] 저장 완료: {csv_filename}\")"
   ]
  },
  {
   "cell_type": "code",
   "execution_count": null,
   "metadata": {
    "colab": {
     "base_uri": "https://localhost:8080/"
    },
    "executionInfo": {
     "elapsed": 86614,
     "status": "ok",
     "timestamp": 1742879151842,
     "user": {
      "displayName": "Namhun Kim",
      "userId": "06490179833075519179"
     },
     "user_tz": -540
    },
    "id": "zO-73PAXoRsQ",
    "outputId": "82627409-fe8a-4908-8664-0a0b70c3dcb2"
   },
   "outputs": [
    {
     "name": "stdout",
     "output_type": "stream",
     "text": [
      "\n",
      "Evaluating Model at Epoch 1\n"
     ]
    },
    {
     "name": "stderr",
     "output_type": "stream",
     "text": [
      "Evaluating Epoch 1:   0%|          | 0/6025 [00:00<?, ?it/s]\n"
     ]
    },
    {
     "ename": "AttributeError",
     "evalue": "'list' object has no attribute 'to'",
     "output_type": "error",
     "traceback": [
      "\u001b[0;31m---------------------------------------------------------------------------\u001b[0m",
      "\u001b[0;31mAttributeError\u001b[0m                            Traceback (most recent call last)",
      "Input \u001b[0;32mIn [57]\u001b[0m, in \u001b[0;36m<cell line: 30>\u001b[0;34m()\u001b[0m\n\u001b[1;32m     53\u001b[0m \u001b[38;5;28;01mwith\u001b[39;00m torch\u001b[38;5;241m.\u001b[39mno_grad():\n\u001b[1;32m     54\u001b[0m     \u001b[38;5;28;01mfor\u001b[39;00m i, data \u001b[38;5;129;01min\u001b[39;00m tqdm(\u001b[38;5;28menumerate\u001b[39m(test_loader), total\u001b[38;5;241m=\u001b[39m\u001b[38;5;28mlen\u001b[39m(test_loader), desc\u001b[38;5;241m=\u001b[39m\u001b[38;5;124mf\u001b[39m\u001b[38;5;124m\"\u001b[39m\u001b[38;5;124mEvaluating Epoch \u001b[39m\u001b[38;5;132;01m{\u001b[39;00mepoch\u001b[38;5;132;01m}\u001b[39;00m\u001b[38;5;124m\"\u001b[39m):\n\u001b[0;32m---> 55\u001b[0m         X, y \u001b[38;5;241m=\u001b[39m \u001b[43mdata\u001b[49m\u001b[43m[\u001b[49m\u001b[38;5;241;43m0\u001b[39;49m\u001b[43m]\u001b[49m\u001b[38;5;241;43m.\u001b[39;49m\u001b[43mto\u001b[49m(device), data[\u001b[38;5;241m1\u001b[39m]\u001b[38;5;241m.\u001b[39mto(device)\n\u001b[1;32m     56\u001b[0m         X_hat \u001b[38;5;241m=\u001b[39m model(X)\n\u001b[1;32m     57\u001b[0m         mse_loss \u001b[38;5;241m=\u001b[39m criterion(X_hat, y)\n",
      "\u001b[0;31mAttributeError\u001b[0m: 'list' object has no attribute 'to'"
     ]
    }
   ],
   "source": [
    "# import torch\n",
    "# import torch.nn as nn\n",
    "# import numpy as np\n",
    "# from skimage.metrics import peak_signal_noise_ratio, structural_similarity\n",
    "# from tqdm import tqdm\n",
    "\n",
    "# criterion = nn.MSELoss()\n",
    "# interval = 1000\n",
    "\n",
    "# # 저장된 모델 로드\n",
    "# device = torch.device('cuda' if torch.cuda.is_available() else 'cpu')\n",
    "# model = RedCNNWithSpatialAttention().to(device)\n",
    "# model.load_state_dict(torch.load(f'moanet_{epochs}.pth'))\n",
    "\n",
    "# # 평가 지표 계산 추가\n",
    "# def calculate_psnr(y_true, y_pred):\n",
    "#     \"\"\"PSNR 계산 함수\"\"\"\n",
    "#     y_true = y_true.cpu().numpy()\n",
    "#     y_pred = y_pred.cpu().numpy()\n",
    "#     return peak_signal_noise_ratio(y_true, y_pred, data_range=1.0)  # 정규화된 데이터라면 data_range=1.0\n",
    "\n",
    "# def calculate_ssim(y_true, y_pred):\n",
    "#     \"\"\"SSIM 계산 함수\"\"\"\n",
    "#     y_true = y_true.squeeze(0).cpu().numpy()\n",
    "#     y_pred = y_pred.squeeze(0).cpu().numpy()\n",
    "#     return structural_similarity(y_true, y_pred, data_range=1.0)  # 정규화된 데이터라면 data_range=1.0\n",
    "\n",
    "# # evaluate 부분 + top10 best&worst\n",
    "# model.eval()\n",
    "# running_loss = 0.0\n",
    "# running_psnr = 0.0\n",
    "# running_ssim = 0.0\n",
    "# psnr_list = []\n",
    "# ssim_list = []\n",
    "# loss_list = []\n",
    "# total_loss = 0\n",
    "# best_loss = np.inf\n",
    "# worst_loss = -np.inf\n",
    "\n",
    "# with torch.no_grad():\n",
    "#     for i, data in tqdm(enumerate(test_loader), total=len(test_loader), desc=f\"Evaluating\"):\n",
    "#         X, prob, y = data[0][0].to(device), data[0][1].to(device), data[1].to(device)\n",
    "#         X_hat = model(X, prob)\n",
    "#         mse_loss = criterion(X_hat, y)\n",
    "\n",
    "#         # RMSE 계산\n",
    "#         rms_loss = torch.sqrt(mse_loss)\n",
    "#         running_loss += rms_loss.item()\n",
    "\n",
    "#         # PSNR, SSIM 계산\n",
    "#         for j in range(X.size(0)):  # 배치 내부 개별 이미지에 대해 계산\n",
    "#             psnr = calculate_psnr(y[j, :, :, :], X_hat[j, :, :, :])\n",
    "#             ssim = calculate_ssim(y[j, :, :, :], X_hat[j, :, :, :])\n",
    "#             running_psnr += psnr # batch에 대해 더해준다.\n",
    "#             running_ssim += ssim\n",
    "\n",
    "#         if mse_loss < best_loss:\n",
    "#             best_loss = mse_loss\n",
    "#             best = (X, y, X_hat)\n",
    "#         if mse_loss > worst_loss:\n",
    "#             worst_loss = mse_loss\n",
    "#             worst = (X, y, X_hat)\n",
    "\n",
    "#         if i % interval == interval - 1:\n",
    "#             interval_loss = running_loss / interval\n",
    "#             interval_psnr = running_psnr / (interval * X.size(0)) # batch에 대해 나눠준다\n",
    "#             interval_ssim = running_ssim / (interval * X.size(0))\n",
    "\n",
    "#             loss_list.append(interval_loss)\n",
    "#             psnr_list.append(interval_psnr)\n",
    "#             ssim_list.append(interval_ssim)\n",
    "\n",
    "#             total_loss += interval_loss\n",
    "#             running_loss = 0.0\n",
    "#             running_psnr = 0.0\n",
    "#             running_ssim = 0.0\n",
    "#             tqdm.write(f'RMSE per interval: {interval_loss:.4f}, PSNR per interval: {interval_psnr:.2f}, SSIM per interval: {interval_ssim:.4f}')\n",
    "#             # tqdm.write(f'RMSE per interval: {interval_loss}, PSNR per interval: {interval_psnr}, SSIM per interval: {interval_ssim}')\n",
    "\n",
    "#     # 평균 RMSE 출력\n",
    "# average_loss = total_loss / len(loss_list)\n",
    "# print(f\"Average RMSE over all intervals: {average_loss:.6f}\")"
   ]
  },
  {
   "cell_type": "code",
   "execution_count": null,
   "metadata": {
    "colab": {
     "base_uri": "https://localhost:8080/"
    },
    "executionInfo": {
     "elapsed": 4,
     "status": "ok",
     "timestamp": 1742879172602,
     "user": {
      "displayName": "Namhun Kim",
      "userId": "06490179833075519179"
     },
     "user_tz": -540
    },
    "id": "MSq-mXz2oRsQ",
    "outputId": "4c0d6de4-9e15-4e55-b7b3-d317c1977fd8"
   },
   "outputs": [
    {
     "data": {
      "text/plain": [
       "(6, 6, 6)"
      ]
     },
     "execution_count": 208,
     "metadata": {},
     "output_type": "execute_result"
    }
   ],
   "source": [
    "# len(loss_list), len(psnr_list), len(ssim_list)"
   ]
  },
  {
   "cell_type": "code",
   "execution_count": null,
   "metadata": {
    "colab": {
     "base_uri": "https://localhost:8080/"
    },
    "executionInfo": {
     "elapsed": 21,
     "status": "ok",
     "timestamp": 1742879173143,
     "user": {
      "displayName": "Namhun Kim",
      "userId": "06490179833075519179"
     },
     "user_tz": -540
    },
    "id": "prhgJ7BzoRsQ",
    "outputId": "2d5141cd-c0b8-444c-8444-09821a1e850f"
   },
   "outputs": [
    {
     "data": {
      "text/plain": [
       "[0.04359047728963196,\n",
       " 0.04095383537560701,\n",
       " 0.04097310697287321,\n",
       " 0.03507401812076569,\n",
       " 0.03487989646103233,\n",
       " 0.03252340046036988]"
      ]
     },
     "execution_count": 209,
     "metadata": {},
     "output_type": "execute_result"
    }
   ],
   "source": [
    "# rmse_list = loss_list\n",
    "# rmse_list"
   ]
  },
  {
   "cell_type": "code",
   "execution_count": null,
   "metadata": {
    "colab": {
     "base_uri": "https://localhost:8080/"
    },
    "executionInfo": {
     "elapsed": 84,
     "status": "ok",
     "timestamp": 1742879174032,
     "user": {
      "displayName": "Namhun Kim",
      "userId": "06490179833075519179"
     },
     "user_tz": -540
    },
    "id": "eaXuxpXIsLJM",
    "outputId": "4a20ea67-9006-4a93-a07e-10dbe2ed1e09"
   },
   "outputs": [
    {
     "name": "stdout",
     "output_type": "stream",
     "text": [
      "/root/moanet\n"
     ]
    }
   ],
   "source": [
    "# !pwd"
   ]
  },
  {
   "cell_type": "code",
   "execution_count": null,
   "metadata": {
    "colab": {
     "base_uri": "https://localhost:8080/"
    },
    "executionInfo": {
     "elapsed": 26,
     "status": "ok",
     "timestamp": 1742879174882,
     "user": {
      "displayName": "Namhun Kim",
      "userId": "06490179833075519179"
     },
     "user_tz": -540
    },
    "id": "vSaMc59goRsQ",
    "outputId": "945a701a-069c-4d72-e811-1b373d79e1dd"
   },
   "outputs": [
    {
     "name": "stdout",
     "output_type": "stream",
     "text": [
      "저장 완료: /root/moanet/results.csv\n"
     ]
    }
   ],
   "source": [
    "# # 저장하는 코드\n",
    "\n",
    "# import pandas as pd\n",
    "\n",
    "# # 데이터프레임 생성\n",
    "# df = pd.DataFrame({\n",
    "#     \"RMSE\": loss_list,\n",
    "#     \"PSNR\": psnr_list,\n",
    "#     \"SSIM\": ssim_list\n",
    "# })\n",
    "\n",
    "# # CSV 파일 저장\n",
    "# csv_filename = f\"{root}/moanet/results.csv\"\n",
    "# df.to_csv(csv_filename, index=False)\n",
    "\n",
    "# print(f\"저장 완료: {csv_filename}\")"
   ]
  },
  {
   "cell_type": "code",
   "execution_count": null,
   "metadata": {
    "colab": {
     "base_uri": "https://localhost:8080/"
    },
    "executionInfo": {
     "elapsed": 13,
     "status": "ok",
     "timestamp": 1742879177109,
     "user": {
      "displayName": "Namhun Kim",
      "userId": "06490179833075519179"
     },
     "user_tz": -540
    },
    "id": "whFGXwjrsOkQ",
    "outputId": "b2c479f9-44c8-46d6-8d38-6b26137087fe"
   },
   "outputs": [
    {
     "name": "stdout",
     "output_type": "stream",
     "text": [
      "       RMSE       PSNR      SSIM\n",
      "0  0.043590  28.073895  0.685536\n",
      "1  0.040954  28.911255  0.702734\n",
      "2  0.040973  29.120020  0.714661\n",
      "3  0.035074  30.056026  0.740951\n",
      "4  0.034880  30.146035  0.716251\n",
      "5  0.032523  30.953028  0.759038 \n",
      "\n",
      "RMSE List: [0.0435904772896319, 0.040953835375607, 0.0409731069728732, 0.0350740181207656, 0.0348798964610323, 0.0325234004603698]\n",
      "PSNR List: [28.07389516695847, 28.911254629318883, 29.12002025568585, 30.05602572998973, 30.146034631851, 30.95302807800819]\n",
      "SSIM List: [0.6855360692114075, 0.7027339725936514, 0.7146605615171354, 0.7409507945499014, 0.7162505813158867, 0.7590383713917537]\n"
     ]
    }
   ],
   "source": [
    "# # 불러오는 코드\n",
    "\n",
    "# import pandas as pd\n",
    "\n",
    "# # CSV 파일 불러오기\n",
    "# csv_filename = f\"{root}/moanet/results.csv\"\n",
    "# df = pd.read_csv(csv_filename)\n",
    "\n",
    "# # 불러온 데이터 출력\n",
    "# print(df,'\\n')\n",
    "\n",
    "# # 개별 리스트로 변환\n",
    "# loss_list = df[\"RMSE\"].tolist()\n",
    "# psnr_list = df[\"PSNR\"].tolist()\n",
    "# ssim_list = df[\"SSIM\"].tolist()\n",
    "\n",
    "# # 확인 출력\n",
    "# print(\"RMSE List:\", loss_list)\n",
    "# print(\"PSNR List:\", psnr_list)\n",
    "# print(\"SSIM List:\", ssim_list)"
   ]
  },
  {
   "cell_type": "code",
   "execution_count": null,
   "metadata": {
    "colab": {
     "base_uri": "https://localhost:8080/",
     "height": 322
    },
    "executionInfo": {
     "elapsed": 428,
     "status": "ok",
     "timestamp": 1742879179334,
     "user": {
      "displayName": "Namhun Kim",
      "userId": "06490179833075519179"
     },
     "user_tz": -540
    },
    "id": "tJryI1xCoRsQ",
    "outputId": "7a662f01-a482-4172-d4e7-63fd7c512007"
   },
   "outputs": [
    {
     "data": {
      "image/png": "[encoded data removed]",
      "text/plain": [
       "<Figure size 1080x360 with 3 Axes>"
      ]
     },
     "metadata": {
      "needs_background": "light"
     },
     "output_type": "display_data"
    }
   ],
   "source": [
    "# import numpy as np\n",
    "# import matplotlib.pyplot as plt\n",
    "\n",
    "# # 그래프 인덱스 (각 값의 순서를 나타냄)\n",
    "# x_values = np.arange(1, 7)\n",
    "\n",
    "# # 그래프 그리기\n",
    "# fig, axs = plt.subplots(1, 3, figsize=(15, 5))\n",
    "\n",
    "# # RMSE 그래프\n",
    "# axs[0].plot(x_values, rmse_list, marker='o', linestyle='-', color='b', label=\"RMSE\")\n",
    "# axs[0].set_title('RMSE Trend')\n",
    "# axs[0].set_xlabel('Index')\n",
    "# axs[0].set_ylabel('RMSE')\n",
    "# axs[0].grid(True)\n",
    "\n",
    "# # PSNR 그래프\n",
    "# axs[1].plot(x_values, psnr_list, marker='o', linestyle='-', color='g', label=\"PSNR\")\n",
    "# axs[1].set_title('PSNR Trend')\n",
    "# axs[1].set_xlabel('Index')\n",
    "# axs[1].set_ylabel('PSNR')\n",
    "# axs[1].grid(True)\n",
    "\n",
    "# # SSIM 그래프\n",
    "# axs[2].plot(x_values, ssim_list, marker='o', linestyle='-', color='r', label=\"SSIM\")\n",
    "# axs[2].set_title('SSIM Trend')\n",
    "# axs[2].set_xlabel('Index')\n",
    "# axs[2].set_ylabel('SSIM')\n",
    "# axs[2].grid(True)\n",
    "\n",
    "# # 그래프 레이아웃 조정 및 표시\n",
    "# plt.tight_layout()\n",
    "# plt.show()"
   ]
  },
  {
   "cell_type": "code",
   "execution_count": null,
   "metadata": {
    "colab": {
     "base_uri": "https://localhost:8080/",
     "height": 515
    },
    "executionInfo": {
     "elapsed": 374,
     "status": "ok",
     "timestamp": 1742879181341,
     "user": {
      "displayName": "Namhun Kim",
      "userId": "06490179833075519179"
     },
     "user_tz": -540
    },
    "id": "uerdwKmkoRsQ",
    "outputId": "273f98c7-dd99-4d21-d1f9-65fb8d50a66b"
   },
   "outputs": [
    {
     "data": {
      "image/png": "[encoded data removed]",
      "text/plain": [
       "<Figure size 576x360 with 3 Axes>"
      ]
     },
     "metadata": {
      "needs_background": "light"
     },
     "output_type": "display_data"
    }
   ],
   "source": [
    "# import numpy as np\n",
    "# import matplotlib.pyplot as plt\n",
    "\n",
    "# # 정규화 함수 (min-max scaling)\n",
    "# def min_max_scale(data):\n",
    "#     return (data - np.min(data)) / (np.max(data) - np.min(data))\n",
    "\n",
    "# # 정규화\n",
    "# rmse_scaled = min_max_scale(rmse_list)\n",
    "# psnr_scaled = min_max_scale(psnr_list)\n",
    "# ssim_scaled = min_max_scale(ssim_list)\n",
    "\n",
    "# # 그래프 인덱스\n",
    "# x_values = np.arange(1, len(rmse_list) + 1)\n",
    "\n",
    "# # 그래프 그리기\n",
    "# fig, ax1 = plt.subplots(figsize=(8, 5))\n",
    "\n",
    "# # RMSE (파란색 원)\n",
    "# ax1.plot(x_values, rmse_scaled, marker='o', linestyle='-', color='b', label=\"RMSE (scaled)\")\n",
    "# ax1.set_ylabel(\"Normalized Scale (0-1)\", color='black')\n",
    "# ax1.set_xlabel(\"Index\")\n",
    "# ax1.tick_params(axis='y', labelcolor='black')\n",
    "\n",
    "# # PSNR (초록색 사각형, 보조 y축)\n",
    "# ax2 = ax1.twinx()\n",
    "# ax2.plot(x_values, psnr_scaled, marker='s', linestyle='-', color='g', label=\"PSNR (scaled)\")\n",
    "# ax2.tick_params(axis='y', labelcolor='g')\n",
    "\n",
    "# # SSIM (빨간색 삼각형, 추가 y축)\n",
    "# ax3 = ax1.twinx()\n",
    "# ax3.plot(x_values, ssim_scaled, marker='^', linestyle='-', color='r', label=\"SSIM (scaled)\")\n",
    "# ax3.spines['right'].set_position((\"outward\", 60))  # 세 번째 y축을 오른쪽 바깥으로 조정\n",
    "# ax3.tick_params(axis='y', labelcolor='r')\n",
    "\n",
    "# # 제목 및 범례\n",
    "# fig.suptitle(\"RMSE, PSNR, and SSIM Trends (Normalized)\")\n",
    "# ax1.legend(loc=\"upper left\")\n",
    "# ax2.legend(loc=\"upper right\")\n",
    "# ax3.legend(loc=\"lower right\")\n",
    "\n",
    "# # 그래프 표시\n",
    "# plt.show()"
   ]
  },
  {
   "cell_type": "code",
   "execution_count": null,
   "metadata": {
    "colab": {
     "base_uri": "https://localhost:8080/"
    },
    "executionInfo": {
     "elapsed": 7,
     "status": "ok",
     "timestamp": 1742879184012,
     "user": {
      "displayName": "Namhun Kim",
      "userId": "06490179833075519179"
     },
     "user_tz": -540
    },
    "id": "yvOyt-IpsS3e",
    "outputId": "b81aa459-5f93-4e30-eaf3-2223e8fb0d2d"
   },
   "outputs": [
    {
     "name": "stdout",
     "output_type": "stream",
     "text": [
      "RMSE: 0.0380 ± 0.0040\n",
      "PSNR: 29.5434 ± 0.9444\n",
      "SSIM: 0.7199 ± 0.0241\n"
     ]
    }
   ],
   "source": [
    "# # 평균(mean)과 표준편차(sd) 계산\n",
    "# rmse_mean = np.mean(rmse_list)\n",
    "# rmse_sd = np.std(rmse_list)\n",
    "\n",
    "# psnr_mean = np.mean(psnr_list)\n",
    "# psnr_sd = np.std(psnr_list)\n",
    "\n",
    "# ssim_mean = np.mean(ssim_list)\n",
    "# ssim_sd = np.std(ssim_list)\n",
    "\n",
    "# # 결과를 mean ± sd 형식으로 표현\n",
    "# rmse_result = f\"{rmse_mean:.4f} ± {rmse_sd:.4f}\"\n",
    "# psnr_result = f\"{psnr_mean:.4f} ± {psnr_sd:.4f}\"\n",
    "# ssim_result = f\"{ssim_mean:.4f} ± {ssim_sd:.4f}\"\n",
    "\n",
    "# # 결과 출력\n",
    "# print(f\"RMSE: {rmse_result}\")\n",
    "# print(f\"PSNR: {psnr_result}\")\n",
    "# print(f\"SSIM: {ssim_result}\")"
   ]
  },
  {
   "cell_type": "markdown",
   "metadata": {
    "id": "F-s0y4rhoRsR"
   },
   "source": [
    "# 최종결과비교"
   ]
  },
  {
   "cell_type": "markdown",
   "metadata": {},
   "source": [
    "## 특정 epoch"
   ]
  },
  {
   "cell_type": "code",
   "execution_count": null,
   "metadata": {},
   "outputs": [],
   "source": [
    "epoch = 10"
   ]
  },
  {
   "cell_type": "code",
   "execution_count": null,
   "metadata": {
    "colab": {
     "base_uri": "https://localhost:8080/"
    },
    "executionInfo": {
     "elapsed": 48,
     "status": "ok",
     "timestamp": 1742879583519,
     "user": {
      "displayName": "Namhun Kim",
      "userId": "06490179833075519179"
     },
     "user_tz": -540
    },
    "id": "8S2fOakuoRsR",
    "outputId": "54093cd2-c39f-420d-e806-5f96aaa92fe1"
   },
   "outputs": [
    {
     "data": {
      "text/plain": [
       "{'base':        RMSE       PSNR      SSIM\n",
       " 0  0.046955  27.371000  0.676597\n",
       " 1  0.043945  28.134906  0.688910\n",
       " 2  0.044556  28.206019  0.694916\n",
       " 3  0.038896  29.056226  0.717701\n",
       " 4  0.038351  29.143702  0.691895\n",
       " 5  0.035719  29.962605  0.739510,\n",
       " 'channel':        RMSE       PSNR      SSIM\n",
       " 0  0.046635  27.461906  0.673734\n",
       " 1  0.044073  28.206451  0.689694\n",
       " 2  0.044531  28.287235  0.698862\n",
       " 3  0.038076  29.325519  0.724371\n",
       " 4  0.037717  29.412435  0.703514\n",
       " 5  0.035756  30.100435  0.745796,\n",
       " 'spatial':        RMSE       PSNR      SSIM\n",
       " 0  0.043425  28.102589  0.684205\n",
       " 1  0.040999  28.903337  0.701939\n",
       " 2  0.040919  29.126717  0.711839\n",
       " 3  0.035002  30.072307  0.738309\n",
       " 4  0.034874  30.144735  0.714661\n",
       " 5  0.032634  30.933748  0.758179,\n",
       " 'moanet':        RMSE       PSNR      SSIM\n",
       " 0  0.043590  28.073895  0.685536\n",
       " 1  0.040954  28.911255  0.702734\n",
       " 2  0.040973  29.120020  0.714661\n",
       " 3  0.035074  30.056026  0.740951\n",
       " 4  0.034880  30.146035  0.716251\n",
       " 5  0.032523  30.953028  0.759038}"
      ]
     },
     "execution_count": 216,
     "metadata": {},
     "output_type": "execute_result"
    }
   ],
   "source": [
    "import pandas as pd\n",
    "\n",
    "# CSV 파일 경로 설정\n",
    "csv_paths = {\n",
    "    \"base\": f\"{root}/base/results_{epoch}.csv\",\n",
    "    \"channel\": f\"{root}/attention_channel/results_{epoch}.csv\",\n",
    "    \"spatial\": f\"{root}/attention_spatial/results_{epoch}.csv\",\n",
    "    \"moanet\": f\"{root}/moanet/results_{epoch}.csv\"\n",
    "}\n",
    "\n",
    "# 각 파일을 읽어와서 데이터프레임으로 저장\n",
    "df_dict = {}\n",
    "for name, path in csv_paths.items():\n",
    "    df = pd.read_csv(path)\n",
    "    df_dict[name] = df\n",
    "df_dict"
   ]
  },
  {
   "cell_type": "code",
   "execution_count": 217,
   "metadata": {
    "colab": {
     "base_uri": "https://localhost:8080/",
     "height": 1000
    },
    "executionInfo": {
     "elapsed": 623,
     "status": "ok",
     "timestamp": 1742879720160,
     "user": {
      "displayName": "Namhun Kim",
      "userId": "06490179833075519179"
     },
     "user_tz": -540
    },
    "id": "5FLJH5bRoRsR",
    "outputId": "bd8e64c3-385f-4b6a-8532-ec94ed299b30"
   },
   "outputs": [
    {
     "data": {
      "image/png": "[encoded data removed]",
      "text/plain": [
       "<Figure size 576x360 with 1 Axes>"
      ]
     },
     "metadata": {
      "needs_background": "light"
     },
     "output_type": "display_data"
    },
    {
     "data": {
      "image/png": "[encoded data removed]",
      "text/plain": [
       "<Figure size 576x360 with 1 Axes>"
      ]
     },
     "metadata": {
      "needs_background": "light"
     },
     "output_type": "display_data"
    },
    {
     "data": {
      "image/png": "[encoded data removed]",
      "text/plain": [
       "<Figure size 576x360 with 1 Axes>"
      ]
     },
     "metadata": {
      "needs_background": "light"
     },
     "output_type": "display_data"
    }
   ],
   "source": [
    "import matplotlib.pyplot as plt\n",
    "import numpy as np\n",
    "\n",
    "# 모델 리스트\n",
    "model_names = [\"base\", \"channel\", \"spatial\", \"moanet\"]\n",
    "colors = [\"y\", \"b\", \"g\", \"r\"]  # 각 모델별 색상 지정\n",
    "\n",
    "# 그래프 그리는 함수\n",
    "def plot_metric(metric_name, ylabel):\n",
    "    plt.figure(figsize=(8, 5))  # 그래프 크기 설정\n",
    "\n",
    "    for model, color in zip(model_names, colors):\n",
    "        metric_values = df_dict[model][metric_name].values  # 모델별 해당 지표 값 가져오기\n",
    "        x_axis = np.arange(len(metric_values))  # X축: 데이터 인덱스\n",
    "        plt.plot(x_axis, metric_values, marker=\"o\", linestyle=\"-\", color=color, label=model)\n",
    "\n",
    "    plt.xlabel(\"Sample Index\")\n",
    "    plt.ylabel(ylabel)\n",
    "    plt.title(f\"{metric_name} Comparison\")\n",
    "    plt.legend()  # 모델 구분을 위한 legend 추가\n",
    "    plt.grid(True, linestyle=\"--\", alpha=0.5)  # 격자 추가\n",
    "    plt.show()\n",
    "\n",
    "# RMSE 그래프\n",
    "plot_metric(\"RMSE\", \"RMSE Value\")\n",
    "\n",
    "# PSNR 그래프\n",
    "plot_metric(\"PSNR\", \"PSNR Value (dB)\")\n",
    "\n",
    "# SSIM 그래프\n",
    "plot_metric(\"SSIM\", \"SSIM Value\")"
   ]
  },
  {
   "cell_type": "code",
   "execution_count": 220,
   "metadata": {
    "colab": {
     "base_uri": "https://localhost:8080/",
     "height": 445
    },
    "executionInfo": {
     "elapsed": 397,
     "status": "ok",
     "timestamp": 1742880523649,
     "user": {
      "displayName": "Namhun Kim",
      "userId": "06490179833075519179"
     },
     "user_tz": -540
    },
    "id": "QZR3yMvKoRsR",
    "outputId": "90095863-84b4-491d-f933-73aa7529284c"
   },
   "outputs": [
    {
     "name": "stderr",
     "output_type": "stream",
     "text": [
      "/tmp/ipykernel_1458323/2272622696.py:36: UserWarning: FixedFormatter should only be used together with FixedLocator\n",
      "  ax.set_xticklabels(x_labels, rotation=45, ha=\"right\")  # X축 레이블 회전\n",
      "/tmp/ipykernel_1458323/2272622696.py:36: UserWarning: FixedFormatter should only be used together with FixedLocator\n",
      "  ax.set_xticklabels(x_labels, rotation=45, ha=\"right\")  # X축 레이블 회전\n",
      "/tmp/ipykernel_1458323/2272622696.py:36: UserWarning: FixedFormatter should only be used together with FixedLocator\n",
      "  ax.set_xticklabels(x_labels, rotation=45, ha=\"right\")  # X축 레이블 회전\n"
     ]
    },
    {
     "data": {
      "image/png": "[encoded data removed]",
      "text/plain": [
       "<Figure size 1080x360 with 3 Axes>"
      ]
     },
     "metadata": {
      "needs_background": "light"
     },
     "output_type": "display_data"
    }
   ],
   "source": [
    "import matplotlib.pyplot as plt\n",
    "import numpy as np\n",
    "\n",
    "# 모델 리스트 및 색상 설정\n",
    "model_names = [\"base\", \"channel\", \"spatial\", \"moanet\"]\n",
    "colors = [\"y\", \"b\", \"g\", \"r\"]  # 각 모델별 색상 지정\n",
    "\n",
    "# 그래프 그리는 함수 (평균 + 표준편차)\n",
    "def plot_mean_std(ax, metric_name, ylabel):\n",
    "    x_labels = model_names  # X축에 모델 이름 표시\n",
    "    means = []  # 평균값 저장 리스트\n",
    "    stds = []   # 표준편차 저장 리스트\n",
    "\n",
    "    for model in model_names:\n",
    "        metric_values = df_dict[model][metric_name].values  # 해당 모델의 지표 값 가져오기\n",
    "        means.append(np.mean(metric_values))  # 평균\n",
    "        stds.append(np.std(metric_values))  # 표준편차\n",
    "\n",
    "    # 리스트를 NumPy 배열로 변환\n",
    "    means = np.array(means)\n",
    "    stds = np.array(stds)\n",
    "\n",
    "    # y축 범위 설정 (최소/최대값 + 표준편차의 3배)\n",
    "    ymin = np.min(means-stds)\n",
    "    ymax = np.max(means+stds)\n",
    "    ax.set_ylim(ymin, ymax)\n",
    "\n",
    "    # 막대그래프 (오차 막대 포함)\n",
    "    bars = ax.bar(x_labels, means, yerr=stds / 2, capsize=5, color=colors, alpha=0.7, edgecolor=\"black\")\n",
    "\n",
    "    # 막대 위에 평균값 표시\n",
    "    for bar, mean in zip(bars, means):\n",
    "        ax.text(bar.get_x() + bar.get_width() / 2, bar.get_height(), f\"{mean:.4f}\",\n",
    "                ha='center', va='bottom', fontsize=10, fontweight='bold', color='black')\n",
    "\n",
    "    ax.set_xticklabels(x_labels, rotation=45, ha=\"right\")  # X축 레이블 회전\n",
    "    ax.set_ylabel(ylabel)\n",
    "    ax.set_title(f\"{metric_name} Comparison (Mean ± Std)\")\n",
    "    ax.grid(axis=\"y\", linestyle=\"--\", alpha=0.5)  # y축 격자 추가\n",
    "\n",
    "# 1행 3열 그래프 생성\n",
    "fig, axes = plt.subplots(1, 3, figsize=(15, 5))\n",
    "\n",
    "# RMSE 그래프\n",
    "plot_mean_std(axes[0], \"RMSE\", \"RMSE Value\")\n",
    "\n",
    "# PSNR 그래프\n",
    "plot_mean_std(axes[1], \"PSNR\", \"PSNR Value (dB)\")\n",
    "\n",
    "# SSIM 그래프\n",
    "plot_mean_std(axes[2], \"SSIM\", \"SSIM Value\")\n",
    "\n",
    "# 이미지 저장 (고해상도)\n",
    "plt.savefig(f\"{root}/cmp_att_type.png\", dpi=300, bbox_inches='tight')  # 저장 경로 및 해상도 설정\n",
    "plt.show()\n"
   ]
  },
  {
   "cell_type": "markdown",
   "metadata": {},
   "source": [
    "## 모든 epochs"
   ]
  },
  {
   "cell_type": "code",
   "execution_count": 66,
   "metadata": {},
   "outputs": [
    {
     "name": "stderr",
     "output_type": "stream",
     "text": [
      "/tmp/ipykernel_1962602/2845809779.py:62: UserWarning: FixedFormatter should only be used together with FixedLocator\n",
      "  ax.set_xticklabels(x_labels, rotation=45, ha=\"right\")\n",
      "/tmp/ipykernel_1962602/2845809779.py:62: UserWarning: FixedFormatter should only be used together with FixedLocator\n",
      "  ax.set_xticklabels(x_labels, rotation=45, ha=\"right\")\n",
      "/tmp/ipykernel_1962602/2845809779.py:62: UserWarning: FixedFormatter should only be used together with FixedLocator\n",
      "  ax.set_xticklabels(x_labels, rotation=45, ha=\"right\")\n"
     ]
    },
    {
     "data": {
      "image/png": "[encoded data removed]",
      "text/plain": [
       "<Figure size 1296x720 with 6 Axes>"
      ]
     },
     "metadata": {
      "needs_background": "light"
     },
     "output_type": "display_data"
    }
   ],
   "source": [
    "import pandas as pd\n",
    "import matplotlib.pyplot as plt\n",
    "import numpy as np\n",
    "import os\n",
    "\n",
    "# 모델 리스트 및 색상 설정\n",
    "model_names = [\"base\", \"attention_channel\", \"attention_spatial\", \"moanet\"][2:]\n",
    "colors = [\"y\", \"b\", \"g\", \"r\"][2:]  # 각 모델별 색상 지정\n",
    "\n",
    "# 평가할 epoch 리스트\n",
    "epochs_list = [1, 5, 10, 20, 30]  # 모든 epoch에 대해 그래프를 그릴 예정\n",
    "\n",
    "# CSV 파일 경로 설정 (각 모델의 epoch별 파일 불러오기)\n",
    "csv_paths = {\n",
    "    model: {epoch: f\"{root}/{model}/results_{epoch}.csv\" for epoch in epochs_list}\n",
    "    for model in model_names\n",
    "}\n",
    "\n",
    "# 각 파일을 읽어와서 데이터프레임 저장\n",
    "df_dict = {}\n",
    "for model, epoch_files in csv_paths.items():\n",
    "    df_dict[model] = {}\n",
    "    for epoch, path in epoch_files.items():\n",
    "        if os.path.exists(path):  # 파일이 존재할 경우만 읽기\n",
    "            df_dict[model][epoch] = pd.read_csv(path)\n",
    "\n",
    "# 평균 및 표준편차 그래프 그리는 함수\n",
    "def plot_mean_std(ax, metric_name, ylabel):\n",
    "    x_labels = model_names  # X축에 모델 이름 표시\n",
    "    means = []\n",
    "    stds = []\n",
    "\n",
    "    for model in model_names:\n",
    "        all_values = []\n",
    "        for epoch in epochs_list:\n",
    "            if epoch in df_dict[model]:\n",
    "                all_values.extend(df_dict[model][epoch][metric_name].values)  # 모든 epoch의 값 합치기\n",
    "\n",
    "        if all_values:\n",
    "            means.append(np.mean(all_values))\n",
    "            stds.append(np.std(all_values))\n",
    "        else:\n",
    "            means.append(0)\n",
    "            stds.append(0)\n",
    "\n",
    "    means = np.array(means)\n",
    "    stds = np.array(stds)\n",
    "\n",
    "    # y축 범위 설정 (최소/최대값 + 표준편차의 3배)\n",
    "    ymin = np.min(means - stds)\n",
    "    ymax = np.max(means + stds)\n",
    "    ax.set_ylim(ymin, ymax)\n",
    "\n",
    "    # 막대그래프 (오차 막대 포함)\n",
    "    bars = ax.bar(x_labels, means, yerr=stds / 2, capsize=5, color=colors, alpha=0.7, edgecolor=\"black\")\n",
    "\n",
    "    # 막대 위에 평균값 표시\n",
    "    for bar, mean in zip(bars, means):\n",
    "        ax.text(bar.get_x() + bar.get_width() / 2, bar.get_height(), f\"{mean:.4f}\",\n",
    "                ha='center', va='bottom', fontsize=10, fontweight='bold', color='black')\n",
    "\n",
    "    ax.set_xticklabels(x_labels, rotation=45, ha=\"right\")\n",
    "    ax.set_ylabel(ylabel)\n",
    "    ax.set_title(f\"{metric_name} Comparison (Mean ± Std)\")\n",
    "    ax.grid(axis=\"y\", linestyle=\"--\", alpha=0.5)\n",
    "\n",
    "# Epoch 별 변화 그래프\n",
    "def plot_epoch_trend(ax, metric_name, ylabel):\n",
    "    for model, color in zip(model_names, colors):\n",
    "        means = []\n",
    "        epochs_available = []\n",
    "        \n",
    "        for epoch in epochs_list:\n",
    "            if epoch in df_dict[model]:\n",
    "                means.append(df_dict[model][epoch][metric_name].mean())\n",
    "                epochs_available.append(epoch)\n",
    "        \n",
    "        if means:\n",
    "            ax.plot(epochs_available, means, marker='o', linestyle='-', color=color, label=model)\n",
    "\n",
    "    ax.set_xlabel(\"Epochs\")\n",
    "    ax.set_ylabel(ylabel)\n",
    "    ax.set_title(f\"{metric_name} Trend Across Epochs\")\n",
    "    ax.legend()\n",
    "    ax.grid(True, linestyle=\"--\", alpha=0.5)\n",
    "\n",
    "# 그래프 그리기\n",
    "fig, axes = plt.subplots(2, 3, figsize=(18, 10))\n",
    "\n",
    "# RMSE 평균 + 표준편차\n",
    "plot_mean_std(axes[0, 0], \"RMSE\", \"RMSE Value\")\n",
    "\n",
    "# PSNR 평균 + 표준편차\n",
    "plot_mean_std(axes[0, 1], \"PSNR\", \"PSNR Value (dB)\")\n",
    "\n",
    "# SSIM 평균 + 표준편차\n",
    "plot_mean_std(axes[0, 2], \"SSIM\", \"SSIM Value\")\n",
    "\n",
    "# RMSE epoch 변화\n",
    "plot_epoch_trend(axes[1, 0], \"RMSE\", \"RMSE Value\")\n",
    "\n",
    "# PSNR epoch 변화\n",
    "plot_epoch_trend(axes[1, 1], \"PSNR\", \"PSNR Value (dB)\")\n",
    "\n",
    "# SSIM epoch 변화\n",
    "plot_epoch_trend(axes[1, 2], \"SSIM\", \"SSIM Value\")\n",
    "\n",
    "# 이미지 저장\n",
    "plt.tight_layout()\n",
    "plt.savefig(f\"{root}/cmp_epoch_att_type.png\", dpi=300, bbox_inches='tight')\n",
    "plt.show()"
   ]
  },
  {
   "cell_type": "code",
   "execution_count": null,
   "metadata": {},
   "outputs": [],
   "source": []
  },
  {
   "cell_type": "code",
   "execution_count": null,
   "metadata": {},
   "outputs": [],
   "source": []
  },
  {
   "cell_type": "code",
   "execution_count": null,
   "metadata": {},
   "outputs": [],
   "source": []
  }
 ],
 "metadata": {
  "accelerator": "GPU",
  "colab": {
   "collapsed_sections": [
    "jWsv8T-AoRsF"
   ],
   "gpuType": "A100",
   "machine_shape": "hm",
   "provenance": []
  },
  "kernelspec": {
   "display_name": "Python 3",
   "name": "python3"
  },
  "language_info": {
   "codemirror_mode": {
    "name": "ipython",
    "version": 3
   },
   "file_extension": ".py",
   "mimetype": "text/x-python",
   "name": "python",
   "nbconvert_exporter": "python",
   "pygments_lexer": "ipython3",
   "version": "3.8.10"
  }
 },
 "nbformat": 4,
 "nbformat_minor": 0
}
