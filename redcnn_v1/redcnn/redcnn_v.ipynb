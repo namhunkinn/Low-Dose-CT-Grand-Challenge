{
 "cells": [
  {
   "cell_type": "markdown",
   "metadata": {},
   "source": [
    "# 데이터셋 불러오기"
   ]
  },
  {
   "cell_type": "code",
   "execution_count": 1,
   "metadata": {},
   "outputs": [],
   "source": [
    "# IMA이미지를 불러오는 라이브러리\n",
    "import pydicom\n",
    "\n",
    "import numpy as np\n",
    "import torch\n",
    "import torchvision.transforms as transforms\n",
    "import matplotlib as mpl\n",
    "import matplotlib.pyplot as plt\n",
    "mpl.rcParams['figure.figsize'] = [3.0, 3.0]\n",
    "import seaborn as sns\n",
    "import torch.nn as nn"
   ]
  },
  {
   "cell_type": "code",
   "execution_count": 2,
   "metadata": {},
   "outputs": [
    {
     "data": {
      "text/plain": [
       "['L067',\n",
       " 'L096',\n",
       " 'L109',\n",
       " 'L143',\n",
       " 'L192',\n",
       " 'L286',\n",
       " 'L291',\n",
       " 'L310',\n",
       " 'L333',\n",
       " 'L506']"
      ]
     },
     "execution_count": 2,
     "metadata": {},
     "output_type": "execute_result"
    }
   ],
   "source": [
    "import glob\n",
    "\n",
    "L_list = glob.glob('/root/Mayo2016/*')\n",
    "L_list = [path.split('/')[-1] for path in L_list]\n",
    "L_list.sort()\n",
    "L_list"
   ]
  },
  {
   "cell_type": "code",
   "execution_count": 3,
   "metadata": {},
   "outputs": [],
   "source": [
    "data_label = ['quarter_1mm', 'full_1mm']"
   ]
  },
  {
   "cell_type": "code",
   "execution_count": 4,
   "metadata": {},
   "outputs": [],
   "source": [
    "def normlize(path):\n",
    "  dicom_data = pydicom.dcmread(path)\n",
    "  img = dicom_data.pixel_array.astype(np.float32) * dicom_data.RescaleSlope + dicom_data.RescaleIntercept\n",
    "  mu, sd = (-500,500)\n",
    "  scaled_img = (img - mu) / sd\n",
    "  img = np.expand_dims(scaled_img, axis=0)\n",
    "\n",
    "  return img # 1x512x512"
   ]
  },
  {
   "cell_type": "code",
   "execution_count": 5,
   "metadata": {},
   "outputs": [],
   "source": [
    "def extract_patches(img, patch_size=55, interval=55):\n",
    "  patches = []\n",
    "  _, height, width = img.shape\n",
    "  for y in range(0, height - patch_size + 1, interval):\n",
    "    for x in range(0, width - patch_size + 1, interval):\n",
    "      patch = img[:, y:y + patch_size, x:x + patch_size]\n",
    "      patches.append(patch)\n",
    "  patches = np.array(patches)\n",
    "  return patches # patch수x1x55x55"
   ]
  },
  {
   "cell_type": "code",
   "execution_count": 6,
   "metadata": {},
   "outputs": [],
   "source": [
    "import random\n",
    "from scipy.ndimage import rotate, zoom\n",
    "\n",
    "def augment_patches(X_patches, y_patches, p=0.5):\n",
    "    X_augmented_patches, y_augmented_patches = [], []\n",
    "    \n",
    "    # random이 들어가기에, X랑 y를 동시에 넣어준다.\n",
    "    for i, (X_patch, y_patch) in enumerate(zip(X_patches, y_patches)):\n",
    "        # 원본 패치 추가\n",
    "        X_augmented_patches.append(X_patch)\n",
    "        y_augmented_patches.append(y_patch)\n",
    "\n",
    "        if random.random() < p:\n",
    "            # 1. 90, 270으로 돌려보자.(뒤집기랑 조금 다르긴 하지만, 점대칭 vs 선대칭, 그냥 +-90도만 쓰자.)\n",
    "            X, y = rotate(X_patch, 90, axes=(1, 2), reshape=False), rotate(y_patch, 90, axes=(1, 2), reshape=False)\n",
    "            X_augmented_patches.append(X)\n",
    "            y_augmented_patches.append(y)\n",
    "            X, y = rotate(X_patch, -90, axes=(1, 2), reshape=False), rotate(y_patch, -90, axes=(1, 2), reshape=False)\n",
    "            X_augmented_patches.append(X)\n",
    "            y_augmented_patches.append(y)\n",
    "        if random.random() < p:\n",
    "            # 2. 수직 뒤집기\n",
    "            X,y = np.flip(X_patch, axis=1),np.flip(y_patch, axis=1)\n",
    "            X_augmented_patches.append(X)\n",
    "            y_augmented_patches.append(y)\n",
    "        if random.random() < p:\n",
    "            # 3. 수평 뒤집기\n",
    "            X,y = np.flip(X_patch, axis=2),np.flip(y_patch, axis=2)\n",
    "            X_augmented_patches.append(X)\n",
    "            y_augmented_patches.append(y)\n",
    "\n",
    "    return np.array(X_augmented_patches), np.array(y_augmented_patches)"
   ]
  },
  {
   "cell_type": "code",
   "execution_count": 7,
   "metadata": {},
   "outputs": [],
   "source": [
    "def patch_maker_W_aug(X_dir, y_dir):\n",
    "  X_img, y_img = normlize(X_dir), normlize(y_dir)\n",
    "  X_patches = extract_patches(img=X_img, patch_size=55, interval=55)\n",
    "  y_patches = extract_patches(img=y_img, patch_size=55, interval=55)\n",
    "  X_augmented_patches, y_augmented_patches = augment_patches(X_patches, y_patches, p=0.5)\n",
    "  return X_augmented_patches, y_augmented_patches"
   ]
  },
  {
   "cell_type": "code",
   "execution_count": 8,
   "metadata": {},
   "outputs": [],
   "source": [
    "def patch_maker_WO_aug(X_dir, y_dir):\n",
    "  X_img, y_img = normlize(X_dir), normlize(y_dir)\n",
    "  X_patches = extract_patches(img=X_img, patch_size=55, interval=55)\n",
    "  y_patches = extract_patches(img=y_img, patch_size=55, interval=55)\n",
    "  return X_patches, y_patches"
   ]
  },
  {
   "cell_type": "code",
   "execution_count": 9,
   "metadata": {},
   "outputs": [],
   "source": [
    "import os\n",
    "from torch.utils.data import Dataset\n",
    "import torch\n",
    "import glob\n",
    "from tqdm import tqdm\n",
    "\n",
    "class CustomDataset(Dataset):\n",
    "    def __init__(self, data_type, patch_maker, L_list):\n",
    "        self.data_type = data_type\n",
    "        self.patch_maker = patch_maker\n",
    "        self.L_list = L_list\n",
    "        self.image_pairs = []\n",
    "\n",
    "        X_dir_list, y_dir_list = [], []\n",
    "        for L in self.L_list:\n",
    "            X_dir, y_dir = self.get_data_range(L)\n",
    "            X_dir_list += X_dir\n",
    "            y_dir_list += y_dir\n",
    "\n",
    "        for X_dir, y_dir in tqdm(zip(X_dir_list, y_dir_list), total=len(X_dir_list), desc=f\"{self.data_type} is processing\"):\n",
    "            X_patches, y_patches = self.patch_maker(X_dir, y_dir)\n",
    "            for i in range(X_patches.shape[0]):\n",
    "                X_patch, y_patch = torch.from_numpy(X_patches[i]), torch.from_numpy(y_patches[i]) # torch로 넣어주자.\n",
    "                self.image_pairs.append((X_patch, y_patch))\n",
    "\n",
    "    def get_data_range(self, L):\n",
    "        \"\"\"슬라이싱 범위를 설정하는 함수\"\"\"\n",
    "        X_dir = sorted(glob.glob(f'/root/Mayo2016/{L}/{data_label[0]}/*.IMA'))\n",
    "        y_dir = sorted(glob.glob(f'/root/Mayo2016/{L}/{data_label[1]}/*.IMA'))\n",
    "        n1, n2 = len(X_dir), len(y_dir)\n",
    "        \n",
    "        if self.data_type == 'train':\n",
    "            X_range = X_dir[:int(n1 * 0.64)]\n",
    "            y_range = y_dir[:int(n2 * 0.64)]\n",
    "        elif self.data_type == 'val':\n",
    "            X_range = X_dir[int(n1 * 0.64):int(n1 * 0.8)]\n",
    "            y_range = y_dir[int(n2 * 0.64):int(n2 * 0.8)]\n",
    "        else:  # test\n",
    "            X_range = X_dir[int(n1 * 0.8):]\n",
    "            y_range = y_dir[int(n2 * 0.8):]\n",
    "\n",
    "        return X_range, y_range\n",
    "\n",
    "    def __len__(self):\n",
    "        return len(self.image_pairs)\n",
    "\n",
    "    def __getitem__(self, idx):\n",
    "        X = self.image_pairs[idx][0]\n",
    "        y = self.image_pairs[idx][1]\n",
    "        return X, y"
   ]
  },
  {
   "cell_type": "code",
   "execution_count": 10,
   "metadata": {},
   "outputs": [],
   "source": [
    "# 파일 경로 설정\n",
    "\n",
    "root = '/root/code/'\n",
    "train_path = root+'train_dataset.pt'\n",
    "val_path = root+'val_dataset.pt'\n",
    "test_path = root+'test_dataset.pt'"
   ]
  },
  {
   "cell_type": "code",
   "execution_count": 11,
   "metadata": {},
   "outputs": [],
   "source": [
    "# 4분 정도 소요\n",
    "\n",
    "# 데이터셋 불러오기\n",
    "train_dataset = torch.load(train_path)\n",
    "val_dataset = torch.load(val_path)\n",
    "test_dataset = torch.load(test_path) # 45초"
   ]
  },
  {
   "cell_type": "code",
   "execution_count": 12,
   "metadata": {},
   "outputs": [],
   "source": [
    "batch_size = 16\n",
    "from torch.utils.data import DataLoader\n",
    "train_loader = DataLoader(train_dataset, batch_size=batch_size, shuffle=True, num_workers=0)\n",
    "val_loader = DataLoader(val_dataset, batch_size=batch_size, shuffle=False, num_workers=0)\n",
    "test_loader = DataLoader(test_dataset, batch_size=batch_size, shuffle=False, num_workers=0)"
   ]
  },
  {
   "cell_type": "code",
   "execution_count": 13,
   "metadata": {},
   "outputs": [
    {
     "data": {
      "text/plain": [
       "(57696, 4815, 6025)"
      ]
     },
     "execution_count": 13,
     "metadata": {},
     "output_type": "execute_result"
    }
   ],
   "source": [
    "len(train_loader), len(val_loader), len(test_loader)"
   ]
  },
  {
   "cell_type": "markdown",
   "metadata": {},
   "source": [
    "# 모델1 - base"
   ]
  },
  {
   "cell_type": "code",
   "execution_count": 24,
   "metadata": {},
   "outputs": [
    {
     "data": {
      "text/plain": [
       "device(type='cuda')"
      ]
     },
     "execution_count": 24,
     "metadata": {},
     "output_type": "execute_result"
    }
   ],
   "source": [
    "import torch\n",
    "device = torch.device('cuda' if torch.cuda.is_available() else 'cpu')\n",
    "device"
   ]
  },
  {
   "cell_type": "code",
   "execution_count": 25,
   "metadata": {},
   "outputs": [],
   "source": [
    "import torch\n",
    "import torch.nn as nn\n",
    "\n",
    "class RedCNN(nn.Module):\n",
    "    def __init__(self):\n",
    "        super(RedCNN, self).__init__()\n",
    "\n",
    "        # 인코더 부분\n",
    "        self.conv1 = nn.Conv2d(1, 96, 5, 1, 0)\n",
    "        self.conv2 = nn.Conv2d(96, 96, 5, 1, 0)\n",
    "        self.conv3 = nn.Conv2d(96, 96, 5, 1, 0)\n",
    "        self.conv4 = nn.Conv2d(96, 96, 5, 1, 0)\n",
    "        self.conv5 = nn.Conv2d(96, 96, 5, 1, 0)\n",
    "        \n",
    "        # 디코더 부분\n",
    "        self.deconv1 = nn.ConvTranspose2d(96, 96, 5, 1, 0)\n",
    "        self.deconv2 = nn.ConvTranspose2d(96, 96, 5, 1, 0)\n",
    "        self.deconv3 = nn.ConvTranspose2d(96, 96, 5, 1, 0)\n",
    "        self.deconv4 = nn.ConvTranspose2d(96, 96, 5, 1, 0)\n",
    "        self.deconv_last = nn.ConvTranspose2d(96, 1, 5, 1, 0)\n",
    "\n",
    "        self.relu = nn.ReLU()\n",
    "\n",
    "\n",
    "    def forward(self, x):\n",
    "        # 인코더 부분\n",
    "        residual1 = x  # 첫 번째 잔차 저장\n",
    "        x = self.relu(self.conv1(x))\n",
    "        x = self.relu(self.conv2(x))\n",
    "        residual2 = x  # 두 번째 잔차 저장\n",
    "        x = self.relu(self.conv3(x))\n",
    "        x = self.relu(self.conv4(x))\n",
    "        residual3 = x  # 세 번째 잔차 저장\n",
    "        x = self.relu(self.conv5(x))\n",
    "        \n",
    "        # 디코더 부분 (잔차를 더해줌)\n",
    "        x = self.relu(self.deconv1(x)) + residual3  # 세 번째 잔차 연결\n",
    "        x = self.relu(self.deconv2(x))\n",
    "        x = self.relu((self.deconv3(x)) + residual2)  # 두 번째 잔차 연결\n",
    "        x = self.relu(self.deconv4(x))\n",
    "        x = self.deconv_last(x) + residual1  # 첫 번째 잔차 연결\n",
    "        \n",
    "        return x\n"
   ]
  },
  {
   "cell_type": "code",
   "execution_count": 26,
   "metadata": {},
   "outputs": [
    {
     "data": {
      "text/plain": [
       "RedCNN(\n",
       "  (conv1): Conv2d(1, 96, kernel_size=(5, 5), stride=(1, 1))\n",
       "  (conv2): Conv2d(96, 96, kernel_size=(5, 5), stride=(1, 1))\n",
       "  (conv3): Conv2d(96, 96, kernel_size=(5, 5), stride=(1, 1))\n",
       "  (conv4): Conv2d(96, 96, kernel_size=(5, 5), stride=(1, 1))\n",
       "  (conv5): Conv2d(96, 96, kernel_size=(5, 5), stride=(1, 1))\n",
       "  (deconv1): ConvTranspose2d(96, 96, kernel_size=(5, 5), stride=(1, 1))\n",
       "  (deconv2): ConvTranspose2d(96, 96, kernel_size=(5, 5), stride=(1, 1))\n",
       "  (deconv3): ConvTranspose2d(96, 96, kernel_size=(5, 5), stride=(1, 1))\n",
       "  (deconv4): ConvTranspose2d(96, 96, kernel_size=(5, 5), stride=(1, 1))\n",
       "  (deconv_last): ConvTranspose2d(96, 1, kernel_size=(5, 5), stride=(1, 1))\n",
       "  (relu): ReLU()\n",
       ")"
      ]
     },
     "execution_count": 26,
     "metadata": {},
     "output_type": "execute_result"
    }
   ],
   "source": [
    "model = RedCNN().to(device)\n",
    "model"
   ]
  },
  {
   "cell_type": "code",
   "execution_count": 27,
   "metadata": {},
   "outputs": [
    {
     "name": "stdout",
     "output_type": "stream",
     "text": [
      "/root/code\n"
     ]
    },
    {
     "data": {
      "text/plain": [
       "<module 'utils.train_eval_util' from '/root/code/utils/train_eval_util.py'>"
      ]
     },
     "execution_count": 27,
     "metadata": {},
     "output_type": "execute_result"
    }
   ],
   "source": [
    "%cd /root/code\n",
    "\n",
    "import utils.EarlyStopping\n",
    "import utils.LRScheduler\n",
    "import utils.train_eval_util\n",
    "import importlib\n",
    "importlib.reload(utils.EarlyStopping)\n",
    "importlib.reload(utils.LRScheduler)\n",
    "importlib.reload(utils.train_eval_util)"
   ]
  },
  {
   "cell_type": "code",
   "execution_count": 28,
   "metadata": {},
   "outputs": [],
   "source": [
    "import torch.nn as nn\n",
    "criterion = nn.MSELoss()\n",
    "\n",
    "from utils.EarlyStopping import *\n",
    "from utils.LRScheduler import *\n",
    "from utils.train_eval_util import train, evaluate\n",
    "\n",
    "learning_rate = 1e-5\n",
    "optimizer = torch.optim.Adam(params = model.parameters(),\n",
    "                             lr = learning_rate)\n",
    "\n",
    "\n",
    "early_stopping = EarlyStopping(patience = 7, # 7번까지는 개선이 안되어도 봐준다.\n",
    "                               min_delta = 1e-5) # 이정도는 개선이 되어야한다. 아니면 위의 patience까지 count하다가 stop\n",
    "\n",
    "\n",
    "scheduler = LRScheduler(optimizer = optimizer,\n",
    "                        patience = 5,\n",
    "                        min_lr = 1e-10,\n",
    "                        factor = 0.5)"
   ]
  },
  {
   "cell_type": "code",
   "execution_count": 29,
   "metadata": {},
   "outputs": [],
   "source": [
    "import torch\n",
    "from tqdm import tqdm\n",
    "\n",
    "interval = 1000\n",
    "\n",
    "def train(model, train_loader, optimizer, criterion, device, epoch):\n",
    "    model.train()\n",
    "    running_loss = 0.0\n",
    "    loss_list = []\n",
    "    total_loss = 0\n",
    "\n",
    "    for i, data in tqdm(enumerate(train_loader), total=len(train_loader), desc=f\"Epoch {epoch} - Training\"):\n",
    "        X, y = data[0].to(device), data[1].to(device)\n",
    "        optimizer.zero_grad()\n",
    "        X_hat = model(X)\n",
    "        loss = criterion(X_hat, y)\n",
    "        loss.backward()\n",
    "        optimizer.step()\n",
    "\n",
    "        running_loss += loss.item() * X.size(0)\n",
    "\n",
    "        if i % interval == interval-1:\n",
    "            interval_loss = running_loss / interval\n",
    "            loss_list.append(interval_loss)\n",
    "            total_loss += running_loss\n",
    "            running_loss = 0.0\n",
    "            tqdm.write(f'train loss : {interval_loss}')\n",
    "\n",
    "    return loss_list, total_loss / len(train_loader.dataset)\n",
    "\n",
    "def evaluate(model, loader, criterion, device, epoch):\n",
    "    model.eval()\n",
    "    running_loss = 0.0\n",
    "    loss_list = []\n",
    "    total_loss = 0\n",
    "\n",
    "    with torch.no_grad():\n",
    "        for i, data in tqdm(enumerate(loader), total=len(loader), desc=f\"Epoch {epoch} - Evaluating\"):\n",
    "            X, y = data[0].to(device), data[1].to(device)\n",
    "            X_hat = model(X)\n",
    "            loss = criterion(X_hat, y)\n",
    "\n",
    "            running_loss += loss.item() * X.size(0)\n",
    "\n",
    "            if i % interval == interval-1:\n",
    "                interval_loss = running_loss / interval\n",
    "                loss_list.append(interval_loss)\n",
    "                total_loss += running_loss\n",
    "                running_loss = 0.0\n",
    "                tqdm.write(f'train loss : {interval_loss}')\n",
    "\n",
    "    return loss_list, total_loss / len(loader.dataset)"
   ]
  },
  {
   "cell_type": "code",
   "execution_count": 30,
   "metadata": {},
   "outputs": [
    {
     "name": "stdout",
     "output_type": "stream",
     "text": [
      "/root/code\n"
     ]
    }
   ],
   "source": [
    "!pwd"
   ]
  },
  {
   "cell_type": "code",
   "execution_count": 31,
   "metadata": {},
   "outputs": [
    {
     "name": "stdout",
     "output_type": "stream",
     "text": [
      "/root/code/redcnn/exp\n"
     ]
    }
   ],
   "source": [
    "%cd /root/code/redcnn/exp"
   ]
  },
  {
   "cell_type": "code",
   "execution_count": 32,
   "metadata": {},
   "outputs": [
    {
     "name": "stderr",
     "output_type": "stream",
     "text": [
      "Epoch 0 - Training:   2%|▏         | 1006/57696 [00:19<18:42, 50.51it/s]"
     ]
    },
    {
     "name": "stdout",
     "output_type": "stream",
     "text": [
      "train loss : 0.07178331959247589\n"
     ]
    },
    {
     "name": "stderr",
     "output_type": "stream",
     "text": [
      "Epoch 0 - Training:   3%|▎         | 2008/57696 [00:39<18:19, 50.64it/s]"
     ]
    },
    {
     "name": "stdout",
     "output_type": "stream",
     "text": [
      "train loss : 0.055104286832734946\n"
     ]
    },
    {
     "name": "stderr",
     "output_type": "stream",
     "text": [
      "Epoch 0 - Training:   5%|▌         | 3010/57696 [00:59<18:00, 50.62it/s]"
     ]
    },
    {
     "name": "stdout",
     "output_type": "stream",
     "text": [
      "train loss : 0.05103286227211356\n"
     ]
    },
    {
     "name": "stderr",
     "output_type": "stream",
     "text": [
      "Epoch 0 - Training:   7%|▋         | 4006/57696 [01:18<17:41, 50.57it/s]"
     ]
    },
    {
     "name": "stdout",
     "output_type": "stream",
     "text": [
      "train loss : 0.048383812082931396\n"
     ]
    },
    {
     "name": "stderr",
     "output_type": "stream",
     "text": [
      "Epoch 0 - Training:   9%|▊         | 5008/57696 [01:38<17:23, 50.51it/s]"
     ]
    },
    {
     "name": "stdout",
     "output_type": "stream",
     "text": [
      "train loss : 0.046783961156383155\n"
     ]
    },
    {
     "name": "stderr",
     "output_type": "stream",
     "text": [
      "Epoch 0 - Training:  10%|█         | 6010/57696 [01:58<17:01, 50.58it/s]"
     ]
    },
    {
     "name": "stdout",
     "output_type": "stream",
     "text": [
      "train loss : 0.04568899576924741\n"
     ]
    },
    {
     "name": "stderr",
     "output_type": "stream",
     "text": [
      "Epoch 0 - Training:  12%|█▏        | 7006/57696 [02:17<16:43, 50.50it/s]"
     ]
    },
    {
     "name": "stdout",
     "output_type": "stream",
     "text": [
      "train loss : 0.044984801232814786\n"
     ]
    },
    {
     "name": "stderr",
     "output_type": "stream",
     "text": [
      "Epoch 0 - Training:  14%|█▍        | 8008/57696 [02:37<16:24, 50.44it/s]"
     ]
    },
    {
     "name": "stdout",
     "output_type": "stream",
     "text": [
      "train loss : 0.04400915402546525\n"
     ]
    },
    {
     "name": "stderr",
     "output_type": "stream",
     "text": [
      "Epoch 0 - Training:  16%|█▌        | 9010/57696 [02:57<16:01, 50.61it/s]"
     ]
    },
    {
     "name": "stdout",
     "output_type": "stream",
     "text": [
      "train loss : 0.04300463438034058\n"
     ]
    },
    {
     "name": "stderr",
     "output_type": "stream",
     "text": [
      "Epoch 0 - Training:  17%|█▋        | 10006/57696 [03:16<15:44, 50.51it/s]"
     ]
    },
    {
     "name": "stdout",
     "output_type": "stream",
     "text": [
      "train loss : 0.042463369712233544\n"
     ]
    },
    {
     "name": "stderr",
     "output_type": "stream",
     "text": [
      "Epoch 0 - Training:  19%|█▉        | 11008/57696 [03:36<15:23, 50.56it/s]"
     ]
    },
    {
     "name": "stdout",
     "output_type": "stream",
     "text": [
      "train loss : 0.04178040597774088\n"
     ]
    },
    {
     "name": "stderr",
     "output_type": "stream",
     "text": [
      "Epoch 0 - Training:  21%|██        | 12010/57696 [03:56<15:04, 50.51it/s]"
     ]
    },
    {
     "name": "stdout",
     "output_type": "stream",
     "text": [
      "train loss : 0.041486892186105254\n"
     ]
    },
    {
     "name": "stderr",
     "output_type": "stream",
     "text": [
      "Epoch 0 - Training:  23%|██▎       | 13006/57696 [04:15<14:46, 50.40it/s]"
     ]
    },
    {
     "name": "stdout",
     "output_type": "stream",
     "text": [
      "train loss : 0.04109294169023633\n"
     ]
    },
    {
     "name": "stderr",
     "output_type": "stream",
     "text": [
      "Epoch 0 - Training:  24%|██▍       | 14008/57696 [04:35<14:25, 50.47it/s]"
     ]
    },
    {
     "name": "stdout",
     "output_type": "stream",
     "text": [
      "train loss : 0.04102047740109265\n"
     ]
    },
    {
     "name": "stderr",
     "output_type": "stream",
     "text": [
      "Epoch 0 - Training:  26%|██▌       | 15010/57696 [04:55<14:03, 50.59it/s]"
     ]
    },
    {
     "name": "stdout",
     "output_type": "stream",
     "text": [
      "train loss : 0.040625842167064545\n"
     ]
    },
    {
     "name": "stderr",
     "output_type": "stream",
     "text": [
      "Epoch 0 - Training:  28%|██▊       | 16006/57696 [05:14<13:45, 50.51it/s]"
     ]
    },
    {
     "name": "stdout",
     "output_type": "stream",
     "text": [
      "train loss : 0.040036785915493964\n"
     ]
    },
    {
     "name": "stderr",
     "output_type": "stream",
     "text": [
      "Epoch 0 - Training:  29%|██▉       | 17008/57696 [05:34<13:25, 50.49it/s]"
     ]
    },
    {
     "name": "stdout",
     "output_type": "stream",
     "text": [
      "train loss : 0.0400663893353194\n"
     ]
    },
    {
     "name": "stderr",
     "output_type": "stream",
     "text": [
      "Epoch 0 - Training:  31%|███       | 18010/57696 [05:54<13:03, 50.64it/s]"
     ]
    },
    {
     "name": "stdout",
     "output_type": "stream",
     "text": [
      "train loss : 0.03963093840144575\n"
     ]
    },
    {
     "name": "stderr",
     "output_type": "stream",
     "text": [
      "Epoch 0 - Training:  33%|███▎      | 19006/57696 [06:13<12:41, 50.78it/s]"
     ]
    },
    {
     "name": "stdout",
     "output_type": "stream",
     "text": [
      "train loss : 0.03946270799078047\n"
     ]
    },
    {
     "name": "stderr",
     "output_type": "stream",
     "text": [
      "Epoch 0 - Training:  35%|███▍      | 20008/57696 [06:33<12:25, 50.58it/s]"
     ]
    },
    {
     "name": "stdout",
     "output_type": "stream",
     "text": [
      "train loss : 0.03951117846928537\n"
     ]
    },
    {
     "name": "stderr",
     "output_type": "stream",
     "text": [
      "Epoch 0 - Training:  36%|███▋      | 21010/57696 [06:53<12:05, 50.54it/s]"
     ]
    },
    {
     "name": "stdout",
     "output_type": "stream",
     "text": [
      "train loss : 0.038978689406067135\n"
     ]
    },
    {
     "name": "stderr",
     "output_type": "stream",
     "text": [
      "Epoch 0 - Training:  38%|███▊      | 22006/57696 [07:12<11:41, 50.88it/s]"
     ]
    },
    {
     "name": "stdout",
     "output_type": "stream",
     "text": [
      "train loss : 0.03908469231799245\n"
     ]
    },
    {
     "name": "stderr",
     "output_type": "stream",
     "text": [
      "Epoch 0 - Training:  40%|███▉      | 23008/57696 [07:32<11:26, 50.51it/s]"
     ]
    },
    {
     "name": "stdout",
     "output_type": "stream",
     "text": [
      "train loss : 0.03842692189849913\n"
     ]
    },
    {
     "name": "stderr",
     "output_type": "stream",
     "text": [
      "Epoch 0 - Training:  42%|████▏     | 24010/57696 [07:51<11:06, 50.52it/s]"
     ]
    },
    {
     "name": "stdout",
     "output_type": "stream",
     "text": [
      "train loss : 0.03846339240670204\n"
     ]
    },
    {
     "name": "stderr",
     "output_type": "stream",
     "text": [
      "Epoch 0 - Training:  43%|████▎     | 25006/57696 [08:11<10:46, 50.59it/s]"
     ]
    },
    {
     "name": "stdout",
     "output_type": "stream",
     "text": [
      "train loss : 0.03851138547621667\n"
     ]
    },
    {
     "name": "stderr",
     "output_type": "stream",
     "text": [
      "Epoch 0 - Training:  45%|████▌     | 26008/57696 [08:31<10:26, 50.59it/s]"
     ]
    },
    {
     "name": "stdout",
     "output_type": "stream",
     "text": [
      "train loss : 0.03794299328699708\n"
     ]
    },
    {
     "name": "stderr",
     "output_type": "stream",
     "text": [
      "Epoch 0 - Training:  47%|████▋     | 27010/57696 [08:50<10:06, 50.62it/s]"
     ]
    },
    {
     "name": "stdout",
     "output_type": "stream",
     "text": [
      "train loss : 0.03858606062270701\n"
     ]
    },
    {
     "name": "stderr",
     "output_type": "stream",
     "text": [
      "Epoch 0 - Training:  49%|████▊     | 28006/57696 [09:10<09:48, 50.44it/s]"
     ]
    },
    {
     "name": "stdout",
     "output_type": "stream",
     "text": [
      "train loss : 0.038395150676369665\n"
     ]
    },
    {
     "name": "stderr",
     "output_type": "stream",
     "text": [
      "Epoch 0 - Training:  50%|█████     | 29008/57696 [09:30<09:24, 50.80it/s]"
     ]
    },
    {
     "name": "stdout",
     "output_type": "stream",
     "text": [
      "train loss : 0.03778087846562266\n"
     ]
    },
    {
     "name": "stderr",
     "output_type": "stream",
     "text": [
      "Epoch 0 - Training:  52%|█████▏    | 30010/57696 [09:49<09:08, 50.49it/s]"
     ]
    },
    {
     "name": "stdout",
     "output_type": "stream",
     "text": [
      "train loss : 0.03756425898335874\n"
     ]
    },
    {
     "name": "stderr",
     "output_type": "stream",
     "text": [
      "Epoch 0 - Training:  54%|█████▎    | 31006/57696 [10:09<08:43, 50.94it/s]"
     ]
    },
    {
     "name": "stdout",
     "output_type": "stream",
     "text": [
      "train loss : 0.03780511333607137\n"
     ]
    },
    {
     "name": "stderr",
     "output_type": "stream",
     "text": [
      "Epoch 0 - Training:  55%|█████▌    | 32008/57696 [10:29<08:28, 50.48it/s]"
     ]
    },
    {
     "name": "stdout",
     "output_type": "stream",
     "text": [
      "train loss : 0.03796712533943355\n"
     ]
    },
    {
     "name": "stderr",
     "output_type": "stream",
     "text": [
      "Epoch 0 - Training:  57%|█████▋    | 33010/57696 [10:48<08:08, 50.52it/s]"
     ]
    },
    {
     "name": "stdout",
     "output_type": "stream",
     "text": [
      "train loss : 0.03750236022938043\n"
     ]
    },
    {
     "name": "stderr",
     "output_type": "stream",
     "text": [
      "Epoch 0 - Training:  59%|█████▉    | 34006/57696 [11:08<07:48, 50.52it/s]"
     ]
    },
    {
     "name": "stdout",
     "output_type": "stream",
     "text": [
      "train loss : 0.03766304586455226\n"
     ]
    },
    {
     "name": "stderr",
     "output_type": "stream",
     "text": [
      "Epoch 0 - Training:  61%|██████    | 35008/57696 [11:28<07:29, 50.49it/s]"
     ]
    },
    {
     "name": "stdout",
     "output_type": "stream",
     "text": [
      "train loss : 0.03768907548673451\n"
     ]
    },
    {
     "name": "stderr",
     "output_type": "stream",
     "text": [
      "Epoch 0 - Training:  62%|██████▏   | 36010/57696 [11:47<07:07, 50.75it/s]"
     ]
    },
    {
     "name": "stdout",
     "output_type": "stream",
     "text": [
      "train loss : 0.03757040610350668\n"
     ]
    },
    {
     "name": "stderr",
     "output_type": "stream",
     "text": [
      "Epoch 0 - Training:  64%|██████▍   | 37006/57696 [12:07<06:49, 50.57it/s]"
     ]
    },
    {
     "name": "stdout",
     "output_type": "stream",
     "text": [
      "train loss : 0.036993017522618174\n"
     ]
    },
    {
     "name": "stderr",
     "output_type": "stream",
     "text": [
      "Epoch 0 - Training:  66%|██████▌   | 38008/57696 [12:26<06:29, 50.57it/s]"
     ]
    },
    {
     "name": "stdout",
     "output_type": "stream",
     "text": [
      "train loss : 0.03749478789325804\n"
     ]
    },
    {
     "name": "stderr",
     "output_type": "stream",
     "text": [
      "Epoch 0 - Training:  68%|██████▊   | 39010/57696 [12:46<06:09, 50.57it/s]"
     ]
    },
    {
     "name": "stdout",
     "output_type": "stream",
     "text": [
      "train loss : 0.03694032029248774\n"
     ]
    },
    {
     "name": "stderr",
     "output_type": "stream",
     "text": [
      "Epoch 0 - Training:  69%|██████▉   | 40006/57696 [13:06<05:49, 50.56it/s]"
     ]
    },
    {
     "name": "stdout",
     "output_type": "stream",
     "text": [
      "train loss : 0.03696114254370332\n"
     ]
    },
    {
     "name": "stderr",
     "output_type": "stream",
     "text": [
      "Epoch 0 - Training:  71%|███████   | 41008/57696 [13:25<05:29, 50.60it/s]"
     ]
    },
    {
     "name": "stdout",
     "output_type": "stream",
     "text": [
      "train loss : 0.03650166327506304\n"
     ]
    },
    {
     "name": "stderr",
     "output_type": "stream",
     "text": [
      "Epoch 0 - Training:  73%|███████▎  | 42010/57696 [13:45<05:10, 50.55it/s]"
     ]
    },
    {
     "name": "stdout",
     "output_type": "stream",
     "text": [
      "train loss : 0.03663634305819869\n"
     ]
    },
    {
     "name": "stderr",
     "output_type": "stream",
     "text": [
      "Epoch 0 - Training:  75%|███████▍  | 43006/57696 [14:05<04:50, 50.52it/s]"
     ]
    },
    {
     "name": "stdout",
     "output_type": "stream",
     "text": [
      "train loss : 0.03659128013066947\n"
     ]
    },
    {
     "name": "stderr",
     "output_type": "stream",
     "text": [
      "Epoch 0 - Training:  76%|███████▋  | 44008/57696 [14:24<04:30, 50.57it/s]"
     ]
    },
    {
     "name": "stdout",
     "output_type": "stream",
     "text": [
      "train loss : 0.03667831198312342\n"
     ]
    },
    {
     "name": "stderr",
     "output_type": "stream",
     "text": [
      "Epoch 0 - Training:  78%|███████▊  | 45010/57696 [14:44<04:10, 50.66it/s]"
     ]
    },
    {
     "name": "stdout",
     "output_type": "stream",
     "text": [
      "train loss : 0.036885466542094944\n"
     ]
    },
    {
     "name": "stderr",
     "output_type": "stream",
     "text": [
      "Epoch 0 - Training:  80%|███████▉  | 46006/57696 [15:04<03:51, 50.56it/s]"
     ]
    },
    {
     "name": "stdout",
     "output_type": "stream",
     "text": [
      "train loss : 0.03691105475462973\n"
     ]
    },
    {
     "name": "stderr",
     "output_type": "stream",
     "text": [
      "Epoch 0 - Training:  81%|████████▏ | 47008/57696 [15:23<03:31, 50.65it/s]"
     ]
    },
    {
     "name": "stdout",
     "output_type": "stream",
     "text": [
      "train loss : 0.03712823657877743\n"
     ]
    },
    {
     "name": "stderr",
     "output_type": "stream",
     "text": [
      "Epoch 0 - Training:  83%|████████▎ | 48010/57696 [15:43<03:11, 50.63it/s]"
     ]
    },
    {
     "name": "stdout",
     "output_type": "stream",
     "text": [
      "train loss : 0.0368313090801239\n"
     ]
    },
    {
     "name": "stderr",
     "output_type": "stream",
     "text": [
      "Epoch 0 - Training:  85%|████████▍ | 49006/57696 [16:03<02:51, 50.69it/s]"
     ]
    },
    {
     "name": "stdout",
     "output_type": "stream",
     "text": [
      "train loss : 0.03649287746846676\n"
     ]
    },
    {
     "name": "stderr",
     "output_type": "stream",
     "text": [
      "Epoch 0 - Training:  87%|████████▋ | 50008/57696 [16:22<02:31, 50.70it/s]"
     ]
    },
    {
     "name": "stdout",
     "output_type": "stream",
     "text": [
      "train loss : 0.03642910240404308\n"
     ]
    },
    {
     "name": "stderr",
     "output_type": "stream",
     "text": [
      "Epoch 0 - Training:  88%|████████▊ | 51010/57696 [16:42<02:12, 50.62it/s]"
     ]
    },
    {
     "name": "stdout",
     "output_type": "stream",
     "text": [
      "train loss : 0.036432971165515485\n"
     ]
    },
    {
     "name": "stderr",
     "output_type": "stream",
     "text": [
      "Epoch 0 - Training:  90%|█████████ | 52006/57696 [17:01<01:52, 50.57it/s]"
     ]
    },
    {
     "name": "stdout",
     "output_type": "stream",
     "text": [
      "train loss : 0.03615936531126499\n"
     ]
    },
    {
     "name": "stderr",
     "output_type": "stream",
     "text": [
      "Epoch 0 - Training:  92%|█████████▏| 53008/57696 [17:21<01:32, 50.54it/s]"
     ]
    },
    {
     "name": "stdout",
     "output_type": "stream",
     "text": [
      "train loss : 0.03669936626777053\n"
     ]
    },
    {
     "name": "stderr",
     "output_type": "stream",
     "text": [
      "Epoch 0 - Training:  94%|█████████▎| 54010/57696 [17:41<01:12, 50.63it/s]"
     ]
    },
    {
     "name": "stdout",
     "output_type": "stream",
     "text": [
      "train loss : 0.03651138449460268\n"
     ]
    },
    {
     "name": "stderr",
     "output_type": "stream",
     "text": [
      "Epoch 0 - Training:  95%|█████████▌| 55006/57696 [18:00<00:53, 50.56it/s]"
     ]
    },
    {
     "name": "stdout",
     "output_type": "stream",
     "text": [
      "train loss : 0.036725042572245\n"
     ]
    },
    {
     "name": "stderr",
     "output_type": "stream",
     "text": [
      "Epoch 0 - Training:  97%|█████████▋| 56008/57696 [18:20<00:33, 50.59it/s]"
     ]
    },
    {
     "name": "stdout",
     "output_type": "stream",
     "text": [
      "train loss : 0.03655342063121498\n"
     ]
    },
    {
     "name": "stderr",
     "output_type": "stream",
     "text": [
      "Epoch 0 - Training:  99%|█████████▉| 57010/57696 [18:40<00:13, 50.67it/s]"
     ]
    },
    {
     "name": "stdout",
     "output_type": "stream",
     "text": [
      "train loss : 0.0360836580786854\n"
     ]
    },
    {
     "name": "stderr",
     "output_type": "stream",
     "text": [
      "Epoch 0 - Training: 100%|██████████| 57696/57696 [18:53<00:00, 50.89it/s]\n",
      "Epoch 0 - Evaluating:  21%|██        | 1014/4815 [00:08<00:30, 123.92it/s]"
     ]
    },
    {
     "name": "stdout",
     "output_type": "stream",
     "text": [
      "train loss : 0.042047373901121315\n"
     ]
    },
    {
     "name": "stderr",
     "output_type": "stream",
     "text": [
      "Epoch 0 - Evaluating:  42%|████▏     | 2015/4815 [00:16<00:22, 123.97it/s]"
     ]
    },
    {
     "name": "stdout",
     "output_type": "stream",
     "text": [
      "train loss : 0.04553423090325669\n"
     ]
    },
    {
     "name": "stderr",
     "output_type": "stream",
     "text": [
      "Epoch 0 - Evaluating:  63%|██████▎   | 3016/4815 [00:24<00:14, 123.86it/s]"
     ]
    },
    {
     "name": "stdout",
     "output_type": "stream",
     "text": [
      "train loss : 0.02997229593503289\n"
     ]
    },
    {
     "name": "stderr",
     "output_type": "stream",
     "text": [
      "Epoch 0 - Evaluating:  83%|████████▎ | 4017/4815 [00:32<00:06, 123.85it/s]"
     ]
    },
    {
     "name": "stdout",
     "output_type": "stream",
     "text": [
      "train loss : 0.03345628417422995\n"
     ]
    },
    {
     "name": "stderr",
     "output_type": "stream",
     "text": [
      "Epoch 0 - Evaluating: 100%|██████████| 4815/4815 [00:38<00:00, 124.56it/s]"
     ]
    },
    {
     "name": "stdout",
     "output_type": "stream",
     "text": [
      "Epoch [1/1], Train Loss: 0.0025, Valid Loss: 0.0020\n"
     ]
    },
    {
     "name": "stderr",
     "output_type": "stream",
     "text": [
      "\n"
     ]
    }
   ],
   "source": [
    "epochs = 1 # 각 epoch마다 train(20분), valid(2분)이 소요된다.\n",
    "best_valid_loss = float('inf')\n",
    "train_loss_per_iter = []\n",
    "train_loss_per_epoch = []\n",
    "val_loss_per_iter = []\n",
    "val_loss_per_epoch = []\n",
    "\n",
    "for epoch in range(epochs):\n",
    "    loss_list, total_loss = train(model, train_loader, optimizer, criterion, device, epoch)\n",
    "    train_loss_per_iter.append(loss_list)\n",
    "    train_loss_per_epoch.append(total_loss)\n",
    "\n",
    "    loss_list, total_loss = evaluate(model, val_loader, criterion, device, epoch)\n",
    "    val_loss_per_iter.append(loss_list)\n",
    "    val_loss_per_epoch.append(total_loss)\n",
    "\n",
    "    print(f\"Epoch [{epoch+1}/{epochs}], Train Loss: {train_loss_per_epoch[-1]:.4f}, Valid Loss: {val_loss_per_epoch[-1]:.4f}\")\n",
    "\n",
    "    valid_loss = val_loss_per_epoch[-1]\n",
    "    scheduler(valid_loss)\n",
    "\n",
    "    if (early_stopping(valid_loss)):\n",
    "        break\n",
    "\n",
    "    if valid_loss < best_valid_loss:\n",
    "        best_valid_loss = valid_loss\n",
    "        epochs_no_improve = 0\n",
    "        torch.save(model.state_dict(), \"./\" + 'None' + \".pth\")"
   ]
  },
  {
   "cell_type": "code",
   "execution_count": 33,
   "metadata": {},
   "outputs": [
    {
     "name": "stderr",
     "output_type": "stream",
     "text": [
      "Evaluating:  17%|█▋        | 1009/6025 [00:22<01:50, 45.25it/s]"
     ]
    },
    {
     "name": "stdout",
     "output_type": "stream",
     "text": [
      "RMSE per interval: 0.0458, PSNR per interval: 27.62, SSIM per interval: 0.6728\n"
     ]
    },
    {
     "name": "stderr",
     "output_type": "stream",
     "text": [
      "Evaluating:  33%|███▎      | 2009/6025 [00:44<01:28, 45.39it/s]"
     ]
    },
    {
     "name": "stdout",
     "output_type": "stream",
     "text": [
      "RMSE per interval: 0.0434, PSNR per interval: 28.38, SSIM per interval: 0.6884\n"
     ]
    },
    {
     "name": "stderr",
     "output_type": "stream",
     "text": [
      "Evaluating:  50%|████▉     | 3009/6025 [01:05<01:06, 45.37it/s]"
     ]
    },
    {
     "name": "stdout",
     "output_type": "stream",
     "text": [
      "RMSE per interval: 0.0436, PSNR per interval: 28.54, SSIM per interval: 0.6978\n"
     ]
    },
    {
     "name": "stderr",
     "output_type": "stream",
     "text": [
      "Evaluating:  67%|██████▋   | 4009/6025 [01:27<00:44, 45.28it/s]"
     ]
    },
    {
     "name": "stdout",
     "output_type": "stream",
     "text": [
      "RMSE per interval: 0.0372, PSNR per interval: 29.54, SSIM per interval: 0.7249\n"
     ]
    },
    {
     "name": "stderr",
     "output_type": "stream",
     "text": [
      "Evaluating:  83%|████████▎ | 5009/6025 [01:49<00:22, 45.33it/s]"
     ]
    },
    {
     "name": "stdout",
     "output_type": "stream",
     "text": [
      "RMSE per interval: 0.0369, PSNR per interval: 29.63, SSIM per interval: 0.7034\n"
     ]
    },
    {
     "name": "stderr",
     "output_type": "stream",
     "text": [
      "Evaluating: 100%|█████████▉| 6009/6025 [02:11<00:00, 45.26it/s]"
     ]
    },
    {
     "name": "stdout",
     "output_type": "stream",
     "text": [
      "RMSE per interval: 0.0349, PSNR per interval: 30.34, SSIM per interval: 0.7449\n"
     ]
    },
    {
     "name": "stderr",
     "output_type": "stream",
     "text": [
      "Evaluating: 100%|██████████| 6025/6025 [02:12<00:00, 45.61it/s]"
     ]
    },
    {
     "name": "stdout",
     "output_type": "stream",
     "text": [
      "Average RMSE over all intervals: 0.040289\n"
     ]
    },
    {
     "name": "stderr",
     "output_type": "stream",
     "text": [
      "\n"
     ]
    }
   ],
   "source": [
    "import torch\n",
    "import torch.nn as nn\n",
    "import numpy as np\n",
    "from skimage.metrics import peak_signal_noise_ratio, structural_similarity\n",
    "from tqdm import tqdm\n",
    "\n",
    "criterion = nn.MSELoss()\n",
    "interval = 1000\n",
    "\n",
    "# 저장된 모델 로드\n",
    "device = torch.device('cuda' if torch.cuda.is_available() else 'cpu')\n",
    "model = RedCNN().to(device)\n",
    "model.load_state_dict(torch.load('None.pth'))\n",
    "\n",
    "# 평가 지표 계산 추가\n",
    "def calculate_psnr(y_true, y_pred):\n",
    "    \"\"\"PSNR 계산 함수\"\"\"\n",
    "    y_true = y_true.cpu().numpy()\n",
    "    y_pred = y_pred.cpu().numpy()\n",
    "    return peak_signal_noise_ratio(y_true, y_pred, data_range=1.0)  # 정규화된 데이터라면 data_range=1.0\n",
    "\n",
    "def calculate_ssim(y_true, y_pred):\n",
    "    \"\"\"SSIM 계산 함수\"\"\"\n",
    "    y_true = y_true.squeeze(0).cpu().numpy()\n",
    "    y_pred = y_pred.squeeze(0).cpu().numpy()\n",
    "    return structural_similarity(y_true, y_pred, data_range=1.0)  # 정규화된 데이터라면 data_range=1.0\n",
    "\n",
    "# evaluate 부분 + top10 best&worst\n",
    "model.eval()\n",
    "running_loss = 0.0\n",
    "running_psnr = 0.0\n",
    "running_ssim = 0.0\n",
    "psnr_list = []\n",
    "ssim_list = []\n",
    "loss_list = []\n",
    "total_loss = 0\n",
    "best_loss = np.inf\n",
    "worst_loss = -np.inf\n",
    "\n",
    "with torch.no_grad():\n",
    "    for i, data in tqdm(enumerate(test_loader), total=len(test_loader), desc=f\"Evaluating\"):\n",
    "        X, y = data[0].to(device), data[1].to(device)\n",
    "        X_hat = model(X)\n",
    "        mse_loss = criterion(X_hat, y)\n",
    "\n",
    "        # RMSE 계산\n",
    "        rms_loss = torch.sqrt(mse_loss)\n",
    "        running_loss += rms_loss.item()\n",
    "\n",
    "        # PSNR, SSIM 계산\n",
    "        for j in range(X.size(0)):  # 배치 내부 개별 이미지에 대해 계산\n",
    "            psnr = calculate_psnr(y[j, :, :, :], X_hat[j, :, :, :])\n",
    "            ssim = calculate_ssim(y[j, :, :, :], X_hat[j, :, :, :]) \n",
    "            running_psnr += psnr # batch에 대해 더해준다.\n",
    "            running_ssim += ssim\n",
    "\n",
    "        if mse_loss < best_loss:\n",
    "            best_loss = mse_loss\n",
    "            best = (X, y, X_hat)\n",
    "        if mse_loss > worst_loss:\n",
    "            worst_loss = mse_loss\n",
    "            worst = (X, y, X_hat)\n",
    "\n",
    "        if i % interval == interval - 1:\n",
    "            interval_loss = running_loss / interval\n",
    "            interval_psnr = running_psnr / (interval * X.size(0)) # batch에 대해 나눠준다\n",
    "            interval_ssim = running_ssim / (interval * X.size(0))\n",
    "\n",
    "            loss_list.append(interval_loss)\n",
    "            psnr_list.append(interval_psnr)\n",
    "            ssim_list.append(interval_ssim)\n",
    "\n",
    "            total_loss += interval_loss\n",
    "            running_loss = 0.0\n",
    "            running_psnr = 0.0\n",
    "            running_ssim = 0.0\n",
    "            tqdm.write(f'RMSE per interval: {interval_loss:.4f}, PSNR per interval: {interval_psnr:.2f}, SSIM per interval: {interval_ssim:.4f}')\n",
    "            # tqdm.write(f'RMSE per interval: {interval_loss}, PSNR per interval: {interval_psnr}, SSIM per interval: {interval_ssim}')\n",
    "\n",
    "    # 평균 RMSE 출력\n",
    "average_loss = total_loss / len(loss_list)\n",
    "print(f\"Average RMSE over all intervals: {average_loss:.6f}\")"
   ]
  },
  {
   "cell_type": "code",
   "execution_count": 34,
   "metadata": {},
   "outputs": [
    {
     "name": "stdout",
     "output_type": "stream",
     "text": [
      "Lists have been saved in the 'unet' folder:\n",
      "- loss_list.npy\n",
      "- psnr_list.npy\n",
      "- ssim_list.npy\n"
     ]
    }
   ],
   "source": [
    "import os\n",
    "import numpy as np\n",
    "\n",
    "s = 'None' + '_'\n",
    "\n",
    "# 파일 저장 경로\n",
    "file_names = {\n",
    "    \"loss\": \"loss_list.npy\",\n",
    "    \"psnr\": \"psnr_list.npy\",\n",
    "    \"ssim\": \"ssim_list.npy\"\n",
    "}\n",
    "\n",
    "# 각 리스트를 저장\n",
    "np.save(s+file_names[\"loss\"], loss_list)\n",
    "np.save(s+file_names[\"psnr\"], psnr_list)\n",
    "np.save(s+file_names[\"ssim\"], ssim_list)\n",
    "\n",
    "print(f\"Lists have been saved in the 'unet' folder:\\n- {file_names['loss']}\\n- {file_names['psnr']}\\n- {file_names['ssim']}\")"
   ]
  },
  {
   "cell_type": "markdown",
   "metadata": {},
   "source": [
    "# 모델2 - weight init"
   ]
  },
  {
   "cell_type": "code",
   "execution_count": 35,
   "metadata": {},
   "outputs": [
    {
     "data": {
      "text/plain": [
       "device(type='cuda')"
      ]
     },
     "execution_count": 35,
     "metadata": {},
     "output_type": "execute_result"
    }
   ],
   "source": [
    "import torch\n",
    "device = torch.device('cuda' if torch.cuda.is_available() else 'cpu')\n",
    "device"
   ]
  },
  {
   "cell_type": "code",
   "execution_count": 36,
   "metadata": {},
   "outputs": [],
   "source": [
    "import torch\n",
    "import torch.nn as nn\n",
    "\n",
    "class RedCNN(nn.Module):\n",
    "    def __init__(self):\n",
    "        super(RedCNN, self).__init__()\n",
    "\n",
    "        # 인코더 부분\n",
    "        self.conv1 = nn.Conv2d(1, 96, 5, 1, 0)\n",
    "        self.conv2 = nn.Conv2d(96, 96, 5, 1, 0)\n",
    "        self.conv3 = nn.Conv2d(96, 96, 5, 1, 0)\n",
    "        self.conv4 = nn.Conv2d(96, 96, 5, 1, 0)\n",
    "        self.conv5 = nn.Conv2d(96, 96, 5, 1, 0)\n",
    "        \n",
    "        # 디코더 부분\n",
    "        self.deconv1 = nn.ConvTranspose2d(96, 96, 5, 1, 0)\n",
    "        self.deconv2 = nn.ConvTranspose2d(96, 96, 5, 1, 0)\n",
    "        self.deconv3 = nn.ConvTranspose2d(96, 96, 5, 1, 0)\n",
    "        self.deconv4 = nn.ConvTranspose2d(96, 96, 5, 1, 0)\n",
    "        self.deconv_last = nn.ConvTranspose2d(96, 1, 5, 1, 0)\n",
    "\n",
    "        self.relu = nn.ReLU()\n",
    "\n",
    "        # Kaiming He 초기화 (ReLU에 적합)\n",
    "        nn.init.kaiming_normal_(self.conv1.weight, mode='fan_out', nonlinearity='relu')\n",
    "        nn.init.kaiming_normal_(self.conv2.weight, mode='fan_out', nonlinearity='relu')\n",
    "        nn.init.kaiming_normal_(self.conv3.weight, mode='fan_out', nonlinearity='relu')\n",
    "        nn.init.kaiming_normal_(self.conv4.weight, mode='fan_out', nonlinearity='relu')\n",
    "        nn.init.kaiming_normal_(self.conv5.weight, mode='fan_out', nonlinearity='relu')\n",
    "        nn.init.kaiming_normal_(self.deconv1.weight, mode='fan_out', nonlinearity='relu')\n",
    "        nn.init.kaiming_normal_(self.deconv2.weight, mode='fan_out', nonlinearity='relu')\n",
    "        nn.init.kaiming_normal_(self.deconv3.weight, mode='fan_out', nonlinearity='relu')\n",
    "        nn.init.kaiming_normal_(self.deconv4.weight, mode='fan_out', nonlinearity='relu')\n",
    "        nn.init.kaiming_normal_(self.deconv_last.weight, mode='fan_out', nonlinearity='relu')\n",
    "\n",
    "    def forward(self, x):\n",
    "        # 인코더 부분\n",
    "        residual1 = x  # 첫 번째 잔차 저장\n",
    "        x = self.relu(self.conv1(x))\n",
    "        x = self.relu(self.conv2(x))\n",
    "        residual2 = x  # 두 번째 잔차 저장\n",
    "        x = self.relu(self.conv3(x))\n",
    "        x = self.relu(self.conv4(x))\n",
    "        residual3 = x  # 세 번째 잔차 저장\n",
    "        x = self.relu(self.conv5(x))\n",
    "        \n",
    "        # 디코더 부분 (잔차를 더해줌)\n",
    "        x = self.relu(self.deconv1(x)) + residual3  # 세 번째 잔차 연결\n",
    "        x = self.relu(self.deconv2(x))\n",
    "        x = self.relu((self.deconv3(x)) + residual2)  # 두 번째 잔차 연결\n",
    "        x = self.relu(self.deconv4(x))\n",
    "        x = self.deconv_last(x) + residual1  # 첫 번째 잔차 연결\n",
    "        \n",
    "        return x\n"
   ]
  },
  {
   "cell_type": "code",
   "execution_count": 37,
   "metadata": {},
   "outputs": [
    {
     "data": {
      "text/plain": [
       "RedCNN(\n",
       "  (conv1): Conv2d(1, 96, kernel_size=(5, 5), stride=(1, 1))\n",
       "  (conv2): Conv2d(96, 96, kernel_size=(5, 5), stride=(1, 1))\n",
       "  (conv3): Conv2d(96, 96, kernel_size=(5, 5), stride=(1, 1))\n",
       "  (conv4): Conv2d(96, 96, kernel_size=(5, 5), stride=(1, 1))\n",
       "  (conv5): Conv2d(96, 96, kernel_size=(5, 5), stride=(1, 1))\n",
       "  (deconv1): ConvTranspose2d(96, 96, kernel_size=(5, 5), stride=(1, 1))\n",
       "  (deconv2): ConvTranspose2d(96, 96, kernel_size=(5, 5), stride=(1, 1))\n",
       "  (deconv3): ConvTranspose2d(96, 96, kernel_size=(5, 5), stride=(1, 1))\n",
       "  (deconv4): ConvTranspose2d(96, 96, kernel_size=(5, 5), stride=(1, 1))\n",
       "  (deconv_last): ConvTranspose2d(96, 1, kernel_size=(5, 5), stride=(1, 1))\n",
       "  (relu): ReLU()\n",
       ")"
      ]
     },
     "execution_count": 37,
     "metadata": {},
     "output_type": "execute_result"
    }
   ],
   "source": [
    "model = RedCNN().to(device)\n",
    "model"
   ]
  },
  {
   "cell_type": "code",
   "execution_count": 38,
   "metadata": {},
   "outputs": [
    {
     "name": "stdout",
     "output_type": "stream",
     "text": [
      "/root/code\n"
     ]
    },
    {
     "data": {
      "text/plain": [
       "<module 'utils.train_eval_util' from '/root/code/utils/train_eval_util.py'>"
      ]
     },
     "execution_count": 38,
     "metadata": {},
     "output_type": "execute_result"
    }
   ],
   "source": [
    "%cd /root/code\n",
    "\n",
    "import utils.EarlyStopping\n",
    "import utils.LRScheduler\n",
    "import utils.train_eval_util\n",
    "import importlib\n",
    "importlib.reload(utils.EarlyStopping)\n",
    "importlib.reload(utils.LRScheduler)\n",
    "importlib.reload(utils.train_eval_util)"
   ]
  },
  {
   "cell_type": "code",
   "execution_count": 39,
   "metadata": {},
   "outputs": [],
   "source": [
    "import torch.nn as nn\n",
    "criterion = nn.MSELoss()\n",
    "\n",
    "from utils.EarlyStopping import *\n",
    "from utils.LRScheduler import *\n",
    "from utils.train_eval_util import train, evaluate\n",
    "\n",
    "learning_rate = 1e-5\n",
    "optimizer = torch.optim.Adam(params = model.parameters(),\n",
    "                             lr = learning_rate)\n",
    "\n",
    "\n",
    "early_stopping = EarlyStopping(patience = 7, # 7번까지는 개선이 안되어도 봐준다.\n",
    "                               min_delta = 1e-5) # 이정도는 개선이 되어야한다. 아니면 위의 patience까지 count하다가 stop\n",
    "\n",
    "\n",
    "scheduler = LRScheduler(optimizer = optimizer,\n",
    "                        patience = 5,\n",
    "                        min_lr = 1e-10,\n",
    "                        factor = 0.5)"
   ]
  },
  {
   "cell_type": "code",
   "execution_count": 40,
   "metadata": {},
   "outputs": [],
   "source": [
    "import torch\n",
    "from tqdm import tqdm\n",
    "\n",
    "interval = 1000\n",
    "\n",
    "def train(model, train_loader, optimizer, criterion, device, epoch):\n",
    "    model.train()\n",
    "    running_loss = 0.0\n",
    "    loss_list = []\n",
    "    total_loss = 0\n",
    "\n",
    "    for i, data in tqdm(enumerate(train_loader), total=len(train_loader), desc=f\"Epoch {epoch} - Training\"):\n",
    "        X, y = data[0].to(device), data[1].to(device)\n",
    "        optimizer.zero_grad()\n",
    "        X_hat = model(X)\n",
    "        loss = criterion(X_hat, y)\n",
    "        loss.backward()\n",
    "        optimizer.step()\n",
    "\n",
    "        running_loss += loss.item() * X.size(0)\n",
    "\n",
    "        if i % interval == interval-1:\n",
    "            interval_loss = running_loss / interval\n",
    "            loss_list.append(interval_loss)\n",
    "            total_loss += running_loss\n",
    "            running_loss = 0.0\n",
    "            tqdm.write(f'train loss : {interval_loss}')\n",
    "\n",
    "    return loss_list, total_loss / len(train_loader.dataset)\n",
    "\n",
    "def evaluate(model, loader, criterion, device, epoch):\n",
    "    model.eval()\n",
    "    running_loss = 0.0\n",
    "    loss_list = []\n",
    "    total_loss = 0\n",
    "\n",
    "    with torch.no_grad():\n",
    "        for i, data in tqdm(enumerate(loader), total=len(loader), desc=f\"Epoch {epoch} - Evaluating\"):\n",
    "            X, y = data[0].to(device), data[1].to(device)\n",
    "            X_hat = model(X)\n",
    "            loss = criterion(X_hat, y)\n",
    "\n",
    "            running_loss += loss.item() * X.size(0)\n",
    "\n",
    "            if i % interval == interval-1:\n",
    "                interval_loss = running_loss / interval\n",
    "                loss_list.append(interval_loss)\n",
    "                total_loss += running_loss\n",
    "                running_loss = 0.0\n",
    "                tqdm.write(f'train loss : {interval_loss}')\n",
    "\n",
    "    return loss_list, total_loss / len(loader.dataset)"
   ]
  },
  {
   "cell_type": "code",
   "execution_count": 41,
   "metadata": {},
   "outputs": [
    {
     "name": "stdout",
     "output_type": "stream",
     "text": [
      "/root/code\n"
     ]
    }
   ],
   "source": [
    "!pwd"
   ]
  },
  {
   "cell_type": "code",
   "execution_count": 42,
   "metadata": {},
   "outputs": [
    {
     "name": "stdout",
     "output_type": "stream",
     "text": [
      "/root/code/redcnn/exp\n"
     ]
    }
   ],
   "source": [
    "%cd /root/code/redcnn/exp"
   ]
  },
  {
   "cell_type": "code",
   "execution_count": 43,
   "metadata": {},
   "outputs": [
    {
     "name": "stderr",
     "output_type": "stream",
     "text": [
      "Epoch 0 - Training:   2%|▏         | 1007/57696 [00:19<18:37, 50.72it/s]"
     ]
    },
    {
     "name": "stdout",
     "output_type": "stream",
     "text": [
      "train loss : 0.0931582948230207\n"
     ]
    },
    {
     "name": "stderr",
     "output_type": "stream",
     "text": [
      "Epoch 0 - Training:   3%|▎         | 2009/57696 [00:39<18:20, 50.62it/s]"
     ]
    },
    {
     "name": "stdout",
     "output_type": "stream",
     "text": [
      "train loss : 0.06578957661055028\n"
     ]
    },
    {
     "name": "stderr",
     "output_type": "stream",
     "text": [
      "Epoch 0 - Training:   5%|▌         | 3005/57696 [00:59<18:01, 50.57it/s]"
     ]
    },
    {
     "name": "stdout",
     "output_type": "stream",
     "text": [
      "train loss : 0.05791139341704547\n"
     ]
    },
    {
     "name": "stderr",
     "output_type": "stream",
     "text": [
      "Epoch 0 - Training:   7%|▋         | 4007/57696 [01:18<17:40, 50.62it/s]"
     ]
    },
    {
     "name": "stdout",
     "output_type": "stream",
     "text": [
      "train loss : 0.055535171465948226\n"
     ]
    },
    {
     "name": "stderr",
     "output_type": "stream",
     "text": [
      "Epoch 0 - Training:   9%|▊         | 5009/57696 [01:38<17:19, 50.71it/s]"
     ]
    },
    {
     "name": "stdout",
     "output_type": "stream",
     "text": [
      "train loss : 0.05264441871456802\n"
     ]
    },
    {
     "name": "stderr",
     "output_type": "stream",
     "text": [
      "Epoch 0 - Training:  10%|█         | 6005/57696 [01:57<17:02, 50.55it/s]"
     ]
    },
    {
     "name": "stdout",
     "output_type": "stream",
     "text": [
      "train loss : 0.0517525153644383\n"
     ]
    },
    {
     "name": "stderr",
     "output_type": "stream",
     "text": [
      "Epoch 0 - Training:  12%|█▏        | 7007/57696 [02:17<16:41, 50.61it/s]"
     ]
    },
    {
     "name": "stdout",
     "output_type": "stream",
     "text": [
      "train loss : 0.04939675032347441\n"
     ]
    },
    {
     "name": "stderr",
     "output_type": "stream",
     "text": [
      "Epoch 0 - Training:  14%|█▍        | 8009/57696 [02:37<16:21, 50.63it/s]"
     ]
    },
    {
     "name": "stdout",
     "output_type": "stream",
     "text": [
      "train loss : 0.04795146902650595\n"
     ]
    },
    {
     "name": "stderr",
     "output_type": "stream",
     "text": [
      "Epoch 0 - Training:  16%|█▌        | 9005/57696 [02:56<16:00, 50.68it/s]"
     ]
    },
    {
     "name": "stdout",
     "output_type": "stream",
     "text": [
      "train loss : 0.04730496442504227\n"
     ]
    },
    {
     "name": "stderr",
     "output_type": "stream",
     "text": [
      "Epoch 0 - Training:  17%|█▋        | 10007/57696 [03:16<15:41, 50.64it/s]"
     ]
    },
    {
     "name": "stdout",
     "output_type": "stream",
     "text": [
      "train loss : 0.04688938131369651\n"
     ]
    },
    {
     "name": "stderr",
     "output_type": "stream",
     "text": [
      "Epoch 0 - Training:  19%|█▉        | 11009/57696 [03:36<15:21, 50.67it/s]"
     ]
    },
    {
     "name": "stdout",
     "output_type": "stream",
     "text": [
      "train loss : 0.045220120429992676\n"
     ]
    },
    {
     "name": "stderr",
     "output_type": "stream",
     "text": [
      "Epoch 0 - Training:  21%|██        | 12005/57696 [03:55<15:03, 50.60it/s]"
     ]
    },
    {
     "name": "stdout",
     "output_type": "stream",
     "text": [
      "train loss : 0.044329036232084035\n"
     ]
    },
    {
     "name": "stderr",
     "output_type": "stream",
     "text": [
      "Epoch 0 - Training:  23%|██▎       | 13007/57696 [04:15<14:41, 50.72it/s]"
     ]
    },
    {
     "name": "stdout",
     "output_type": "stream",
     "text": [
      "train loss : 0.04436461994051933\n"
     ]
    },
    {
     "name": "stderr",
     "output_type": "stream",
     "text": [
      "Epoch 0 - Training:  24%|██▍       | 14009/57696 [04:34<14:23, 50.61it/s]"
     ]
    },
    {
     "name": "stdout",
     "output_type": "stream",
     "text": [
      "train loss : 0.043101377550512555\n"
     ]
    },
    {
     "name": "stderr",
     "output_type": "stream",
     "text": [
      "Epoch 0 - Training:  26%|██▌       | 15005/57696 [04:54<14:05, 50.50it/s]"
     ]
    },
    {
     "name": "stdout",
     "output_type": "stream",
     "text": [
      "train loss : 0.043354736097157\n"
     ]
    },
    {
     "name": "stderr",
     "output_type": "stream",
     "text": [
      "Epoch 0 - Training:  28%|██▊       | 16007/57696 [05:14<13:43, 50.64it/s]"
     ]
    },
    {
     "name": "stdout",
     "output_type": "stream",
     "text": [
      "train loss : 0.04244427577592433\n"
     ]
    },
    {
     "name": "stderr",
     "output_type": "stream",
     "text": [
      "Epoch 0 - Training:  29%|██▉       | 17009/57696 [05:33<13:22, 50.71it/s]"
     ]
    },
    {
     "name": "stdout",
     "output_type": "stream",
     "text": [
      "train loss : 0.042940631015226244\n"
     ]
    },
    {
     "name": "stderr",
     "output_type": "stream",
     "text": [
      "Epoch 0 - Training:  31%|███       | 18005/57696 [05:53<13:06, 50.45it/s]"
     ]
    },
    {
     "name": "stdout",
     "output_type": "stream",
     "text": [
      "train loss : 0.042568820776417854\n"
     ]
    },
    {
     "name": "stderr",
     "output_type": "stream",
     "text": [
      "Epoch 0 - Training:  33%|███▎      | 19007/57696 [06:13<12:43, 50.66it/s]"
     ]
    },
    {
     "name": "stdout",
     "output_type": "stream",
     "text": [
      "train loss : 0.04225948368012905\n"
     ]
    },
    {
     "name": "stderr",
     "output_type": "stream",
     "text": [
      "Epoch 0 - Training:  35%|███▍      | 20009/57696 [06:32<12:25, 50.57it/s]"
     ]
    },
    {
     "name": "stdout",
     "output_type": "stream",
     "text": [
      "train loss : 0.04147278704121709\n"
     ]
    },
    {
     "name": "stderr",
     "output_type": "stream",
     "text": [
      "Epoch 0 - Training:  36%|███▋      | 21005/57696 [06:52<12:06, 50.50it/s]"
     ]
    },
    {
     "name": "stdout",
     "output_type": "stream",
     "text": [
      "train loss : 0.04152665606327355\n"
     ]
    },
    {
     "name": "stderr",
     "output_type": "stream",
     "text": [
      "Epoch 0 - Training:  38%|███▊      | 22007/57696 [07:11<11:45, 50.59it/s]"
     ]
    },
    {
     "name": "stdout",
     "output_type": "stream",
     "text": [
      "train loss : 0.04112263820506632\n"
     ]
    },
    {
     "name": "stderr",
     "output_type": "stream",
     "text": [
      "Epoch 0 - Training:  40%|███▉      | 23009/57696 [07:31<11:24, 50.65it/s]"
     ]
    },
    {
     "name": "stdout",
     "output_type": "stream",
     "text": [
      "train loss : 0.04018099137954414\n"
     ]
    },
    {
     "name": "stderr",
     "output_type": "stream",
     "text": [
      "Epoch 0 - Training:  42%|████▏     | 24005/57696 [07:51<11:07, 50.44it/s]"
     ]
    },
    {
     "name": "stdout",
     "output_type": "stream",
     "text": [
      "train loss : 0.040402065679430964\n"
     ]
    },
    {
     "name": "stderr",
     "output_type": "stream",
     "text": [
      "Epoch 0 - Training:  43%|████▎     | 25007/57696 [08:10<10:44, 50.70it/s]"
     ]
    },
    {
     "name": "stdout",
     "output_type": "stream",
     "text": [
      "train loss : 0.04072465315833688\n"
     ]
    },
    {
     "name": "stderr",
     "output_type": "stream",
     "text": [
      "Epoch 0 - Training:  45%|████▌     | 26009/57696 [08:30<10:25, 50.64it/s]"
     ]
    },
    {
     "name": "stdout",
     "output_type": "stream",
     "text": [
      "train loss : 0.04044212779216468\n"
     ]
    },
    {
     "name": "stderr",
     "output_type": "stream",
     "text": [
      "Epoch 0 - Training:  47%|████▋     | 27005/57696 [08:50<10:07, 50.54it/s]"
     ]
    },
    {
     "name": "stdout",
     "output_type": "stream",
     "text": [
      "train loss : 0.040065976234152915\n"
     ]
    },
    {
     "name": "stderr",
     "output_type": "stream",
     "text": [
      "Epoch 0 - Training:  49%|████▊     | 28007/57696 [09:09<09:47, 50.55it/s]"
     ]
    },
    {
     "name": "stdout",
     "output_type": "stream",
     "text": [
      "train loss : 0.039503663588315245\n"
     ]
    },
    {
     "name": "stderr",
     "output_type": "stream",
     "text": [
      "Epoch 0 - Training:  50%|█████     | 29009/57696 [09:29<09:26, 50.65it/s]"
     ]
    },
    {
     "name": "stdout",
     "output_type": "stream",
     "text": [
      "train loss : 0.03943172781728208\n"
     ]
    },
    {
     "name": "stderr",
     "output_type": "stream",
     "text": [
      "Epoch 0 - Training:  52%|█████▏    | 30005/57696 [09:48<09:08, 50.47it/s]"
     ]
    },
    {
     "name": "stdout",
     "output_type": "stream",
     "text": [
      "train loss : 0.039546806299127636\n"
     ]
    },
    {
     "name": "stderr",
     "output_type": "stream",
     "text": [
      "Epoch 0 - Training:  54%|█████▎    | 31007/57696 [10:08<08:47, 50.63it/s]"
     ]
    },
    {
     "name": "stdout",
     "output_type": "stream",
     "text": [
      "train loss : 0.039177943870425225\n"
     ]
    },
    {
     "name": "stderr",
     "output_type": "stream",
     "text": [
      "Epoch 0 - Training:  55%|█████▌    | 32009/57696 [10:28<08:25, 50.80it/s]"
     ]
    },
    {
     "name": "stdout",
     "output_type": "stream",
     "text": [
      "train loss : 0.03882189947739244\n"
     ]
    },
    {
     "name": "stderr",
     "output_type": "stream",
     "text": [
      "Epoch 0 - Training:  57%|█████▋    | 33005/57696 [10:47<08:08, 50.51it/s]"
     ]
    },
    {
     "name": "stdout",
     "output_type": "stream",
     "text": [
      "train loss : 0.038959195209667084\n"
     ]
    },
    {
     "name": "stderr",
     "output_type": "stream",
     "text": [
      "Epoch 0 - Training:  59%|█████▉    | 34007/57696 [11:07<07:48, 50.60it/s]"
     ]
    },
    {
     "name": "stdout",
     "output_type": "stream",
     "text": [
      "train loss : 0.039068919703364374\n"
     ]
    },
    {
     "name": "stderr",
     "output_type": "stream",
     "text": [
      "Epoch 0 - Training:  61%|██████    | 35009/57696 [11:27<07:27, 50.66it/s]"
     ]
    },
    {
     "name": "stdout",
     "output_type": "stream",
     "text": [
      "train loss : 0.038650695050135256\n"
     ]
    },
    {
     "name": "stderr",
     "output_type": "stream",
     "text": [
      "Epoch 0 - Training:  62%|██████▏   | 36005/57696 [11:46<07:07, 50.77it/s]"
     ]
    },
    {
     "name": "stdout",
     "output_type": "stream",
     "text": [
      "train loss : 0.0380699903909117\n"
     ]
    },
    {
     "name": "stderr",
     "output_type": "stream",
     "text": [
      "Epoch 0 - Training:  64%|██████▍   | 37007/57696 [12:06<06:48, 50.65it/s]"
     ]
    },
    {
     "name": "stdout",
     "output_type": "stream",
     "text": [
      "train loss : 0.038645453806966545\n"
     ]
    },
    {
     "name": "stderr",
     "output_type": "stream",
     "text": [
      "Epoch 0 - Training:  66%|██████▌   | 38009/57696 [12:25<06:28, 50.64it/s]"
     ]
    },
    {
     "name": "stdout",
     "output_type": "stream",
     "text": [
      "train loss : 0.03830612314678729\n"
     ]
    },
    {
     "name": "stderr",
     "output_type": "stream",
     "text": [
      "Epoch 0 - Training:  68%|██████▊   | 39005/57696 [12:45<06:10, 50.40it/s]"
     ]
    },
    {
     "name": "stdout",
     "output_type": "stream",
     "text": [
      "train loss : 0.03794454917497933\n"
     ]
    },
    {
     "name": "stderr",
     "output_type": "stream",
     "text": [
      "Epoch 0 - Training:  69%|██████▉   | 40007/57696 [13:05<05:49, 50.62it/s]"
     ]
    },
    {
     "name": "stdout",
     "output_type": "stream",
     "text": [
      "train loss : 0.037881709391251205\n"
     ]
    },
    {
     "name": "stderr",
     "output_type": "stream",
     "text": [
      "Epoch 0 - Training:  71%|███████   | 41009/57696 [13:24<05:29, 50.68it/s]"
     ]
    },
    {
     "name": "stdout",
     "output_type": "stream",
     "text": [
      "train loss : 0.038655787786468866\n"
     ]
    },
    {
     "name": "stderr",
     "output_type": "stream",
     "text": [
      "Epoch 0 - Training:  73%|███████▎  | 42005/57696 [13:44<05:11, 50.44it/s]"
     ]
    },
    {
     "name": "stdout",
     "output_type": "stream",
     "text": [
      "train loss : 0.03824110400304198\n"
     ]
    },
    {
     "name": "stderr",
     "output_type": "stream",
     "text": [
      "Epoch 0 - Training:  75%|███████▍  | 43007/57696 [14:04<04:50, 50.64it/s]"
     ]
    },
    {
     "name": "stdout",
     "output_type": "stream",
     "text": [
      "train loss : 0.037909326244145634\n"
     ]
    },
    {
     "name": "stderr",
     "output_type": "stream",
     "text": [
      "Epoch 0 - Training:  76%|███████▋  | 44009/57696 [14:23<04:30, 50.62it/s]"
     ]
    },
    {
     "name": "stdout",
     "output_type": "stream",
     "text": [
      "train loss : 0.0374607875905931\n"
     ]
    },
    {
     "name": "stderr",
     "output_type": "stream",
     "text": [
      "Epoch 0 - Training:  78%|███████▊  | 45005/57696 [14:43<04:11, 50.43it/s]"
     ]
    },
    {
     "name": "stdout",
     "output_type": "stream",
     "text": [
      "train loss : 0.03790510470606387\n"
     ]
    },
    {
     "name": "stderr",
     "output_type": "stream",
     "text": [
      "Epoch 0 - Training:  80%|███████▉  | 46007/57696 [15:02<03:51, 50.54it/s]"
     ]
    },
    {
     "name": "stdout",
     "output_type": "stream",
     "text": [
      "train loss : 0.037543049801141024\n"
     ]
    },
    {
     "name": "stderr",
     "output_type": "stream",
     "text": [
      "Epoch 0 - Training:  81%|████████▏ | 47009/57696 [15:22<03:31, 50.57it/s]"
     ]
    },
    {
     "name": "stdout",
     "output_type": "stream",
     "text": [
      "train loss : 0.03738464065827429\n"
     ]
    },
    {
     "name": "stderr",
     "output_type": "stream",
     "text": [
      "Epoch 0 - Training:  83%|████████▎ | 48005/57696 [15:42<03:12, 50.45it/s]"
     ]
    },
    {
     "name": "stdout",
     "output_type": "stream",
     "text": [
      "train loss : 0.037718760563060644\n"
     ]
    },
    {
     "name": "stderr",
     "output_type": "stream",
     "text": [
      "Epoch 0 - Training:  85%|████████▍ | 49007/57696 [16:01<02:51, 50.61it/s]"
     ]
    },
    {
     "name": "stdout",
     "output_type": "stream",
     "text": [
      "train loss : 0.03761151208914816\n"
     ]
    },
    {
     "name": "stderr",
     "output_type": "stream",
     "text": [
      "Epoch 0 - Training:  87%|████████▋ | 50009/57696 [16:21<02:31, 50.60it/s]"
     ]
    },
    {
     "name": "stdout",
     "output_type": "stream",
     "text": [
      "train loss : 0.037395533241331574\n"
     ]
    },
    {
     "name": "stderr",
     "output_type": "stream",
     "text": [
      "Epoch 0 - Training:  88%|████████▊ | 51005/57696 [16:41<02:12, 50.46it/s]"
     ]
    },
    {
     "name": "stdout",
     "output_type": "stream",
     "text": [
      "train loss : 0.03757406382262707\n"
     ]
    },
    {
     "name": "stderr",
     "output_type": "stream",
     "text": [
      "Epoch 0 - Training:  90%|█████████ | 52007/57696 [17:00<01:52, 50.69it/s]"
     ]
    },
    {
     "name": "stdout",
     "output_type": "stream",
     "text": [
      "train loss : 0.03740464876312762\n"
     ]
    },
    {
     "name": "stderr",
     "output_type": "stream",
     "text": [
      "Epoch 0 - Training:  92%|█████████▏| 53009/57696 [17:20<01:32, 50.55it/s]"
     ]
    },
    {
     "name": "stdout",
     "output_type": "stream",
     "text": [
      "train loss : 0.03721325844340027\n"
     ]
    },
    {
     "name": "stderr",
     "output_type": "stream",
     "text": [
      "Epoch 0 - Training:  94%|█████████▎| 54005/57696 [17:39<01:12, 50.65it/s]"
     ]
    },
    {
     "name": "stdout",
     "output_type": "stream",
     "text": [
      "train loss : 0.036947976058349014\n"
     ]
    },
    {
     "name": "stderr",
     "output_type": "stream",
     "text": [
      "Epoch 0 - Training:  95%|█████████▌| 55007/57696 [17:59<00:53, 50.61it/s]"
     ]
    },
    {
     "name": "stdout",
     "output_type": "stream",
     "text": [
      "train loss : 0.03718716198205948\n"
     ]
    },
    {
     "name": "stderr",
     "output_type": "stream",
     "text": [
      "Epoch 0 - Training:  97%|█████████▋| 56009/57696 [18:19<00:33, 50.60it/s]"
     ]
    },
    {
     "name": "stdout",
     "output_type": "stream",
     "text": [
      "train loss : 0.0368136172182858\n"
     ]
    },
    {
     "name": "stderr",
     "output_type": "stream",
     "text": [
      "Epoch 0 - Training:  99%|█████████▉| 57005/57696 [18:38<00:13, 50.56it/s]"
     ]
    },
    {
     "name": "stdout",
     "output_type": "stream",
     "text": [
      "train loss : 0.037232566801831124\n"
     ]
    },
    {
     "name": "stderr",
     "output_type": "stream",
     "text": [
      "Epoch 0 - Training: 100%|██████████| 57696/57696 [18:52<00:00, 50.95it/s]\n",
      "Epoch 0 - Evaluating:  21%|██        | 1014/4815 [00:08<00:30, 123.96it/s]"
     ]
    },
    {
     "name": "stdout",
     "output_type": "stream",
     "text": [
      "train loss : 0.0431045835763216\n"
     ]
    },
    {
     "name": "stderr",
     "output_type": "stream",
     "text": [
      "Epoch 0 - Evaluating:  42%|████▏     | 2015/4815 [00:16<00:22, 124.07it/s]"
     ]
    },
    {
     "name": "stdout",
     "output_type": "stream",
     "text": [
      "train loss : 0.04697642886871472\n"
     ]
    },
    {
     "name": "stderr",
     "output_type": "stream",
     "text": [
      "Epoch 0 - Evaluating:  63%|██████▎   | 3016/4815 [00:24<00:14, 124.07it/s]"
     ]
    },
    {
     "name": "stdout",
     "output_type": "stream",
     "text": [
      "train loss : 0.030765213469043373\n"
     ]
    },
    {
     "name": "stderr",
     "output_type": "stream",
     "text": [
      "Epoch 0 - Evaluating:  83%|████████▎ | 4017/4815 [00:32<00:06, 123.88it/s]"
     ]
    },
    {
     "name": "stdout",
     "output_type": "stream",
     "text": [
      "train loss : 0.03434644110547379\n"
     ]
    },
    {
     "name": "stderr",
     "output_type": "stream",
     "text": [
      "Epoch 0 - Evaluating: 100%|██████████| 4815/4815 [00:38<00:00, 124.75it/s]"
     ]
    },
    {
     "name": "stdout",
     "output_type": "stream",
     "text": [
      "Epoch [1/1], Train Loss: 0.0026, Valid Loss: 0.0020\n"
     ]
    },
    {
     "name": "stderr",
     "output_type": "stream",
     "text": [
      "\n"
     ]
    }
   ],
   "source": [
    "epochs = 1 # 각 epoch마다 train(20분), valid(2분)이 소요된다.\n",
    "best_valid_loss = float('inf')\n",
    "train_loss_per_iter = []\n",
    "train_loss_per_epoch = []\n",
    "val_loss_per_iter = []\n",
    "val_loss_per_epoch = []\n",
    "\n",
    "for epoch in range(epochs):\n",
    "    loss_list, total_loss = train(model, train_loader, optimizer, criterion, device, epoch)\n",
    "    train_loss_per_iter.append(loss_list)\n",
    "    train_loss_per_epoch.append(total_loss)\n",
    "\n",
    "    loss_list, total_loss = evaluate(model, val_loader, criterion, device, epoch)\n",
    "    val_loss_per_iter.append(loss_list)\n",
    "    val_loss_per_epoch.append(total_loss)\n",
    "\n",
    "    print(f\"Epoch [{epoch+1}/{epochs}], Train Loss: {train_loss_per_epoch[-1]:.4f}, Valid Loss: {val_loss_per_epoch[-1]:.4f}\")\n",
    "\n",
    "    valid_loss = val_loss_per_epoch[-1]\n",
    "    scheduler(valid_loss)\n",
    "\n",
    "    if (early_stopping(valid_loss)):\n",
    "        break\n",
    "\n",
    "    if valid_loss < best_valid_loss:\n",
    "        best_valid_loss = valid_loss\n",
    "        epochs_no_improve = 0\n",
    "        torch.save(model.state_dict(), \"./\" + 'WI' + \".pth\")"
   ]
  },
  {
   "cell_type": "code",
   "execution_count": 44,
   "metadata": {},
   "outputs": [
    {
     "name": "stderr",
     "output_type": "stream",
     "text": [
      "Evaluating:  17%|█▋        | 1005/6025 [00:21<01:45, 47.60it/s]"
     ]
    },
    {
     "name": "stdout",
     "output_type": "stream",
     "text": [
      "RMSE per interval: 0.0464, PSNR per interval: 27.50, SSIM per interval: 0.6729\n"
     ]
    },
    {
     "name": "stderr",
     "output_type": "stream",
     "text": [
      "Evaluating:  33%|███▎      | 2005/6025 [00:41<01:24, 47.51it/s]"
     ]
    },
    {
     "name": "stdout",
     "output_type": "stream",
     "text": [
      "RMSE per interval: 0.0440, PSNR per interval: 28.24, SSIM per interval: 0.6875\n"
     ]
    },
    {
     "name": "stderr",
     "output_type": "stream",
     "text": [
      "Evaluating:  50%|████▉     | 3005/6025 [01:02<01:03, 47.52it/s]"
     ]
    },
    {
     "name": "stdout",
     "output_type": "stream",
     "text": [
      "RMSE per interval: 0.0442, PSNR per interval: 28.42, SSIM per interval: 0.6964\n"
     ]
    },
    {
     "name": "stderr",
     "output_type": "stream",
     "text": [
      "Evaluating:  66%|██████▋   | 4005/6025 [01:23<00:42, 47.61it/s]"
     ]
    },
    {
     "name": "stdout",
     "output_type": "stream",
     "text": [
      "RMSE per interval: 0.0377, PSNR per interval: 29.41, SSIM per interval: 0.7240\n"
     ]
    },
    {
     "name": "stderr",
     "output_type": "stream",
     "text": [
      "Evaluating:  83%|████████▎ | 5005/6025 [01:44<00:21, 47.54it/s]"
     ]
    },
    {
     "name": "stdout",
     "output_type": "stream",
     "text": [
      "RMSE per interval: 0.0374, PSNR per interval: 29.51, SSIM per interval: 0.7027\n"
     ]
    },
    {
     "name": "stderr",
     "output_type": "stream",
     "text": [
      "Evaluating: 100%|█████████▉| 6005/6025 [02:05<00:00, 46.67it/s]"
     ]
    },
    {
     "name": "stdout",
     "output_type": "stream",
     "text": [
      "RMSE per interval: 0.0354, PSNR per interval: 30.23, SSIM per interval: 0.7447\n"
     ]
    },
    {
     "name": "stderr",
     "output_type": "stream",
     "text": [
      "Evaluating: 100%|██████████| 6025/6025 [02:05<00:00, 47.83it/s]"
     ]
    },
    {
     "name": "stdout",
     "output_type": "stream",
     "text": [
      "Average RMSE over all intervals: 0.040851\n"
     ]
    },
    {
     "name": "stderr",
     "output_type": "stream",
     "text": [
      "\n"
     ]
    }
   ],
   "source": [
    "import torch\n",
    "import torch.nn as nn\n",
    "import numpy as np\n",
    "from skimage.metrics import peak_signal_noise_ratio, structural_similarity\n",
    "from tqdm import tqdm\n",
    "\n",
    "criterion = nn.MSELoss()\n",
    "interval = 1000\n",
    "\n",
    "# 저장된 모델 로드\n",
    "device = torch.device('cuda' if torch.cuda.is_available() else 'cpu')\n",
    "model = RedCNN().to(device)\n",
    "model.load_state_dict(torch.load('WI.pth'))\n",
    "\n",
    "# 평가 지표 계산 추가\n",
    "def calculate_psnr(y_true, y_pred):\n",
    "    \"\"\"PSNR 계산 함수\"\"\"\n",
    "    y_true = y_true.cpu().numpy()\n",
    "    y_pred = y_pred.cpu().numpy()\n",
    "    return peak_signal_noise_ratio(y_true, y_pred, data_range=1.0)  # 정규화된 데이터라면 data_range=1.0\n",
    "\n",
    "def calculate_ssim(y_true, y_pred):\n",
    "    \"\"\"SSIM 계산 함수\"\"\"\n",
    "    y_true = y_true.squeeze(0).cpu().numpy()\n",
    "    y_pred = y_pred.squeeze(0).cpu().numpy()\n",
    "    return structural_similarity(y_true, y_pred, data_range=1.0)  # 정규화된 데이터라면 data_range=1.0\n",
    "\n",
    "# evaluate 부분 + top10 best&worst\n",
    "model.eval()\n",
    "running_loss = 0.0\n",
    "running_psnr = 0.0\n",
    "running_ssim = 0.0\n",
    "psnr_list = []\n",
    "ssim_list = []\n",
    "loss_list = []\n",
    "total_loss = 0\n",
    "best_loss = np.inf\n",
    "worst_loss = -np.inf\n",
    "\n",
    "with torch.no_grad():\n",
    "    for i, data in tqdm(enumerate(test_loader), total=len(test_loader), desc=f\"Evaluating\"):\n",
    "        X, y = data[0].to(device), data[1].to(device)\n",
    "        X_hat = model(X)\n",
    "        mse_loss = criterion(X_hat, y)\n",
    "\n",
    "        # RMSE 계산\n",
    "        rms_loss = torch.sqrt(mse_loss)\n",
    "        running_loss += rms_loss.item()\n",
    "\n",
    "        # PSNR, SSIM 계산\n",
    "        for j in range(X.size(0)):  # 배치 내부 개별 이미지에 대해 계산\n",
    "            psnr = calculate_psnr(y[j, :, :, :], X_hat[j, :, :, :])\n",
    "            ssim = calculate_ssim(y[j, :, :, :], X_hat[j, :, :, :]) \n",
    "            running_psnr += psnr # batch에 대해 더해준다.\n",
    "            running_ssim += ssim\n",
    "\n",
    "        if mse_loss < best_loss:\n",
    "            best_loss = mse_loss\n",
    "            best = (X, y, X_hat)\n",
    "        if mse_loss > worst_loss:\n",
    "            worst_loss = mse_loss\n",
    "            worst = (X, y, X_hat)\n",
    "\n",
    "        if i % interval == interval - 1:\n",
    "            interval_loss = running_loss / interval\n",
    "            interval_psnr = running_psnr / (interval * X.size(0)) # batch에 대해 나눠준다\n",
    "            interval_ssim = running_ssim / (interval * X.size(0))\n",
    "\n",
    "            loss_list.append(interval_loss)\n",
    "            psnr_list.append(interval_psnr)\n",
    "            ssim_list.append(interval_ssim)\n",
    "\n",
    "            total_loss += interval_loss\n",
    "            running_loss = 0.0\n",
    "            running_psnr = 0.0\n",
    "            running_ssim = 0.0\n",
    "            tqdm.write(f'RMSE per interval: {interval_loss:.4f}, PSNR per interval: {interval_psnr:.2f}, SSIM per interval: {interval_ssim:.4f}')\n",
    "            # tqdm.write(f'RMSE per interval: {interval_loss}, PSNR per interval: {interval_psnr}, SSIM per interval: {interval_ssim}')\n",
    "\n",
    "    # 평균 RMSE 출력\n",
    "average_loss = total_loss / len(loss_list)\n",
    "print(f\"Average RMSE over all intervals: {average_loss:.6f}\")"
   ]
  },
  {
   "cell_type": "code",
   "execution_count": 45,
   "metadata": {},
   "outputs": [
    {
     "name": "stdout",
     "output_type": "stream",
     "text": [
      "Lists have been saved in the 'unet' folder:\n",
      "- loss_list.npy\n",
      "- psnr_list.npy\n",
      "- ssim_list.npy\n"
     ]
    }
   ],
   "source": [
    "import os\n",
    "import numpy as np\n",
    "\n",
    "s = 'WI' + '_'\n",
    "\n",
    "# 파일 저장 경로\n",
    "file_names = {\n",
    "    \"loss\": \"loss_list.npy\",\n",
    "    \"psnr\": \"psnr_list.npy\",\n",
    "    \"ssim\": \"ssim_list.npy\"\n",
    "}\n",
    "\n",
    "# 각 리스트를 저장\n",
    "np.save(s+file_names[\"loss\"], loss_list)\n",
    "np.save(s+file_names[\"psnr\"], psnr_list)\n",
    "np.save(s+file_names[\"ssim\"], ssim_list)\n",
    "\n",
    "print(f\"Lists have been saved in the 'unet' folder:\\n- {file_names['loss']}\\n- {file_names['psnr']}\\n- {file_names['ssim']}\")"
   ]
  },
  {
   "cell_type": "markdown",
   "metadata": {},
   "source": [
    "# 모델3 - Batch Norm"
   ]
  },
  {
   "cell_type": "code",
   "execution_count": 46,
   "metadata": {},
   "outputs": [
    {
     "data": {
      "text/plain": [
       "device(type='cuda')"
      ]
     },
     "execution_count": 46,
     "metadata": {},
     "output_type": "execute_result"
    }
   ],
   "source": [
    "import torch\n",
    "device = torch.device('cuda' if torch.cuda.is_available() else 'cpu')\n",
    "device"
   ]
  },
  {
   "cell_type": "code",
   "execution_count": 47,
   "metadata": {},
   "outputs": [],
   "source": [
    "import torch\n",
    "import torch.nn as nn\n",
    "\n",
    "class RedCNN(nn.Module):\n",
    "    def __init__(self):\n",
    "        super(RedCNN, self).__init__()\n",
    "\n",
    "        # 인코더 부분\n",
    "        self.conv1 = nn.Conv2d(1, 96, 5, 1, 0)\n",
    "        self.bn1 = nn.BatchNorm2d(96)\n",
    "        self.conv2 = nn.Conv2d(96, 96, 5, 1, 0)\n",
    "        self.bn2 = nn.BatchNorm2d(96)\n",
    "        self.conv3 = nn.Conv2d(96, 96, 5, 1, 0)\n",
    "        self.bn3 = nn.BatchNorm2d(96)\n",
    "        self.conv4 = nn.Conv2d(96, 96, 5, 1, 0)\n",
    "        self.bn4 = nn.BatchNorm2d(96)\n",
    "        self.conv5 = nn.Conv2d(96, 96, 5, 1, 0)\n",
    "        self.bn5 = nn.BatchNorm2d(96)\n",
    "        \n",
    "        # 디코더 부분\n",
    "        self.deconv1 = nn.ConvTranspose2d(96, 96, 5, 1, 0)\n",
    "        self.dbn1 = nn.BatchNorm2d(96)\n",
    "        self.deconv2 = nn.ConvTranspose2d(96, 96, 5, 1, 0)\n",
    "        self.dbn2 = nn.BatchNorm2d(96)\n",
    "        self.deconv3 = nn.ConvTranspose2d(96, 96, 5, 1, 0)\n",
    "        self.dbn3 = nn.BatchNorm2d(96)\n",
    "        self.deconv4 = nn.ConvTranspose2d(96, 96, 5, 1, 0)\n",
    "        self.dbn4 = nn.BatchNorm2d(96)\n",
    "        self.deconv_last = nn.ConvTranspose2d(96, 1, 5, 1, 0)\n",
    "\n",
    "        self.relu = nn.ReLU()\n",
    "\n",
    "    def forward(self, x):\n",
    "        # 인코더 부분\n",
    "        residual1 = x  # 첫 번째 잔차 저장\n",
    "        x = self.relu(self.bn1(self.conv1(x)))\n",
    "        x = self.relu(self.bn2(self.conv2(x)))\n",
    "        residual2 = x  # 두 번째 잔차 저장\n",
    "        x = self.relu(self.bn3(self.conv3(x)))\n",
    "        x = self.relu(self.bn4(self.conv4(x)))\n",
    "        residual3 = x  # 세 번째 잔차 저장\n",
    "        x = self.relu(self.bn5(self.conv5(x)))\n",
    "        \n",
    "        # 디코더 부분 (잔차를 더해줌)\n",
    "        x = self.relu(self.dbn1(self.deconv1(x)) + residual3)  # 세 번째 잔차 연결\n",
    "        x = self.relu(self.dbn2(self.deconv2(x)))\n",
    "        x = self.relu(self.dbn3(self.deconv3(x)) + residual2)  # 두 번째 잔차 연결\n",
    "        x = self.relu(self.dbn4(self.deconv4(x)))\n",
    "        x = self.deconv_last(x) + residual1  # 첫 번째 잔차 연결\n",
    "        \n",
    "        return x\n"
   ]
  },
  {
   "cell_type": "code",
   "execution_count": 48,
   "metadata": {},
   "outputs": [
    {
     "data": {
      "text/plain": [
       "RedCNN(\n",
       "  (conv1): Conv2d(1, 96, kernel_size=(5, 5), stride=(1, 1))\n",
       "  (bn1): BatchNorm2d(96, eps=1e-05, momentum=0.1, affine=True, track_running_stats=True)\n",
       "  (conv2): Conv2d(96, 96, kernel_size=(5, 5), stride=(1, 1))\n",
       "  (bn2): BatchNorm2d(96, eps=1e-05, momentum=0.1, affine=True, track_running_stats=True)\n",
       "  (conv3): Conv2d(96, 96, kernel_size=(5, 5), stride=(1, 1))\n",
       "  (bn3): BatchNorm2d(96, eps=1e-05, momentum=0.1, affine=True, track_running_stats=True)\n",
       "  (conv4): Conv2d(96, 96, kernel_size=(5, 5), stride=(1, 1))\n",
       "  (bn4): BatchNorm2d(96, eps=1e-05, momentum=0.1, affine=True, track_running_stats=True)\n",
       "  (conv5): Conv2d(96, 96, kernel_size=(5, 5), stride=(1, 1))\n",
       "  (bn5): BatchNorm2d(96, eps=1e-05, momentum=0.1, affine=True, track_running_stats=True)\n",
       "  (deconv1): ConvTranspose2d(96, 96, kernel_size=(5, 5), stride=(1, 1))\n",
       "  (dbn1): BatchNorm2d(96, eps=1e-05, momentum=0.1, affine=True, track_running_stats=True)\n",
       "  (deconv2): ConvTranspose2d(96, 96, kernel_size=(5, 5), stride=(1, 1))\n",
       "  (dbn2): BatchNorm2d(96, eps=1e-05, momentum=0.1, affine=True, track_running_stats=True)\n",
       "  (deconv3): ConvTranspose2d(96, 96, kernel_size=(5, 5), stride=(1, 1))\n",
       "  (dbn3): BatchNorm2d(96, eps=1e-05, momentum=0.1, affine=True, track_running_stats=True)\n",
       "  (deconv4): ConvTranspose2d(96, 96, kernel_size=(5, 5), stride=(1, 1))\n",
       "  (dbn4): BatchNorm2d(96, eps=1e-05, momentum=0.1, affine=True, track_running_stats=True)\n",
       "  (deconv_last): ConvTranspose2d(96, 1, kernel_size=(5, 5), stride=(1, 1))\n",
       "  (relu): ReLU()\n",
       ")"
      ]
     },
     "execution_count": 48,
     "metadata": {},
     "output_type": "execute_result"
    }
   ],
   "source": [
    "model = RedCNN().to(device)\n",
    "model"
   ]
  },
  {
   "cell_type": "code",
   "execution_count": 49,
   "metadata": {},
   "outputs": [
    {
     "name": "stdout",
     "output_type": "stream",
     "text": [
      "/root/code\n"
     ]
    },
    {
     "data": {
      "text/plain": [
       "<module 'utils.train_eval_util' from '/root/code/utils/train_eval_util.py'>"
      ]
     },
     "execution_count": 49,
     "metadata": {},
     "output_type": "execute_result"
    }
   ],
   "source": [
    "%cd /root/code\n",
    "\n",
    "import utils.EarlyStopping\n",
    "import utils.LRScheduler\n",
    "import utils.train_eval_util\n",
    "import importlib\n",
    "importlib.reload(utils.EarlyStopping)\n",
    "importlib.reload(utils.LRScheduler)\n",
    "importlib.reload(utils.train_eval_util)"
   ]
  },
  {
   "cell_type": "code",
   "execution_count": 50,
   "metadata": {},
   "outputs": [],
   "source": [
    "import torch.nn as nn\n",
    "criterion = nn.MSELoss()\n",
    "\n",
    "from utils.EarlyStopping import *\n",
    "from utils.LRScheduler import *\n",
    "from utils.train_eval_util import train, evaluate\n",
    "\n",
    "learning_rate = 1e-5\n",
    "optimizer = torch.optim.Adam(params = model.parameters(),\n",
    "                             lr = learning_rate)\n",
    "\n",
    "\n",
    "early_stopping = EarlyStopping(patience = 7, # 7번까지는 개선이 안되어도 봐준다.\n",
    "                               min_delta = 1e-5) # 이정도는 개선이 되어야한다. 아니면 위의 patience까지 count하다가 stop\n",
    "\n",
    "\n",
    "scheduler = LRScheduler(optimizer = optimizer,\n",
    "                        patience = 5,\n",
    "                        min_lr = 1e-10,\n",
    "                        factor = 0.5)"
   ]
  },
  {
   "cell_type": "code",
   "execution_count": 51,
   "metadata": {},
   "outputs": [],
   "source": [
    "import torch\n",
    "from tqdm import tqdm\n",
    "\n",
    "interval = 1000\n",
    "\n",
    "def train(model, train_loader, optimizer, criterion, device, epoch):\n",
    "    model.train()\n",
    "    running_loss = 0.0\n",
    "    loss_list = []\n",
    "    total_loss = 0\n",
    "\n",
    "    for i, data in tqdm(enumerate(train_loader), total=len(train_loader), desc=f\"Epoch {epoch} - Training\"):\n",
    "        X, y = data[0].to(device), data[1].to(device)\n",
    "        optimizer.zero_grad()\n",
    "        X_hat = model(X)\n",
    "        loss = criterion(X_hat, y)\n",
    "        loss.backward()\n",
    "        optimizer.step()\n",
    "\n",
    "        running_loss += loss.item() * X.size(0)\n",
    "\n",
    "        if i % interval == interval-1:\n",
    "            interval_loss = running_loss / interval\n",
    "            loss_list.append(interval_loss)\n",
    "            total_loss += running_loss\n",
    "            running_loss = 0.0\n",
    "            tqdm.write(f'train loss : {interval_loss}')\n",
    "\n",
    "    return loss_list, total_loss / len(train_loader.dataset)\n",
    "\n",
    "def evaluate(model, loader, criterion, device, epoch):\n",
    "    model.eval()\n",
    "    running_loss = 0.0\n",
    "    loss_list = []\n",
    "    total_loss = 0\n",
    "\n",
    "    with torch.no_grad():\n",
    "        for i, data in tqdm(enumerate(loader), total=len(loader), desc=f\"Epoch {epoch} - Evaluating\"):\n",
    "            X, y = data[0].to(device), data[1].to(device)\n",
    "            X_hat = model(X)\n",
    "            loss = criterion(X_hat, y)\n",
    "\n",
    "            running_loss += loss.item() * X.size(0)\n",
    "\n",
    "            if i % interval == interval-1:\n",
    "                interval_loss = running_loss / interval\n",
    "                loss_list.append(interval_loss)\n",
    "                total_loss += running_loss\n",
    "                running_loss = 0.0\n",
    "                tqdm.write(f'train loss : {interval_loss}')\n",
    "\n",
    "    return loss_list, total_loss / len(loader.dataset)"
   ]
  },
  {
   "cell_type": "code",
   "execution_count": 52,
   "metadata": {},
   "outputs": [
    {
     "name": "stdout",
     "output_type": "stream",
     "text": [
      "/root/code\n"
     ]
    }
   ],
   "source": [
    "!pwd"
   ]
  },
  {
   "cell_type": "code",
   "execution_count": 53,
   "metadata": {},
   "outputs": [
    {
     "name": "stdout",
     "output_type": "stream",
     "text": [
      "/root/code/redcnn/exp\n"
     ]
    }
   ],
   "source": [
    "%cd /root/code/redcnn/exp"
   ]
  },
  {
   "cell_type": "code",
   "execution_count": 54,
   "metadata": {},
   "outputs": [
    {
     "name": "stderr",
     "output_type": "stream",
     "text": [
      "Epoch 0 - Training:   0%|          | 0/57696 [00:00<?, ?it/s]"
     ]
    },
    {
     "name": "stderr",
     "output_type": "stream",
     "text": [
      "Epoch 0 - Training:   2%|▏         | 1006/57696 [00:21<20:25, 46.28it/s]"
     ]
    },
    {
     "name": "stdout",
     "output_type": "stream",
     "text": [
      "train loss : 6.334357665002346\n"
     ]
    },
    {
     "name": "stderr",
     "output_type": "stream",
     "text": [
      "Epoch 0 - Training:   3%|▎         | 2006/57696 [00:43<20:00, 46.37it/s]"
     ]
    },
    {
     "name": "stdout",
     "output_type": "stream",
     "text": [
      "train loss : 0.5376635947376489\n"
     ]
    },
    {
     "name": "stderr",
     "output_type": "stream",
     "text": [
      "Epoch 0 - Training:   5%|▌         | 3006/57696 [01:04<19:40, 46.32it/s]"
     ]
    },
    {
     "name": "stdout",
     "output_type": "stream",
     "text": [
      "train loss : 0.2783854324966669\n"
     ]
    },
    {
     "name": "stderr",
     "output_type": "stream",
     "text": [
      "Epoch 0 - Training:   7%|▋         | 4006/57696 [01:26<19:22, 46.20it/s]"
     ]
    },
    {
     "name": "stdout",
     "output_type": "stream",
     "text": [
      "train loss : 0.18819088516384364\n"
     ]
    },
    {
     "name": "stderr",
     "output_type": "stream",
     "text": [
      "Epoch 0 - Training:   9%|▊         | 5006/57696 [01:47<18:56, 46.34it/s]"
     ]
    },
    {
     "name": "stdout",
     "output_type": "stream",
     "text": [
      "train loss : 0.1409850113093853\n"
     ]
    },
    {
     "name": "stderr",
     "output_type": "stream",
     "text": [
      "Epoch 0 - Training:  10%|█         | 6006/57696 [02:09<18:41, 46.09it/s]"
     ]
    },
    {
     "name": "stdout",
     "output_type": "stream",
     "text": [
      "train loss : 0.11612210592627525\n"
     ]
    },
    {
     "name": "stderr",
     "output_type": "stream",
     "text": [
      "Epoch 0 - Training:  12%|█▏        | 7006/57696 [02:30<18:13, 46.34it/s]"
     ]
    },
    {
     "name": "stdout",
     "output_type": "stream",
     "text": [
      "train loss : 0.09644434405490757\n"
     ]
    },
    {
     "name": "stderr",
     "output_type": "stream",
     "text": [
      "Epoch 0 - Training:  14%|█▍        | 8006/57696 [02:51<17:52, 46.32it/s]"
     ]
    },
    {
     "name": "stdout",
     "output_type": "stream",
     "text": [
      "train loss : 0.08524014776572585\n"
     ]
    },
    {
     "name": "stderr",
     "output_type": "stream",
     "text": [
      "Epoch 0 - Training:  16%|█▌        | 9006/57696 [03:13<17:31, 46.33it/s]"
     ]
    },
    {
     "name": "stdout",
     "output_type": "stream",
     "text": [
      "train loss : 0.07784114870801569\n"
     ]
    },
    {
     "name": "stderr",
     "output_type": "stream",
     "text": [
      "Epoch 0 - Training:  17%|█▋        | 10006/57696 [03:34<17:09, 46.33it/s]"
     ]
    },
    {
     "name": "stdout",
     "output_type": "stream",
     "text": [
      "train loss : 0.07389850233867765\n"
     ]
    },
    {
     "name": "stderr",
     "output_type": "stream",
     "text": [
      "Epoch 0 - Training:  19%|█▉        | 11006/57696 [03:56<16:47, 46.33it/s]"
     ]
    },
    {
     "name": "stdout",
     "output_type": "stream",
     "text": [
      "train loss : 0.06825242703408003\n"
     ]
    },
    {
     "name": "stderr",
     "output_type": "stream",
     "text": [
      "Epoch 0 - Training:  21%|██        | 12006/57696 [04:17<16:24, 46.39it/s]"
     ]
    },
    {
     "name": "stdout",
     "output_type": "stream",
     "text": [
      "train loss : 0.06701589340344072\n"
     ]
    },
    {
     "name": "stderr",
     "output_type": "stream",
     "text": [
      "Epoch 0 - Training:  23%|██▎       | 13006/57696 [04:39<16:04, 46.31it/s]"
     ]
    },
    {
     "name": "stdout",
     "output_type": "stream",
     "text": [
      "train loss : 0.06607412787526847\n"
     ]
    },
    {
     "name": "stderr",
     "output_type": "stream",
     "text": [
      "Epoch 0 - Training:  24%|██▍       | 14006/57696 [05:00<15:41, 46.38it/s]"
     ]
    },
    {
     "name": "stdout",
     "output_type": "stream",
     "text": [
      "train loss : 0.06080493123456836\n"
     ]
    },
    {
     "name": "stderr",
     "output_type": "stream",
     "text": [
      "Epoch 0 - Training:  26%|██▌       | 15006/57696 [05:21<15:21, 46.32it/s]"
     ]
    },
    {
     "name": "stdout",
     "output_type": "stream",
     "text": [
      "train loss : 0.06110882391035557\n"
     ]
    },
    {
     "name": "stderr",
     "output_type": "stream",
     "text": [
      "Epoch 0 - Training:  28%|██▊       | 16006/57696 [05:43<14:59, 46.36it/s]"
     ]
    },
    {
     "name": "stdout",
     "output_type": "stream",
     "text": [
      "train loss : 0.059092516250908375\n"
     ]
    },
    {
     "name": "stderr",
     "output_type": "stream",
     "text": [
      "Epoch 0 - Training:  29%|██▉       | 17006/57696 [06:04<14:38, 46.34it/s]"
     ]
    },
    {
     "name": "stdout",
     "output_type": "stream",
     "text": [
      "train loss : 0.057123678166419264\n"
     ]
    },
    {
     "name": "stderr",
     "output_type": "stream",
     "text": [
      "Epoch 0 - Training:  31%|███       | 18006/57696 [06:26<14:15, 46.37it/s]"
     ]
    },
    {
     "name": "stdout",
     "output_type": "stream",
     "text": [
      "train loss : 0.057159155180677775\n"
     ]
    },
    {
     "name": "stderr",
     "output_type": "stream",
     "text": [
      "Epoch 0 - Training:  33%|███▎      | 19006/57696 [06:47<13:55, 46.30it/s]"
     ]
    },
    {
     "name": "stdout",
     "output_type": "stream",
     "text": [
      "train loss : 0.05464072158560157\n"
     ]
    },
    {
     "name": "stderr",
     "output_type": "stream",
     "text": [
      "Epoch 0 - Training:  35%|███▍      | 20006/57696 [07:09<13:34, 46.29it/s]"
     ]
    },
    {
     "name": "stdout",
     "output_type": "stream",
     "text": [
      "train loss : 0.053306405937299135\n"
     ]
    },
    {
     "name": "stderr",
     "output_type": "stream",
     "text": [
      "Epoch 0 - Training:  36%|███▋      | 21006/57696 [07:30<13:12, 46.29it/s]"
     ]
    },
    {
     "name": "stdout",
     "output_type": "stream",
     "text": [
      "train loss : 0.05399763484112918\n"
     ]
    },
    {
     "name": "stderr",
     "output_type": "stream",
     "text": [
      "Epoch 0 - Training:  38%|███▊      | 22006/57696 [07:51<12:50, 46.34it/s]"
     ]
    },
    {
     "name": "stdout",
     "output_type": "stream",
     "text": [
      "train loss : 0.052956499710679054\n"
     ]
    },
    {
     "name": "stderr",
     "output_type": "stream",
     "text": [
      "Epoch 0 - Training:  40%|███▉      | 23006/57696 [08:13<12:28, 46.32it/s]"
     ]
    },
    {
     "name": "stdout",
     "output_type": "stream",
     "text": [
      "train loss : 0.052959630193188785\n"
     ]
    },
    {
     "name": "stderr",
     "output_type": "stream",
     "text": [
      "Epoch 0 - Training:  42%|████▏     | 24006/57696 [08:34<12:07, 46.30it/s]"
     ]
    },
    {
     "name": "stdout",
     "output_type": "stream",
     "text": [
      "train loss : 0.05111855553649366\n"
     ]
    },
    {
     "name": "stderr",
     "output_type": "stream",
     "text": [
      "Epoch 0 - Training:  43%|████▎     | 25006/57696 [08:56<11:44, 46.37it/s]"
     ]
    },
    {
     "name": "stdout",
     "output_type": "stream",
     "text": [
      "train loss : 0.05089843233115971\n"
     ]
    },
    {
     "name": "stderr",
     "output_type": "stream",
     "text": [
      "Epoch 0 - Training:  45%|████▌     | 26006/57696 [09:17<11:24, 46.32it/s]"
     ]
    },
    {
     "name": "stdout",
     "output_type": "stream",
     "text": [
      "train loss : 0.051579399859532714\n"
     ]
    },
    {
     "name": "stderr",
     "output_type": "stream",
     "text": [
      "Epoch 0 - Training:  47%|████▋     | 27006/57696 [09:39<11:01, 46.38it/s]"
     ]
    },
    {
     "name": "stdout",
     "output_type": "stream",
     "text": [
      "train loss : 0.049660228196531535\n"
     ]
    },
    {
     "name": "stderr",
     "output_type": "stream",
     "text": [
      "Epoch 0 - Training:  49%|████▊     | 28006/57696 [10:00<10:40, 46.37it/s]"
     ]
    },
    {
     "name": "stdout",
     "output_type": "stream",
     "text": [
      "train loss : 0.050427715182304385\n"
     ]
    },
    {
     "name": "stderr",
     "output_type": "stream",
     "text": [
      "Epoch 0 - Training:  50%|█████     | 29006/57696 [10:22<10:18, 46.36it/s]"
     ]
    },
    {
     "name": "stdout",
     "output_type": "stream",
     "text": [
      "train loss : 0.0502253795042634\n"
     ]
    },
    {
     "name": "stderr",
     "output_type": "stream",
     "text": [
      "Epoch 0 - Training:  52%|█████▏    | 30006/57696 [10:43<09:57, 46.33it/s]"
     ]
    },
    {
     "name": "stdout",
     "output_type": "stream",
     "text": [
      "train loss : 0.04975333452224731\n"
     ]
    },
    {
     "name": "stderr",
     "output_type": "stream",
     "text": [
      "Epoch 0 - Training:  54%|█████▎    | 31006/57696 [11:04<09:36, 46.26it/s]"
     ]
    },
    {
     "name": "stdout",
     "output_type": "stream",
     "text": [
      "train loss : 0.048668314250186084\n"
     ]
    },
    {
     "name": "stderr",
     "output_type": "stream",
     "text": [
      "Epoch 0 - Training:  55%|█████▌    | 32006/57696 [11:26<09:14, 46.37it/s]"
     ]
    },
    {
     "name": "stdout",
     "output_type": "stream",
     "text": [
      "train loss : 0.04880282771401107\n"
     ]
    },
    {
     "name": "stderr",
     "output_type": "stream",
     "text": [
      "Epoch 0 - Training:  57%|█████▋    | 33006/57696 [11:47<08:52, 46.35it/s]"
     ]
    },
    {
     "name": "stdout",
     "output_type": "stream",
     "text": [
      "train loss : 0.048258228950202466\n"
     ]
    },
    {
     "name": "stderr",
     "output_type": "stream",
     "text": [
      "Epoch 0 - Training:  59%|█████▉    | 34006/57696 [12:09<08:31, 46.30it/s]"
     ]
    },
    {
     "name": "stdout",
     "output_type": "stream",
     "text": [
      "train loss : 0.047866948949173094\n"
     ]
    },
    {
     "name": "stderr",
     "output_type": "stream",
     "text": [
      "Epoch 0 - Training:  61%|██████    | 35006/57696 [12:30<08:09, 46.39it/s]"
     ]
    },
    {
     "name": "stdout",
     "output_type": "stream",
     "text": [
      "train loss : 0.047835889767855404\n"
     ]
    },
    {
     "name": "stderr",
     "output_type": "stream",
     "text": [
      "Epoch 0 - Training:  62%|██████▏   | 36006/57696 [12:52<07:48, 46.32it/s]"
     ]
    },
    {
     "name": "stdout",
     "output_type": "stream",
     "text": [
      "train loss : 0.046439518181607124\n"
     ]
    },
    {
     "name": "stderr",
     "output_type": "stream",
     "text": [
      "Epoch 0 - Training:  64%|██████▍   | 37006/57696 [13:13<07:27, 46.22it/s]"
     ]
    },
    {
     "name": "stdout",
     "output_type": "stream",
     "text": [
      "train loss : 0.047355522399768236\n"
     ]
    },
    {
     "name": "stderr",
     "output_type": "stream",
     "text": [
      "Epoch 0 - Training:  66%|██████▌   | 38006/57696 [13:34<07:05, 46.29it/s]"
     ]
    },
    {
     "name": "stdout",
     "output_type": "stream",
     "text": [
      "train loss : 0.048447135906666515\n"
     ]
    },
    {
     "name": "stderr",
     "output_type": "stream",
     "text": [
      "Epoch 0 - Training:  68%|██████▊   | 39006/57696 [13:56<06:42, 46.38it/s]"
     ]
    },
    {
     "name": "stdout",
     "output_type": "stream",
     "text": [
      "train loss : 0.046490706875920294\n"
     ]
    },
    {
     "name": "stderr",
     "output_type": "stream",
     "text": [
      "Epoch 0 - Training:  69%|██████▉   | 40006/57696 [14:17<06:22, 46.28it/s]"
     ]
    },
    {
     "name": "stdout",
     "output_type": "stream",
     "text": [
      "train loss : 0.0460316765923053\n"
     ]
    },
    {
     "name": "stderr",
     "output_type": "stream",
     "text": [
      "Epoch 0 - Training:  71%|███████   | 41006/57696 [14:39<06:00, 46.34it/s]"
     ]
    },
    {
     "name": "stdout",
     "output_type": "stream",
     "text": [
      "train loss : 0.04708666728436947\n"
     ]
    },
    {
     "name": "stderr",
     "output_type": "stream",
     "text": [
      "Epoch 0 - Training:  73%|███████▎  | 42006/57696 [15:00<05:38, 46.32it/s]"
     ]
    },
    {
     "name": "stdout",
     "output_type": "stream",
     "text": [
      "train loss : 0.04594143149070442\n"
     ]
    },
    {
     "name": "stderr",
     "output_type": "stream",
     "text": [
      "Epoch 0 - Training:  75%|███████▍  | 43006/57696 [15:22<05:16, 46.36it/s]"
     ]
    },
    {
     "name": "stdout",
     "output_type": "stream",
     "text": [
      "train loss : 0.0464682767316699\n"
     ]
    },
    {
     "name": "stderr",
     "output_type": "stream",
     "text": [
      "Epoch 0 - Training:  76%|███████▋  | 44006/57696 [15:43<04:55, 46.38it/s]"
     ]
    },
    {
     "name": "stdout",
     "output_type": "stream",
     "text": [
      "train loss : 0.04666888945363462\n"
     ]
    },
    {
     "name": "stderr",
     "output_type": "stream",
     "text": [
      "Epoch 0 - Training:  78%|███████▊  | 45006/57696 [16:05<04:34, 46.30it/s]"
     ]
    },
    {
     "name": "stdout",
     "output_type": "stream",
     "text": [
      "train loss : 0.045740609550848604\n"
     ]
    },
    {
     "name": "stderr",
     "output_type": "stream",
     "text": [
      "Epoch 0 - Training:  80%|███████▉  | 46006/57696 [16:26<04:12, 46.36it/s]"
     ]
    },
    {
     "name": "stdout",
     "output_type": "stream",
     "text": [
      "train loss : 0.04528965639695525\n"
     ]
    },
    {
     "name": "stderr",
     "output_type": "stream",
     "text": [
      "Epoch 0 - Training:  81%|████████▏ | 47006/57696 [16:47<03:50, 46.40it/s]"
     ]
    },
    {
     "name": "stdout",
     "output_type": "stream",
     "text": [
      "train loss : 0.045414449891075494\n"
     ]
    },
    {
     "name": "stderr",
     "output_type": "stream",
     "text": [
      "Epoch 0 - Training:  83%|████████▎ | 48006/57696 [17:09<03:29, 46.28it/s]"
     ]
    },
    {
     "name": "stdout",
     "output_type": "stream",
     "text": [
      "train loss : 0.04532634983770549\n"
     ]
    },
    {
     "name": "stderr",
     "output_type": "stream",
     "text": [
      "Epoch 0 - Training:  85%|████████▍ | 49006/57696 [17:30<03:07, 46.34it/s]"
     ]
    },
    {
     "name": "stdout",
     "output_type": "stream",
     "text": [
      "train loss : 0.045846866510808465\n"
     ]
    },
    {
     "name": "stderr",
     "output_type": "stream",
     "text": [
      "Epoch 0 - Training:  87%|████████▋ | 50006/57696 [17:52<02:46, 46.30it/s]"
     ]
    },
    {
     "name": "stdout",
     "output_type": "stream",
     "text": [
      "train loss : 0.04465939429588616\n"
     ]
    },
    {
     "name": "stderr",
     "output_type": "stream",
     "text": [
      "Epoch 0 - Training:  88%|████████▊ | 51006/57696 [18:13<02:24, 46.27it/s]"
     ]
    },
    {
     "name": "stdout",
     "output_type": "stream",
     "text": [
      "train loss : 0.04476193423755467\n"
     ]
    },
    {
     "name": "stderr",
     "output_type": "stream",
     "text": [
      "Epoch 0 - Training:  90%|█████████ | 52006/57696 [18:35<02:02, 46.32it/s]"
     ]
    },
    {
     "name": "stdout",
     "output_type": "stream",
     "text": [
      "train loss : 0.044507470071315766\n"
     ]
    },
    {
     "name": "stderr",
     "output_type": "stream",
     "text": [
      "Epoch 0 - Training:  92%|█████████▏| 53006/57696 [18:56<01:41, 46.28it/s]"
     ]
    },
    {
     "name": "stdout",
     "output_type": "stream",
     "text": [
      "train loss : 0.04437448576278984\n"
     ]
    },
    {
     "name": "stderr",
     "output_type": "stream",
     "text": [
      "Epoch 0 - Training:  94%|█████████▎| 54006/57696 [19:18<01:19, 46.25it/s]"
     ]
    },
    {
     "name": "stdout",
     "output_type": "stream",
     "text": [
      "train loss : 0.044307071823626754\n"
     ]
    },
    {
     "name": "stderr",
     "output_type": "stream",
     "text": [
      "Epoch 0 - Training:  95%|█████████▌| 55006/57696 [19:39<00:58, 46.29it/s]"
     ]
    },
    {
     "name": "stdout",
     "output_type": "stream",
     "text": [
      "train loss : 0.04391900743544102\n"
     ]
    },
    {
     "name": "stderr",
     "output_type": "stream",
     "text": [
      "Epoch 0 - Training:  97%|█████████▋| 56006/57696 [20:00<00:36, 46.38it/s]"
     ]
    },
    {
     "name": "stdout",
     "output_type": "stream",
     "text": [
      "train loss : 0.044227231364697216\n"
     ]
    },
    {
     "name": "stderr",
     "output_type": "stream",
     "text": [
      "Epoch 0 - Training:  99%|█████████▉| 57006/57696 [20:22<00:14, 46.30it/s]"
     ]
    },
    {
     "name": "stdout",
     "output_type": "stream",
     "text": [
      "train loss : 0.043135231325402854\n"
     ]
    },
    {
     "name": "stderr",
     "output_type": "stream",
     "text": [
      "Epoch 0 - Training: 100%|██████████| 57696/57696 [20:37<00:00, 46.63it/s]\n",
      "Epoch 0 - Evaluating:  21%|██        | 1021/4815 [00:08<00:31, 118.57it/s]"
     ]
    },
    {
     "name": "stdout",
     "output_type": "stream",
     "text": [
      "train loss : 0.053016460498794916\n"
     ]
    },
    {
     "name": "stderr",
     "output_type": "stream",
     "text": [
      "Epoch 0 - Evaluating:  42%|████▏     | 2017/4815 [00:16<00:23, 118.40it/s]"
     ]
    },
    {
     "name": "stdout",
     "output_type": "stream",
     "text": [
      "train loss : 0.05661255847476423\n"
     ]
    },
    {
     "name": "stderr",
     "output_type": "stream",
     "text": [
      "Epoch 0 - Evaluating:  63%|██████▎   | 3013/4815 [00:25<00:15, 118.59it/s]"
     ]
    },
    {
     "name": "stdout",
     "output_type": "stream",
     "text": [
      "train loss : 0.03888367368653416\n"
     ]
    },
    {
     "name": "stderr",
     "output_type": "stream",
     "text": [
      "Epoch 0 - Evaluating:  84%|████████▎ | 4021/4815 [00:33<00:06, 118.44it/s]"
     ]
    },
    {
     "name": "stdout",
     "output_type": "stream",
     "text": [
      "train loss : 0.04313461162988096\n"
     ]
    },
    {
     "name": "stderr",
     "output_type": "stream",
     "text": [
      "Epoch 0 - Evaluating: 100%|██████████| 4815/4815 [00:40<00:00, 119.31it/s]"
     ]
    },
    {
     "name": "stdout",
     "output_type": "stream",
     "text": [
      "Epoch [1/1], Train Loss: 0.0111, Valid Loss: 0.0025\n"
     ]
    },
    {
     "name": "stderr",
     "output_type": "stream",
     "text": [
      "\n"
     ]
    }
   ],
   "source": [
    "epochs = 1 # 각 epoch마다 train(20분), valid(2분)이 소요된다.\n",
    "best_valid_loss = float('inf')\n",
    "train_loss_per_iter = []\n",
    "train_loss_per_epoch = []\n",
    "val_loss_per_iter = []\n",
    "val_loss_per_epoch = []\n",
    "\n",
    "for epoch in range(epochs):\n",
    "    loss_list, total_loss = train(model, train_loader, optimizer, criterion, device, epoch)\n",
    "    train_loss_per_iter.append(loss_list)\n",
    "    train_loss_per_epoch.append(total_loss)\n",
    "\n",
    "    loss_list, total_loss = evaluate(model, val_loader, criterion, device, epoch)\n",
    "    val_loss_per_iter.append(loss_list)\n",
    "    val_loss_per_epoch.append(total_loss)\n",
    "\n",
    "    print(f\"Epoch [{epoch+1}/{epochs}], Train Loss: {train_loss_per_epoch[-1]:.4f}, Valid Loss: {val_loss_per_epoch[-1]:.4f}\")\n",
    "\n",
    "    valid_loss = val_loss_per_epoch[-1]\n",
    "    scheduler(valid_loss)\n",
    "\n",
    "    if (early_stopping(valid_loss)):\n",
    "        break\n",
    "\n",
    "    if valid_loss < best_valid_loss:\n",
    "        best_valid_loss = valid_loss\n",
    "        epochs_no_improve = 0\n",
    "        torch.save(model.state_dict(), \"./\" + 'BN' + \".pth\")"
   ]
  },
  {
   "cell_type": "code",
   "execution_count": 55,
   "metadata": {},
   "outputs": [
    {
     "name": "stderr",
     "output_type": "stream",
     "text": [
      "Evaluating:  17%|█▋        | 1005/6025 [00:21<01:46, 47.31it/s]"
     ]
    },
    {
     "name": "stdout",
     "output_type": "stream",
     "text": [
      "RMSE per interval: 0.0530, PSNR per interval: 26.01, SSIM per interval: 0.6599\n"
     ]
    },
    {
     "name": "stderr",
     "output_type": "stream",
     "text": [
      "Evaluating:  33%|███▎      | 2005/6025 [00:42<01:24, 47.35it/s]"
     ]
    },
    {
     "name": "stdout",
     "output_type": "stream",
     "text": [
      "RMSE per interval: 0.0502, PSNR per interval: 26.67, SSIM per interval: 0.6736\n"
     ]
    },
    {
     "name": "stderr",
     "output_type": "stream",
     "text": [
      "Evaluating:  50%|████▉     | 3005/6025 [01:03<01:03, 47.32it/s]"
     ]
    },
    {
     "name": "stdout",
     "output_type": "stream",
     "text": [
      "RMSE per interval: 0.0502, PSNR per interval: 26.83, SSIM per interval: 0.6851\n"
     ]
    },
    {
     "name": "stderr",
     "output_type": "stream",
     "text": [
      "Evaluating:  66%|██████▋   | 4005/6025 [01:24<00:43, 46.35it/s]"
     ]
    },
    {
     "name": "stdout",
     "output_type": "stream",
     "text": [
      "RMSE per interval: 0.0441, PSNR per interval: 27.69, SSIM per interval: 0.7061\n"
     ]
    },
    {
     "name": "stderr",
     "output_type": "stream",
     "text": [
      "Evaluating:  83%|████████▎ | 5005/6025 [01:45<00:21, 46.42it/s]"
     ]
    },
    {
     "name": "stdout",
     "output_type": "stream",
     "text": [
      "RMSE per interval: 0.0436, PSNR per interval: 27.77, SSIM per interval: 0.6852\n"
     ]
    },
    {
     "name": "stderr",
     "output_type": "stream",
     "text": [
      "Evaluating: 100%|█████████▉| 6005/6025 [02:06<00:00, 46.39it/s]"
     ]
    },
    {
     "name": "stdout",
     "output_type": "stream",
     "text": [
      "RMSE per interval: 0.0425, PSNR per interval: 28.12, SSIM per interval: 0.7252\n"
     ]
    },
    {
     "name": "stderr",
     "output_type": "stream",
     "text": [
      "Evaluating: 100%|██████████| 6025/6025 [02:07<00:00, 47.36it/s]"
     ]
    },
    {
     "name": "stdout",
     "output_type": "stream",
     "text": [
      "Average RMSE over all intervals: 0.047249\n"
     ]
    },
    {
     "name": "stderr",
     "output_type": "stream",
     "text": [
      "\n"
     ]
    }
   ],
   "source": [
    "import torch\n",
    "import torch.nn as nn\n",
    "import numpy as np\n",
    "from skimage.metrics import peak_signal_noise_ratio, structural_similarity\n",
    "from tqdm import tqdm\n",
    "\n",
    "criterion = nn.MSELoss()\n",
    "interval = 1000\n",
    "\n",
    "# 저장된 모델 로드\n",
    "device = torch.device('cuda' if torch.cuda.is_available() else 'cpu')\n",
    "model = RedCNN().to(device)\n",
    "model.load_state_dict(torch.load('BN.pth'))\n",
    "\n",
    "# 평가 지표 계산 추가\n",
    "def calculate_psnr(y_true, y_pred):\n",
    "    \"\"\"PSNR 계산 함수\"\"\"\n",
    "    y_true = y_true.cpu().numpy()\n",
    "    y_pred = y_pred.cpu().numpy()\n",
    "    return peak_signal_noise_ratio(y_true, y_pred, data_range=1.0)  # 정규화된 데이터라면 data_range=1.0\n",
    "\n",
    "def calculate_ssim(y_true, y_pred):\n",
    "    \"\"\"SSIM 계산 함수\"\"\"\n",
    "    y_true = y_true.squeeze(0).cpu().numpy()\n",
    "    y_pred = y_pred.squeeze(0).cpu().numpy()\n",
    "    return structural_similarity(y_true, y_pred, data_range=1.0)  # 정규화된 데이터라면 data_range=1.0\n",
    "\n",
    "# evaluate 부분 + top10 best&worst\n",
    "model.eval()\n",
    "running_loss = 0.0\n",
    "running_psnr = 0.0\n",
    "running_ssim = 0.0\n",
    "psnr_list = []\n",
    "ssim_list = []\n",
    "loss_list = []\n",
    "total_loss = 0\n",
    "best_loss = np.inf\n",
    "worst_loss = -np.inf\n",
    "\n",
    "with torch.no_grad():\n",
    "    for i, data in tqdm(enumerate(test_loader), total=len(test_loader), desc=f\"Evaluating\"):\n",
    "        X, y = data[0].to(device), data[1].to(device)\n",
    "        X_hat = model(X)\n",
    "        mse_loss = criterion(X_hat, y)\n",
    "\n",
    "        # RMSE 계산\n",
    "        rms_loss = torch.sqrt(mse_loss)\n",
    "        running_loss += rms_loss.item()\n",
    "\n",
    "        # PSNR, SSIM 계산\n",
    "        for j in range(X.size(0)):  # 배치 내부 개별 이미지에 대해 계산\n",
    "            psnr = calculate_psnr(y[j, :, :, :], X_hat[j, :, :, :])\n",
    "            ssim = calculate_ssim(y[j, :, :, :], X_hat[j, :, :, :]) \n",
    "            running_psnr += psnr # batch에 대해 더해준다.\n",
    "            running_ssim += ssim\n",
    "\n",
    "        if mse_loss < best_loss:\n",
    "            best_loss = mse_loss\n",
    "            best = (X, y, X_hat)\n",
    "        if mse_loss > worst_loss:\n",
    "            worst_loss = mse_loss\n",
    "            worst = (X, y, X_hat)\n",
    "\n",
    "        if i % interval == interval - 1:\n",
    "            interval_loss = running_loss / interval\n",
    "            interval_psnr = running_psnr / (interval * X.size(0)) # batch에 대해 나눠준다\n",
    "            interval_ssim = running_ssim / (interval * X.size(0))\n",
    "\n",
    "            loss_list.append(interval_loss)\n",
    "            psnr_list.append(interval_psnr)\n",
    "            ssim_list.append(interval_ssim)\n",
    "\n",
    "            total_loss += interval_loss\n",
    "            running_loss = 0.0\n",
    "            running_psnr = 0.0\n",
    "            running_ssim = 0.0\n",
    "            tqdm.write(f'RMSE per interval: {interval_loss:.4f}, PSNR per interval: {interval_psnr:.2f}, SSIM per interval: {interval_ssim:.4f}')\n",
    "            # tqdm.write(f'RMSE per interval: {interval_loss}, PSNR per interval: {interval_psnr}, SSIM per interval: {interval_ssim}')\n",
    "\n",
    "    # 평균 RMSE 출력\n",
    "average_loss = total_loss / len(loss_list)\n",
    "print(f\"Average RMSE over all intervals: {average_loss:.6f}\")"
   ]
  },
  {
   "cell_type": "code",
   "execution_count": 56,
   "metadata": {},
   "outputs": [
    {
     "name": "stdout",
     "output_type": "stream",
     "text": [
      "Lists have been saved in the 'unet' folder:\n",
      "- loss_list.npy\n",
      "- psnr_list.npy\n",
      "- ssim_list.npy\n"
     ]
    }
   ],
   "source": [
    "import os\n",
    "import numpy as np\n",
    "\n",
    "s = 'BN' + '_'\n",
    "\n",
    "# 파일 저장 경로\n",
    "file_names = {\n",
    "    \"loss\": \"loss_list.npy\",\n",
    "    \"psnr\": \"psnr_list.npy\",\n",
    "    \"ssim\": \"ssim_list.npy\"\n",
    "}\n",
    "\n",
    "# 각 리스트를 저장\n",
    "np.save(s+file_names[\"loss\"], loss_list)\n",
    "np.save(s+file_names[\"psnr\"], psnr_list)\n",
    "np.save(s+file_names[\"ssim\"], ssim_list)\n",
    "\n",
    "print(f\"Lists have been saved in the 'unet' folder:\\n- {file_names['loss']}\\n- {file_names['psnr']}\\n- {file_names['ssim']}\")"
   ]
  },
  {
   "cell_type": "markdown",
   "metadata": {},
   "source": [
    "# 모델4 - vgg loss"
   ]
  },
  {
   "cell_type": "code",
   "execution_count": 57,
   "metadata": {},
   "outputs": [
    {
     "data": {
      "text/plain": [
       "device(type='cuda')"
      ]
     },
     "execution_count": 57,
     "metadata": {},
     "output_type": "execute_result"
    }
   ],
   "source": [
    "import torch\n",
    "device = torch.device('cuda' if torch.cuda.is_available() else 'cpu')\n",
    "device"
   ]
  },
  {
   "cell_type": "code",
   "execution_count": 58,
   "metadata": {},
   "outputs": [],
   "source": [
    "import torch\n",
    "import torch.nn as nn\n",
    "\n",
    "class RedCNN(nn.Module):\n",
    "    def __init__(self):\n",
    "        super(RedCNN, self).__init__()\n",
    "\n",
    "        # 인코더 부분\n",
    "        self.conv1 = nn.Conv2d(1, 96, 5, 1, 0)\n",
    "        self.conv2 = nn.Conv2d(96, 96, 5, 1, 0)\n",
    "        self.conv3 = nn.Conv2d(96, 96, 5, 1, 0)\n",
    "        self.conv4 = nn.Conv2d(96, 96, 5, 1, 0)\n",
    "        self.conv5 = nn.Conv2d(96, 96, 5, 1, 0)\n",
    "        \n",
    "        # 디코더 부분\n",
    "        self.deconv1 = nn.ConvTranspose2d(96, 96, 5, 1, 0)\n",
    "        self.deconv2 = nn.ConvTranspose2d(96, 96, 5, 1, 0)\n",
    "        self.deconv3 = nn.ConvTranspose2d(96, 96, 5, 1, 0)\n",
    "        self.deconv4 = nn.ConvTranspose2d(96, 96, 5, 1, 0)\n",
    "        self.deconv_last = nn.ConvTranspose2d(96, 1, 5, 1, 0)\n",
    "\n",
    "        self.relu = nn.ReLU()\n",
    "\n",
    "\n",
    "    def forward(self, x):\n",
    "        # 인코더 부분\n",
    "        residual1 = x  # 첫 번째 잔차 저장\n",
    "        x = self.relu(self.conv1(x))\n",
    "        x = self.relu(self.conv2(x))\n",
    "        residual2 = x  # 두 번째 잔차 저장\n",
    "        x = self.relu(self.conv3(x))\n",
    "        x = self.relu(self.conv4(x))\n",
    "        residual3 = x  # 세 번째 잔차 저장\n",
    "        x = self.relu(self.conv5(x))\n",
    "        \n",
    "        # 디코더 부분 (잔차를 더해줌)\n",
    "        x = self.relu(self.deconv1(x)) + residual3  # 세 번째 잔차 연결\n",
    "        x = self.relu(self.deconv2(x))\n",
    "        x = self.relu((self.deconv3(x)) + residual2)  # 두 번째 잔차 연결\n",
    "        x = self.relu(self.deconv4(x))\n",
    "        x = self.deconv_last(x) + residual1  # 첫 번째 잔차 연결\n",
    "        \n",
    "        return x\n"
   ]
  },
  {
   "cell_type": "code",
   "execution_count": 59,
   "metadata": {},
   "outputs": [
    {
     "data": {
      "text/plain": [
       "RedCNN(\n",
       "  (conv1): Conv2d(1, 96, kernel_size=(5, 5), stride=(1, 1))\n",
       "  (conv2): Conv2d(96, 96, kernel_size=(5, 5), stride=(1, 1))\n",
       "  (conv3): Conv2d(96, 96, kernel_size=(5, 5), stride=(1, 1))\n",
       "  (conv4): Conv2d(96, 96, kernel_size=(5, 5), stride=(1, 1))\n",
       "  (conv5): Conv2d(96, 96, kernel_size=(5, 5), stride=(1, 1))\n",
       "  (deconv1): ConvTranspose2d(96, 96, kernel_size=(5, 5), stride=(1, 1))\n",
       "  (deconv2): ConvTranspose2d(96, 96, kernel_size=(5, 5), stride=(1, 1))\n",
       "  (deconv3): ConvTranspose2d(96, 96, kernel_size=(5, 5), stride=(1, 1))\n",
       "  (deconv4): ConvTranspose2d(96, 96, kernel_size=(5, 5), stride=(1, 1))\n",
       "  (deconv_last): ConvTranspose2d(96, 1, kernel_size=(5, 5), stride=(1, 1))\n",
       "  (relu): ReLU()\n",
       ")"
      ]
     },
     "execution_count": 59,
     "metadata": {},
     "output_type": "execute_result"
    }
   ],
   "source": [
    "model = RedCNN().to(device)\n",
    "model"
   ]
  },
  {
   "cell_type": "code",
   "execution_count": 60,
   "metadata": {},
   "outputs": [
    {
     "name": "stdout",
     "output_type": "stream",
     "text": [
      "/root/code\n"
     ]
    },
    {
     "data": {
      "text/plain": [
       "<module 'utils.train_eval_util' from '/root/code/utils/train_eval_util.py'>"
      ]
     },
     "execution_count": 60,
     "metadata": {},
     "output_type": "execute_result"
    }
   ],
   "source": [
    "%cd /root/code\n",
    "\n",
    "import utils.EarlyStopping\n",
    "import utils.LRScheduler\n",
    "import utils.train_eval_util\n",
    "import importlib\n",
    "importlib.reload(utils.EarlyStopping)\n",
    "importlib.reload(utils.LRScheduler)\n",
    "importlib.reload(utils.train_eval_util)"
   ]
  },
  {
   "cell_type": "code",
   "execution_count": 61,
   "metadata": {},
   "outputs": [],
   "source": [
    "from torchvision.models import vgg16\n",
    "import torch.nn as nn\n",
    "\n",
    "class VGGLoss(nn.Module):\n",
    "    def __init__(self):\n",
    "        super(VGGLoss, self).__init__()\n",
    "        vgg = vgg16(pretrained=True)  # Pretrained VGG16 모델 로드\n",
    "        self.feature_extractor = nn.Sequential(*list(vgg.features)[:16]).eval()  # relu3_3까지 사용\n",
    "        for param in self.feature_extractor.parameters():\n",
    "            param.requires_grad = False  # VGG 가중치는 고정\n",
    "\n",
    "        self.criterion = nn.L1Loss()  # Perceptual 손실로 L1 사용 (또는 MSE)\n",
    "\n",
    "    def forward(self, input, target):\n",
    "        input_features = self.feature_extractor(input)\n",
    "        target_features = self.feature_extractor(target)\n",
    "        return self.criterion(input_features, target_features)"
   ]
  },
  {
   "cell_type": "code",
   "execution_count": 62,
   "metadata": {},
   "outputs": [
    {
     "name": "stderr",
     "output_type": "stream",
     "text": [
      "/opt/conda/lib/python3.10/site-packages/torchvision/models/_utils.py:208: UserWarning: The parameter 'pretrained' is deprecated since 0.13 and may be removed in the future, please use 'weights' instead.\n",
      "  warnings.warn(\n",
      "/opt/conda/lib/python3.10/site-packages/torchvision/models/_utils.py:223: UserWarning: Arguments other than a weight enum or `None` for 'weights' are deprecated since 0.13 and may be removed in the future. The current behavior is equivalent to passing `weights=VGG16_Weights.IMAGENET1K_V1`. You can also use `weights=VGG16_Weights.DEFAULT` to get the most up-to-date weights.\n",
      "  warnings.warn(msg)\n",
      "Downloading: \"https://download.pytorch.org/models/vgg16-397923af.pth\" to /root/.cache/torch/hub/checkpoints/vgg16-397923af.pth\n",
      "100%|██████████| 528M/528M [00:47<00:00, 11.7MB/s] \n"
     ]
    }
   ],
   "source": [
    "import torch.nn as nn\n",
    "criterion_mse = nn.MSELoss()\n",
    "criterion_vgg = VGGLoss().to(device)"
   ]
  },
  {
   "cell_type": "code",
   "execution_count": 63,
   "metadata": {},
   "outputs": [],
   "source": [
    "from utils.EarlyStopping import *\n",
    "from utils.LRScheduler import *\n",
    "from utils.train_eval_util import train, evaluate\n",
    "\n",
    "learning_rate = 1e-5\n",
    "optimizer = torch.optim.Adam(params = model.parameters(),\n",
    "                             lr = learning_rate)\n",
    "\n",
    "\n",
    "early_stopping = EarlyStopping(patience = 7, # 7번까지는 개선이 안되어도 봐준다.\n",
    "                               min_delta = 1e-5) # 이정도는 개선이 되어야한다. 아니면 위의 patience까지 count하다가 stop\n",
    "\n",
    "\n",
    "scheduler = LRScheduler(optimizer = optimizer,\n",
    "                        patience = 5,\n",
    "                        min_lr = 1e-10,\n",
    "                        factor = 0.5)"
   ]
  },
  {
   "cell_type": "code",
   "execution_count": 68,
   "metadata": {},
   "outputs": [],
   "source": [
    "import torch\n",
    "from tqdm import tqdm\n",
    "\n",
    "interval = 1000\n",
    "\n",
    "def train(model, train_loader, optimizer, criterion, device, epoch):\n",
    "    model.train()\n",
    "    running_loss = 0.0\n",
    "    loss_list = []\n",
    "    total_loss = 0\n",
    "\n",
    "    for i, data in tqdm(enumerate(train_loader), total=len(train_loader), desc=f\"Epoch {epoch} - Training\"):\n",
    "        X, y = data[0].to(device), data[1].to(device)\n",
    "        optimizer.zero_grad()\n",
    "        X_hat = model(X)\n",
    "        X = X.repeat(1, 3, 1, 1)\n",
    "        X_hat = X_hat.repeat(1, 3, 1, 1)\n",
    "        y = y.repeat(1, 3, 1, 1)\n",
    "        loss_mse = criterion_mse(X_hat, y)\n",
    "        loss_vgg = criterion_vgg(X_hat, y)\n",
    "        total_loss = loss_mse + 0.01 * loss_vgg  # VGG Loss에 작은 가중치 부여\n",
    "        loss = total_loss\n",
    "        loss.backward()\n",
    "        optimizer.step()\n",
    "\n",
    "        running_loss += loss.item() * X.size(0)\n",
    "\n",
    "        if i % interval == interval-1:\n",
    "            interval_loss = running_loss / interval\n",
    "            loss_list.append(interval_loss)\n",
    "            total_loss += running_loss\n",
    "            running_loss = 0.0\n",
    "            tqdm.write(f'train loss : {interval_loss}')\n",
    "\n",
    "    return loss_list, total_loss / len(train_loader.dataset)\n",
    "\n",
    "def evaluate(model, loader, criterion, device, epoch):\n",
    "    model.eval()\n",
    "    running_loss = 0.0\n",
    "    loss_list = []\n",
    "    total_loss = 0\n",
    "\n",
    "    with torch.no_grad():\n",
    "        for i, data in tqdm(enumerate(loader), total=len(loader), desc=f\"Epoch {epoch} - Evaluating\"):\n",
    "            X, y = data[0].to(device), data[1].to(device)\n",
    "            X_hat = model(X)\n",
    "            loss = criterion(X_hat, y)\n",
    "\n",
    "            running_loss += loss.item() * X.size(0)\n",
    "\n",
    "            if i % interval == interval-1:\n",
    "                interval_loss = running_loss / interval\n",
    "                loss_list.append(interval_loss)\n",
    "                total_loss += running_loss\n",
    "                running_loss = 0.0\n",
    "                tqdm.write(f'train loss : {interval_loss}')\n",
    "\n",
    "    return loss_list, total_loss / len(loader.dataset)"
   ]
  },
  {
   "cell_type": "code",
   "execution_count": 65,
   "metadata": {},
   "outputs": [
    {
     "name": "stdout",
     "output_type": "stream",
     "text": [
      "/root/code\n"
     ]
    }
   ],
   "source": [
    "!pwd"
   ]
  },
  {
   "cell_type": "code",
   "execution_count": 66,
   "metadata": {},
   "outputs": [
    {
     "name": "stdout",
     "output_type": "stream",
     "text": [
      "/root/code/redcnn/exp\n"
     ]
    }
   ],
   "source": [
    "%cd /root/code/redcnn/exp"
   ]
  },
  {
   "cell_type": "code",
   "execution_count": 69,
   "metadata": {},
   "outputs": [
    {
     "name": "stderr",
     "output_type": "stream",
     "text": [
      "Epoch 0 - Training:   2%|▏         | 1004/57696 [00:24<22:45, 41.52it/s]"
     ]
    },
    {
     "name": "stdout",
     "output_type": "stream",
     "text": [
      "train loss : 0.13268643104285002\n"
     ]
    },
    {
     "name": "stderr",
     "output_type": "stream",
     "text": [
      "Epoch 0 - Training:   3%|▎         | 2004/57696 [00:47<22:25, 41.39it/s]"
     ]
    },
    {
     "name": "stdout",
     "output_type": "stream",
     "text": [
      "train loss : 0.11073899637162686\n"
     ]
    },
    {
     "name": "stderr",
     "output_type": "stream",
     "text": [
      "Epoch 0 - Training:   5%|▌         | 3004/57696 [01:11<22:02, 41.36it/s]"
     ]
    },
    {
     "name": "stdout",
     "output_type": "stream",
     "text": [
      "train loss : 0.10356669349223376\n"
     ]
    },
    {
     "name": "stderr",
     "output_type": "stream",
     "text": [
      "Epoch 0 - Training:   7%|▋         | 4004/57696 [01:35<21:35, 41.43it/s]"
     ]
    },
    {
     "name": "stdout",
     "output_type": "stream",
     "text": [
      "train loss : 0.10013290748745203\n"
     ]
    },
    {
     "name": "stderr",
     "output_type": "stream",
     "text": [
      "Epoch 0 - Training:   9%|▊         | 5004/57696 [01:59<21:11, 41.44it/s]"
     ]
    },
    {
     "name": "stdout",
     "output_type": "stream",
     "text": [
      "train loss : 0.09856532939523459\n"
     ]
    },
    {
     "name": "stderr",
     "output_type": "stream",
     "text": [
      "Epoch 0 - Training:  10%|█         | 6004/57696 [02:23<20:48, 41.40it/s]"
     ]
    },
    {
     "name": "stdout",
     "output_type": "stream",
     "text": [
      "train loss : 0.09531731756031513\n"
     ]
    },
    {
     "name": "stderr",
     "output_type": "stream",
     "text": [
      "Epoch 0 - Training:  12%|█▏        | 7004/57696 [02:47<20:22, 41.48it/s]"
     ]
    },
    {
     "name": "stdout",
     "output_type": "stream",
     "text": [
      "train loss : 0.09472950064390898\n"
     ]
    },
    {
     "name": "stderr",
     "output_type": "stream",
     "text": [
      "Epoch 0 - Training:  14%|█▍        | 8004/57696 [03:11<19:59, 41.43it/s]"
     ]
    },
    {
     "name": "stdout",
     "output_type": "stream",
     "text": [
      "train loss : 0.09351660516113043\n"
     ]
    },
    {
     "name": "stderr",
     "output_type": "stream",
     "text": [
      "Epoch 0 - Training:  16%|█▌        | 9004/57696 [03:35<19:34, 41.45it/s]"
     ]
    },
    {
     "name": "stdout",
     "output_type": "stream",
     "text": [
      "train loss : 0.0928433860577643\n"
     ]
    },
    {
     "name": "stderr",
     "output_type": "stream",
     "text": [
      "Epoch 0 - Training:  17%|█▋        | 10004/57696 [03:59<19:10, 41.46it/s]"
     ]
    },
    {
     "name": "stdout",
     "output_type": "stream",
     "text": [
      "train loss : 0.09093413017690181\n"
     ]
    },
    {
     "name": "stderr",
     "output_type": "stream",
     "text": [
      "Epoch 0 - Training:  19%|█▉        | 11004/57696 [04:23<18:45, 41.49it/s]"
     ]
    },
    {
     "name": "stdout",
     "output_type": "stream",
     "text": [
      "train loss : 0.09023341474309564\n"
     ]
    },
    {
     "name": "stderr",
     "output_type": "stream",
     "text": [
      "Epoch 0 - Training:  21%|██        | 12004/57696 [04:47<18:23, 41.40it/s]"
     ]
    },
    {
     "name": "stdout",
     "output_type": "stream",
     "text": [
      "train loss : 0.08926430765911937\n"
     ]
    },
    {
     "name": "stderr",
     "output_type": "stream",
     "text": [
      "Epoch 0 - Training:  23%|██▎       | 13004/57696 [05:11<17:58, 41.45it/s]"
     ]
    },
    {
     "name": "stdout",
     "output_type": "stream",
     "text": [
      "train loss : 0.088967668838799\n"
     ]
    },
    {
     "name": "stderr",
     "output_type": "stream",
     "text": [
      "Epoch 0 - Training:  24%|██▍       | 14004/57696 [05:34<17:32, 41.50it/s]"
     ]
    },
    {
     "name": "stdout",
     "output_type": "stream",
     "text": [
      "train loss : 0.0888713593557477\n"
     ]
    },
    {
     "name": "stderr",
     "output_type": "stream",
     "text": [
      "Epoch 0 - Training:  26%|██▌       | 15004/57696 [05:58<17:11, 41.40it/s]"
     ]
    },
    {
     "name": "stdout",
     "output_type": "stream",
     "text": [
      "train loss : 0.08864955552294851\n"
     ]
    },
    {
     "name": "stderr",
     "output_type": "stream",
     "text": [
      "Epoch 0 - Training:  28%|██▊       | 16004/57696 [06:22<16:45, 41.46it/s]"
     ]
    },
    {
     "name": "stdout",
     "output_type": "stream",
     "text": [
      "train loss : 0.08774042887613177\n"
     ]
    },
    {
     "name": "stderr",
     "output_type": "stream",
     "text": [
      "Epoch 0 - Training:  29%|██▉       | 17004/57696 [06:46<16:21, 41.45it/s]"
     ]
    },
    {
     "name": "stdout",
     "output_type": "stream",
     "text": [
      "train loss : 0.08718719560652971\n"
     ]
    },
    {
     "name": "stderr",
     "output_type": "stream",
     "text": [
      "Epoch 0 - Training:  31%|███       | 18004/57696 [07:10<15:56, 41.49it/s]"
     ]
    },
    {
     "name": "stdout",
     "output_type": "stream",
     "text": [
      "train loss : 0.08683987390995025\n"
     ]
    },
    {
     "name": "stderr",
     "output_type": "stream",
     "text": [
      "Epoch 0 - Training:  33%|███▎      | 19004/57696 [07:34<15:34, 41.42it/s]"
     ]
    },
    {
     "name": "stdout",
     "output_type": "stream",
     "text": [
      "train loss : 0.0867794759646058\n"
     ]
    },
    {
     "name": "stderr",
     "output_type": "stream",
     "text": [
      "Epoch 0 - Training:  35%|███▍      | 20004/57696 [07:58<15:09, 41.44it/s]"
     ]
    },
    {
     "name": "stdout",
     "output_type": "stream",
     "text": [
      "train loss : 0.08689150317758322\n"
     ]
    },
    {
     "name": "stderr",
     "output_type": "stream",
     "text": [
      "Epoch 0 - Training:  36%|███▋      | 21004/57696 [08:22<14:45, 41.43it/s]"
     ]
    },
    {
     "name": "stdout",
     "output_type": "stream",
     "text": [
      "train loss : 0.08623520328104496\n"
     ]
    },
    {
     "name": "stderr",
     "output_type": "stream",
     "text": [
      "Epoch 0 - Training:  38%|███▊      | 22004/57696 [08:46<14:21, 41.42it/s]"
     ]
    },
    {
     "name": "stdout",
     "output_type": "stream",
     "text": [
      "train loss : 0.08598755474388599\n"
     ]
    },
    {
     "name": "stderr",
     "output_type": "stream",
     "text": [
      "Epoch 0 - Training:  40%|███▉      | 23004/57696 [09:10<13:57, 41.43it/s]"
     ]
    },
    {
     "name": "stdout",
     "output_type": "stream",
     "text": [
      "train loss : 0.0852681792974472\n"
     ]
    },
    {
     "name": "stderr",
     "output_type": "stream",
     "text": [
      "Epoch 0 - Training:  42%|████▏     | 24004/57696 [09:34<13:32, 41.44it/s]"
     ]
    },
    {
     "name": "stdout",
     "output_type": "stream",
     "text": [
      "train loss : 0.08500677701085806\n"
     ]
    },
    {
     "name": "stderr",
     "output_type": "stream",
     "text": [
      "Epoch 0 - Training:  43%|████▎     | 25004/57696 [09:58<13:08, 41.44it/s]"
     ]
    },
    {
     "name": "stdout",
     "output_type": "stream",
     "text": [
      "train loss : 0.08525317599624395\n"
     ]
    },
    {
     "name": "stderr",
     "output_type": "stream",
     "text": [
      "Epoch 0 - Training:  45%|████▌     | 26004/57696 [10:21<12:45, 41.40it/s]"
     ]
    },
    {
     "name": "stdout",
     "output_type": "stream",
     "text": [
      "train loss : 0.08526275984570383\n"
     ]
    },
    {
     "name": "stderr",
     "output_type": "stream",
     "text": [
      "Epoch 0 - Training:  47%|████▋     | 27004/57696 [10:45<12:20, 41.45it/s]"
     ]
    },
    {
     "name": "stdout",
     "output_type": "stream",
     "text": [
      "train loss : 0.08462818639352918\n"
     ]
    },
    {
     "name": "stderr",
     "output_type": "stream",
     "text": [
      "Epoch 0 - Training:  49%|████▊     | 28004/57696 [11:09<11:57, 41.38it/s]"
     ]
    },
    {
     "name": "stdout",
     "output_type": "stream",
     "text": [
      "train loss : 0.08462520419806242\n"
     ]
    },
    {
     "name": "stderr",
     "output_type": "stream",
     "text": [
      "Epoch 0 - Training:  50%|█████     | 29004/57696 [11:33<11:32, 41.43it/s]"
     ]
    },
    {
     "name": "stdout",
     "output_type": "stream",
     "text": [
      "train loss : 0.08557662781327963\n"
     ]
    },
    {
     "name": "stderr",
     "output_type": "stream",
     "text": [
      "Epoch 0 - Training:  52%|█████▏    | 30004/57696 [11:57<11:08, 41.45it/s]"
     ]
    },
    {
     "name": "stdout",
     "output_type": "stream",
     "text": [
      "train loss : 0.08383848791196942\n"
     ]
    },
    {
     "name": "stderr",
     "output_type": "stream",
     "text": [
      "Epoch 0 - Training:  54%|█████▎    | 31004/57696 [12:21<10:44, 41.42it/s]"
     ]
    },
    {
     "name": "stdout",
     "output_type": "stream",
     "text": [
      "train loss : 0.08385355255380272\n"
     ]
    },
    {
     "name": "stderr",
     "output_type": "stream",
     "text": [
      "Epoch 0 - Training:  55%|█████▌    | 32004/57696 [12:45<10:19, 41.45it/s]"
     ]
    },
    {
     "name": "stdout",
     "output_type": "stream",
     "text": [
      "train loss : 0.08391978384926915\n"
     ]
    },
    {
     "name": "stderr",
     "output_type": "stream",
     "text": [
      "Epoch 0 - Training:  57%|█████▋    | 33004/57696 [13:09<09:55, 41.47it/s]"
     ]
    },
    {
     "name": "stdout",
     "output_type": "stream",
     "text": [
      "train loss : 0.08390151354670525\n"
     ]
    },
    {
     "name": "stderr",
     "output_type": "stream",
     "text": [
      "Epoch 0 - Training:  59%|█████▉    | 34004/57696 [13:33<09:32, 41.41it/s]"
     ]
    },
    {
     "name": "stdout",
     "output_type": "stream",
     "text": [
      "train loss : 0.08306544364988803\n"
     ]
    },
    {
     "name": "stderr",
     "output_type": "stream",
     "text": [
      "Epoch 0 - Training:  61%|██████    | 35004/57696 [13:57<09:08, 41.40it/s]"
     ]
    },
    {
     "name": "stdout",
     "output_type": "stream",
     "text": [
      "train loss : 0.08381305325031281\n"
     ]
    },
    {
     "name": "stderr",
     "output_type": "stream",
     "text": [
      "Epoch 0 - Training:  62%|██████▏   | 36004/57696 [14:21<08:43, 41.42it/s]"
     ]
    },
    {
     "name": "stdout",
     "output_type": "stream",
     "text": [
      "train loss : 0.08318249992653727\n"
     ]
    },
    {
     "name": "stderr",
     "output_type": "stream",
     "text": [
      "Epoch 0 - Training:  64%|██████▍   | 37004/57696 [14:45<08:19, 41.39it/s]"
     ]
    },
    {
     "name": "stdout",
     "output_type": "stream",
     "text": [
      "train loss : 0.08315038464963437\n"
     ]
    },
    {
     "name": "stderr",
     "output_type": "stream",
     "text": [
      "Epoch 0 - Training:  66%|██████▌   | 38004/57696 [15:08<07:55, 41.42it/s]"
     ]
    },
    {
     "name": "stdout",
     "output_type": "stream",
     "text": [
      "train loss : 0.08307981466501951\n"
     ]
    },
    {
     "name": "stderr",
     "output_type": "stream",
     "text": [
      "Epoch 0 - Training:  68%|██████▊   | 39004/57696 [15:32<07:30, 41.46it/s]"
     ]
    },
    {
     "name": "stdout",
     "output_type": "stream",
     "text": [
      "train loss : 0.08282918735966087\n"
     ]
    },
    {
     "name": "stderr",
     "output_type": "stream",
     "text": [
      "Epoch 0 - Training:  69%|██████▉   | 40004/57696 [15:56<07:07, 41.42it/s]"
     ]
    },
    {
     "name": "stdout",
     "output_type": "stream",
     "text": [
      "train loss : 0.08288389275223017\n"
     ]
    },
    {
     "name": "stderr",
     "output_type": "stream",
     "text": [
      "Epoch 0 - Training:  71%|███████   | 41004/57696 [16:20<06:42, 41.45it/s]"
     ]
    },
    {
     "name": "stdout",
     "output_type": "stream",
     "text": [
      "train loss : 0.0829580020532012\n"
     ]
    },
    {
     "name": "stderr",
     "output_type": "stream",
     "text": [
      "Epoch 0 - Training:  73%|███████▎  | 42004/57696 [16:44<06:18, 41.44it/s]"
     ]
    },
    {
     "name": "stdout",
     "output_type": "stream",
     "text": [
      "train loss : 0.08274262603744864\n"
     ]
    },
    {
     "name": "stderr",
     "output_type": "stream",
     "text": [
      "Epoch 0 - Training:  75%|███████▍  | 43004/57696 [17:08<05:54, 41.44it/s]"
     ]
    },
    {
     "name": "stdout",
     "output_type": "stream",
     "text": [
      "train loss : 0.08256966206058859\n"
     ]
    },
    {
     "name": "stderr",
     "output_type": "stream",
     "text": [
      "Epoch 0 - Training:  76%|███████▋  | 44004/57696 [17:32<05:30, 41.38it/s]"
     ]
    },
    {
     "name": "stdout",
     "output_type": "stream",
     "text": [
      "train loss : 0.0823511573113501\n"
     ]
    },
    {
     "name": "stderr",
     "output_type": "stream",
     "text": [
      "Epoch 0 - Training:  78%|███████▊  | 45004/57696 [17:56<05:05, 41.50it/s]"
     ]
    },
    {
     "name": "stdout",
     "output_type": "stream",
     "text": [
      "train loss : 0.08194668532535433\n"
     ]
    },
    {
     "name": "stderr",
     "output_type": "stream",
     "text": [
      "Epoch 0 - Training:  80%|███████▉  | 46004/57696 [18:20<04:42, 41.38it/s]"
     ]
    },
    {
     "name": "stdout",
     "output_type": "stream",
     "text": [
      "train loss : 0.0822618172839284\n"
     ]
    },
    {
     "name": "stderr",
     "output_type": "stream",
     "text": [
      "Epoch 0 - Training:  81%|████████▏ | 47004/57696 [18:44<04:17, 41.48it/s]"
     ]
    },
    {
     "name": "stdout",
     "output_type": "stream",
     "text": [
      "train loss : 0.08251085221022368\n"
     ]
    },
    {
     "name": "stderr",
     "output_type": "stream",
     "text": [
      "Epoch 0 - Training:  83%|████████▎ | 48004/57696 [19:08<03:53, 41.45it/s]"
     ]
    },
    {
     "name": "stdout",
     "output_type": "stream",
     "text": [
      "train loss : 0.08151857639849186\n"
     ]
    },
    {
     "name": "stderr",
     "output_type": "stream",
     "text": [
      "Epoch 0 - Training:  85%|████████▍ | 49004/57696 [19:32<03:29, 41.53it/s]"
     ]
    },
    {
     "name": "stdout",
     "output_type": "stream",
     "text": [
      "train loss : 0.08217605878412723\n"
     ]
    },
    {
     "name": "stderr",
     "output_type": "stream",
     "text": [
      "Epoch 0 - Training:  87%|████████▋ | 50004/57696 [19:55<03:05, 41.44it/s]"
     ]
    },
    {
     "name": "stdout",
     "output_type": "stream",
     "text": [
      "train loss : 0.08181657600402832\n"
     ]
    },
    {
     "name": "stderr",
     "output_type": "stream",
     "text": [
      "Epoch 0 - Training:  88%|████████▊ | 51004/57696 [20:19<02:41, 41.43it/s]"
     ]
    },
    {
     "name": "stdout",
     "output_type": "stream",
     "text": [
      "train loss : 0.08165467803552746\n"
     ]
    },
    {
     "name": "stderr",
     "output_type": "stream",
     "text": [
      "Epoch 0 - Training:  90%|█████████ | 52004/57696 [20:43<02:17, 41.46it/s]"
     ]
    },
    {
     "name": "stdout",
     "output_type": "stream",
     "text": [
      "train loss : 0.08080569004639983\n"
     ]
    },
    {
     "name": "stderr",
     "output_type": "stream",
     "text": [
      "Epoch 0 - Training:  92%|█████████▏| 53004/57696 [21:07<01:53, 41.47it/s]"
     ]
    },
    {
     "name": "stdout",
     "output_type": "stream",
     "text": [
      "train loss : 0.08164739126339554\n"
     ]
    },
    {
     "name": "stderr",
     "output_type": "stream",
     "text": [
      "Epoch 0 - Training:  94%|█████████▎| 54004/57696 [21:31<01:29, 41.46it/s]"
     ]
    },
    {
     "name": "stdout",
     "output_type": "stream",
     "text": [
      "train loss : 0.08118942871689797\n"
     ]
    },
    {
     "name": "stderr",
     "output_type": "stream",
     "text": [
      "Epoch 0 - Training:  95%|█████████▌| 55004/57696 [21:55<01:04, 41.43it/s]"
     ]
    },
    {
     "name": "stdout",
     "output_type": "stream",
     "text": [
      "train loss : 0.08160759259015321\n"
     ]
    },
    {
     "name": "stderr",
     "output_type": "stream",
     "text": [
      "Epoch 0 - Training:  97%|█████████▋| 56004/57696 [22:19<00:40, 41.43it/s]"
     ]
    },
    {
     "name": "stdout",
     "output_type": "stream",
     "text": [
      "train loss : 0.08158063450083136\n"
     ]
    },
    {
     "name": "stderr",
     "output_type": "stream",
     "text": [
      "Epoch 0 - Training:  99%|█████████▉| 57004/57696 [22:43<00:16, 41.48it/s]"
     ]
    },
    {
     "name": "stdout",
     "output_type": "stream",
     "text": [
      "train loss : 0.08089759528264404\n"
     ]
    },
    {
     "name": "stderr",
     "output_type": "stream",
     "text": [
      "Epoch 0 - Training: 100%|██████████| 57696/57696 [22:59<00:00, 41.81it/s]\n",
      "Epoch 0 - Evaluating:  21%|██        | 1014/4815 [00:08<00:30, 123.60it/s]"
     ]
    },
    {
     "name": "stdout",
     "output_type": "stream",
     "text": [
      "train loss : 0.04454149445425719\n"
     ]
    },
    {
     "name": "stderr",
     "output_type": "stream",
     "text": [
      "Epoch 0 - Evaluating:  42%|████▏     | 2015/4815 [00:16<00:22, 123.53it/s]"
     ]
    },
    {
     "name": "stdout",
     "output_type": "stream",
     "text": [
      "train loss : 0.048265402733813974\n"
     ]
    },
    {
     "name": "stderr",
     "output_type": "stream",
     "text": [
      "Epoch 0 - Evaluating:  63%|██████▎   | 3016/4815 [00:24<00:14, 123.57it/s]"
     ]
    },
    {
     "name": "stdout",
     "output_type": "stream",
     "text": [
      "train loss : 0.031913934090174734\n"
     ]
    },
    {
     "name": "stderr",
     "output_type": "stream",
     "text": [
      "Epoch 0 - Evaluating:  83%|████████▎ | 4017/4815 [00:32<00:06, 123.75it/s]"
     ]
    },
    {
     "name": "stdout",
     "output_type": "stream",
     "text": [
      "train loss : 0.035975243172608314\n"
     ]
    },
    {
     "name": "stderr",
     "output_type": "stream",
     "text": [
      "Epoch 0 - Evaluating: 100%|██████████| 4815/4815 [00:38<00:00, 124.51it/s]"
     ]
    },
    {
     "name": "stdout",
     "output_type": "stream",
     "text": [
      "Epoch [1/1], Train Loss: 0.0000, Valid Loss: 0.0021\n"
     ]
    },
    {
     "name": "stderr",
     "output_type": "stream",
     "text": [
      "\n"
     ]
    }
   ],
   "source": [
    "epochs = 1 # 각 epoch마다 train(20분), valid(2분)이 소요된다.\n",
    "best_valid_loss = float('inf')\n",
    "train_loss_per_iter = []\n",
    "train_loss_per_epoch = []\n",
    "val_loss_per_iter = []\n",
    "val_loss_per_epoch = []\n",
    "\n",
    "for epoch in range(epochs):\n",
    "    loss_list, total_loss = train(model, train_loader, optimizer, criterion, device, epoch)\n",
    "    train_loss_per_iter.append(loss_list)\n",
    "    train_loss_per_epoch.append(total_loss)\n",
    "\n",
    "    loss_list, total_loss = evaluate(model, val_loader, criterion, device, epoch)\n",
    "    val_loss_per_iter.append(loss_list)\n",
    "    val_loss_per_epoch.append(total_loss)\n",
    "\n",
    "    print(f\"Epoch [{epoch+1}/{epochs}], Train Loss: {train_loss_per_epoch[-1]:.4f}, Valid Loss: {val_loss_per_epoch[-1]:.4f}\")\n",
    "\n",
    "    valid_loss = val_loss_per_epoch[-1]\n",
    "    scheduler(valid_loss)\n",
    "\n",
    "    if (early_stopping(valid_loss)):\n",
    "        break\n",
    "\n",
    "    if valid_loss < best_valid_loss:\n",
    "        best_valid_loss = valid_loss\n",
    "        epochs_no_improve = 0\n",
    "        torch.save(model.state_dict(), \"./\" + 'VGG' + \".pth\")"
   ]
  },
  {
   "cell_type": "code",
   "execution_count": 70,
   "metadata": {},
   "outputs": [
    {
     "name": "stderr",
     "output_type": "stream",
     "text": [
      "Evaluating:  17%|█▋        | 1005/6025 [00:21<01:48, 46.33it/s]"
     ]
    },
    {
     "name": "stdout",
     "output_type": "stream",
     "text": [
      "RMSE per interval: 0.0473, PSNR per interval: 27.28, SSIM per interval: 0.6767\n"
     ]
    },
    {
     "name": "stderr",
     "output_type": "stream",
     "text": [
      "Evaluating:  33%|███▎      | 2005/6025 [00:42<01:26, 46.43it/s]"
     ]
    },
    {
     "name": "stdout",
     "output_type": "stream",
     "text": [
      "RMSE per interval: 0.0449, PSNR per interval: 27.98, SSIM per interval: 0.6905\n"
     ]
    },
    {
     "name": "stderr",
     "output_type": "stream",
     "text": [
      "Evaluating:  50%|████▉     | 3005/6025 [01:04<01:05, 46.16it/s]"
     ]
    },
    {
     "name": "stdout",
     "output_type": "stream",
     "text": [
      "RMSE per interval: 0.0450, PSNR per interval: 28.16, SSIM per interval: 0.7019\n"
     ]
    },
    {
     "name": "stderr",
     "output_type": "stream",
     "text": [
      "Evaluating:  66%|██████▋   | 4005/6025 [01:25<00:43, 46.12it/s]"
     ]
    },
    {
     "name": "stdout",
     "output_type": "stream",
     "text": [
      "RMSE per interval: 0.0387, PSNR per interval: 29.12, SSIM per interval: 0.7209\n"
     ]
    },
    {
     "name": "stderr",
     "output_type": "stream",
     "text": [
      "Evaluating:  83%|████████▎ | 5005/6025 [01:47<00:22, 46.17it/s]"
     ]
    },
    {
     "name": "stdout",
     "output_type": "stream",
     "text": [
      "RMSE per interval: 0.0387, PSNR per interval: 29.12, SSIM per interval: 0.6943\n"
     ]
    },
    {
     "name": "stderr",
     "output_type": "stream",
     "text": [
      "Evaluating: 100%|█████████▉| 6005/6025 [02:08<00:00, 46.21it/s]"
     ]
    },
    {
     "name": "stdout",
     "output_type": "stream",
     "text": [
      "RMSE per interval: 0.0362, PSNR per interval: 29.94, SSIM per interval: 0.7452\n"
     ]
    },
    {
     "name": "stderr",
     "output_type": "stream",
     "text": [
      "Evaluating: 100%|██████████| 6025/6025 [02:09<00:00, 46.59it/s]"
     ]
    },
    {
     "name": "stdout",
     "output_type": "stream",
     "text": [
      "Average RMSE over all intervals: 0.041791\n"
     ]
    },
    {
     "name": "stderr",
     "output_type": "stream",
     "text": [
      "\n"
     ]
    }
   ],
   "source": [
    "import torch\n",
    "import torch.nn as nn\n",
    "import numpy as np\n",
    "from skimage.metrics import peak_signal_noise_ratio, structural_similarity\n",
    "from tqdm import tqdm\n",
    "\n",
    "criterion = nn.MSELoss()\n",
    "interval = 1000\n",
    "\n",
    "# 저장된 모델 로드\n",
    "device = torch.device('cuda' if torch.cuda.is_available() else 'cpu')\n",
    "model = RedCNN().to(device)\n",
    "model.load_state_dict(torch.load('VGG.pth'))\n",
    "\n",
    "# 평가 지표 계산 추가\n",
    "def calculate_psnr(y_true, y_pred):\n",
    "    \"\"\"PSNR 계산 함수\"\"\"\n",
    "    y_true = y_true.cpu().numpy()\n",
    "    y_pred = y_pred.cpu().numpy()\n",
    "    return peak_signal_noise_ratio(y_true, y_pred, data_range=1.0)  # 정규화된 데이터라면 data_range=1.0\n",
    "\n",
    "def calculate_ssim(y_true, y_pred):\n",
    "    \"\"\"SSIM 계산 함수\"\"\"\n",
    "    y_true = y_true.squeeze(0).cpu().numpy()\n",
    "    y_pred = y_pred.squeeze(0).cpu().numpy()\n",
    "    return structural_similarity(y_true, y_pred, data_range=1.0)  # 정규화된 데이터라면 data_range=1.0\n",
    "\n",
    "# evaluate 부분 + top10 best&worst\n",
    "model.eval()\n",
    "running_loss = 0.0\n",
    "running_psnr = 0.0\n",
    "running_ssim = 0.0\n",
    "psnr_list = []\n",
    "ssim_list = []\n",
    "loss_list = []\n",
    "total_loss = 0\n",
    "best_loss = np.inf\n",
    "worst_loss = -np.inf\n",
    "\n",
    "with torch.no_grad():\n",
    "    for i, data in tqdm(enumerate(test_loader), total=len(test_loader), desc=f\"Evaluating\"):\n",
    "        X, y = data[0].to(device), data[1].to(device)\n",
    "        X_hat = model(X)\n",
    "        mse_loss = criterion(X_hat, y)\n",
    "\n",
    "        # RMSE 계산\n",
    "        rms_loss = torch.sqrt(mse_loss)\n",
    "        running_loss += rms_loss.item()\n",
    "\n",
    "        # PSNR, SSIM 계산\n",
    "        for j in range(X.size(0)):  # 배치 내부 개별 이미지에 대해 계산\n",
    "            psnr = calculate_psnr(y[j, :, :, :], X_hat[j, :, :, :])\n",
    "            ssim = calculate_ssim(y[j, :, :, :], X_hat[j, :, :, :]) \n",
    "            running_psnr += psnr # batch에 대해 더해준다.\n",
    "            running_ssim += ssim\n",
    "\n",
    "        if mse_loss < best_loss:\n",
    "            best_loss = mse_loss\n",
    "            best = (X, y, X_hat)\n",
    "        if mse_loss > worst_loss:\n",
    "            worst_loss = mse_loss\n",
    "            worst = (X, y, X_hat)\n",
    "\n",
    "        if i % interval == interval - 1:\n",
    "            interval_loss = running_loss / interval\n",
    "            interval_psnr = running_psnr / (interval * X.size(0)) # batch에 대해 나눠준다\n",
    "            interval_ssim = running_ssim / (interval * X.size(0))\n",
    "\n",
    "            loss_list.append(interval_loss)\n",
    "            psnr_list.append(interval_psnr)\n",
    "            ssim_list.append(interval_ssim)\n",
    "\n",
    "            total_loss += interval_loss\n",
    "            running_loss = 0.0\n",
    "            running_psnr = 0.0\n",
    "            running_ssim = 0.0\n",
    "            tqdm.write(f'RMSE per interval: {interval_loss:.4f}, PSNR per interval: {interval_psnr:.2f}, SSIM per interval: {interval_ssim:.4f}')\n",
    "            # tqdm.write(f'RMSE per interval: {interval_loss}, PSNR per interval: {interval_psnr}, SSIM per interval: {interval_ssim}')\n",
    "\n",
    "    # 평균 RMSE 출력\n",
    "average_loss = total_loss / len(loss_list)\n",
    "print(f\"Average RMSE over all intervals: {average_loss:.6f}\")"
   ]
  },
  {
   "cell_type": "code",
   "execution_count": 71,
   "metadata": {},
   "outputs": [
    {
     "name": "stdout",
     "output_type": "stream",
     "text": [
      "Lists have been saved in the 'unet' folder:\n",
      "- loss_list.npy\n",
      "- psnr_list.npy\n",
      "- ssim_list.npy\n"
     ]
    }
   ],
   "source": [
    "import os\n",
    "import numpy as np\n",
    "\n",
    "s = 'VGG' + '_'\n",
    "\n",
    "# 파일 저장 경로\n",
    "file_names = {\n",
    "    \"loss\": \"loss_list.npy\",\n",
    "    \"psnr\": \"psnr_list.npy\",\n",
    "    \"ssim\": \"ssim_list.npy\"\n",
    "}\n",
    "\n",
    "# 각 리스트를 저장\n",
    "np.save(s+file_names[\"loss\"], loss_list)\n",
    "np.save(s+file_names[\"psnr\"], psnr_list)\n",
    "np.save(s+file_names[\"ssim\"], ssim_list)\n",
    "\n",
    "print(f\"Lists have been saved in the 'unet' folder:\\n- {file_names['loss']}\\n- {file_names['psnr']}\\n- {file_names['ssim']}\")"
   ]
  },
  {
   "cell_type": "markdown",
   "metadata": {},
   "source": [
    "# 모델 비교"
   ]
  },
  {
   "cell_type": "code",
   "execution_count": 72,
   "metadata": {},
   "outputs": [
    {
     "name": "stdout",
     "output_type": "stream",
     "text": [
      "/root/code/redcnn/exp\n"
     ]
    }
   ],
   "source": [
    "!pwd"
   ]
  },
  {
   "cell_type": "code",
   "execution_count": 73,
   "metadata": {},
   "outputs": [
    {
     "name": "stdout",
     "output_type": "stream",
     "text": [
      "BN.pth\t\t  None.pth\t      VGG.pth\t\t WI.pth\n",
      "BN_loss_list.npy  None_loss_list.npy  VGG_loss_list.npy  WI_loss_list.npy\n",
      "BN_psnr_list.npy  None_psnr_list.npy  VGG_psnr_list.npy  WI_psnr_list.npy\n",
      "BN_ssim_list.npy  None_ssim_list.npy  VGG_ssim_list.npy  WI_ssim_list.npy\n"
     ]
    }
   ],
   "source": [
    "!ls"
   ]
  },
  {
   "cell_type": "code",
   "execution_count": 75,
   "metadata": {},
   "outputs": [],
   "source": [
    "import numpy as np\n",
    "\n",
    "# 파일 이름 정리\n",
    "file_names = {\n",
    "    \"None\": {\n",
    "        \"loss\": \"None_loss_list.npy\",\n",
    "        \"psnr\": \"None_psnr_list.npy\",\n",
    "        \"ssim\": \"None_ssim_list.npy\"\n",
    "    },\n",
    "    \"WI\": {\n",
    "        \"loss\": \"WI_loss_list.npy\",\n",
    "        \"psnr\": \"WI_psnr_list.npy\",\n",
    "        \"ssim\": \"WI_ssim_list.npy\"\n",
    "    },\n",
    "    \"BN\": {\n",
    "        \"loss\": \"BN_loss_list.npy\",\n",
    "        \"psnr\": \"BN_psnr_list.npy\",\n",
    "        \"ssim\": \"BN_ssim_list.npy\"\n",
    "    },\n",
    "    \"VGG\": {\n",
    "        \"loss\": \"VGG_loss_list.npy\",\n",
    "        \"psnr\": \"VGG_psnr_list.npy\",\n",
    "        \"ssim\": \"VGG_ssim_list.npy\"\n",
    "    }\n",
    "}\n",
    "\n",
    "# 기본 경로 설정\n",
    "base_output_dir = \"/root/code/redcnn/exp/\"\n",
    "\n",
    "# None 모델 (Base 경로)\n",
    "None_rmse_list = np.load(base_output_dir + file_names[\"None\"][\"loss\"])\n",
    "None_psnr_list = np.load(base_output_dir + file_names[\"None\"][\"psnr\"])\n",
    "None_ssim_list = np.load(base_output_dir + file_names[\"None\"][\"ssim\"])\n",
    "\n",
    "# WI 모델 (Channel Attention 경로)\n",
    "WI_rmse_list = np.load(base_output_dir + file_names[\"WI\"][\"loss\"])\n",
    "WI_psnr_list = np.load(base_output_dir + file_names[\"WI\"][\"psnr\"])\n",
    "WI_ssim_list = np.load(base_output_dir + file_names[\"WI\"][\"ssim\"])\n",
    "\n",
    "# BN 모델 (Base 경로)\n",
    "BN_rmse_list = np.load(base_output_dir + file_names[\"BN\"][\"loss\"])\n",
    "BN_psnr_list = np.load(base_output_dir + file_names[\"BN\"][\"psnr\"])\n",
    "BN_ssim_list = np.load(base_output_dir + file_names[\"BN\"][\"ssim\"])\n",
    "\n",
    "# VGG 모델 (Spatial Attention 경로)\n",
    "VGG_rmse_list = np.load(base_output_dir + file_names[\"VGG\"][\"loss\"])\n",
    "VGG_psnr_list = np.load(base_output_dir + file_names[\"VGG\"][\"psnr\"])\n",
    "VGG_ssim_list = np.load(base_output_dir + file_names[\"VGG\"][\"ssim\"])"
   ]
  },
  {
   "cell_type": "code",
   "execution_count": 76,
   "metadata": {},
   "outputs": [
    {
     "data": {
      "image/png": "[encoded data removed]",
      "text/plain": [
       "<Figure size 1800x500 with 3 Axes>"
      ]
     },
     "metadata": {},
     "output_type": "display_data"
    }
   ],
   "source": [
    "# 그룹화 (각각의 그룹 평균 계산)\n",
    "None_rmse_groups = [np.mean(None_rmse_list[0:2]), np.mean(None_rmse_list[2:4]), np.mean(None_rmse_list[4:6])]\n",
    "None_psnr_groups = [np.mean(None_psnr_list[0:2]), np.mean(None_psnr_list[2:4]), np.mean(None_psnr_list[4:6])]\n",
    "None_ssim_groups = [np.mean(None_ssim_list[0:2]), np.mean(None_ssim_list[2:4]), np.mean(None_ssim_list[4:6])]\n",
    "\n",
    "WI_rmse_groups = [np.mean(WI_rmse_list[0:2]), np.mean(WI_rmse_list[2:4]), np.mean(WI_rmse_list[4:6])]\n",
    "WI_psnr_groups = [np.mean(WI_psnr_list[0:2]), np.mean(WI_psnr_list[2:4]), np.mean(WI_psnr_list[4:6])]\n",
    "WI_ssim_groups = [np.mean(WI_ssim_list[0:2]), np.mean(WI_ssim_list[2:4]), np.mean(WI_ssim_list[4:6])]\n",
    "\n",
    "BN_rmse_groups = [np.mean(BN_rmse_list[0:2]), np.mean(BN_rmse_list[2:4]), np.mean(BN_rmse_list[4:6])]\n",
    "BN_psnr_groups = [np.mean(BN_psnr_list[0:2]), np.mean(BN_psnr_list[2:4]), np.mean(BN_psnr_list[4:6])]\n",
    "BN_ssim_groups = [np.mean(BN_ssim_list[0:2]), np.mean(BN_ssim_list[2:4]), np.mean(BN_ssim_list[4:6])]\n",
    "\n",
    "VGG_rmse_groups = [np.mean(VGG_rmse_list[0:2]), np.mean(VGG_rmse_list[2:4]), np.mean(VGG_rmse_list[4:6])]\n",
    "VGG_psnr_groups = [np.mean(VGG_psnr_list[0:2]), np.mean(VGG_psnr_list[2:4]), np.mean(VGG_psnr_list[4:6])]\n",
    "VGG_ssim_groups = [np.mean(VGG_ssim_list[0:2]), np.mean(VGG_ssim_list[2:4]), np.mean(VGG_ssim_list[4:6])]\n",
    "\n",
    "# 그룹 인덱스\n",
    "groups = np.array([1, 2, 3])\n",
    "bar_width = 0.2\n",
    "offset = bar_width\n",
    "\n",
    "# 그래프 그리기\n",
    "fig, axs = plt.subplots(1, 3, figsize=(18, 5))\n",
    "\n",
    "# RMSE\n",
    "axs[0].bar(groups - 1.5 * offset, None_rmse_groups, bar_width, label='None', color='b')\n",
    "axs[0].bar(groups - 0.5 * offset, WI_rmse_groups, bar_width, label='WI', color='g')\n",
    "axs[0].bar(groups + 0.5 * offset, BN_rmse_groups, bar_width, label='BN', color='orange')\n",
    "axs[0].bar(groups + 1.5 * offset, VGG_rmse_groups, bar_width, label='VGG', color='r')\n",
    "axs[0].set_title('RMSE per Group')\n",
    "axs[0].set_xlabel('Group')\n",
    "axs[0].set_ylabel('RMSE')\n",
    "axs[0].legend()\n",
    "\n",
    "# PSNR\n",
    "axs[1].bar(groups - 1.5 * offset, None_psnr_groups, bar_width, label='None', color='b')\n",
    "axs[1].bar(groups - 0.5 * offset, WI_psnr_groups, bar_width, label='WI', color='g')\n",
    "axs[1].bar(groups + 0.5 * offset, BN_psnr_groups, bar_width, label='BN', color='orange')\n",
    "axs[1].bar(groups + 1.5 * offset, VGG_psnr_groups, bar_width, label='VGG', color='r')\n",
    "axs[1].set_title('PSNR per Group')\n",
    "axs[1].set_xlabel('Group')\n",
    "axs[1].set_ylabel('PSNR')\n",
    "axs[1].legend()\n",
    "\n",
    "# SSIM\n",
    "axs[2].bar(groups - 1.5 * offset, None_ssim_groups, bar_width, label='None', color='b')\n",
    "axs[2].bar(groups - 0.5 * offset, WI_ssim_groups, bar_width, label='WI', color='g')\n",
    "axs[2].bar(groups + 0.5 * offset, BN_ssim_groups, bar_width, label='BN', color='orange')\n",
    "axs[2].bar(groups + 1.5 * offset, VGG_ssim_groups, bar_width, label='VGG', color='r')\n",
    "axs[2].set_title('SSIM per Group')\n",
    "axs[2].set_xlabel('Group')\n",
    "axs[2].set_ylabel('SSIM')\n",
    "axs[2].legend()\n",
    "\n",
    "plt.tight_layout()\n",
    "plt.show()"
   ]
  },
  {
   "cell_type": "code",
   "execution_count": 79,
   "metadata": {},
   "outputs": [
    {
     "data": {
      "image/png": "[encoded data removed]",
      "text/plain": [
       "<Figure size 1800x500 with 3 Axes>"
      ]
     },
     "metadata": {},
     "output_type": "display_data"
    }
   ],
   "source": [
    "import numpy as np\n",
    "import matplotlib.pyplot as plt\n",
    "\n",
    "# 예제 데이터\n",
    "groups = np.array([1, 2, 3])\n",
    "bar_width = 0.2  # 막대 너비\n",
    "offset = bar_width\n",
    "\n",
    "# 데이터 그룹\n",
    "None_rmse_groups = [np.mean(None_rmse_list[0:2]), np.mean(None_rmse_list[2:4]), np.mean(None_rmse_list[4:6])]\n",
    "WI_rmse_groups = [np.mean(WI_rmse_list[0:2]), np.mean(WI_rmse_list[2:4]), np.mean(WI_rmse_list[4:6])]\n",
    "BN_rmse_groups = [np.mean(BN_rmse_list[0:2]), np.mean(BN_rmse_list[2:4]), np.mean(BN_rmse_list[4:6])]\n",
    "VGG_rmse_groups = [np.mean(VGG_rmse_list[0:2]), np.mean(VGG_rmse_list[2:4]), np.mean(VGG_rmse_list[4:6])]\n",
    "\n",
    "None_psnr_groups = [np.mean(None_psnr_list[0:2]), np.mean(None_psnr_list[2:4]), np.mean(None_psnr_list[4:6])]\n",
    "WI_psnr_groups = [np.mean(WI_psnr_list[0:2]), np.mean(WI_psnr_list[2:4]), np.mean(WI_psnr_list[4:6])]\n",
    "BN_psnr_groups = [np.mean(BN_psnr_list[0:2]), np.mean(BN_psnr_list[2:4]), np.mean(BN_psnr_list[4:6])]\n",
    "VGG_psnr_groups = [np.mean(VGG_psnr_list[0:2]), np.mean(VGG_psnr_list[2:4]), np.mean(VGG_psnr_list[4:6])]\n",
    "\n",
    "None_ssim_groups = [np.mean(None_ssim_list[0:2]), np.mean(None_ssim_list[2:4]), np.mean(None_ssim_list[4:6])]\n",
    "WI_ssim_groups = [np.mean(WI_ssim_list[0:2]), np.mean(WI_ssim_list[2:4]), np.mean(WI_ssim_list[4:6])]\n",
    "BN_ssim_groups = [np.mean(BN_ssim_list[0:2]), np.mean(BN_ssim_list[2:4]), np.mean(BN_ssim_list[4:6])]\n",
    "VGG_ssim_groups = [np.mean(VGG_ssim_list[0:2]), np.mean(VGG_ssim_list[2:4]), np.mean(VGG_ssim_list[4:6])]\n",
    "\n",
    "# 그래프 그리기\n",
    "fig, axs = plt.subplots(1, 3, figsize=(18, 5))\n",
    "\n",
    "# RMSE 그래프\n",
    "rmse_values = np.concatenate([None_rmse_groups, WI_rmse_groups, BN_rmse_groups, VGG_rmse_groups])\n",
    "y_min_rmse, y_max_rmse = rmse_values.min(), rmse_values.max()\n",
    "y_margin_rmse = (y_max_rmse - y_min_rmse) * 0.1\n",
    "y_min_rmse -= y_margin_rmse\n",
    "y_max_rmse += y_margin_rmse\n",
    "\n",
    "axs[0].bar(groups - offset * 1.5, None_rmse_groups, bar_width, label='None', color='b')\n",
    "axs[0].bar(groups - offset * 0.5, WI_rmse_groups, bar_width, label='WI', color='g')\n",
    "axs[0].bar(groups + offset * 0.5, BN_rmse_groups, bar_width, label='BN', color='orange')\n",
    "axs[0].bar(groups + offset * 1.5, VGG_rmse_groups, bar_width, label='VGG', color='purple')\n",
    "axs[0].set_ylim(y_min_rmse, y_max_rmse)\n",
    "axs[0].set_title('RMSE per Group')\n",
    "axs[0].set_xlabel('Group')\n",
    "axs[0].set_ylabel('RMSE')\n",
    "axs[0].legend()\n",
    "\n",
    "# PSNR 그래프\n",
    "psnr_values = np.concatenate([None_psnr_groups, WI_psnr_groups, BN_psnr_groups, VGG_psnr_groups])\n",
    "y_min_psnr, y_max_psnr = psnr_values.min(), psnr_values.max()\n",
    "y_margin_psnr = (y_max_psnr - y_min_psnr) * 0.1\n",
    "y_min_psnr -= y_margin_psnr\n",
    "y_max_psnr += y_margin_psnr\n",
    "\n",
    "axs[1].bar(groups - offset * 1.5, None_psnr_groups, bar_width, label='None', color='b')\n",
    "axs[1].bar(groups - offset * 0.5, WI_psnr_groups, bar_width, label='WI', color='g')\n",
    "axs[1].bar(groups + offset * 0.5, BN_psnr_groups, bar_width, label='BN', color='orange')\n",
    "axs[1].bar(groups + offset * 1.5, VGG_psnr_groups, bar_width, label='VGG', color='purple')\n",
    "axs[1].set_ylim(y_min_psnr, y_max_psnr)\n",
    "axs[1].set_title('PSNR per Group')\n",
    "axs[1].set_xlabel('Group')\n",
    "axs[1].set_ylabel('PSNR')\n",
    "axs[1].legend()\n",
    "\n",
    "# SSIM 그래프\n",
    "ssim_values = np.concatenate([None_ssim_groups, WI_ssim_groups, BN_ssim_groups, VGG_ssim_groups])\n",
    "y_min_ssim, y_max_ssim = ssim_values.min(), ssim_values.max()\n",
    "y_margin_ssim = (y_max_ssim - y_min_ssim) * 0.1\n",
    "y_min_ssim -= y_margin_ssim\n",
    "y_max_ssim += y_margin_ssim\n",
    "\n",
    "axs[2].bar(groups - offset * 1.5, None_ssim_groups, bar_width, label='None', color='b')\n",
    "axs[2].bar(groups - offset * 0.5, WI_ssim_groups, bar_width, label='WI', color='g')\n",
    "axs[2].bar(groups + offset * 0.5, BN_ssim_groups, bar_width, label='BN', color='orange')\n",
    "axs[2].bar(groups + offset * 1.5, VGG_ssim_groups, bar_width, label='VGG', color='purple')\n",
    "axs[2].set_ylim(y_min_ssim, y_max_ssim)\n",
    "axs[2].set_title('SSIM per Group')\n",
    "axs[2].set_xlabel('Group')\n",
    "axs[2].set_ylabel('SSIM')\n",
    "axs[2].legend()\n",
    "\n",
    "# 그래프 레이아웃 조정\n",
    "plt.tight_layout()\n",
    "plt.show()"
   ]
  },
  {
   "cell_type": "code",
   "execution_count": 77,
   "metadata": {},
   "outputs": [
    {
     "data": {
      "image/png": "[encoded data removed]",
      "text/plain": [
       "<Figure size 800x300 with 1 Axes>"
      ]
     },
     "metadata": {},
     "output_type": "display_data"
    }
   ],
   "source": [
    "import numpy as np\n",
    "import matplotlib.pyplot as plt\n",
    "\n",
    "# None 모델 결과\n",
    "None_rmse_mean, None_rmse_sd = np.mean(None_rmse_list), np.std(None_rmse_list)\n",
    "None_psnr_mean, None_psnr_sd = np.mean(None_psnr_list), np.std(None_psnr_list)\n",
    "None_ssim_mean, None_ssim_sd = np.mean(None_ssim_list), np.std(None_ssim_list)\n",
    "\n",
    "# WI 모델 결과\n",
    "WI_rmse_mean, WI_rmse_sd = np.mean(WI_rmse_list), np.std(WI_rmse_list)\n",
    "WI_psnr_mean, WI_psnr_sd = np.mean(WI_psnr_list), np.std(WI_psnr_list)\n",
    "WI_ssim_mean, WI_ssim_sd = np.mean(WI_ssim_list), np.std(WI_ssim_list)\n",
    "\n",
    "# BN 모델 결과\n",
    "BN_rmse_mean, BN_rmse_sd = np.mean(BN_rmse_list), np.std(BN_rmse_list)\n",
    "BN_psnr_mean, BN_psnr_sd = np.mean(BN_psnr_list), np.std(BN_psnr_list)\n",
    "BN_ssim_mean, BN_ssim_sd = np.mean(BN_ssim_list), np.std(BN_ssim_list)\n",
    "\n",
    "# VGG 모델 결과\n",
    "VGG_rmse_mean, VGG_rmse_sd = np.mean(VGG_rmse_list), np.std(VGG_rmse_list)\n",
    "VGG_psnr_mean, VGG_psnr_sd = np.mean(VGG_psnr_list), np.std(VGG_psnr_list)\n",
    "VGG_ssim_mean, VGG_ssim_sd = np.mean(VGG_ssim_list), np.std(VGG_ssim_list)\n",
    "\n",
    "# 결과를 mean ± sd 형식으로 표현\n",
    "None_results = [\n",
    "    f\"{None_rmse_mean:.4f} ± {None_rmse_sd:.4f}\",\n",
    "    f\"{None_psnr_mean:.4f} ± {None_psnr_sd:.4f}\",\n",
    "    f\"{None_ssim_mean:.4f} ± {None_ssim_sd:.4f}\"\n",
    "]\n",
    "\n",
    "WI_results = [\n",
    "    f\"{WI_rmse_mean:.4f} ± {WI_rmse_sd:.4f}\",\n",
    "    f\"{WI_psnr_mean:.4f} ± {WI_psnr_sd:.4f}\",\n",
    "    f\"{WI_ssim_mean:.4f} ± {WI_ssim_sd:.4f}\"\n",
    "]\n",
    "\n",
    "BN_results = [\n",
    "    f\"{BN_rmse_mean:.4f} ± {BN_rmse_sd:.4f}\",\n",
    "    f\"{BN_psnr_mean:.4f} ± {BN_psnr_sd:.4f}\",\n",
    "    f\"{BN_ssim_mean:.4f} ± {BN_ssim_sd:.4f}\"\n",
    "]\n",
    "\n",
    "VGG_results = [\n",
    "    f\"{VGG_rmse_mean:.4f} ± {VGG_rmse_sd:.4f}\",\n",
    "    f\"{VGG_psnr_mean:.4f} ± {VGG_psnr_sd:.4f}\",\n",
    "    f\"{VGG_ssim_mean:.4f} ± {VGG_ssim_sd:.4f}\"\n",
    "]\n",
    "\n",
    "# 테이블 데이터\n",
    "rows = [\"None\", \"WI\", \"BN\", \"VGG\"]\n",
    "columns = [\"RMSE\", \"PSNR\", \"SSIM\"]\n",
    "table_data = [None_results, WI_results, BN_results, VGG_results]\n",
    "\n",
    "# 테이블 생성\n",
    "fig, ax = plt.subplots(figsize=(8, 3))\n",
    "ax.axis('off')  # 축 숨기기\n",
    "ax.axis('tight')  # 테이블 맞춤 조정\n",
    "table = ax.table(cellText=table_data, rowLabels=rows, colLabels=columns, loc='center')\n",
    "\n",
    "# 스타일 설정\n",
    "table.auto_set_font_size(False)\n",
    "table.set_fontsize(10)\n",
    "table.scale(1.2, 1.5)  # 테이블 크기 조정\n",
    "\n",
    "plt.show()"
   ]
  }
 ],
 "metadata": {
  "kernelspec": {
   "display_name": "Python 3",
   "language": "python",
   "name": "python3"
  },
  "language_info": {
   "codemirror_mode": {
    "name": "ipython",
    "version": 3
   },
   "file_extension": ".py",
   "mimetype": "text/x-python",
   "name": "python",
   "nbconvert_exporter": "python",
   "pygments_lexer": "ipython3",
   "version": "3.10.11"
  }
 },
 "nbformat": 4,
 "nbformat_minor": 2
}
